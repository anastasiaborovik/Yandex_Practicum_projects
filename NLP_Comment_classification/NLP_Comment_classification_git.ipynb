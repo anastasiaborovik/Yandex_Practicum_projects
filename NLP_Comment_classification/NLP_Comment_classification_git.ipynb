{
 "cells": [
  {
   "cell_type": "markdown",
   "metadata": {},
   "source": [
    "# Классификация токсичных комментариев"
   ]
  },
  {
   "cell_type": "markdown",
   "metadata": {},
   "source": [
    "Интернет-магазин запускает новый сервис, который позволяет пользователям редактировать и дополнять описания товаров. Клиенты могут вносить свои правки и комментировать изменения других пользователей. В связи с этим, магазину необходим инструмент для автоматического выявления токсичных комментариев и их отправки на модерацию.\n",
    "\n",
    "**Цель исследования:**\n",
    "\n",
    "Построить модель машинного обучения для классификации комментариев как токсичных (негативных) или нетоксичных (позитивных)\n",
    "\n",
    "Таким образом, исследование пройдёт в **пять этапов**:\n",
    "1) Обзор данных\n",
    "2) Предобработка данных\n",
    "3) Подготовка к обучению. Векторизация методом TF-IDF\n",
    "4) Обучение моделей\n",
    "5) Анализ результатов. Тестирование лучшей модели\n",
    "\n",
    "**Описание данных:**\n",
    "- `text` — текст комментария.\n",
    "- `toxic` — метка токсичности комментария (0 и 1)."
   ]
  },
  {
   "cell_type": "markdown",
   "metadata": {},
   "source": [
    "## Загрузка и импорт библиотек <a class=\"anchor\" id=\"импорт\"></a>"
   ]
  },
  {
   "cell_type": "code",
   "execution_count": 1,
   "metadata": {
    "collapsed": true,
    "jupyter": {
     "outputs_hidden": true
    }
   },
   "outputs": [
    {
     "name": "stdout",
     "output_type": "stream",
     "text": [
      "Requirement already satisfied: lightgbm in c:\\users\\user\\anaconda3\\lib\\site-packages (4.5.0)\n",
      "Requirement already satisfied: numpy>=1.17.0 in c:\\users\\user\\anaconda3\\lib\\site-packages (from lightgbm) (1.26.4)\n",
      "Requirement already satisfied: scipy in c:\\users\\user\\anaconda3\\lib\\site-packages (from lightgbm) (1.11.4)\n",
      "Requirement already satisfied: scikit-learn in c:\\users\\user\\anaconda3\\lib\\site-packages (1.5.2)\n",
      "Requirement already satisfied: numpy>=1.19.5 in c:\\users\\user\\anaconda3\\lib\\site-packages (from scikit-learn) (1.26.4)\n",
      "Requirement already satisfied: scipy>=1.6.0 in c:\\users\\user\\anaconda3\\lib\\site-packages (from scikit-learn) (1.11.4)\n",
      "Requirement already satisfied: joblib>=1.2.0 in c:\\users\\user\\anaconda3\\lib\\site-packages (from scikit-learn) (1.4.2)\n",
      "Requirement already satisfied: threadpoolctl>=3.1.0 in c:\\users\\user\\anaconda3\\lib\\site-packages (from scikit-learn) (3.5.0)\n",
      "Requirement already satisfied: matplotlib==3.8.0 in c:\\users\\user\\anaconda3\\lib\\site-packages (3.8.0)\n",
      "Requirement already satisfied: contourpy>=1.0.1 in c:\\users\\user\\anaconda3\\lib\\site-packages (from matplotlib==3.8.0) (1.2.0)\n",
      "Requirement already satisfied: cycler>=0.10 in c:\\users\\user\\anaconda3\\lib\\site-packages (from matplotlib==3.8.0) (0.11.0)\n",
      "Requirement already satisfied: fonttools>=4.22.0 in c:\\users\\user\\anaconda3\\lib\\site-packages (from matplotlib==3.8.0) (4.25.0)\n",
      "Requirement already satisfied: kiwisolver>=1.0.1 in c:\\users\\user\\anaconda3\\lib\\site-packages (from matplotlib==3.8.0) (1.4.4)\n",
      "Requirement already satisfied: numpy<2,>=1.21 in c:\\users\\user\\anaconda3\\lib\\site-packages (from matplotlib==3.8.0) (1.26.4)\n",
      "Requirement already satisfied: packaging>=20.0 in c:\\users\\user\\anaconda3\\lib\\site-packages (from matplotlib==3.8.0) (23.1)\n",
      "Requirement already satisfied: pillow>=6.2.0 in c:\\users\\user\\anaconda3\\lib\\site-packages (from matplotlib==3.8.0) (10.2.0)\n",
      "Requirement already satisfied: pyparsing>=2.3.1 in c:\\users\\user\\anaconda3\\lib\\site-packages (from matplotlib==3.8.0) (3.0.9)\n",
      "Requirement already satisfied: python-dateutil>=2.7 in c:\\users\\user\\anaconda3\\lib\\site-packages (from matplotlib==3.8.0) (2.8.2)\n",
      "Requirement already satisfied: six>=1.5 in c:\\users\\user\\anaconda3\\lib\\site-packages (from python-dateutil>=2.7->matplotlib==3.8.0) (1.16.0)\n",
      "Requirement already satisfied: seaborn in c:\\users\\user\\anaconda3\\lib\\site-packages (0.13.2)\n",
      "Requirement already satisfied: numpy!=1.24.0,>=1.20 in c:\\users\\user\\anaconda3\\lib\\site-packages (from seaborn) (1.26.4)\n",
      "Requirement already satisfied: pandas>=1.2 in c:\\users\\user\\anaconda3\\lib\\site-packages (from seaborn) (2.1.4)\n",
      "Requirement already satisfied: matplotlib!=3.6.1,>=3.4 in c:\\users\\user\\anaconda3\\lib\\site-packages (from seaborn) (3.8.0)\n",
      "Requirement already satisfied: contourpy>=1.0.1 in c:\\users\\user\\anaconda3\\lib\\site-packages (from matplotlib!=3.6.1,>=3.4->seaborn) (1.2.0)\n",
      "Requirement already satisfied: cycler>=0.10 in c:\\users\\user\\anaconda3\\lib\\site-packages (from matplotlib!=3.6.1,>=3.4->seaborn) (0.11.0)\n",
      "Requirement already satisfied: fonttools>=4.22.0 in c:\\users\\user\\anaconda3\\lib\\site-packages (from matplotlib!=3.6.1,>=3.4->seaborn) (4.25.0)\n",
      "Requirement already satisfied: kiwisolver>=1.0.1 in c:\\users\\user\\anaconda3\\lib\\site-packages (from matplotlib!=3.6.1,>=3.4->seaborn) (1.4.4)\n",
      "Requirement already satisfied: packaging>=20.0 in c:\\users\\user\\anaconda3\\lib\\site-packages (from matplotlib!=3.6.1,>=3.4->seaborn) (23.1)\n",
      "Requirement already satisfied: pillow>=6.2.0 in c:\\users\\user\\anaconda3\\lib\\site-packages (from matplotlib!=3.6.1,>=3.4->seaborn) (10.2.0)\n",
      "Requirement already satisfied: pyparsing>=2.3.1 in c:\\users\\user\\anaconda3\\lib\\site-packages (from matplotlib!=3.6.1,>=3.4->seaborn) (3.0.9)\n",
      "Requirement already satisfied: python-dateutil>=2.7 in c:\\users\\user\\anaconda3\\lib\\site-packages (from matplotlib!=3.6.1,>=3.4->seaborn) (2.8.2)\n",
      "Requirement already satisfied: pytz>=2020.1 in c:\\users\\user\\anaconda3\\lib\\site-packages (from pandas>=1.2->seaborn) (2023.3.post1)\n",
      "Requirement already satisfied: tzdata>=2022.1 in c:\\users\\user\\anaconda3\\lib\\site-packages (from pandas>=1.2->seaborn) (2023.3)\n",
      "Requirement already satisfied: six>=1.5 in c:\\users\\user\\anaconda3\\lib\\site-packages (from python-dateutil>=2.7->matplotlib!=3.6.1,>=3.4->seaborn) (1.16.0)\n",
      "Requirement already satisfied: tqdm in c:\\users\\user\\anaconda3\\lib\\site-packages (4.65.0)\n",
      "Requirement already satisfied: colorama in c:\\users\\user\\anaconda3\\lib\\site-packages (from tqdm) (0.4.6)\n",
      "Requirement already satisfied: optuna in c:\\users\\user\\anaconda3\\lib\\site-packages (3.6.1)\n",
      "Requirement already satisfied: alembic>=1.5.0 in c:\\users\\user\\anaconda3\\lib\\site-packages (from optuna) (1.13.2)\n",
      "Requirement already satisfied: colorlog in c:\\users\\user\\anaconda3\\lib\\site-packages (from optuna) (6.8.2)\n",
      "Requirement already satisfied: numpy in c:\\users\\user\\anaconda3\\lib\\site-packages (from optuna) (1.26.4)\n",
      "Requirement already satisfied: packaging>=20.0 in c:\\users\\user\\anaconda3\\lib\\site-packages (from optuna) (23.1)\n",
      "Requirement already satisfied: sqlalchemy>=1.3.0 in c:\\users\\user\\anaconda3\\lib\\site-packages (from optuna) (2.0.25)\n",
      "Requirement already satisfied: tqdm in c:\\users\\user\\anaconda3\\lib\\site-packages (from optuna) (4.65.0)\n",
      "Requirement already satisfied: PyYAML in c:\\users\\user\\anaconda3\\lib\\site-packages (from optuna) (6.0.1)\n",
      "Requirement already satisfied: Mako in c:\\users\\user\\anaconda3\\lib\\site-packages (from alembic>=1.5.0->optuna) (1.3.5)\n",
      "Requirement already satisfied: typing-extensions>=4 in c:\\users\\user\\anaconda3\\lib\\site-packages (from alembic>=1.5.0->optuna) (4.9.0)\n",
      "Requirement already satisfied: greenlet!=0.4.17 in c:\\users\\user\\anaconda3\\lib\\site-packages (from sqlalchemy>=1.3.0->optuna) (3.0.1)\n",
      "Requirement already satisfied: colorama in c:\\users\\user\\anaconda3\\lib\\site-packages (from colorlog->optuna) (0.4.6)\n",
      "Requirement already satisfied: MarkupSafe>=0.9.2 in c:\\users\\user\\anaconda3\\lib\\site-packages (from Mako->alembic>=1.5.0->optuna) (2.1.3)\n",
      "Requirement already satisfied: optuna-integration[sklearn] in c:\\users\\user\\anaconda3\\lib\\site-packages (3.6.0)\n",
      "Requirement already satisfied: optuna in c:\\users\\user\\anaconda3\\lib\\site-packages (from optuna-integration[sklearn]) (3.6.1)\n",
      "Requirement already satisfied: alembic>=1.5.0 in c:\\users\\user\\anaconda3\\lib\\site-packages (from optuna->optuna-integration[sklearn]) (1.13.2)\n",
      "Requirement already satisfied: colorlog in c:\\users\\user\\anaconda3\\lib\\site-packages (from optuna->optuna-integration[sklearn]) (6.8.2)\n",
      "Requirement already satisfied: numpy in c:\\users\\user\\anaconda3\\lib\\site-packages (from optuna->optuna-integration[sklearn]) (1.26.4)\n",
      "Requirement already satisfied: packaging>=20.0 in c:\\users\\user\\anaconda3\\lib\\site-packages (from optuna->optuna-integration[sklearn]) (23.1)\n",
      "Requirement already satisfied: sqlalchemy>=1.3.0 in c:\\users\\user\\anaconda3\\lib\\site-packages (from optuna->optuna-integration[sklearn]) (2.0.25)\n",
      "Requirement already satisfied: tqdm in c:\\users\\user\\anaconda3\\lib\\site-packages (from optuna->optuna-integration[sklearn]) (4.65.0)\n",
      "Requirement already satisfied: PyYAML in c:\\users\\user\\anaconda3\\lib\\site-packages (from optuna->optuna-integration[sklearn]) (6.0.1)\n",
      "Requirement already satisfied: Mako in c:\\users\\user\\anaconda3\\lib\\site-packages (from alembic>=1.5.0->optuna->optuna-integration[sklearn]) (1.3.5)\n",
      "Requirement already satisfied: typing-extensions>=4 in c:\\users\\user\\anaconda3\\lib\\site-packages (from alembic>=1.5.0->optuna->optuna-integration[sklearn]) (4.9.0)\n",
      "Requirement already satisfied: greenlet!=0.4.17 in c:\\users\\user\\anaconda3\\lib\\site-packages (from sqlalchemy>=1.3.0->optuna->optuna-integration[sklearn]) (3.0.1)\n",
      "Requirement already satisfied: colorama in c:\\users\\user\\anaconda3\\lib\\site-packages (from colorlog->optuna->optuna-integration[sklearn]) (0.4.6)\n",
      "Requirement already satisfied: MarkupSafe>=0.9.2 in c:\\users\\user\\anaconda3\\lib\\site-packages (from Mako->alembic>=1.5.0->optuna->optuna-integration[sklearn]) (2.1.3)\n"
     ]
    },
    {
     "name": "stderr",
     "output_type": "stream",
     "text": [
      "WARNING: optuna-integration 3.6.0 does not provide the extra 'sklearn'\n"
     ]
    },
    {
     "name": "stdout",
     "output_type": "stream",
     "text": [
      "Requirement already satisfied: pandas in c:\\users\\user\\anaconda3\\lib\\site-packages (2.1.4)\n",
      "Requirement already satisfied: scikit-learn in c:\\users\\user\\anaconda3\\lib\\site-packages (1.5.2)\n",
      "Requirement already satisfied: imbalanced-learn in c:\\users\\user\\anaconda3\\lib\\site-packages (0.12.3)\n",
      "Requirement already satisfied: numpy<2,>=1.23.2 in c:\\users\\user\\anaconda3\\lib\\site-packages (from pandas) (1.26.4)\n",
      "Requirement already satisfied: python-dateutil>=2.8.2 in c:\\users\\user\\anaconda3\\lib\\site-packages (from pandas) (2.8.2)\n",
      "Requirement already satisfied: pytz>=2020.1 in c:\\users\\user\\anaconda3\\lib\\site-packages (from pandas) (2023.3.post1)\n",
      "Requirement already satisfied: tzdata>=2022.1 in c:\\users\\user\\anaconda3\\lib\\site-packages (from pandas) (2023.3)\n",
      "Requirement already satisfied: scipy>=1.6.0 in c:\\users\\user\\anaconda3\\lib\\site-packages (from scikit-learn) (1.11.4)\n",
      "Requirement already satisfied: joblib>=1.2.0 in c:\\users\\user\\anaconda3\\lib\\site-packages (from scikit-learn) (1.4.2)\n",
      "Requirement already satisfied: threadpoolctl>=3.1.0 in c:\\users\\user\\anaconda3\\lib\\site-packages (from scikit-learn) (3.5.0)\n",
      "Requirement already satisfied: six>=1.5 in c:\\users\\user\\anaconda3\\lib\\site-packages (from python-dateutil>=2.8.2->pandas) (1.16.0)\n"
     ]
    }
   ],
   "source": [
    "# Загрузка необходимых библиотек\n",
    "!pip install lightgbm\n",
    "!pip install -U scikit-learn\n",
    "!pip install matplotlib==3.8.0\n",
    "!pip install seaborn --upgrade\n",
    "!pip install tqdm\n",
    "!pip install optuna\n",
    "!pip install optuna-integration[sklearn]\n",
    "!pip install pandas scikit-learn imbalanced-learn"
   ]
  },
  {
   "cell_type": "code",
   "execution_count": 2,
   "metadata": {},
   "outputs": [
    {
     "name": "stderr",
     "output_type": "stream",
     "text": [
      "[nltk_data] Downloading package omw-1.4 to\n",
      "[nltk_data]     C:\\Users\\user\\AppData\\Roaming\\nltk_data...\n",
      "[nltk_data]   Package omw-1.4 is already up-to-date!\n",
      "[nltk_data] Downloading package punkt to\n",
      "[nltk_data]     C:\\Users\\user\\AppData\\Roaming\\nltk_data...\n",
      "[nltk_data]   Package punkt is already up-to-date!\n",
      "[nltk_data] Downloading package wordnet to\n",
      "[nltk_data]     C:\\Users\\user\\AppData\\Roaming\\nltk_data...\n",
      "[nltk_data]   Package wordnet is already up-to-date!\n",
      "[nltk_data] Downloading package stopwords to\n",
      "[nltk_data]     C:\\Users\\user\\AppData\\Roaming\\nltk_data...\n",
      "[nltk_data]   Package stopwords is already up-to-date!\n",
      "[nltk_data] Downloading package averaged_perceptron_tagger to\n",
      "[nltk_data]     C:\\Users\\user\\AppData\\Roaming\\nltk_data...\n",
      "[nltk_data]   Package averaged_perceptron_tagger is already up-to-\n",
      "[nltk_data]       date!\n"
     ]
    }
   ],
   "source": [
    "# Импорт необходимых библиотек\n",
    "import warnings\n",
    "import re\n",
    "import numpy as np\n",
    "import pandas as pd\n",
    "import seaborn as sns\n",
    "import matplotlib.pyplot as plt\n",
    "from tqdm import tqdm\n",
    "from tqdm import notebook\n",
    "\n",
    "import nltk\n",
    "from nltk.tokenize import word_tokenize\n",
    "from nltk.corpus import stopwords, wordnet\n",
    "from nltk.stem import WordNetLemmatizer\n",
    "from nltk import pos_tag\n",
    "\n",
    "from sklearn.pipeline import Pipeline\n",
    "from sklearn.model_selection import train_test_split\n",
    "from sklearn.feature_extraction.text import TfidfVectorizer\n",
    "from sklearn.linear_model import LogisticRegression, SGDClassifier\n",
    "from sklearn.naive_bayes import MultinomialNB\n",
    "from sklearn.dummy import DummyClassifier\n",
    "from sklearn.metrics import f1_score, confusion_matrix\n",
    "\n",
    "import lightgbm as lgb\n",
    "from lightgbm import LGBMClassifier\n",
    "\n",
    "import optuna\n",
    "from optuna.integration import OptunaSearchCV\n",
    "\n",
    "nltk.download('omw-1.4')\n",
    "nltk.download('punkt')\n",
    "nltk.download('wordnet')\n",
    "nltk.download('stopwords')\n",
    "nltk.download('averaged_perceptron_tagger')\n",
    "\n",
    "warnings.filterwarnings('ignore')\n",
    "sns.set_theme(style='whitegrid', palette='muted')\n",
    "pd.set_option('display.max_colwidth', None)"
   ]
  },
  {
   "cell_type": "code",
   "execution_count": 3,
   "metadata": {},
   "outputs": [],
   "source": [
    "def data_info (df):\n",
    "    '''\n",
    "    Отображает первые 5 строк, общую информацию, описательную статистику DataFrame,\n",
    "    количество пропущенных значений и явных дубликатов.\n",
    "\n",
    "    '''\n",
    "    display(df.head())\n",
    "    df.info()\n",
    "    display(df.describe().T.round(3))\n",
    "    print('Количество пропусков:',\n",
    "          df.isna().sum(), sep='\\n', end='\\n\\n')\n",
    "    print('Количество дубликатов:', \n",
    "          df.duplicated().sum())"
   ]
  },
  {
   "cell_type": "markdown",
   "metadata": {},
   "source": [
    "## Загрузка и обзор данных <a class=\"anchor\" id=\"загрузка\"></a>"
   ]
  },
  {
   "cell_type": "code",
   "execution_count": 4,
   "metadata": {},
   "outputs": [],
   "source": [
    "# Загрузка данных\n",
    "try:\n",
    "    comments = pd.read_csv('toxic_comments.csv', index_col=0)\n",
    "except:\n",
    "    comments = pd.read_csv('/datasets/toxic_comments.csv', index_col=0)"
   ]
  },
  {
   "cell_type": "code",
   "execution_count": 5,
   "metadata": {},
   "outputs": [
    {
     "data": {
      "text/html": [
       "<div>\n",
       "<style scoped>\n",
       "    .dataframe tbody tr th:only-of-type {\n",
       "        vertical-align: middle;\n",
       "    }\n",
       "\n",
       "    .dataframe tbody tr th {\n",
       "        vertical-align: top;\n",
       "    }\n",
       "\n",
       "    .dataframe thead th {\n",
       "        text-align: right;\n",
       "    }\n",
       "</style>\n",
       "<table border=\"1\" class=\"dataframe\">\n",
       "  <thead>\n",
       "    <tr style=\"text-align: right;\">\n",
       "      <th></th>\n",
       "      <th>text</th>\n",
       "      <th>toxic</th>\n",
       "    </tr>\n",
       "  </thead>\n",
       "  <tbody>\n",
       "    <tr>\n",
       "      <th>0</th>\n",
       "      <td>Explanation\\nWhy the edits made under my username Hardcore Metallica Fan were reverted? They weren't vandalisms, just closure on some GAs after I voted at New York Dolls FAC. And please don't remove the template from the talk page since I'm retired now.89.205.38.27</td>\n",
       "      <td>0</td>\n",
       "    </tr>\n",
       "    <tr>\n",
       "      <th>1</th>\n",
       "      <td>D'aww! He matches this background colour I'm seemingly stuck with. Thanks.  (talk) 21:51, January 11, 2016 (UTC)</td>\n",
       "      <td>0</td>\n",
       "    </tr>\n",
       "    <tr>\n",
       "      <th>2</th>\n",
       "      <td>Hey man, I'm really not trying to edit war. It's just that this guy is constantly removing relevant information and talking to me through edits instead of my talk page. He seems to care more about the formatting than the actual info.</td>\n",
       "      <td>0</td>\n",
       "    </tr>\n",
       "    <tr>\n",
       "      <th>3</th>\n",
       "      <td>\"\\nMore\\nI can't make any real suggestions on improvement - I wondered if the section statistics should be later on, or a subsection of \"\"types of accidents\"\"  -I think the references may need tidying so that they are all in the exact same format ie date format etc. I can do that later on, if no-one else does first - if you have any preferences for formatting style on references or want to do it yourself please let me know.\\n\\nThere appears to be a backlog on articles for review so I guess there may be a delay until a reviewer turns up. It's listed in the relevant form eg Wikipedia:Good_article_nominations#Transport  \"</td>\n",
       "      <td>0</td>\n",
       "    </tr>\n",
       "    <tr>\n",
       "      <th>4</th>\n",
       "      <td>You, sir, are my hero. Any chance you remember what page that's on?</td>\n",
       "      <td>0</td>\n",
       "    </tr>\n",
       "  </tbody>\n",
       "</table>\n",
       "</div>"
      ],
      "text/plain": [
       "                                                                                                                                                                                                                                                                                                                                                                                                                                                                                                                                                                                                                                                 text  \\\n",
       "0                                                                                                                                                                                                                                                                                                                                                                           Explanation\\nWhy the edits made under my username Hardcore Metallica Fan were reverted? They weren't vandalisms, just closure on some GAs after I voted at New York Dolls FAC. And please don't remove the template from the talk page since I'm retired now.89.205.38.27   \n",
       "1                                                                                                                                                                                                                                                                                                                                                                                                                                                                                                                                    D'aww! He matches this background colour I'm seemingly stuck with. Thanks.  (talk) 21:51, January 11, 2016 (UTC)   \n",
       "2                                                                                                                                                                                                                                                                                                                                                                                                           Hey man, I'm really not trying to edit war. It's just that this guy is constantly removing relevant information and talking to me through edits instead of my talk page. He seems to care more about the formatting than the actual info.   \n",
       "3  \"\\nMore\\nI can't make any real suggestions on improvement - I wondered if the section statistics should be later on, or a subsection of \"\"types of accidents\"\"  -I think the references may need tidying so that they are all in the exact same format ie date format etc. I can do that later on, if no-one else does first - if you have any preferences for formatting style on references or want to do it yourself please let me know.\\n\\nThere appears to be a backlog on articles for review so I guess there may be a delay until a reviewer turns up. It's listed in the relevant form eg Wikipedia:Good_article_nominations#Transport  \"   \n",
       "4                                                                                                                                                                                                                                                                                                                                                                                                                                                                                                                                                                                 You, sir, are my hero. Any chance you remember what page that's on?   \n",
       "\n",
       "   toxic  \n",
       "0      0  \n",
       "1      0  \n",
       "2      0  \n",
       "3      0  \n",
       "4      0  "
      ]
     },
     "metadata": {},
     "output_type": "display_data"
    },
    {
     "name": "stdout",
     "output_type": "stream",
     "text": [
      "<class 'pandas.core.frame.DataFrame'>\n",
      "Index: 159292 entries, 0 to 159450\n",
      "Data columns (total 2 columns):\n",
      " #   Column  Non-Null Count   Dtype \n",
      "---  ------  --------------   ----- \n",
      " 0   text    159292 non-null  object\n",
      " 1   toxic   159292 non-null  int64 \n",
      "dtypes: int64(1), object(1)\n",
      "memory usage: 3.6+ MB\n"
     ]
    },
    {
     "data": {
      "text/html": [
       "<div>\n",
       "<style scoped>\n",
       "    .dataframe tbody tr th:only-of-type {\n",
       "        vertical-align: middle;\n",
       "    }\n",
       "\n",
       "    .dataframe tbody tr th {\n",
       "        vertical-align: top;\n",
       "    }\n",
       "\n",
       "    .dataframe thead th {\n",
       "        text-align: right;\n",
       "    }\n",
       "</style>\n",
       "<table border=\"1\" class=\"dataframe\">\n",
       "  <thead>\n",
       "    <tr style=\"text-align: right;\">\n",
       "      <th></th>\n",
       "      <th>count</th>\n",
       "      <th>mean</th>\n",
       "      <th>std</th>\n",
       "      <th>min</th>\n",
       "      <th>25%</th>\n",
       "      <th>50%</th>\n",
       "      <th>75%</th>\n",
       "      <th>max</th>\n",
       "    </tr>\n",
       "  </thead>\n",
       "  <tbody>\n",
       "    <tr>\n",
       "      <th>toxic</th>\n",
       "      <td>159292.0</td>\n",
       "      <td>0.102</td>\n",
       "      <td>0.302</td>\n",
       "      <td>0.0</td>\n",
       "      <td>0.0</td>\n",
       "      <td>0.0</td>\n",
       "      <td>0.0</td>\n",
       "      <td>1.0</td>\n",
       "    </tr>\n",
       "  </tbody>\n",
       "</table>\n",
       "</div>"
      ],
      "text/plain": [
       "          count   mean    std  min  25%  50%  75%  max\n",
       "toxic  159292.0  0.102  0.302  0.0  0.0  0.0  0.0  1.0"
      ]
     },
     "metadata": {},
     "output_type": "display_data"
    },
    {
     "name": "stdout",
     "output_type": "stream",
     "text": [
      "Количество пропусков:\n",
      "text     0\n",
      "toxic    0\n",
      "dtype: int64\n",
      "\n",
      "Количество дубликатов: 0\n"
     ]
    }
   ],
   "source": [
    "# Вывод общей информации о датафрейме\n",
    "data_info(comments)"
   ]
  },
  {
   "cell_type": "markdown",
   "metadata": {},
   "source": [
    "Проанализируем распределение классов в целевом признаке `toxic`:"
   ]
  },
  {
   "cell_type": "code",
   "execution_count": 6,
   "metadata": {},
   "outputs": [
    {
     "data": {
      "text/html": [
       "<div>\n",
       "<style scoped>\n",
       "    .dataframe tbody tr th:only-of-type {\n",
       "        vertical-align: middle;\n",
       "    }\n",
       "\n",
       "    .dataframe tbody tr th {\n",
       "        vertical-align: top;\n",
       "    }\n",
       "\n",
       "    .dataframe thead th {\n",
       "        text-align: right;\n",
       "    }\n",
       "</style>\n",
       "<table border=\"1\" class=\"dataframe\">\n",
       "  <thead>\n",
       "    <tr style=\"text-align: right;\">\n",
       "      <th></th>\n",
       "      <th>Количество</th>\n",
       "    </tr>\n",
       "    <tr>\n",
       "      <th>toxic</th>\n",
       "      <th></th>\n",
       "    </tr>\n",
       "  </thead>\n",
       "  <tbody>\n",
       "    <tr>\n",
       "      <th>0</th>\n",
       "      <td>143106</td>\n",
       "    </tr>\n",
       "    <tr>\n",
       "      <th>1</th>\n",
       "      <td>16186</td>\n",
       "    </tr>\n",
       "  </tbody>\n",
       "</table>\n",
       "</div>"
      ],
      "text/plain": [
       "       Количество\n",
       "toxic            \n",
       "0          143106\n",
       "1           16186"
      ]
     },
     "metadata": {},
     "output_type": "display_data"
    },
    {
     "data": {
      "image/png": "[encoded data removed]",
      "text/plain": [
       "<Figure size 600x400 with 1 Axes>"
      ]
     },
     "metadata": {},
     "output_type": "display_data"
    }
   ],
   "source": [
    "# Сводная таблица\n",
    "toxic_pivot = (\n",
    "    comments\n",
    "    .pivot_table(index=['toxic'], values=['text'], aggfunc='count')\n",
    "    .sort_values(by=['text'], ascending=False)\n",
    ")\n",
    "toxic_pivot.columns = ['Количество']\n",
    "display(toxic_pivot)\n",
    "\n",
    "# Столбчатая диаграмма\n",
    "plt.figure(figsize=(6,4))\n",
    "sns.barplot(data=toxic_pivot, x=toxic_pivot.index, y='Количество', palette='muted')\n",
    "plt.ylabel('Количество')\n",
    "plt.xlabel('Токсичный ли комментарий')\n",
    "plt.title('Распределение целевого признака `toxic`')\n",
    "plt.show()"
   ]
  },
  {
   "cell_type": "markdown",
   "metadata": {},
   "source": [
    "Наблюдается явный **дисбаланс классов**: токсичных комментариев в 9 раз меньше, чем нетоксичных. Учтем этот момент в дальнейшей работе с данными.\n",
    "\n",
    "Также проанализируем длину комментариев в разрезе целевого признака:"
   ]
  },
  {
   "cell_type": "code",
   "execution_count": 7,
   "metadata": {},
   "outputs": [
    {
     "data": {
      "image/png": "[encoded data removed]",
      "text/plain": [
       "<Figure size 1200x400 with 2 Axes>"
      ]
     },
     "metadata": {},
     "output_type": "display_data"
    }
   ],
   "source": [
    "# Подсчет длины текста в символах\n",
    "comments_analys = comments.copy()\n",
    "comments_analys['text_length'] = comments_analys['text'].apply(len)\n",
    "\n",
    "# Диаграммы размаха\n",
    "fig, (ax1, ax2) = plt.subplots(1, 2, figsize=(12,4))\n",
    "sns.boxplot(data=comments_analys, x='toxic', y='text_length', ax=ax1, palette='muted')\n",
    "ax1.set_title('Длина комментария (в символах)')\n",
    "ax1.set_xlabel('Токсичный ли комментарий')\n",
    "ax1.set_ylabel('Длина (в символах)')\n",
    "\n",
    "sns.boxplot(data=comments_analys, x='toxic', y='text_length', ax=ax2, palette='muted')\n",
    "ax2.set_title('Длина комментария (до 1000 символов)')\n",
    "ax2.set_xlabel('Токсичный ли комментарий')\n",
    "ax2.set_ylabel('Длина (в символах)')\n",
    "ax2.set_ylim(0, 1000)\n",
    "\n",
    "plt.show()"
   ]
  },
  {
   "cell_type": "markdown",
   "metadata": {},
   "source": [
    "- На первом графике видно, что как для токсичных, так и для нетоксичных комментариев есть значительное количество длинных выбросов (более 1000 символов).\n",
    "- На втором графике уже более явно видны различия в основных частях распределений. Медиана длины токсичных комментариев ниже, чем позитивных. Таким образом, негативные комментарии часто короче и содержат менее развернутый текст."
   ]
  },
  {
   "cell_type": "markdown",
   "metadata": {},
   "source": [
    "**Общая предварительная оценка данных:**\n",
    "- Датафрейм содержит 159 292 строк с комменатриями, а также метками их токсичности (0 и 1).\n",
    "- В данных отсутствуют пропущенные значения и дубликаты.\n",
    "- В целевом признаке `toxic` наблюдается дисбаланс классов: токсичных комментариев ~10% от всего объема данных.\n",
    "- В среднем токсичные комментарии имеет меньшую длинну (по символам) нежели позитивные комментарии."
   ]
  },
  {
   "cell_type": "markdown",
   "metadata": {},
   "source": [
    "## Предобработка данных <a class=\"anchor\" id=\"предобработка\"></a>"
   ]
  },
  {
   "cell_type": "markdown",
   "metadata": {},
   "source": [
    "Подготовим данные к дальнейшему анализу и обучению моделей. Для векторизации текстов мы будем использовать метод **TF-IDF**. Предобработка текста будет включать в себя:\n",
    "- приведение текста к нижнему регистру\n",
    "- очистка текста от лишних символов, включая пунктуацию\n",
    "- лемматизация текста\n",
    "- удаление стоп-слов"
   ]
  },
  {
   "cell_type": "code",
   "execution_count": 8,
   "metadata": {},
   "outputs": [],
   "source": [
    "# Инициализация лемматизатора\n",
    "lemmatizer = WordNetLemmatizer()"
   ]
  },
  {
   "cell_type": "code",
   "execution_count": 9,
   "metadata": {},
   "outputs": [],
   "source": [
    "def get_wordnet_pos(treebank_tag):\n",
    "    '''\n",
    "    Преобразует теги частей речи из формата NLTK в формат для WordNetLemmatizer.\n",
    "\n",
    "    Args:\n",
    "        treebank_tag(str): Тег части речи, полученный из NLTK.\n",
    "\n",
    "    Returns:\n",
    "        str: Тег части речи в формате WordNet.\n",
    "    '''\n",
    "    if treebank_tag.startswith('J'):\n",
    "        return wordnet.ADJ\n",
    "    elif treebank_tag.startswith('V'):\n",
    "        return wordnet.VERB\n",
    "    elif treebank_tag.startswith('R'):\n",
    "        return wordnet.ADV\n",
    "    else:\n",
    "        return wordnet.NOUN"
   ]
  },
  {
   "cell_type": "code",
   "execution_count": 10,
   "metadata": {},
   "outputs": [],
   "source": [
    "def preprocess_for_tfidf(text):\n",
    "    '''\n",
    "    Выполняет предобработку текста для метода TF-IDF.\n",
    "\n",
    "    Args:\n",
    "        text(str): Текст для предобработки.\n",
    "\n",
    "    Returns:\n",
    "        prep_text(str): Обработанный текст\n",
    "    '''\n",
    "   \n",
    "    # Приведение к нижнему регистру\n",
    "    prep_text = text.lower()\n",
    "    \n",
    "    # Удаление лишних символов\n",
    "    prep_text = re.sub(r'[^a-zA-Z]', ' ', prep_text)\n",
    "    prep_text = ' '.join(prep_text.split())\n",
    "\n",
    "    # Загрузка стоп-слов\n",
    "    stop_words = set(stopwords.words('english'))\n",
    "    \n",
    "    # Токенизация и получение частей речи\n",
    "    tokens = word_tokenize(prep_text)\n",
    "    postag_tokens = pos_tag(tokens)\n",
    "    \n",
    "    # Лемматизация токена\n",
    "    lemm_tokens = [\n",
    "        lemmatizer.lemmatize(token, get_wordnet_pos(postag)) \n",
    "        for token, postag in postag_tokens\n",
    "    ]\n",
    "\n",
    "    # Удаление стоп-слов\n",
    "    filtered_tokens = [\n",
    "        token for token in lemm_tokens \n",
    "        if token not in stop_words\n",
    "    ]\n",
    "\n",
    "    # Объединение слов в строку\n",
    "    prep_text = ' '.join(filtered_tokens)\n",
    "\n",
    "    return prep_text"
   ]
  },
  {
   "cell_type": "code",
   "execution_count": 11,
   "metadata": {},
   "outputs": [],
   "source": [
    "# Инициализация tqdm для использования progress_apply\n",
    "tqdm.pandas()"
   ]
  },
  {
   "cell_type": "code",
   "execution_count": 12,
   "metadata": {},
   "outputs": [
    {
     "name": "stderr",
     "output_type": "stream",
     "text": [
      "100%|█████████████████████████████████████████████████████████████████████████| 159292/159292 [15:18<00:00, 173.43it/s]\n"
     ]
    },
    {
     "data": {
      "text/html": [
       "<div>\n",
       "<style scoped>\n",
       "    .dataframe tbody tr th:only-of-type {\n",
       "        vertical-align: middle;\n",
       "    }\n",
       "\n",
       "    .dataframe tbody tr th {\n",
       "        vertical-align: top;\n",
       "    }\n",
       "\n",
       "    .dataframe thead th {\n",
       "        text-align: right;\n",
       "    }\n",
       "</style>\n",
       "<table border=\"1\" class=\"dataframe\">\n",
       "  <thead>\n",
       "    <tr style=\"text-align: right;\">\n",
       "      <th></th>\n",
       "      <th>text</th>\n",
       "      <th>toxic</th>\n",
       "      <th>lemm_text</th>\n",
       "    </tr>\n",
       "  </thead>\n",
       "  <tbody>\n",
       "    <tr>\n",
       "      <th>0</th>\n",
       "      <td>Explanation\\nWhy the edits made under my username Hardcore Metallica Fan were reverted? They weren't vandalisms, just closure on some GAs after I voted at New York Dolls FAC. And please don't remove the template from the talk page since I'm retired now.89.205.38.27</td>\n",
       "      <td>0</td>\n",
       "      <td>explanation edits make username hardcore metallica fan revert vandalism closure gas vote new york doll fac please remove template talk page since retire</td>\n",
       "    </tr>\n",
       "    <tr>\n",
       "      <th>1</th>\n",
       "      <td>D'aww! He matches this background colour I'm seemingly stuck with. Thanks.  (talk) 21:51, January 11, 2016 (UTC)</td>\n",
       "      <td>0</td>\n",
       "      <td>aww match background colour seemingly stick thanks talk january utc</td>\n",
       "    </tr>\n",
       "    <tr>\n",
       "      <th>2</th>\n",
       "      <td>Hey man, I'm really not trying to edit war. It's just that this guy is constantly removing relevant information and talking to me through edits instead of my talk page. He seems to care more about the formatting than the actual info.</td>\n",
       "      <td>0</td>\n",
       "      <td>hey man really try edit war guy constantly remove relevant information talk edits instead talk page seem care formatting actual info</td>\n",
       "    </tr>\n",
       "    <tr>\n",
       "      <th>3</th>\n",
       "      <td>\"\\nMore\\nI can't make any real suggestions on improvement - I wondered if the section statistics should be later on, or a subsection of \"\"types of accidents\"\"  -I think the references may need tidying so that they are all in the exact same format ie date format etc. I can do that later on, if no-one else does first - if you have any preferences for formatting style on references or want to do it yourself please let me know.\\n\\nThere appears to be a backlog on articles for review so I guess there may be a delay until a reviewer turns up. It's listed in the relevant form eg Wikipedia:Good_article_nominations#Transport  \"</td>\n",
       "      <td>0</td>\n",
       "      <td>make real suggestion improvement wonder section statistic later subsection type accident think reference may need tidy exact format ie date format etc later one else first preference format style reference want please let know appear backlog article review guess may delay reviewer turn list relevant form eg wikipedia good article nomination transport</td>\n",
       "    </tr>\n",
       "    <tr>\n",
       "      <th>4</th>\n",
       "      <td>You, sir, are my hero. Any chance you remember what page that's on?</td>\n",
       "      <td>0</td>\n",
       "      <td>sir hero chance remember page</td>\n",
       "    </tr>\n",
       "  </tbody>\n",
       "</table>\n",
       "</div>"
      ],
      "text/plain": [
       "                                                                                                                                                                                                                                                                                                                                                                                                                                                                                                                                                                                                                                                 text  \\\n",
       "0                                                                                                                                                                                                                                                                                                                                                                           Explanation\\nWhy the edits made under my username Hardcore Metallica Fan were reverted? They weren't vandalisms, just closure on some GAs after I voted at New York Dolls FAC. And please don't remove the template from the talk page since I'm retired now.89.205.38.27   \n",
       "1                                                                                                                                                                                                                                                                                                                                                                                                                                                                                                                                    D'aww! He matches this background colour I'm seemingly stuck with. Thanks.  (talk) 21:51, January 11, 2016 (UTC)   \n",
       "2                                                                                                                                                                                                                                                                                                                                                                                                           Hey man, I'm really not trying to edit war. It's just that this guy is constantly removing relevant information and talking to me through edits instead of my talk page. He seems to care more about the formatting than the actual info.   \n",
       "3  \"\\nMore\\nI can't make any real suggestions on improvement - I wondered if the section statistics should be later on, or a subsection of \"\"types of accidents\"\"  -I think the references may need tidying so that they are all in the exact same format ie date format etc. I can do that later on, if no-one else does first - if you have any preferences for formatting style on references or want to do it yourself please let me know.\\n\\nThere appears to be a backlog on articles for review so I guess there may be a delay until a reviewer turns up. It's listed in the relevant form eg Wikipedia:Good_article_nominations#Transport  \"   \n",
       "4                                                                                                                                                                                                                                                                                                                                                                                                                                                                                                                                                                                 You, sir, are my hero. Any chance you remember what page that's on?   \n",
       "\n",
       "   toxic  \\\n",
       "0      0   \n",
       "1      0   \n",
       "2      0   \n",
       "3      0   \n",
       "4      0   \n",
       "\n",
       "                                                                                                                                                                                                                                                                                                                                                          lemm_text  \n",
       "0                                                                                                                                                                                                          explanation edits make username hardcore metallica fan revert vandalism closure gas vote new york doll fac please remove template talk page since retire  \n",
       "1                                                                                                                                                                                                                                                                                               aww match background colour seemingly stick thanks talk january utc  \n",
       "2                                                                                                                                                                                                                              hey man really try edit war guy constantly remove relevant information talk edits instead talk page seem care formatting actual info  \n",
       "3  make real suggestion improvement wonder section statistic later subsection type accident think reference may need tidy exact format ie date format etc later one else first preference format style reference want please let know appear backlog article review guess may delay reviewer turn list relevant form eg wikipedia good article nomination transport  \n",
       "4                                                                                                                                                                                                                                                                                                                                     sir hero chance remember page  "
      ]
     },
     "execution_count": 12,
     "metadata": {},
     "output_type": "execute_result"
    }
   ],
   "source": [
    "# Предобработка текста для TF-IDF\n",
    "comments_tfidf = comments.copy()\n",
    "comments_tfidf['lemm_text'] = comments_tfidf['text'].progress_apply(preprocess_for_tfidf)\n",
    "\n",
    "# Проверка результатов\n",
    "comments_tfidf.head()"
   ]
  },
  {
   "cell_type": "markdown",
   "metadata": {},
   "source": [
    "**Выводы**:\n",
    "\n",
    "В результате предобработки данных:\n",
    "- Привели текст к нижнему регистру\n",
    "- Очистили текст от лишних символов, которые вносят шум в данные\n",
    "- Провели лемматизацию текста\n",
    "- Удалили стоп-слова"
   ]
  },
  {
   "cell_type": "markdown",
   "metadata": {},
   "source": [
    "## Подготовка к обучению. Векторизация методом TF-IDF <a class=\"anchor\" id=\"векторизация\"></a>"
   ]
  },
  {
   "cell_type": "markdown",
   "metadata": {},
   "source": [
    "Разделим данные на тренировочную (75%) и тестовую (25%) выборки, используя стратификацию по целевому признаку."
   ]
  },
  {
   "cell_type": "code",
   "execution_count": 13,
   "metadata": {},
   "outputs": [
    {
     "name": "stdout",
     "output_type": "stream",
     "text": [
      "Размер тренировочной выборки: (119469,) (119469,)\n",
      "Размер тестовой выборки: (39823,) (39823,)\n"
     ]
    }
   ],
   "source": [
    "# Объявление констант\n",
    "RANDOM_STATE = 42\n",
    "\n",
    "# Разделение на целевой и входные признаки\n",
    "X = comments_tfidf['lemm_text']\n",
    "y = comments_tfidf['toxic']\n",
    "\n",
    "# Разделение данных на выборки\n",
    "X_train, X_test, y_train, y_test = train_test_split(\n",
    "    X,\n",
    "    y, \n",
    "    test_size=0.25,\n",
    "    stratify=y,\n",
    "    random_state=RANDOM_STATE\n",
    ")\n",
    "\n",
    "# Размерность выборок\n",
    "print('Размер тренировочной выборки:', X_train.shape, y_train.shape)\n",
    "print('Размер тестовой выборки:', X_test.shape, y_test.shape)"
   ]
  },
  {
   "cell_type": "markdown",
   "metadata": {},
   "source": [
    "Для подготовки данных к обучению создадим **pipeline**. Преобразуем тексты в числовые признаки, используя `TfidfVectorizer()`. Создадим униграммы и биграммы, что позволит учитывать не только важность отдельных слов, но и некоторый контекст."
   ]
  },
  {
   "cell_type": "code",
   "execution_count": 14,
   "metadata": {},
   "outputs": [],
   "source": [
    "def make_pipeline(model, ngram_range=(1, 2)):\n",
    "    '''\n",
    "    Args:\n",
    "        model (sklearn model): Модель для классификации.\n",
    "        ngram_range (tuple, optional): Диапазон n-грамм для TfidfVectorizer. По умолчанию (1, 2).\n",
    "    \n",
    "    Returns:\n",
    "        Pipeline: Настроенный пайплайн с TfidfVectorizer и моделью.\n",
    "    '''\n",
    "  \n",
    "    pipeline = Pipeline([\n",
    "        ('tfidf', TfidfVectorizer(ngram_range=ngram_range)),\n",
    "        ('model', model)\n",
    "    ])\n",
    "    \n",
    "    return pipeline"
   ]
  },
  {
   "cell_type": "markdown",
   "metadata": {},
   "source": [
    "Для подбора наилучших гиперпараметров для каждой модели будем использовать **OptunaSearchCV**. Для оценки качества моделей будет применяться метрика **F1**.\n"
   ]
  },
  {
   "cell_type": "code",
   "execution_count": 15,
   "metadata": {},
   "outputs": [],
   "source": [
    "def best_model_optuna(pipeline, param_distr, X_train, y_train,\n",
    "                      n_trials=20, verbose=0):\n",
    "    '''\n",
    "    Проводит подбор гиперпараметров модели с помощью OptunaSearchCV и вычисляет ключевые метрики.\n",
    "\n",
    "    Args:\n",
    "        pipeline (Pipeline): Итоговый пайлайн для подготовки данных.\n",
    "        param_distr (dict): Диапазон для поиска гиперпараметров Optuna.\n",
    "        X_train(pd.DataFrame): Входные признаки тренировочной выборки.\n",
    "        y_train(pd.Series): Целевой признак тренировочной выборки.\n",
    "        n_trials (int, optional): Количество итераций для OptunaSearchCV. По умолчанию 20.\n",
    "        verbose (int, optional): Уровень детализации вывода. По умолчанию 0.\n",
    "        \n",
    "    Вывод:\n",
    "        - Лучшие параметры модели.\n",
    "        - F1 на кросс-валидации.\n",
    "    '''\n",
    "\n",
    "    # Настройка OptunaSearchCV\n",
    "    optuna_search = OptunaSearchCV(\n",
    "        estimator=pipeline,\n",
    "        param_distributions=param_distr,\n",
    "        cv=5,\n",
    "        scoring='f1',\n",
    "        n_trials=n_trials,\n",
    "        random_state=RANDOM_STATE,\n",
    "        verbose=verbose\n",
    "    )\n",
    "    \n",
    "    # Подбор параметров\n",
    "    optuna_search.fit(X_train, y_train)\n",
    "\n",
    "    # Модель с лучшими параметрами\n",
    "    best_model = optuna_search.best_estimator_\n",
    "\n",
    "    # Расчет F1\n",
    "    f1_cv = optuna_search.best_score_\n",
    "\n",
    "    # Вывод результтатов\n",
    "    print(f'Лучшие параметры: {optuna_search.best_params_}')\n",
    "    print(f'Метрика F1 на кросс-валидации: {f1_cv}')\n",
    " \n",
    "    return best_model, f1_cv"
   ]
  },
  {
   "cell_type": "markdown",
   "metadata": {},
   "source": [
    "**Выводы:**\n",
    "\n",
    "- Разделили данные на тренировочную и тестовую выборки.\n",
    "- Создали пайплайн для подготовки данных к обучению с векторизацией текста в числовые значения.\n",
    "- Написали функцию для поиска гиперпараметров модели с помощью OptunaSearchCV, а также расчета ключевых метрик."
   ]
  },
  {
   "cell_type": "markdown",
   "metadata": {},
   "source": [
    "## Обучение моделей <a class=\"anchor\" id=\"обучение\"></a>"
   ]
  },
  {
   "cell_type": "markdown",
   "metadata": {},
   "source": [
    "Для поиска лучшей модели протестируем 4 варианта:\n",
    "- **LogisticRegression**\n",
    "- **MultinomialNB**\n",
    "- **SGDClassifier**\n",
    "- **LGBMClassifier**\n",
    "\n",
    "Для учета дисбаланса классов в параметрах моделей будем указывать `class_weight='balanced'`."
   ]
  },
  {
   "cell_type": "markdown",
   "metadata": {},
   "source": [
    "### LogisticRegression <a class=\"anchor\" id=\"LogisticRegression\"></a>"
   ]
  },
  {
   "cell_type": "code",
   "execution_count": 16,
   "metadata": {},
   "outputs": [
    {
     "name": "stderr",
     "output_type": "stream",
     "text": [
      "[I 2024-11-06 17:21:18,232] A new study created in memory with name: no-name-56b17106-aa48-4057-a2be-b94dd209981c\n",
      "[I 2024-11-06 17:23:18,928] Trial 0 finished with value: 0.7027110022667016 and parameters: {'model__C': 0.2312614033209604}. Best is trial 0 with value: 0.7027110022667016.\n",
      "[I 2024-11-06 17:25:29,538] Trial 1 finished with value: 0.7642760772577415 and parameters: {'model__C': 3.1469953191648936}. Best is trial 1 with value: 0.7642760772577415.\n",
      "[I 2024-11-06 17:27:14,664] Trial 2 finished with value: 0.6786880932330843 and parameters: {'model__C': 0.01611216952262752}. Best is trial 1 with value: 0.7642760772577415.\n",
      "[I 2024-11-06 17:29:06,649] Trial 3 finished with value: 0.6840627368661482 and parameters: {'model__C': 0.09085351895012907}. Best is trial 1 with value: 0.7642760772577415.\n",
      "[I 2024-11-06 17:31:08,493] Trial 4 finished with value: 0.7085452495428771 and parameters: {'model__C': 0.28547072560927855}. Best is trial 1 with value: 0.7642760772577415.\n",
      "[I 2024-11-06 17:33:01,695] Trial 5 finished with value: 0.6838541651997664 and parameters: {'model__C': 0.0784846803977368}. Best is trial 1 with value: 0.7642760772577415.\n",
      "[I 2024-11-06 17:34:59,948] Trial 6 finished with value: 0.6788886434958349 and parameters: {'model__C': 0.04337892866429277}. Best is trial 1 with value: 0.7642760772577415.\n",
      "[I 2024-11-06 17:36:52,243] Trial 7 finished with value: 0.6784792996343916 and parameters: {'model__C': 0.03164029426393974}. Best is trial 1 with value: 0.7642760772577415.\n",
      "[I 2024-11-06 17:38:47,539] Trial 8 finished with value: 0.6790165820776835 and parameters: {'model__C': 0.033780332484163816}. Best is trial 1 with value: 0.7642760772577415.\n",
      "[I 2024-11-06 17:40:48,048] Trial 9 finished with value: 0.6847725101417497 and parameters: {'model__C': 0.09028918433607151}. Best is trial 1 with value: 0.7642760772577415.\n",
      "[I 2024-11-06 17:43:13,590] Trial 10 finished with value: 0.7709016272681576 and parameters: {'model__C': 5.6859578973509}. Best is trial 10 with value: 0.7709016272681576.\n",
      "[I 2024-11-06 17:45:38,032] Trial 11 finished with value: 0.7697922144642007 and parameters: {'model__C': 5.824505300848348}. Best is trial 10 with value: 0.7709016272681576.\n",
      "[I 2024-11-06 17:48:12,902] Trial 12 finished with value: 0.773619922159292 and parameters: {'model__C': 8.465109149144695}. Best is trial 12 with value: 0.773619922159292.\n",
      "[I 2024-11-06 17:50:19,275] Trial 13 finished with value: 0.7475288340044125 and parameters: {'model__C': 1.4532915070260017}. Best is trial 12 with value: 0.773619922159292.\n",
      "[I 2024-11-06 17:52:57,975] Trial 14 finished with value: 0.7754853596769333 and parameters: {'model__C': 9.60848678955025}. Best is trial 14 with value: 0.7754853596769333.\n",
      "[I 2024-11-06 17:54:56,395] Trial 15 finished with value: 0.7428854102563003 and parameters: {'model__C': 1.2129479501806966}. Best is trial 14 with value: 0.7754853596769333.\n",
      "[I 2024-11-06 17:57:32,186] Trial 16 finished with value: 0.7755397613016577 and parameters: {'model__C': 8.879352172698267}. Best is trial 16 with value: 0.7755397613016577.\n",
      "[I 2024-11-06 17:59:35,605] Trial 17 finished with value: 0.743339673208255 and parameters: {'model__C': 1.226349268676876}. Best is trial 16 with value: 0.7755397613016577.\n",
      "[I 2024-11-06 18:01:51,519] Trial 18 finished with value: 0.7614553893317421 and parameters: {'model__C': 3.199794036301589}. Best is trial 16 with value: 0.7755397613016577.\n",
      "[I 2024-11-06 18:03:51,965] Trial 19 finished with value: 0.727960091991441 and parameters: {'model__C': 0.6189884903277205}. Best is trial 16 with value: 0.7755397613016577.\n"
     ]
    },
    {
     "name": "stdout",
     "output_type": "stream",
     "text": [
      "Лучшие параметры: {'model__C': 8.879352172698267}\n",
      "Метрика F1 на кросс-валидации: 0.7755397613016577\n"
     ]
    }
   ],
   "source": [
    "# Создание пайплайна для LogisticRegression\n",
    "pipe_log_reg = make_pipeline(LogisticRegression(class_weight='balanced', \n",
    "                                                random_state=RANDOM_STATE))\n",
    "\n",
    "# Гиперпараметры LogisticRegression\n",
    "params_log_reg = {\n",
    "    'model__C': optuna.distributions.FloatDistribution(0.01, 10, log=True)\n",
    "}\n",
    "\n",
    "# Подбор гиперпараметров и обучение модели\n",
    "log_reg_model, log_reg_f1 = best_model_optuna(\n",
    "    pipe_log_reg, \n",
    "    params_log_reg, \n",
    "    X_train, \n",
    "    y_train, \n",
    "    n_trials=20)"
   ]
  },
  {
   "cell_type": "markdown",
   "metadata": {},
   "source": [
    "### MultinomialNB <a class=\"anchor\" id=\"MultinomialNB\"></a>"
   ]
  },
  {
   "cell_type": "code",
   "execution_count": 17,
   "metadata": {},
   "outputs": [
    {
     "name": "stderr",
     "output_type": "stream",
     "text": [
      "[I 2024-11-06 18:04:27,633] A new study created in memory with name: no-name-a5d93a7b-37e7-4d8e-b293-52505c38d273\n",
      "[I 2024-11-06 18:05:54,751] Trial 0 finished with value: 0.34381105923987204 and parameters: {'model__alpha': 0.2312614033209604}. Best is trial 0 with value: 0.34381105923987204.\n",
      "[I 2024-11-06 18:07:22,753] Trial 1 finished with value: 0.07758014032430852 and parameters: {'model__alpha': 3.1469953191648936}. Best is trial 0 with value: 0.34381105923987204.\n",
      "[I 2024-11-06 18:08:51,177] Trial 2 finished with value: 0.6444526653556254 and parameters: {'model__alpha': 0.01611216952262752}. Best is trial 2 with value: 0.6444526653556254.\n",
      "[I 2024-11-06 18:10:19,666] Trial 3 finished with value: 0.49593489099088855 and parameters: {'model__alpha': 0.09085351895012907}. Best is trial 2 with value: 0.6444526653556254.\n",
      "[I 2024-11-06 18:11:49,226] Trial 4 finished with value: 0.3103890601120241 and parameters: {'model__alpha': 0.28547072560927855}. Best is trial 2 with value: 0.6444526653556254.\n",
      "[I 2024-11-06 18:13:17,999] Trial 5 finished with value: 0.5131760649311534 and parameters: {'model__alpha': 0.0784846803977368}. Best is trial 2 with value: 0.6444526653556254.\n",
      "[I 2024-11-06 18:14:46,406] Trial 6 finished with value: 0.5812271337018317 and parameters: {'model__alpha': 0.04337892866429277}. Best is trial 2 with value: 0.6444526653556254.\n",
      "[I 2024-11-06 18:16:15,230] Trial 7 finished with value: 0.6099905034287041 and parameters: {'model__alpha': 0.03164029426393974}. Best is trial 2 with value: 0.6444526653556254.\n",
      "[I 2024-11-06 18:17:44,528] Trial 8 finished with value: 0.604358034277715 and parameters: {'model__alpha': 0.033780332484163816}. Best is trial 2 with value: 0.6444526653556254.\n",
      "[I 2024-11-06 18:19:14,231] Trial 9 finished with value: 0.4967314441169954 and parameters: {'model__alpha': 0.09028918433607151}. Best is trial 2 with value: 0.6444526653556254.\n",
      "[I 2024-11-06 18:20:43,613] Trial 10 finished with value: 0.6500252062041254 and parameters: {'model__alpha': 0.012421345123192661}. Best is trial 10 with value: 0.6500252062041254.\n",
      "[I 2024-11-06 18:22:13,137] Trial 11 finished with value: 0.6374354886466701 and parameters: {'model__alpha': 0.01916485248219486}. Best is trial 10 with value: 0.6500252062041254.\n",
      "[I 2024-11-06 18:23:41,692] Trial 12 finished with value: 0.6530594036315172 and parameters: {'model__alpha': 0.010836396928503474}. Best is trial 12 with value: 0.6530594036315172.\n",
      "[I 2024-11-06 18:25:10,983] Trial 13 finished with value: 0.10929191023153322 and parameters: {'model__alpha': 1.8515258487675106}. Best is trial 12 with value: 0.6530594036315172.\n",
      "[I 2024-11-06 18:26:39,379] Trial 14 finished with value: 0.6541698656957078 and parameters: {'model__alpha': 0.010090857282969847}. Best is trial 14 with value: 0.6541698656957078.\n",
      "[I 2024-11-06 18:28:01,850] Trial 15 finished with value: 0.15722798435243887 and parameters: {'model__alpha': 0.9834135232433732}. Best is trial 14 with value: 0.6541698656957078.\n",
      "[I 2024-11-06 18:29:23,583] Trial 16 finished with value: 0.6542001163602452 and parameters: {'model__alpha': 0.01029464512193182}. Best is trial 16 with value: 0.6542001163602452.\n",
      "[I 2024-11-06 18:30:44,886] Trial 17 finished with value: 0.2167751580131252 and parameters: {'model__alpha': 0.5453465571900001}. Best is trial 16 with value: 0.6542001163602452.\n",
      "[I 2024-11-06 18:32:06,014] Trial 18 finished with value: 0.4156085062844971 and parameters: {'model__alpha': 0.1584854015349205}. Best is trial 16 with value: 0.6542001163602452.\n",
      "[I 2024-11-06 18:33:27,206] Trial 19 finished with value: 0.6175600550050137 and parameters: {'model__alpha': 0.028749859478500367}. Best is trial 16 with value: 0.6542001163602452.\n"
     ]
    },
    {
     "name": "stdout",
     "output_type": "stream",
     "text": [
      "Лучшие параметры: {'model__alpha': 0.01029464512193182}\n",
      "Метрика F1 на кросс-валидации: 0.6542001163602452\n"
     ]
    }
   ],
   "source": [
    "# Создание пайплайна для MultinomialNB\n",
    "pipe_multi_nb = make_pipeline(MultinomialNB(class_prior=[0.9, 0.1]))\n",
    "\n",
    "# Гиперпараметры MultinomialNB\n",
    "params_multi_nb = {\n",
    "    'model__alpha': optuna.distributions.FloatDistribution(0.01, 10, log=True)\n",
    "}\n",
    "\n",
    "# Подбор гиперпараметров и обучение модели\n",
    "multi_nb_model, multi_nb_f1 = best_model_optuna(\n",
    "    pipe_multi_nb, \n",
    "    params_multi_nb, \n",
    "    X_train, \n",
    "    y_train, \n",
    "    n_trials=20)"
   ]
  },
  {
   "cell_type": "markdown",
   "metadata": {},
   "source": [
    "### SGDClassifier <a class=\"anchor\" id=\"SGDClassifier\"></a>"
   ]
  },
  {
   "cell_type": "code",
   "execution_count": 18,
   "metadata": {},
   "outputs": [
    {
     "name": "stderr",
     "output_type": "stream",
     "text": [
      "[I 2024-11-06 18:33:44,749] A new study created in memory with name: no-name-7a2b6bfe-effc-4509-af9c-80799e325a4a\n",
      "[I 2024-11-06 18:35:08,964] Trial 0 finished with value: 0.7165898236155471 and parameters: {'model__loss': 'squared_hinge', 'model__alpha': 0.0003262527785293697}. Best is trial 0 with value: 0.7165898236155471.\n",
      "[I 2024-11-06 18:36:32,801] Trial 1 finished with value: 0.7124024492012244 and parameters: {'model__loss': 'hinge', 'model__alpha': 0.00017507936959010998}. Best is trial 0 with value: 0.7165898236155471.\n",
      "[I 2024-11-06 18:37:54,950] Trial 2 finished with value: 0.6821844542432287 and parameters: {'model__loss': 'perceptron', 'model__alpha': 0.0009992583517366939}. Best is trial 0 with value: 0.7165898236155471.\n",
      "[I 2024-11-06 18:39:18,576] Trial 3 finished with value: 0.7089787770698368 and parameters: {'model__loss': 'hinge', 'model__alpha': 0.0004780097647750324}. Best is trial 0 with value: 0.7165898236155471.\n",
      "[I 2024-11-06 18:40:43,853] Trial 4 finished with value: 0.6904756630441793 and parameters: {'model__loss': 'squared_hinge', 'model__alpha': 0.0009528562790494681}. Best is trial 0 with value: 0.7165898236155471.\n",
      "[I 2024-11-06 18:42:06,977] Trial 5 finished with value: 0.7514520585655328 and parameters: {'model__loss': 'squared_hinge', 'model__alpha': 9.993411057802445e-05}. Best is trial 5 with value: 0.7514520585655328.\n",
      "[I 2024-11-06 18:43:29,260] Trial 6 finished with value: 0.6785084663036238 and parameters: {'model__loss': 'perceptron', 'model__alpha': 0.000527879456431174}. Best is trial 5 with value: 0.7514520585655328.\n",
      "[I 2024-11-06 18:44:53,885] Trial 7 finished with value: 0.7008719969105057 and parameters: {'model__loss': 'squared_hinge', 'model__alpha': 0.0005416408767794978}. Best is trial 5 with value: 0.7514520585655328.\n",
      "[I 2024-11-06 18:46:16,395] Trial 8 finished with value: 0.6866924151597225 and parameters: {'model__loss': 'perceptron', 'model__alpha': 3.879192803982396e-05}. Best is trial 5 with value: 0.7514520585655328.\n",
      "[I 2024-11-06 18:47:41,127] Trial 9 finished with value: 0.7237934941717544 and parameters: {'model__loss': 'squared_hinge', 'model__alpha': 0.00025006865822238186}. Best is trial 5 with value: 0.7514520585655328.\n",
      "[I 2024-11-06 18:49:06,105] Trial 10 finished with value: 0.6949005551016402 and parameters: {'model__loss': 'squared_hinge', 'model__alpha': 0.0007277125558576019}. Best is trial 5 with value: 0.7514520585655328.\n",
      "[I 2024-11-06 18:50:30,535] Trial 11 finished with value: 0.7284766555461816 and parameters: {'model__loss': 'squared_hinge', 'model__alpha': 0.00019127006650737475}. Best is trial 5 with value: 0.7514520585655328.\n",
      "[I 2024-11-06 18:52:07,338] Trial 12 finished with value: 0.6844378501264261 and parameters: {'model__loss': 'squared_hinge', 'model__alpha': 4.0736055800924866e-05}. Best is trial 5 with value: 0.7514520585655328.\n",
      "[I 2024-11-06 18:53:31,337] Trial 13 finished with value: 0.7338567790891783 and parameters: {'model__loss': 'squared_hinge', 'model__alpha': 0.0001634649064529162}. Best is trial 5 with value: 0.7514520585655328.\n",
      "[I 2024-11-06 18:54:56,430] Trial 14 finished with value: 0.7139605265019563 and parameters: {'model__loss': 'squared_hinge', 'model__alpha': 0.0003545138551698608}. Best is trial 5 with value: 0.7514520585655328.\n",
      "[I 2024-11-06 18:56:20,975] Trial 15 finished with value: 0.7803148901444505 and parameters: {'model__loss': 'hinge', 'model__alpha': 1.2329084344908346e-05}. Best is trial 15 with value: 0.7803148901444505.\n",
      "[I 2024-11-06 18:57:45,801] Trial 16 finished with value: 0.7812184019750937 and parameters: {'model__loss': 'hinge', 'model__alpha': 1.2616825411056798e-05}. Best is trial 16 with value: 0.7812184019750937.\n",
      "[I 2024-11-06 18:59:08,862] Trial 17 finished with value: 0.7063485812893076 and parameters: {'model__loss': 'hinge', 'model__alpha': 0.0007671531240061872}. Best is trial 16 with value: 0.7812184019750937.\n",
      "[I 2024-11-06 19:00:32,641] Trial 18 finished with value: 0.7079067800496817 and parameters: {'model__loss': 'hinge', 'model__alpha': 0.00035903267427022024}. Best is trial 16 with value: 0.7812184019750937.\n",
      "[I 2024-11-06 19:01:57,396] Trial 19 finished with value: 0.7820848686315427 and parameters: {'model__loss': 'hinge', 'model__alpha': 1.1113433348773734e-05}. Best is trial 19 with value: 0.7820848686315427.\n"
     ]
    },
    {
     "name": "stdout",
     "output_type": "stream",
     "text": [
      "Лучшие параметры: {'model__loss': 'hinge', 'model__alpha': 1.1113433348773734e-05}\n",
      "Метрика F1 на кросс-валидации: 0.7820848686315427\n"
     ]
    }
   ],
   "source": [
    "# Создание пайплайна для SGDClassifier\n",
    "pipe_sgdc = make_pipeline(SGDClassifier(class_weight='balanced',\n",
    "                                        random_state=RANDOM_STATE))\n",
    "\n",
    "# Гиперпараметры SGDClassifier\n",
    "params_sgdc = {\n",
    "    'model__loss': optuna.distributions.CategoricalDistribution(['hinge', 'squared_hinge', 'perceptron']),\n",
    "    'model__alpha': optuna.distributions.FloatDistribution(1e-5, 1e-3)\n",
    "}\n",
    "\n",
    "# Подбор гиперпараметров и обучение модели\n",
    "sgdc_model, sgdc_f1 = best_model_optuna(\n",
    "    pipe_sgdc, \n",
    "    params_sgdc, \n",
    "    X_train, \n",
    "    y_train,\n",
    "    n_trials=20)"
   ]
  },
  {
   "cell_type": "markdown",
   "metadata": {},
   "source": [
    "### LGBMClassifier <a class=\"anchor\" id=\"LGBMClassifier\"></a>"
   ]
  },
  {
   "cell_type": "code",
   "execution_count": 19,
   "metadata": {},
   "outputs": [
    {
     "name": "stderr",
     "output_type": "stream",
     "text": [
      "[I 2024-11-06 19:02:15,833] A new study created in memory with name: no-name-8957e55f-29e6-4671-8f9c-87a657fd7e37\n",
      "[I 2024-11-06 19:07:00,012] Trial 0 finished with value: 0.7597062053209818 and parameters: {'model__n_estimators': 164, 'model__learning_rate': 0.4626622490126815}. Best is trial 0 with value: 0.7597062053209818.\n",
      "[I 2024-11-06 19:10:53,239] Trial 1 finished with value: 0.6903604588457215 and parameters: {'model__n_estimators': 67, 'model__learning_rate': 0.04354060928873476}. Best is trial 0 with value: 0.7597062053209818.\n",
      "[I 2024-11-06 19:16:20,997] Trial 2 finished with value: 0.7194119633196829 and parameters: {'model__n_estimators': 171, 'model__learning_rate': 0.03949328531300317}. Best is trial 0 with value: 0.7597062053209818.\n",
      "[I 2024-11-06 19:20:55,377] Trial 3 finished with value: 0.6804996506761186 and parameters: {'model__n_estimators': 103, 'model__learning_rate': 0.021552302595488446}. Best is trial 0 with value: 0.7597062053209818.\n",
      "[I 2024-11-06 19:25:12,334] Trial 4 finished with value: 0.7061553521866685 and parameters: {'model__n_estimators': 94, 'model__learning_rate': 0.043360121097566026}. Best is trial 0 with value: 0.7597062053209818.\n",
      "[I 2024-11-06 19:29:31,416] Trial 5 finished with value: 0.70835712852433 and parameters: {'model__n_estimators': 137, 'model__learning_rate': 0.9965560284944426}. Best is trial 0 with value: 0.7597062053209818.\n",
      "[I 2024-11-06 19:35:10,193] Trial 6 finished with value: 0.7124905427604451 and parameters: {'model__n_estimators': 177, 'model__learning_rate': 0.029793325398442518}. Best is trial 0 with value: 0.7597062053209818.\n",
      "[I 2024-11-06 19:40:07,513] Trial 7 finished with value: 0.7360222493069518 and parameters: {'model__n_estimators': 147, 'model__learning_rate': 0.08820115499767793}. Best is trial 0 with value: 0.7597062053209818.\n",
      "[I 2024-11-06 19:46:05,971] Trial 8 finished with value: 0.7529556122685477 and parameters: {'model__n_estimators': 265, 'model__learning_rate': 0.8861054752725014}. Best is trial 0 with value: 0.7597062053209818.\n",
      "[I 2024-11-06 19:50:54,491] Trial 9 finished with value: 0.7476693958498497 and parameters: {'model__n_estimators': 165, 'model__learning_rate': 0.8030824952163161}. Best is trial 0 with value: 0.7597062053209818.\n"
     ]
    },
    {
     "name": "stdout",
     "output_type": "stream",
     "text": [
      "Лучшие параметры: {'model__n_estimators': 164, 'model__learning_rate': 0.4626622490126815}\n",
      "Метрика F1 на кросс-валидации: 0.7597062053209818\n"
     ]
    }
   ],
   "source": [
    "# Создание пайплайна для SGDClassifier\n",
    "pipe_lgbmc = make_pipeline(LGBMClassifier(class_weight='balanced',\n",
    "                                          random_state=RANDOM_STATE, \n",
    "                                          force_row_wise=True, \n",
    "                                          verbose=-1))\n",
    "\n",
    "# Гиперпараметры\n",
    "params_lgbmc = {\n",
    "    'model__n_estimators': optuna.distributions.IntDistribution(50, 300),\n",
    "    'model__learning_rate': optuna.distributions.FloatDistribution(0.01, 1, 0.02)\n",
    "}\n",
    "\n",
    "# Подбор гиперпараметров и обучение моделиz\n",
    "lgbmc_tmodel, lgbmc_f1 = best_model_optuna(\n",
    "    pipe_lgbmc, \n",
    "    params_lgbmc, \n",
    "    X_train, \n",
    "    y_train,\n",
    "    n_trials=10)"
   ]
  },
  {
   "cell_type": "markdown",
   "metadata": {},
   "source": [
    "**Выводы:**\n",
    "\n",
    "В результате было обучено 4 модели. Для каждой модели с помощью OptunaSearchCV были подобраны гиперпараметры, с которыми модель показывает наилучшую метрику F1. Гиперпараметры моделей:\n",
    "- **LogisticRegression** - 'C': 8.879352172698267.\n",
    "- **MultinomialNB** - 'alpha': 0.01029464512193182.\n",
    "- **SGDClassifier** - 'loss': 'hinge', 'alpha': 1.1113433348773734e-05.\n",
    "- **LGBMClassifier** - 'n_estimators': 164, 'learning_rate': 0.4626622490126815."
   ]
  },
  {
   "cell_type": "markdown",
   "metadata": {},
   "source": [
    "## Анализ результатов. Тестирование лучшей модели <a class=\"anchor\" id=\"результаты\"></a>"
   ]
  },
  {
   "cell_type": "markdown",
   "metadata": {},
   "source": [
    "Добавим результаты всех моделей в датафрейм и сравним их:"
   ]
  },
  {
   "cell_type": "code",
   "execution_count": 20,
   "metadata": {},
   "outputs": [
    {
     "data": {
      "text/html": [
       "<div>\n",
       "<style scoped>\n",
       "    .dataframe tbody tr th:only-of-type {\n",
       "        vertical-align: middle;\n",
       "    }\n",
       "\n",
       "    .dataframe tbody tr th {\n",
       "        vertical-align: top;\n",
       "    }\n",
       "\n",
       "    .dataframe thead th {\n",
       "        text-align: right;\n",
       "    }\n",
       "</style>\n",
       "<table border=\"1\" class=\"dataframe\">\n",
       "  <thead>\n",
       "    <tr style=\"text-align: right;\">\n",
       "      <th></th>\n",
       "      <th>model</th>\n",
       "      <th>F1_cv</th>\n",
       "    </tr>\n",
       "  </thead>\n",
       "  <tbody>\n",
       "    <tr>\n",
       "      <th>2</th>\n",
       "      <td>SGDClassifier</td>\n",
       "      <td>0.782085</td>\n",
       "    </tr>\n",
       "    <tr>\n",
       "      <th>0</th>\n",
       "      <td>LogisticRegression</td>\n",
       "      <td>0.775540</td>\n",
       "    </tr>\n",
       "    <tr>\n",
       "      <th>3</th>\n",
       "      <td>LGBMClassifier</td>\n",
       "      <td>0.759706</td>\n",
       "    </tr>\n",
       "    <tr>\n",
       "      <th>1</th>\n",
       "      <td>MultinomialNB</td>\n",
       "      <td>0.654200</td>\n",
       "    </tr>\n",
       "  </tbody>\n",
       "</table>\n",
       "</div>"
      ],
      "text/plain": [
       "                model     F1_cv\n",
       "2       SGDClassifier  0.782085\n",
       "0  LogisticRegression  0.775540\n",
       "3      LGBMClassifier  0.759706\n",
       "1       MultinomialNB  0.654200"
      ]
     },
     "metadata": {},
     "output_type": "display_data"
    }
   ],
   "source": [
    "# Создание датафрейма с результатами моделей\n",
    "models_results = pd.DataFrame({\n",
    "    'model': ['LogisticRegression', \n",
    "              'MultinomialNB', \n",
    "              'SGDClassifier', \n",
    "              'LGBMClassifier'],\n",
    "    'F1_cv' : [log_reg_f1, \n",
    "               multi_nb_f1, \n",
    "               sgdc_f1, \n",
    "               lgbmc_f1]\n",
    "}).sort_values(by='F1_cv', ascending=False)\n",
    "\n",
    "display(models_results)"
   ]
  },
  {
   "cell_type": "markdown",
   "metadata": {},
   "source": [
    "- **SGDClassifier** показала наилучшее качество предсказаний с наибольшим значением F1 - 0.782085.\n",
    "- Самую низкую точность прогноза показала модель MultinomialNB - F1 составила 0.654200."
   ]
  },
  {
   "cell_type": "markdown",
   "metadata": {},
   "source": [
    "Проверим качество лучшей модели (SGDClassifier) на тестовой выборке. А также построим матрицу ошибок."
   ]
  },
  {
   "cell_type": "code",
   "execution_count": 21,
   "metadata": {},
   "outputs": [
    {
     "name": "stdout",
     "output_type": "stream",
     "text": [
      "F1 на тестовой выборке: 0.7812\n"
     ]
    }
   ],
   "source": [
    "# Прогноз на тестовой выборке\n",
    "y_pred = sgdc_model.predict(X_test)\n",
    "\n",
    "# F1 на тестовой выборке\n",
    "f1_score_test = f1_score(y_test, y_pred)\n",
    "print(f'F1 на тестовой выборке: {f1_score_test:.4f}')"
   ]
  },
  {
   "cell_type": "markdown",
   "metadata": {},
   "source": [
    "Видим, что метрика F1 практически не отличается между тренировочной и тестовой выборками, что говорит о **хорошей обобщающей способности модели** и отсутствии переобучения."
   ]
  },
  {
   "cell_type": "code",
   "execution_count": 22,
   "metadata": {},
   "outputs": [
    {
     "data": {
      "image/png": "[encoded data removed]",
      "text/plain": [
       "<Figure size 400x300 with 2 Axes>"
      ]
     },
     "metadata": {},
     "output_type": "display_data"
    }
   ],
   "source": [
    "# Матрица ошибок\n",
    "cm = confusion_matrix(y_test, y_pred)\n",
    "plt.figure(figsize=(4, 3))\n",
    "sns.heatmap(cm, annot=True, fmt='d', cmap='Blues_r')\n",
    "plt.title('Матрица ошибок')\n",
    "plt.ylabel('Истинные значения')\n",
    "plt.xlabel('Прогнозные значения');"
   ]
  },
  {
   "cell_type": "markdown",
   "metadata": {},
   "source": [
    "Видим, что модель пропустила всего 805 токсичных комментариев (False Negatives), тогда как правильно классифицировано 3,241 таких комментариев. Это довольно хороший показатель, особенно в условиях, когда класс токсичных комментариев встречается редко (берем во внимание дисбаланс классов). Модель смогла поймать большинство из них.\n",
    "\n",
    "Таким образом, **SGDClassifier** показал наилучшие результаты по сравнению с другими моделями, что делает его предпочтительным выбором для данной задачи классификации."
   ]
  },
  {
   "cell_type": "markdown",
   "metadata": {},
   "source": [
    "## Общий вывод <a class=\"anchor\" id=\"вывод\"></a>"
   ]
  },
  {
   "cell_type": "markdown",
   "metadata": {},
   "source": [
    "В ходе проведенного исследования были выполнены следующие этапы и получены следующие основные результаты.\n",
    "\n",
    "1) **Обзор данных**\n",
    "- Выявили дисбаланс классов в целевом признаке (токсичных комментариев ~10% от всего объема данных).\n",
    "- Были проверены пропущенные значения, а также дубликаты. Их не обнаружили\n",
    "***\n",
    "2) **Предобработка данных**\n",
    "\n",
    "- Привели текст к нижнему регистру\n",
    "- Очистили текст от лишних символов\n",
    "- Провели лемматизацию текста\n",
    "- Удалили стоп-слова\n",
    "\n",
    "Это позволило уменьшить влияние шума в данных, снизить размерность данных и улучшить качество моделей.\n",
    "***\n",
    "3) **Подготовка к обучению. Векторизация текста**\n",
    "\n",
    "Для векторизации текстов был использован метод TF-IDF с созданием уни- и биграмм. Данный метод позволяет оценить значимость слова в тексте относительно всех текстов, что помогает выделить ключевые термины и уменьшить влияние часто встречающихся слов. \n",
    "\n",
    "Использование униграмм и биграмм расширило представление текстов, что позволило учитывать как отдельные слова, так и их сочетания, что помогло уловить контекст и семантические связи между словами. \n",
    "***\n",
    "4) **Обучение моделей. Анализ результатов**\n",
    "\n",
    "Было обучено 4 модели: **LogisticRegression, MultinomialNB,  SGDClassifier, LGBMRegressor**. Для каждой модели при помощи OptunaSearchCV были подобраны гиперпараметры и рассчитана метрика F1.\n",
    "\n",
    "Наилучшее качество предсказаний с наибольшим значением F1 (0.782085) показала **SGDClassifier**. На тестовой выборке показатель F1 составил **0.7812**, т.е. удовлетворяющий критерию.\n",
    "***\n",
    "5) **Итоги исследования**\n",
    "- В ходе исследования была построена модель для классификации комментариев на токсичные и нетоксичные.\n",
    "- Наилучшие результаты по качеству предсказания продемонстрировала модель **SGDClassifier** с показателем F1 0.7812 на тестовой выборке. Эта модель соответствует критериям проекта и показывает удовлетворительный уровень точности."
   ]
  }
 ],
 "metadata": {
  "kernelspec": {
   "display_name": "Python 3 (ipykernel)",
   "language": "python",
   "name": "python3"
  },
  "language_info": {
   "codemirror_mode": {
    "name": "ipython",
    "version": 3
   },
   "file_extension": ".py",
   "mimetype": "text/x-python",
   "name": "python",
   "nbconvert_exporter": "python",
   "pygments_lexer": "ipython3",
   "version": "3.11.7"
  },
  "toc": {
   "base_numbering": 1,
   "nav_menu": {},
   "number_sections": true,
   "sideBar": true,
   "skip_h1_title": true,
   "title_cell": "Содержание",
   "title_sidebar": "Contents",
   "toc_cell": true,
   "toc_position": {
    "height": "calc(100% - 180px)",
    "left": "10px",
    "top": "150px",
    "width": "302.391px"
   },
   "toc_section_display": true,
   "toc_window_display": false
  }
 },
 "nbformat": 4,
 "nbformat_minor": 4
}
