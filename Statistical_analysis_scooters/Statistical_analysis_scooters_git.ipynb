{
 "cells": [
  {
   "cell_type": "markdown",
   "id": "0a65b0d3",
   "metadata": {},
   "source": [
    "# Анализ поведения пользователей сервиса аренды самокатов"
   ]
  },
  {
   "cell_type": "markdown",
   "id": "cbd648b6",
   "metadata": {},
   "source": [
    "Этот проект посвящён исследованию данных мобильного приложения, предоставляющего услуги аренды самокатов. В рамках исследования анализируются данные о пользователях из нескольких городов России, их поездках и взаимодействии с сервисом. \n",
    "\n",
    "**Цель исследования:** Изучить различия в поведении пользователей, использующих разные тарифные планы (стандартный и премиальный), и выявить ключевые закономерности, которые могут быть полезны для оптимизации бизнес-стратегий.\n",
    "\n",
    "Таким образом, исследование пройдёт в 6 этапов:\n",
    " 1. Обзор данных\n",
    " 2. Предобработка данных\n",
    " 3. Исследовательский анализ данных\n",
    " 4. Объединение данных\n",
    " 5. Подсчёт выручки\n",
    " 6. Проверка гипотез"
   ]
  },
  {
   "cell_type": "markdown",
   "id": "0ff1f7d2",
   "metadata": {},
   "source": [
    "## Загрузка и импорт библиотек"
   ]
  },
  {
   "cell_type": "code",
   "execution_count": 1,
   "id": "fcb22fec",
   "metadata": {},
   "outputs": [],
   "source": [
    "# Импорт необходимых библиотек\n",
    "import pandas as pd\n",
    "import numpy as np\n",
    "import matplotlib.pyplot as plt\n",
    "from scipy import stats as st"
   ]
  },
  {
   "cell_type": "code",
   "execution_count": 2,
   "id": "e54181b4-5e26-49ff-a64d-2c1543c5d828",
   "metadata": {},
   "outputs": [],
   "source": [
    "def data_info(df):\n",
    "    '''\n",
    "    Отображает первые 5 строк, общую информацию и описательную статистику DataFrame.\n",
    "\n",
    "    '''\n",
    "    display(df.head())\n",
    "    df.info()\n",
    "    display(df.describe().round(3))"
   ]
  },
  {
   "cell_type": "code",
   "execution_count": 3,
   "id": "527d7fc7-b73d-4224-9b4d-54d77e8d7b02",
   "metadata": {},
   "outputs": [],
   "source": [
    "def plt_bar(df, column, title, xlabel, ylabel, values='user_id', aggfunc='count', x_rotation=35,\n",
    "            figsize=(6, 4), color_plt='cornflowerblue'):\n",
    "    \n",
    "    '''\n",
    "    Создает сводную таблицу и столбчатую диаграмму для указанного столбца DataFrame.\n",
    "    \n",
    "    Args:\n",
    "        df (pandas.DataFrame): DataFrame.\n",
    "        column (str): Столбец, по которому будет строиться сводная таблица и график.\n",
    "        title (str): Заголовок для графика.\n",
    "        xlabel (str): Название оси x для графика.\n",
    "        ylabel (str): Название оси y для графика.\n",
    "        values (str, optional): Столбец для агрегации в сводной таблице. По умолчанию 'user_id'.\n",
    "        aggfunc (str or function, optional): Функция агрегации для сводной таблицы. По умолчанию 'count'.\n",
    "        x_rotation (int, optional): Поворот значений оси x. По умолчанию 35.\n",
    "        figsize (tuple, optional): Размеры графика (ширина, высота). По умолчанию (6, 4).\n",
    "        color_plt (str, optional): Цвет графика. По умолчанию 'cornflowerblue'.\n",
    "    '''\n",
    "\n",
    "    # Сводная таблица\n",
    "    column_pivot_bar = (\n",
    "        df\n",
    "        .pivot_table(index=column, values=values, aggfunc=aggfunc)\n",
    "        .sort_values(by=values, ascending=False)\n",
    "    ) \n",
    "    column_pivot_bar.columns = ['Частота']\n",
    "    display(column_pivot_bar)\n",
    "\n",
    "    # Столбчатая диаграмма\n",
    "    column_pivot_bar.plot(y='Частота', kind='bar', figsize=figsize, color=color_plt, edgecolor='black')\n",
    "    plt.title(title)\n",
    "    plt.xlabel(xlabel)\n",
    "    plt.ylabel(ylabel)\n",
    "    plt.xticks(rotation=x_rotation)\n",
    "    plt.show()"
   ]
  },
  {
   "cell_type": "code",
   "execution_count": 4,
   "id": "c3d9195d-704d-48dd-a26a-cb5aa26b6932",
   "metadata": {},
   "outputs": [],
   "source": [
    "def plt_pie_pivot (df, column, title, values='user_id', figsize=(4, 4)):\n",
    "    '''\n",
    "    Создает сводную таблицу и круговую диаграмму для указанного столбца DataFrame.\n",
    "    \n",
    "    Args:\n",
    "        df (pandas.DataFrame): DataFrame.\n",
    "        column (str): Столбец, по которому будет строиться сводная таблица и диаграмма.\n",
    "        title (str): Заголовок для диаграммы.\n",
    "        values (str): Столбец для агрегации в сводной таблице. По умолчанию 'user_id'.\n",
    "        figsize (tuple, optional): Размеры графика (ширина, высота). По умолчанию (4, 4).\n",
    "    '''\n",
    "    \n",
    "    # Сводная таблица\n",
    "    column_pivot = (\n",
    "        df\n",
    "        .pivot_table(index=column,values=values, aggfunc='count')\n",
    "        .sort_values(by=values, ascending=False)\n",
    "        )\n",
    "    column_pivot.columns = ['Количество']\n",
    "    display(column_pivot)\n",
    "\n",
    "    # Круговая диаграмма\n",
    "    column_pivot.plot(kind='pie', figsize=figsize, subplots=True, autopct='%1.2f%%', ylabel='', \n",
    "                      colormap='tab10', legend=False)\n",
    "    plt.title(title)\n",
    "    plt.show()"
   ]
  },
  {
   "cell_type": "code",
   "execution_count": 5,
   "id": "0e3e7aa3-ff36-4217-8938-f0f29015b549",
   "metadata": {},
   "outputs": [],
   "source": [
    "def plt_hist(df, column, title, label, bins=20, figsize=(6, 4)):\n",
    "    '''\n",
    "    Строит гистограмму для указанного столбца DataFrame.\n",
    "    \n",
    "    Args:\n",
    "        df (pandas.DataFrame): DataFrame.\n",
    "        column (str): Столбец, для которого будет строится график.\n",
    "        title (str): Заголовок для графика.\n",
    "        label (str): Название оси x для графика.\n",
    "        bins (int, optional): Количество бинов для гистограммы. По умолчанию 20.\n",
    "        figsize (tuple, optional): Размеры графика (ширина, высота). По умолчанию (6, 4).\n",
    "    '''\n",
    "    \n",
    "    # Описательные статистики\n",
    "    print(f'Описательные статистики параметра {title}')\n",
    "    display(pd.DataFrame(df[column].describe()).T.style.format(precision=3))\n",
    "    \n",
    "    # Гистограмма\n",
    "    plt.figure(figsize=figsize) \n",
    "    plt.hist(df[column], bins=30, color='mediumseagreen', edgecolor='black') \n",
    "    plt.title(f'Гистограмма - {title}')\n",
    "    plt.xlabel(label)\n",
    "    plt.ylabel('Частота')\n",
    "    plt.grid()\n",
    "    plt.show()"
   ]
  },
  {
   "cell_type": "markdown",
   "id": "b93809e6-4d42-4235-a652-10b2ee4962cd",
   "metadata": {},
   "source": [
    "## Загрузка и обзор данных"
   ]
  },
  {
   "cell_type": "code",
   "execution_count": 6,
   "id": "7a75e3a1-178b-42a5-bf86-9d6598e18a5d",
   "metadata": {},
   "outputs": [
    {
     "name": "stdout",
     "output_type": "stream",
     "text": [
      "Данные успешно загружены\n"
     ]
    }
   ],
   "source": [
    "# Загрузка данных\n",
    "try:\n",
    "    users = pd.read_csv('users_go.csv')\n",
    "    rides = pd.read_csv('rides_go.csv', parse_dates=['date'])\n",
    "    subscriptions = pd.read_csv('subscriptions_go.csv')\n",
    "    print('Данные успешно загружены')\n",
    "except:\n",
    "    print('Ошибка при загрузке')"
   ]
  },
  {
   "cell_type": "markdown",
   "id": "80350284",
   "metadata": {},
   "source": [
    "Рассмотрим подробнее данные в каждом датафрейме."
   ]
  },
  {
   "cell_type": "code",
   "execution_count": 7,
   "id": "8a590a81",
   "metadata": {},
   "outputs": [
    {
     "data": {
      "text/html": [
       "<div>\n",
       "<style scoped>\n",
       "    .dataframe tbody tr th:only-of-type {\n",
       "        vertical-align: middle;\n",
       "    }\n",
       "\n",
       "    .dataframe tbody tr th {\n",
       "        vertical-align: top;\n",
       "    }\n",
       "\n",
       "    .dataframe thead th {\n",
       "        text-align: right;\n",
       "    }\n",
       "</style>\n",
       "<table border=\"1\" class=\"dataframe\">\n",
       "  <thead>\n",
       "    <tr style=\"text-align: right;\">\n",
       "      <th></th>\n",
       "      <th>user_id</th>\n",
       "      <th>name</th>\n",
       "      <th>age</th>\n",
       "      <th>city</th>\n",
       "      <th>subscription_type</th>\n",
       "    </tr>\n",
       "  </thead>\n",
       "  <tbody>\n",
       "    <tr>\n",
       "      <th>0</th>\n",
       "      <td>1</td>\n",
       "      <td>Кира</td>\n",
       "      <td>22</td>\n",
       "      <td>Тюмень</td>\n",
       "      <td>ultra</td>\n",
       "    </tr>\n",
       "    <tr>\n",
       "      <th>1</th>\n",
       "      <td>2</td>\n",
       "      <td>Станислав</td>\n",
       "      <td>31</td>\n",
       "      <td>Омск</td>\n",
       "      <td>ultra</td>\n",
       "    </tr>\n",
       "    <tr>\n",
       "      <th>2</th>\n",
       "      <td>3</td>\n",
       "      <td>Алексей</td>\n",
       "      <td>20</td>\n",
       "      <td>Москва</td>\n",
       "      <td>ultra</td>\n",
       "    </tr>\n",
       "    <tr>\n",
       "      <th>3</th>\n",
       "      <td>4</td>\n",
       "      <td>Константин</td>\n",
       "      <td>26</td>\n",
       "      <td>Ростов-на-Дону</td>\n",
       "      <td>ultra</td>\n",
       "    </tr>\n",
       "    <tr>\n",
       "      <th>4</th>\n",
       "      <td>5</td>\n",
       "      <td>Адель</td>\n",
       "      <td>28</td>\n",
       "      <td>Омск</td>\n",
       "      <td>ultra</td>\n",
       "    </tr>\n",
       "  </tbody>\n",
       "</table>\n",
       "</div>"
      ],
      "text/plain": [
       "   user_id        name  age            city subscription_type\n",
       "0        1        Кира   22          Тюмень             ultra\n",
       "1        2   Станислав   31            Омск             ultra\n",
       "2        3     Алексей   20          Москва             ultra\n",
       "3        4  Константин   26  Ростов-на-Дону             ultra\n",
       "4        5       Адель   28            Омск             ultra"
      ]
     },
     "metadata": {},
     "output_type": "display_data"
    },
    {
     "name": "stdout",
     "output_type": "stream",
     "text": [
      "<class 'pandas.core.frame.DataFrame'>\n",
      "RangeIndex: 1565 entries, 0 to 1564\n",
      "Data columns (total 5 columns):\n",
      " #   Column             Non-Null Count  Dtype \n",
      "---  ------             --------------  ----- \n",
      " 0   user_id            1565 non-null   int64 \n",
      " 1   name               1565 non-null   object\n",
      " 2   age                1565 non-null   int64 \n",
      " 3   city               1565 non-null   object\n",
      " 4   subscription_type  1565 non-null   object\n",
      "dtypes: int64(2), object(3)\n",
      "memory usage: 61.3+ KB\n"
     ]
    },
    {
     "data": {
      "text/html": [
       "<div>\n",
       "<style scoped>\n",
       "    .dataframe tbody tr th:only-of-type {\n",
       "        vertical-align: middle;\n",
       "    }\n",
       "\n",
       "    .dataframe tbody tr th {\n",
       "        vertical-align: top;\n",
       "    }\n",
       "\n",
       "    .dataframe thead th {\n",
       "        text-align: right;\n",
       "    }\n",
       "</style>\n",
       "<table border=\"1\" class=\"dataframe\">\n",
       "  <thead>\n",
       "    <tr style=\"text-align: right;\">\n",
       "      <th></th>\n",
       "      <th>user_id</th>\n",
       "      <th>age</th>\n",
       "    </tr>\n",
       "  </thead>\n",
       "  <tbody>\n",
       "    <tr>\n",
       "      <th>count</th>\n",
       "      <td>1565.000</td>\n",
       "      <td>1565.000</td>\n",
       "    </tr>\n",
       "    <tr>\n",
       "      <th>mean</th>\n",
       "      <td>762.634</td>\n",
       "      <td>24.922</td>\n",
       "    </tr>\n",
       "    <tr>\n",
       "      <th>std</th>\n",
       "      <td>443.260</td>\n",
       "      <td>4.553</td>\n",
       "    </tr>\n",
       "    <tr>\n",
       "      <th>min</th>\n",
       "      <td>1.000</td>\n",
       "      <td>12.000</td>\n",
       "    </tr>\n",
       "    <tr>\n",
       "      <th>25%</th>\n",
       "      <td>378.000</td>\n",
       "      <td>22.000</td>\n",
       "    </tr>\n",
       "    <tr>\n",
       "      <th>50%</th>\n",
       "      <td>762.000</td>\n",
       "      <td>25.000</td>\n",
       "    </tr>\n",
       "    <tr>\n",
       "      <th>75%</th>\n",
       "      <td>1146.000</td>\n",
       "      <td>28.000</td>\n",
       "    </tr>\n",
       "    <tr>\n",
       "      <th>max</th>\n",
       "      <td>1534.000</td>\n",
       "      <td>43.000</td>\n",
       "    </tr>\n",
       "  </tbody>\n",
       "</table>\n",
       "</div>"
      ],
      "text/plain": [
       "        user_id       age\n",
       "count  1565.000  1565.000\n",
       "mean    762.634    24.922\n",
       "std     443.260     4.553\n",
       "min       1.000    12.000\n",
       "25%     378.000    22.000\n",
       "50%     762.000    25.000\n",
       "75%    1146.000    28.000\n",
       "max    1534.000    43.000"
      ]
     },
     "metadata": {},
     "output_type": "display_data"
    }
   ],
   "source": [
    "# Вывод информации о датафрейме 'users'\n",
    "data_info(users)"
   ]
  },
  {
   "cell_type": "markdown",
   "id": "84ea5e22",
   "metadata": {},
   "source": [
    "Датафрейм **users** содержит следующую информацию:\n",
    "\n",
    "* `user_id` - уникальный идентификатор пользователя\n",
    "* `name` - имя пользователя\n",
    "* `age` - возраст\n",
    "* `city` - город\n",
    "* `subscription_type` - тип подписки"
   ]
  },
  {
   "cell_type": "code",
   "execution_count": 8,
   "id": "03d6b0d9",
   "metadata": {},
   "outputs": [
    {
     "data": {
      "text/html": [
       "<div>\n",
       "<style scoped>\n",
       "    .dataframe tbody tr th:only-of-type {\n",
       "        vertical-align: middle;\n",
       "    }\n",
       "\n",
       "    .dataframe tbody tr th {\n",
       "        vertical-align: top;\n",
       "    }\n",
       "\n",
       "    .dataframe thead th {\n",
       "        text-align: right;\n",
       "    }\n",
       "</style>\n",
       "<table border=\"1\" class=\"dataframe\">\n",
       "  <thead>\n",
       "    <tr style=\"text-align: right;\">\n",
       "      <th></th>\n",
       "      <th>user_id</th>\n",
       "      <th>distance</th>\n",
       "      <th>duration</th>\n",
       "      <th>date</th>\n",
       "    </tr>\n",
       "  </thead>\n",
       "  <tbody>\n",
       "    <tr>\n",
       "      <th>0</th>\n",
       "      <td>1</td>\n",
       "      <td>4409.919140</td>\n",
       "      <td>25.599769</td>\n",
       "      <td>2021-01-01</td>\n",
       "    </tr>\n",
       "    <tr>\n",
       "      <th>1</th>\n",
       "      <td>1</td>\n",
       "      <td>2617.592153</td>\n",
       "      <td>15.816871</td>\n",
       "      <td>2021-01-18</td>\n",
       "    </tr>\n",
       "    <tr>\n",
       "      <th>2</th>\n",
       "      <td>1</td>\n",
       "      <td>754.159807</td>\n",
       "      <td>6.232113</td>\n",
       "      <td>2021-04-20</td>\n",
       "    </tr>\n",
       "    <tr>\n",
       "      <th>3</th>\n",
       "      <td>1</td>\n",
       "      <td>2694.783254</td>\n",
       "      <td>18.511000</td>\n",
       "      <td>2021-08-11</td>\n",
       "    </tr>\n",
       "    <tr>\n",
       "      <th>4</th>\n",
       "      <td>1</td>\n",
       "      <td>4028.687306</td>\n",
       "      <td>26.265803</td>\n",
       "      <td>2021-08-28</td>\n",
       "    </tr>\n",
       "  </tbody>\n",
       "</table>\n",
       "</div>"
      ],
      "text/plain": [
       "   user_id     distance   duration       date\n",
       "0        1  4409.919140  25.599769 2021-01-01\n",
       "1        1  2617.592153  15.816871 2021-01-18\n",
       "2        1   754.159807   6.232113 2021-04-20\n",
       "3        1  2694.783254  18.511000 2021-08-11\n",
       "4        1  4028.687306  26.265803 2021-08-28"
      ]
     },
     "metadata": {},
     "output_type": "display_data"
    },
    {
     "name": "stdout",
     "output_type": "stream",
     "text": [
      "<class 'pandas.core.frame.DataFrame'>\n",
      "RangeIndex: 18068 entries, 0 to 18067\n",
      "Data columns (total 4 columns):\n",
      " #   Column    Non-Null Count  Dtype         \n",
      "---  ------    --------------  -----         \n",
      " 0   user_id   18068 non-null  int64         \n",
      " 1   distance  18068 non-null  float64       \n",
      " 2   duration  18068 non-null  float64       \n",
      " 3   date      18068 non-null  datetime64[ns]\n",
      "dtypes: datetime64[ns](1), float64(2), int64(1)\n",
      "memory usage: 564.8 KB\n"
     ]
    },
    {
     "data": {
      "text/html": [
       "<div>\n",
       "<style scoped>\n",
       "    .dataframe tbody tr th:only-of-type {\n",
       "        vertical-align: middle;\n",
       "    }\n",
       "\n",
       "    .dataframe tbody tr th {\n",
       "        vertical-align: top;\n",
       "    }\n",
       "\n",
       "    .dataframe thead th {\n",
       "        text-align: right;\n",
       "    }\n",
       "</style>\n",
       "<table border=\"1\" class=\"dataframe\">\n",
       "  <thead>\n",
       "    <tr style=\"text-align: right;\">\n",
       "      <th></th>\n",
       "      <th>user_id</th>\n",
       "      <th>distance</th>\n",
       "      <th>duration</th>\n",
       "      <th>date</th>\n",
       "    </tr>\n",
       "  </thead>\n",
       "  <tbody>\n",
       "    <tr>\n",
       "      <th>count</th>\n",
       "      <td>18068.000</td>\n",
       "      <td>18068.000</td>\n",
       "      <td>18068.000</td>\n",
       "      <td>18068</td>\n",
       "    </tr>\n",
       "    <tr>\n",
       "      <th>mean</th>\n",
       "      <td>842.870</td>\n",
       "      <td>3070.660</td>\n",
       "      <td>17.805</td>\n",
       "      <td>2021-06-30 19:47:21.266327296</td>\n",
       "    </tr>\n",
       "    <tr>\n",
       "      <th>min</th>\n",
       "      <td>1.000</td>\n",
       "      <td>0.856</td>\n",
       "      <td>0.500</td>\n",
       "      <td>2021-01-01 00:00:00</td>\n",
       "    </tr>\n",
       "    <tr>\n",
       "      <th>25%</th>\n",
       "      <td>487.000</td>\n",
       "      <td>2543.226</td>\n",
       "      <td>13.598</td>\n",
       "      <td>2021-04-02 00:00:00</td>\n",
       "    </tr>\n",
       "    <tr>\n",
       "      <th>50%</th>\n",
       "      <td>889.000</td>\n",
       "      <td>3133.610</td>\n",
       "      <td>17.678</td>\n",
       "      <td>2021-06-30 00:00:00</td>\n",
       "    </tr>\n",
       "    <tr>\n",
       "      <th>75%</th>\n",
       "      <td>1213.250</td>\n",
       "      <td>3776.223</td>\n",
       "      <td>21.725</td>\n",
       "      <td>2021-09-28 00:00:00</td>\n",
       "    </tr>\n",
       "    <tr>\n",
       "      <th>max</th>\n",
       "      <td>1534.000</td>\n",
       "      <td>7211.008</td>\n",
       "      <td>40.824</td>\n",
       "      <td>2021-12-30 00:00:00</td>\n",
       "    </tr>\n",
       "    <tr>\n",
       "      <th>std</th>\n",
       "      <td>434.734</td>\n",
       "      <td>1116.831</td>\n",
       "      <td>6.091</td>\n",
       "      <td>NaN</td>\n",
       "    </tr>\n",
       "  </tbody>\n",
       "</table>\n",
       "</div>"
      ],
      "text/plain": [
       "         user_id   distance   duration                           date\n",
       "count  18068.000  18068.000  18068.000                          18068\n",
       "mean     842.870   3070.660     17.805  2021-06-30 19:47:21.266327296\n",
       "min        1.000      0.856      0.500            2021-01-01 00:00:00\n",
       "25%      487.000   2543.226     13.598            2021-04-02 00:00:00\n",
       "50%      889.000   3133.610     17.678            2021-06-30 00:00:00\n",
       "75%     1213.250   3776.223     21.725            2021-09-28 00:00:00\n",
       "max     1534.000   7211.008     40.824            2021-12-30 00:00:00\n",
       "std      434.734   1116.831      6.091                            NaN"
      ]
     },
     "metadata": {},
     "output_type": "display_data"
    }
   ],
   "source": [
    "# Вывод информации о датафрейме 'rides'\n",
    "data_info(rides)"
   ]
  },
  {
   "cell_type": "markdown",
   "id": "77f4d60c",
   "metadata": {},
   "source": [
    "Датафрейм **rides** содержит следующую информацию:\n",
    "\n",
    "* `user_id` - уникальный идентификатор пользователя\n",
    "* `distance` -\tрасстояние, которое пользователь проехал в текущей сессии (в метрах)\n",
    "* `duration` -\tпродолжительность сессии (в минутах)\n",
    "* `date` -\tдата совершения поездки"
   ]
  },
  {
   "cell_type": "code",
   "execution_count": 9,
   "id": "a1749dd0",
   "metadata": {},
   "outputs": [
    {
     "data": {
      "text/html": [
       "<div>\n",
       "<style scoped>\n",
       "    .dataframe tbody tr th:only-of-type {\n",
       "        vertical-align: middle;\n",
       "    }\n",
       "\n",
       "    .dataframe tbody tr th {\n",
       "        vertical-align: top;\n",
       "    }\n",
       "\n",
       "    .dataframe thead th {\n",
       "        text-align: right;\n",
       "    }\n",
       "</style>\n",
       "<table border=\"1\" class=\"dataframe\">\n",
       "  <thead>\n",
       "    <tr style=\"text-align: right;\">\n",
       "      <th></th>\n",
       "      <th>subscription_type</th>\n",
       "      <th>minute_price</th>\n",
       "      <th>start_ride_price</th>\n",
       "      <th>subscription_fee</th>\n",
       "    </tr>\n",
       "  </thead>\n",
       "  <tbody>\n",
       "    <tr>\n",
       "      <th>0</th>\n",
       "      <td>free</td>\n",
       "      <td>8</td>\n",
       "      <td>50</td>\n",
       "      <td>0</td>\n",
       "    </tr>\n",
       "    <tr>\n",
       "      <th>1</th>\n",
       "      <td>ultra</td>\n",
       "      <td>6</td>\n",
       "      <td>0</td>\n",
       "      <td>199</td>\n",
       "    </tr>\n",
       "  </tbody>\n",
       "</table>\n",
       "</div>"
      ],
      "text/plain": [
       "  subscription_type  minute_price  start_ride_price  subscription_fee\n",
       "0              free             8                50                 0\n",
       "1             ultra             6                 0               199"
      ]
     },
     "metadata": {},
     "output_type": "display_data"
    },
    {
     "name": "stdout",
     "output_type": "stream",
     "text": [
      "<class 'pandas.core.frame.DataFrame'>\n",
      "RangeIndex: 2 entries, 0 to 1\n",
      "Data columns (total 4 columns):\n",
      " #   Column             Non-Null Count  Dtype \n",
      "---  ------             --------------  ----- \n",
      " 0   subscription_type  2 non-null      object\n",
      " 1   minute_price       2 non-null      int64 \n",
      " 2   start_ride_price   2 non-null      int64 \n",
      " 3   subscription_fee   2 non-null      int64 \n",
      "dtypes: int64(3), object(1)\n",
      "memory usage: 196.0+ bytes\n"
     ]
    },
    {
     "data": {
      "text/html": [
       "<div>\n",
       "<style scoped>\n",
       "    .dataframe tbody tr th:only-of-type {\n",
       "        vertical-align: middle;\n",
       "    }\n",
       "\n",
       "    .dataframe tbody tr th {\n",
       "        vertical-align: top;\n",
       "    }\n",
       "\n",
       "    .dataframe thead th {\n",
       "        text-align: right;\n",
       "    }\n",
       "</style>\n",
       "<table border=\"1\" class=\"dataframe\">\n",
       "  <thead>\n",
       "    <tr style=\"text-align: right;\">\n",
       "      <th></th>\n",
       "      <th>minute_price</th>\n",
       "      <th>start_ride_price</th>\n",
       "      <th>subscription_fee</th>\n",
       "    </tr>\n",
       "  </thead>\n",
       "  <tbody>\n",
       "    <tr>\n",
       "      <th>count</th>\n",
       "      <td>2.000</td>\n",
       "      <td>2.000</td>\n",
       "      <td>2.000</td>\n",
       "    </tr>\n",
       "    <tr>\n",
       "      <th>mean</th>\n",
       "      <td>7.000</td>\n",
       "      <td>25.000</td>\n",
       "      <td>99.500</td>\n",
       "    </tr>\n",
       "    <tr>\n",
       "      <th>std</th>\n",
       "      <td>1.414</td>\n",
       "      <td>35.355</td>\n",
       "      <td>140.714</td>\n",
       "    </tr>\n",
       "    <tr>\n",
       "      <th>min</th>\n",
       "      <td>6.000</td>\n",
       "      <td>0.000</td>\n",
       "      <td>0.000</td>\n",
       "    </tr>\n",
       "    <tr>\n",
       "      <th>25%</th>\n",
       "      <td>6.500</td>\n",
       "      <td>12.500</td>\n",
       "      <td>49.750</td>\n",
       "    </tr>\n",
       "    <tr>\n",
       "      <th>50%</th>\n",
       "      <td>7.000</td>\n",
       "      <td>25.000</td>\n",
       "      <td>99.500</td>\n",
       "    </tr>\n",
       "    <tr>\n",
       "      <th>75%</th>\n",
       "      <td>7.500</td>\n",
       "      <td>37.500</td>\n",
       "      <td>149.250</td>\n",
       "    </tr>\n",
       "    <tr>\n",
       "      <th>max</th>\n",
       "      <td>8.000</td>\n",
       "      <td>50.000</td>\n",
       "      <td>199.000</td>\n",
       "    </tr>\n",
       "  </tbody>\n",
       "</table>\n",
       "</div>"
      ],
      "text/plain": [
       "       minute_price  start_ride_price  subscription_fee\n",
       "count         2.000             2.000             2.000\n",
       "mean          7.000            25.000            99.500\n",
       "std           1.414            35.355           140.714\n",
       "min           6.000             0.000             0.000\n",
       "25%           6.500            12.500            49.750\n",
       "50%           7.000            25.000            99.500\n",
       "75%           7.500            37.500           149.250\n",
       "max           8.000            50.000           199.000"
      ]
     },
     "metadata": {},
     "output_type": "display_data"
    }
   ],
   "source": [
    "# Вывод информации о датафрейме 'subscriptions'\n",
    "data_info(subscriptions)"
   ]
  },
  {
   "cell_type": "markdown",
   "id": "e7facd0c",
   "metadata": {},
   "source": [
    "Датафрейм **subscriptions** содержит следующую информацию:\n",
    "    \n",
    "* `subscription_type` - тип подписки\n",
    "* `minute_price` - \tстоимость одной минуты поездки по данной подписке\n",
    "* `start_ride_price` -\tстоимость начала поездки\n",
    "* `subscription_fee` -\tстоимость ежемесячного платежа\n"
   ]
  },
  {
   "cell_type": "markdown",
   "id": "36a0eb06",
   "metadata": {},
   "source": [
    "**Общая предварительная оценка данных:**\n",
    "- Набор данных достаточен для исследовательского анализа.\n",
    "- Данные разделены на 3 датафрейма: *users* содержит 1565 строк с информацией об уникальных пользователях приложения; *rides* содержит 18068 строк с информацией о поездках пользователей; и *subscriptions* содержит 2 строки с описанием тарифных планов.\n",
    "- Часть данных содержит дубликаты. Пропущенных значений не обнаружено.\n",
    "\n",
    "Для дальнейшей работы с данными устраним проблемы в них, выполнив предобработку."
   ]
  },
  {
   "cell_type": "markdown",
   "id": "e95ebca7",
   "metadata": {
    "jp-MarkdownHeadingCollapsed": true
   },
   "source": [
    "## Предобработка данных"
   ]
  },
  {
   "cell_type": "markdown",
   "id": "b1f5436e",
   "metadata": {},
   "source": [
    "### Обработка дубликатов"
   ]
  },
  {
   "cell_type": "markdown",
   "id": "2ca9f896",
   "metadata": {},
   "source": [
    "Проверим данные на наличие дубликатов:"
   ]
  },
  {
   "cell_type": "code",
   "execution_count": 10,
   "id": "49832657-7718-470a-8818-7c9af92701c1",
   "metadata": {},
   "outputs": [
    {
     "name": "stdout",
     "output_type": "stream",
     "text": [
      "Количество дубликатов в users: 31\n",
      "Количество дубликатов в rides: 0\n",
      "Количество дубликатов в subscriptions: 0\n"
     ]
    }
   ],
   "source": [
    "# Словарь со всеми датафреймами\n",
    "all_df = {\n",
    "    'users': users,\n",
    "    'rides': rides,\n",
    "    'subscriptions': subscriptions\n",
    "}\n",
    "\n",
    "# Проверка явных дубликатов\n",
    "for name, df in all_df.items():\n",
    "    print(f'Количество дубликатов в {name}:', df.duplicated().sum())"
   ]
  },
  {
   "cell_type": "code",
   "execution_count": 11,
   "id": "2e473c96",
   "metadata": {},
   "outputs": [
    {
     "name": "stdout",
     "output_type": "stream",
     "text": [
      "Количество дубликатов в users: 0\n"
     ]
    }
   ],
   "source": [
    "# Удаление дубликатов в 'users' и проверка их удаления\n",
    "users.drop_duplicates(inplace=True)\n",
    "print(f'Количество дубликатов в users:', users.duplicated().sum())"
   ]
  },
  {
   "cell_type": "markdown",
   "id": "dbad882f",
   "metadata": {},
   "source": [
    "Пропущенные значения были найдены только в датафрейме **users**. Избавились от них."
   ]
  },
  {
   "cell_type": "markdown",
   "id": "b4c84a00",
   "metadata": {},
   "source": [
    "### Дополнение данных"
   ]
  },
  {
   "cell_type": "markdown",
   "id": "cae638e1",
   "metadata": {},
   "source": [
    "Все столбцы в датафреймах имеют верно определенные типы данных.\n",
    "\n",
    "Добавим в датафрейм **rides** столбец с номером месяца:"
   ]
  },
  {
   "cell_type": "code",
   "execution_count": 12,
   "id": "d3b5c7e1",
   "metadata": {},
   "outputs": [
    {
     "data": {
      "text/html": [
       "<div>\n",
       "<style scoped>\n",
       "    .dataframe tbody tr th:only-of-type {\n",
       "        vertical-align: middle;\n",
       "    }\n",
       "\n",
       "    .dataframe tbody tr th {\n",
       "        vertical-align: top;\n",
       "    }\n",
       "\n",
       "    .dataframe thead th {\n",
       "        text-align: right;\n",
       "    }\n",
       "</style>\n",
       "<table border=\"1\" class=\"dataframe\">\n",
       "  <thead>\n",
       "    <tr style=\"text-align: right;\">\n",
       "      <th></th>\n",
       "      <th>user_id</th>\n",
       "      <th>distance</th>\n",
       "      <th>duration</th>\n",
       "      <th>date</th>\n",
       "      <th>month</th>\n",
       "    </tr>\n",
       "  </thead>\n",
       "  <tbody>\n",
       "    <tr>\n",
       "      <th>0</th>\n",
       "      <td>1</td>\n",
       "      <td>4409.919140</td>\n",
       "      <td>25.599769</td>\n",
       "      <td>2021-01-01</td>\n",
       "      <td>1</td>\n",
       "    </tr>\n",
       "    <tr>\n",
       "      <th>1</th>\n",
       "      <td>1</td>\n",
       "      <td>2617.592153</td>\n",
       "      <td>15.816871</td>\n",
       "      <td>2021-01-18</td>\n",
       "      <td>1</td>\n",
       "    </tr>\n",
       "    <tr>\n",
       "      <th>2</th>\n",
       "      <td>1</td>\n",
       "      <td>754.159807</td>\n",
       "      <td>6.232113</td>\n",
       "      <td>2021-04-20</td>\n",
       "      <td>4</td>\n",
       "    </tr>\n",
       "    <tr>\n",
       "      <th>3</th>\n",
       "      <td>1</td>\n",
       "      <td>2694.783254</td>\n",
       "      <td>18.511000</td>\n",
       "      <td>2021-08-11</td>\n",
       "      <td>8</td>\n",
       "    </tr>\n",
       "    <tr>\n",
       "      <th>4</th>\n",
       "      <td>1</td>\n",
       "      <td>4028.687306</td>\n",
       "      <td>26.265803</td>\n",
       "      <td>2021-08-28</td>\n",
       "      <td>8</td>\n",
       "    </tr>\n",
       "  </tbody>\n",
       "</table>\n",
       "</div>"
      ],
      "text/plain": [
       "   user_id     distance   duration       date  month\n",
       "0        1  4409.919140  25.599769 2021-01-01      1\n",
       "1        1  2617.592153  15.816871 2021-01-18      1\n",
       "2        1   754.159807   6.232113 2021-04-20      4\n",
       "3        1  2694.783254  18.511000 2021-08-11      8\n",
       "4        1  4028.687306  26.265803 2021-08-28      8"
      ]
     },
     "execution_count": 12,
     "metadata": {},
     "output_type": "execute_result"
    }
   ],
   "source": [
    "# Добавление столбца с месяцем\n",
    "rides['month'] = rides['date'].dt.month\n",
    "rides.head()"
   ]
  },
  {
   "cell_type": "markdown",
   "id": "a1a9ce14",
   "metadata": {},
   "source": [
    "В результате предобработки данных:\n",
    "\n",
    "* Были удалены дубликаты в датафрейме **users**. Они составили 1,98% от общего объема данных.\n",
    "* Был добавлен столбец *'month'* в датафрейм **rides**.\n",
    "* Были проверены пропущенные значения, их не обнаружили."
   ]
  },
  {
   "cell_type": "markdown",
   "id": "212593c7",
   "metadata": {},
   "source": [
    "## Исследовательский анализ данных"
   ]
  },
  {
   "cell_type": "markdown",
   "id": "6c32d308",
   "metadata": {},
   "source": [
    "Проанализируем и визуализируем общую информацию о пользователях и их поездках:"
   ]
  },
  {
   "cell_type": "markdown",
   "id": "9a1e6acb",
   "metadata": {},
   "source": [
    "### Частота встречаемости городов"
   ]
  },
  {
   "cell_type": "code",
   "execution_count": 13,
   "id": "c8262810-aabf-4651-81cc-493dc414cdb6",
   "metadata": {},
   "outputs": [
    {
     "data": {
      "text/html": [
       "<div>\n",
       "<style scoped>\n",
       "    .dataframe tbody tr th:only-of-type {\n",
       "        vertical-align: middle;\n",
       "    }\n",
       "\n",
       "    .dataframe tbody tr th {\n",
       "        vertical-align: top;\n",
       "    }\n",
       "\n",
       "    .dataframe thead th {\n",
       "        text-align: right;\n",
       "    }\n",
       "</style>\n",
       "<table border=\"1\" class=\"dataframe\">\n",
       "  <thead>\n",
       "    <tr style=\"text-align: right;\">\n",
       "      <th></th>\n",
       "      <th>Частота</th>\n",
       "    </tr>\n",
       "    <tr>\n",
       "      <th>city</th>\n",
       "      <th></th>\n",
       "    </tr>\n",
       "  </thead>\n",
       "  <tbody>\n",
       "    <tr>\n",
       "      <th>Пятигорск</th>\n",
       "      <td>219</td>\n",
       "    </tr>\n",
       "    <tr>\n",
       "      <th>Екатеринбург</th>\n",
       "      <td>204</td>\n",
       "    </tr>\n",
       "    <tr>\n",
       "      <th>Ростов-на-Дону</th>\n",
       "      <td>198</td>\n",
       "    </tr>\n",
       "    <tr>\n",
       "      <th>Краснодар</th>\n",
       "      <td>193</td>\n",
       "    </tr>\n",
       "    <tr>\n",
       "      <th>Сочи</th>\n",
       "      <td>189</td>\n",
       "    </tr>\n",
       "    <tr>\n",
       "      <th>Омск</th>\n",
       "      <td>183</td>\n",
       "    </tr>\n",
       "    <tr>\n",
       "      <th>Тюмень</th>\n",
       "      <td>180</td>\n",
       "    </tr>\n",
       "    <tr>\n",
       "      <th>Москва</th>\n",
       "      <td>168</td>\n",
       "    </tr>\n",
       "  </tbody>\n",
       "</table>\n",
       "</div>"
      ],
      "text/plain": [
       "                Частота\n",
       "city                   \n",
       "Пятигорск           219\n",
       "Екатеринбург        204\n",
       "Ростов-на-Дону      198\n",
       "Краснодар           193\n",
       "Сочи                189\n",
       "Омск                183\n",
       "Тюмень              180\n",
       "Москва              168"
      ]
     },
     "metadata": {},
     "output_type": "display_data"
    },
    {
     "data": {
      "image/png": "[encoded data removed]",
      "text/plain": [
       "<Figure size 600x400 with 1 Axes>"
      ]
     },
     "metadata": {},
     "output_type": "display_data"
    }
   ],
   "source": [
    "# График по столбцу 'city'\n",
    "plt_bar(users, 'city', title='Частота встречаемости городов', xlabel='Города', ylabel='Частота')"
   ]
  },
  {
   "cell_type": "markdown",
   "id": "5dd72106",
   "metadata": {},
   "source": [
    "Исходя из данных, наибольшее число пользователей находится в **Пятигорске** - 219 уникальных пользователей. Меньше всего же - в **Москве** - 168 пользователей."
   ]
  },
  {
   "cell_type": "markdown",
   "id": "f4a1c9b8",
   "metadata": {},
   "source": [
    "### Cоотношение пользователей с подпиской и без подписки"
   ]
  },
  {
   "cell_type": "code",
   "execution_count": 14,
   "id": "1618d545-8553-4d2d-9b96-4516f6577381",
   "metadata": {},
   "outputs": [
    {
     "data": {
      "text/html": [
       "<div>\n",
       "<style scoped>\n",
       "    .dataframe tbody tr th:only-of-type {\n",
       "        vertical-align: middle;\n",
       "    }\n",
       "\n",
       "    .dataframe tbody tr th {\n",
       "        vertical-align: top;\n",
       "    }\n",
       "\n",
       "    .dataframe thead th {\n",
       "        text-align: right;\n",
       "    }\n",
       "</style>\n",
       "<table border=\"1\" class=\"dataframe\">\n",
       "  <thead>\n",
       "    <tr style=\"text-align: right;\">\n",
       "      <th></th>\n",
       "      <th>Количество</th>\n",
       "    </tr>\n",
       "    <tr>\n",
       "      <th>subscription_type</th>\n",
       "      <th></th>\n",
       "    </tr>\n",
       "  </thead>\n",
       "  <tbody>\n",
       "    <tr>\n",
       "      <th>free</th>\n",
       "      <td>835</td>\n",
       "    </tr>\n",
       "    <tr>\n",
       "      <th>ultra</th>\n",
       "      <td>699</td>\n",
       "    </tr>\n",
       "  </tbody>\n",
       "</table>\n",
       "</div>"
      ],
      "text/plain": [
       "                   Количество\n",
       "subscription_type            \n",
       "free                      835\n",
       "ultra                     699"
      ]
     },
     "metadata": {},
     "output_type": "display_data"
    },
    {
     "data": {
      "image/png": "[encoded data removed]",
      "text/plain": [
       "<Figure size 400x400 with 1 Axes>"
      ]
     },
     "metadata": {},
     "output_type": "display_data"
    }
   ],
   "source": [
    "# График по столбцу 'subscription_type'\n",
    "plt_pie_pivot(users, 'subscription_type', title='Соотношение пользователей с подпиской и без')"
   ]
  },
  {
   "cell_type": "markdown",
   "id": "fef4abcc",
   "metadata": {},
   "source": [
    "Пользователей **без подписки на 19,4% больше**, чем с подпиской. Всего без подписки 835 уникальных пользователей (или 54,43%), с подпиской ultra - 699 пользователей (или 45,57%)."
   ]
  },
  {
   "cell_type": "markdown",
   "id": "2efc272c",
   "metadata": {},
   "source": [
    "### Возраст пользователей"
   ]
  },
  {
   "cell_type": "code",
   "execution_count": 15,
   "id": "935b4de9-8e8e-49df-b94f-71d483396176",
   "metadata": {},
   "outputs": [
    {
     "name": "stdout",
     "output_type": "stream",
     "text": [
      "Описательные статистики параметра Возраст пользователей\n"
     ]
    },
    {
     "data": {
      "text/html": [
       "<style type=\"text/css\">\n",
       "</style>\n",
       "<table id=\"T_7d358\">\n",
       "  <thead>\n",
       "    <tr>\n",
       "      <th class=\"blank level0\" >&nbsp;</th>\n",
       "      <th id=\"T_7d358_level0_col0\" class=\"col_heading level0 col0\" >count</th>\n",
       "      <th id=\"T_7d358_level0_col1\" class=\"col_heading level0 col1\" >mean</th>\n",
       "      <th id=\"T_7d358_level0_col2\" class=\"col_heading level0 col2\" >std</th>\n",
       "      <th id=\"T_7d358_level0_col3\" class=\"col_heading level0 col3\" >min</th>\n",
       "      <th id=\"T_7d358_level0_col4\" class=\"col_heading level0 col4\" >25%</th>\n",
       "      <th id=\"T_7d358_level0_col5\" class=\"col_heading level0 col5\" >50%</th>\n",
       "      <th id=\"T_7d358_level0_col6\" class=\"col_heading level0 col6\" >75%</th>\n",
       "      <th id=\"T_7d358_level0_col7\" class=\"col_heading level0 col7\" >max</th>\n",
       "    </tr>\n",
       "  </thead>\n",
       "  <tbody>\n",
       "    <tr>\n",
       "      <th id=\"T_7d358_level0_row0\" class=\"row_heading level0 row0\" >age</th>\n",
       "      <td id=\"T_7d358_row0_col0\" class=\"data row0 col0\" >1534.000</td>\n",
       "      <td id=\"T_7d358_row0_col1\" class=\"data row0 col1\" >24.904</td>\n",
       "      <td id=\"T_7d358_row0_col2\" class=\"data row0 col2\" >4.572</td>\n",
       "      <td id=\"T_7d358_row0_col3\" class=\"data row0 col3\" >12.000</td>\n",
       "      <td id=\"T_7d358_row0_col4\" class=\"data row0 col4\" >22.000</td>\n",
       "      <td id=\"T_7d358_row0_col5\" class=\"data row0 col5\" >25.000</td>\n",
       "      <td id=\"T_7d358_row0_col6\" class=\"data row0 col6\" >28.000</td>\n",
       "      <td id=\"T_7d358_row0_col7\" class=\"data row0 col7\" >43.000</td>\n",
       "    </tr>\n",
       "  </tbody>\n",
       "</table>\n"
      ],
      "text/plain": [
       "<pandas.io.formats.style.Styler at 0x225e4123b90>"
      ]
     },
     "metadata": {},
     "output_type": "display_data"
    },
    {
     "data": {
      "image/png": "[encoded data removed]",
      "text/plain": [
       "<Figure size 600x400 with 1 Axes>"
      ]
     },
     "metadata": {},
     "output_type": "display_data"
    }
   ],
   "source": [
    "# Графики по столбцу 'age'\n",
    "plt_hist(users, 'age', title='Возраст пользователей', label='Возраст')"
   ]
  },
  {
   "cell_type": "markdown",
   "id": "f306f198",
   "metadata": {},
   "source": [
    "Средний возраст пользователей составляет **25 лет**. 50% пользователей находятся в возрасте от 22 до 28 лет. Пользователей младше 16 и старше 36 лет крайне мало, что видно на гистограмме и на боксплоте."
   ]
  },
  {
   "cell_type": "markdown",
   "id": "7f197ec4",
   "metadata": {},
   "source": [
    "### Расстояние одной поездки пользователя"
   ]
  },
  {
   "cell_type": "code",
   "execution_count": 16,
   "id": "7e9dbb3b-4c12-43ea-bb79-99693d6a3106",
   "metadata": {},
   "outputs": [
    {
     "name": "stdout",
     "output_type": "stream",
     "text": [
      "Описательные статистики параметра Расстояние одной поездки пользователя\n"
     ]
    },
    {
     "data": {
      "text/html": [
       "<style type=\"text/css\">\n",
       "</style>\n",
       "<table id=\"T_acd29\">\n",
       "  <thead>\n",
       "    <tr>\n",
       "      <th class=\"blank level0\" >&nbsp;</th>\n",
       "      <th id=\"T_acd29_level0_col0\" class=\"col_heading level0 col0\" >count</th>\n",
       "      <th id=\"T_acd29_level0_col1\" class=\"col_heading level0 col1\" >mean</th>\n",
       "      <th id=\"T_acd29_level0_col2\" class=\"col_heading level0 col2\" >std</th>\n",
       "      <th id=\"T_acd29_level0_col3\" class=\"col_heading level0 col3\" >min</th>\n",
       "      <th id=\"T_acd29_level0_col4\" class=\"col_heading level0 col4\" >25%</th>\n",
       "      <th id=\"T_acd29_level0_col5\" class=\"col_heading level0 col5\" >50%</th>\n",
       "      <th id=\"T_acd29_level0_col6\" class=\"col_heading level0 col6\" >75%</th>\n",
       "      <th id=\"T_acd29_level0_col7\" class=\"col_heading level0 col7\" >max</th>\n",
       "    </tr>\n",
       "  </thead>\n",
       "  <tbody>\n",
       "    <tr>\n",
       "      <th id=\"T_acd29_level0_row0\" class=\"row_heading level0 row0\" >distance</th>\n",
       "      <td id=\"T_acd29_row0_col0\" class=\"data row0 col0\" >18068.000</td>\n",
       "      <td id=\"T_acd29_row0_col1\" class=\"data row0 col1\" >3070.660</td>\n",
       "      <td id=\"T_acd29_row0_col2\" class=\"data row0 col2\" >1116.831</td>\n",
       "      <td id=\"T_acd29_row0_col3\" class=\"data row0 col3\" >0.856</td>\n",
       "      <td id=\"T_acd29_row0_col4\" class=\"data row0 col4\" >2543.226</td>\n",
       "      <td id=\"T_acd29_row0_col5\" class=\"data row0 col5\" >3133.610</td>\n",
       "      <td id=\"T_acd29_row0_col6\" class=\"data row0 col6\" >3776.223</td>\n",
       "      <td id=\"T_acd29_row0_col7\" class=\"data row0 col7\" >7211.008</td>\n",
       "    </tr>\n",
       "  </tbody>\n",
       "</table>\n"
      ],
      "text/plain": [
       "<pandas.io.formats.style.Styler at 0x225e407abd0>"
      ]
     },
     "metadata": {},
     "output_type": "display_data"
    },
    {
     "data": {
      "image/png": "[encoded data removed]",
      "text/plain": [
       "<Figure size 600x400 with 1 Axes>"
      ]
     },
     "metadata": {},
     "output_type": "display_data"
    }
   ],
   "source": [
    "# Графики по столбцу 'distance'\n",
    "plt_hist(rides, 'distance', title='Расстояние одной поездки пользователя', label='Расстояние, м')"
   ]
  },
  {
   "cell_type": "markdown",
   "id": "710ea38c",
   "metadata": {},
   "source": [
    "В среднем пользователь в течение одной поездки проезжает **3070 м.(~3 км)**. Расстояние около половины совершенных поездок находится в диапазоне от 2,5 до 3,7 км.\n",
    "\n",
    "Также на графике выделяется небольшой всплеск в районе 500 м. Можем предположить, что в этих случаях пользователи совершают поездки, чтобы добраться до близлежащей инфраструктуры (магазин, учебное заведение, кафе и тд)"
   ]
  },
  {
   "cell_type": "markdown",
   "id": "fa363645",
   "metadata": {},
   "source": [
    "### Продолжительность поездок"
   ]
  },
  {
   "cell_type": "code",
   "execution_count": 17,
   "id": "7b36d932-337b-47bb-95e7-1b5ece1f72c3",
   "metadata": {},
   "outputs": [
    {
     "name": "stdout",
     "output_type": "stream",
     "text": [
      "Описательные статистики параметра Продолжительность поездок\n"
     ]
    },
    {
     "data": {
      "text/html": [
       "<style type=\"text/css\">\n",
       "</style>\n",
       "<table id=\"T_400dc\">\n",
       "  <thead>\n",
       "    <tr>\n",
       "      <th class=\"blank level0\" >&nbsp;</th>\n",
       "      <th id=\"T_400dc_level0_col0\" class=\"col_heading level0 col0\" >count</th>\n",
       "      <th id=\"T_400dc_level0_col1\" class=\"col_heading level0 col1\" >mean</th>\n",
       "      <th id=\"T_400dc_level0_col2\" class=\"col_heading level0 col2\" >std</th>\n",
       "      <th id=\"T_400dc_level0_col3\" class=\"col_heading level0 col3\" >min</th>\n",
       "      <th id=\"T_400dc_level0_col4\" class=\"col_heading level0 col4\" >25%</th>\n",
       "      <th id=\"T_400dc_level0_col5\" class=\"col_heading level0 col5\" >50%</th>\n",
       "      <th id=\"T_400dc_level0_col6\" class=\"col_heading level0 col6\" >75%</th>\n",
       "      <th id=\"T_400dc_level0_col7\" class=\"col_heading level0 col7\" >max</th>\n",
       "    </tr>\n",
       "  </thead>\n",
       "  <tbody>\n",
       "    <tr>\n",
       "      <th id=\"T_400dc_level0_row0\" class=\"row_heading level0 row0\" >duration</th>\n",
       "      <td id=\"T_400dc_row0_col0\" class=\"data row0 col0\" >18068.000</td>\n",
       "      <td id=\"T_400dc_row0_col1\" class=\"data row0 col1\" >17.805</td>\n",
       "      <td id=\"T_400dc_row0_col2\" class=\"data row0 col2\" >6.091</td>\n",
       "      <td id=\"T_400dc_row0_col3\" class=\"data row0 col3\" >0.500</td>\n",
       "      <td id=\"T_400dc_row0_col4\" class=\"data row0 col4\" >13.598</td>\n",
       "      <td id=\"T_400dc_row0_col5\" class=\"data row0 col5\" >17.678</td>\n",
       "      <td id=\"T_400dc_row0_col6\" class=\"data row0 col6\" >21.725</td>\n",
       "      <td id=\"T_400dc_row0_col7\" class=\"data row0 col7\" >40.824</td>\n",
       "    </tr>\n",
       "  </tbody>\n",
       "</table>\n"
      ],
      "text/plain": [
       "<pandas.io.formats.style.Styler at 0x225e4293e50>"
      ]
     },
     "metadata": {},
     "output_type": "display_data"
    },
    {
     "data": {
      "image/png": "[encoded data removed]",
      "text/plain": [
       "<Figure size 600x400 with 1 Axes>"
      ]
     },
     "metadata": {},
     "output_type": "display_data"
    }
   ],
   "source": [
    "# Графики по столбцу 'duration'\n",
    "plt_hist(rides, 'duration', title='Продолжительность поездок', label='Продолжительность, мин')"
   ]
  },
  {
   "cell_type": "markdown",
   "id": "8ba2d408",
   "metadata": {},
   "source": [
    "В среднем поездка занимает у пользователя **17-18 минут**. Около половины поездок совершаются в пределах 13-22 минут. Поездок менее 7 и более 30 минут крайне мало."
   ]
  },
  {
   "cell_type": "markdown",
   "id": "27cb4988",
   "metadata": {},
   "source": [
    "**Выводы**\n",
    "\n",
    "Рассмотрев основные параметры пользователей и совершенных ими поездок, мы проанализировали распределение значений по каждому параметру, выявили средние значения, а также аномальные. В результате выяснили:\n",
    "* Больше всего пользователей находятся в Пятигорске. Меньше всего - в Москве.\n",
    "* 54,43% пользователей совершают поездки без подписки.\n",
    "* Средний возраст пользователей составляет 25 лет.\n",
    "* Среднее расстояние, совершаемое за одну поездку - 3,07 км\n",
    "* Средняя продолжительность поездки составляет 17-18 минут."
   ]
  },
  {
   "cell_type": "markdown",
   "id": "4ef51331",
   "metadata": {},
   "source": [
    "## Объединение данных"
   ]
  },
  {
   "cell_type": "markdown",
   "id": "46dbf1d9",
   "metadata": {},
   "source": [
    "Для дальнейшей работы с данными объединим три датафрейма в один. Сначала присоединим данные по поездкам **rides** к данным с пользователями **users**, используя столбец ``user_id``. После этого, добавим информацию по тарифам **subscriptions**. Для начала проверим, совпадает ли количество уникальных пользователей в двух датафреймах:"
   ]
  },
  {
   "cell_type": "code",
   "execution_count": 18,
   "id": "2ec90166",
   "metadata": {},
   "outputs": [
    {
     "name": "stdout",
     "output_type": "stream",
     "text": [
      "Количество уникальных пользователей в users 1534\n",
      "Количество уникальных пользователей в rides 1534\n"
     ]
    }
   ],
   "source": [
    "print('Количество уникальных пользователей в users', users.shape[0])\n",
    "print('Количество уникальных пользователей в rides', users.shape[0])"
   ]
  },
  {
   "cell_type": "markdown",
   "id": "329bfafd",
   "metadata": {},
   "source": [
    "Количество совпадает, поэтому приступаем к объекдинению данных."
   ]
  },
  {
   "cell_type": "code",
   "execution_count": 19,
   "id": "a286c02d",
   "metadata": {},
   "outputs": [
    {
     "data": {
      "text/html": [
       "<div>\n",
       "<style scoped>\n",
       "    .dataframe tbody tr th:only-of-type {\n",
       "        vertical-align: middle;\n",
       "    }\n",
       "\n",
       "    .dataframe tbody tr th {\n",
       "        vertical-align: top;\n",
       "    }\n",
       "\n",
       "    .dataframe thead th {\n",
       "        text-align: right;\n",
       "    }\n",
       "</style>\n",
       "<table border=\"1\" class=\"dataframe\">\n",
       "  <thead>\n",
       "    <tr style=\"text-align: right;\">\n",
       "      <th></th>\n",
       "      <th>user_id</th>\n",
       "      <th>name</th>\n",
       "      <th>age</th>\n",
       "      <th>city</th>\n",
       "      <th>subscription_type</th>\n",
       "      <th>distance</th>\n",
       "      <th>duration</th>\n",
       "      <th>date</th>\n",
       "      <th>month</th>\n",
       "      <th>minute_price</th>\n",
       "      <th>start_ride_price</th>\n",
       "      <th>subscription_fee</th>\n",
       "    </tr>\n",
       "  </thead>\n",
       "  <tbody>\n",
       "    <tr>\n",
       "      <th>0</th>\n",
       "      <td>1</td>\n",
       "      <td>Кира</td>\n",
       "      <td>22</td>\n",
       "      <td>Тюмень</td>\n",
       "      <td>ultra</td>\n",
       "      <td>4409.919140</td>\n",
       "      <td>25.599769</td>\n",
       "      <td>2021-01-01</td>\n",
       "      <td>1</td>\n",
       "      <td>6</td>\n",
       "      <td>0</td>\n",
       "      <td>199</td>\n",
       "    </tr>\n",
       "    <tr>\n",
       "      <th>1</th>\n",
       "      <td>1</td>\n",
       "      <td>Кира</td>\n",
       "      <td>22</td>\n",
       "      <td>Тюмень</td>\n",
       "      <td>ultra</td>\n",
       "      <td>2617.592153</td>\n",
       "      <td>15.816871</td>\n",
       "      <td>2021-01-18</td>\n",
       "      <td>1</td>\n",
       "      <td>6</td>\n",
       "      <td>0</td>\n",
       "      <td>199</td>\n",
       "    </tr>\n",
       "    <tr>\n",
       "      <th>2</th>\n",
       "      <td>1</td>\n",
       "      <td>Кира</td>\n",
       "      <td>22</td>\n",
       "      <td>Тюмень</td>\n",
       "      <td>ultra</td>\n",
       "      <td>754.159807</td>\n",
       "      <td>6.232113</td>\n",
       "      <td>2021-04-20</td>\n",
       "      <td>4</td>\n",
       "      <td>6</td>\n",
       "      <td>0</td>\n",
       "      <td>199</td>\n",
       "    </tr>\n",
       "    <tr>\n",
       "      <th>3</th>\n",
       "      <td>1</td>\n",
       "      <td>Кира</td>\n",
       "      <td>22</td>\n",
       "      <td>Тюмень</td>\n",
       "      <td>ultra</td>\n",
       "      <td>2694.783254</td>\n",
       "      <td>18.511000</td>\n",
       "      <td>2021-08-11</td>\n",
       "      <td>8</td>\n",
       "      <td>6</td>\n",
       "      <td>0</td>\n",
       "      <td>199</td>\n",
       "    </tr>\n",
       "    <tr>\n",
       "      <th>4</th>\n",
       "      <td>1</td>\n",
       "      <td>Кира</td>\n",
       "      <td>22</td>\n",
       "      <td>Тюмень</td>\n",
       "      <td>ultra</td>\n",
       "      <td>4028.687306</td>\n",
       "      <td>26.265803</td>\n",
       "      <td>2021-08-28</td>\n",
       "      <td>8</td>\n",
       "      <td>6</td>\n",
       "      <td>0</td>\n",
       "      <td>199</td>\n",
       "    </tr>\n",
       "    <tr>\n",
       "      <th>...</th>\n",
       "      <td>...</td>\n",
       "      <td>...</td>\n",
       "      <td>...</td>\n",
       "      <td>...</td>\n",
       "      <td>...</td>\n",
       "      <td>...</td>\n",
       "      <td>...</td>\n",
       "      <td>...</td>\n",
       "      <td>...</td>\n",
       "      <td>...</td>\n",
       "      <td>...</td>\n",
       "      <td>...</td>\n",
       "    </tr>\n",
       "    <tr>\n",
       "      <th>18063</th>\n",
       "      <td>1534</td>\n",
       "      <td>Альберт</td>\n",
       "      <td>25</td>\n",
       "      <td>Краснодар</td>\n",
       "      <td>free</td>\n",
       "      <td>3781.098080</td>\n",
       "      <td>19.822962</td>\n",
       "      <td>2021-11-04</td>\n",
       "      <td>11</td>\n",
       "      <td>8</td>\n",
       "      <td>50</td>\n",
       "      <td>0</td>\n",
       "    </tr>\n",
       "    <tr>\n",
       "      <th>18064</th>\n",
       "      <td>1534</td>\n",
       "      <td>Альберт</td>\n",
       "      <td>25</td>\n",
       "      <td>Краснодар</td>\n",
       "      <td>free</td>\n",
       "      <td>2840.423057</td>\n",
       "      <td>21.409799</td>\n",
       "      <td>2021-11-16</td>\n",
       "      <td>11</td>\n",
       "      <td>8</td>\n",
       "      <td>50</td>\n",
       "      <td>0</td>\n",
       "    </tr>\n",
       "    <tr>\n",
       "      <th>18065</th>\n",
       "      <td>1534</td>\n",
       "      <td>Альберт</td>\n",
       "      <td>25</td>\n",
       "      <td>Краснодар</td>\n",
       "      <td>free</td>\n",
       "      <td>3826.185507</td>\n",
       "      <td>18.435051</td>\n",
       "      <td>2021-11-18</td>\n",
       "      <td>11</td>\n",
       "      <td>8</td>\n",
       "      <td>50</td>\n",
       "      <td>0</td>\n",
       "    </tr>\n",
       "    <tr>\n",
       "      <th>18066</th>\n",
       "      <td>1534</td>\n",
       "      <td>Альберт</td>\n",
       "      <td>25</td>\n",
       "      <td>Краснодар</td>\n",
       "      <td>free</td>\n",
       "      <td>2902.308661</td>\n",
       "      <td>16.674362</td>\n",
       "      <td>2021-11-27</td>\n",
       "      <td>11</td>\n",
       "      <td>8</td>\n",
       "      <td>50</td>\n",
       "      <td>0</td>\n",
       "    </tr>\n",
       "    <tr>\n",
       "      <th>18067</th>\n",
       "      <td>1534</td>\n",
       "      <td>Альберт</td>\n",
       "      <td>25</td>\n",
       "      <td>Краснодар</td>\n",
       "      <td>free</td>\n",
       "      <td>2371.711192</td>\n",
       "      <td>15.893917</td>\n",
       "      <td>2021-12-29</td>\n",
       "      <td>12</td>\n",
       "      <td>8</td>\n",
       "      <td>50</td>\n",
       "      <td>0</td>\n",
       "    </tr>\n",
       "  </tbody>\n",
       "</table>\n",
       "<p>18068 rows × 12 columns</p>\n",
       "</div>"
      ],
      "text/plain": [
       "       user_id     name  age       city subscription_type     distance  \\\n",
       "0            1     Кира   22     Тюмень             ultra  4409.919140   \n",
       "1            1     Кира   22     Тюмень             ultra  2617.592153   \n",
       "2            1     Кира   22     Тюмень             ultra   754.159807   \n",
       "3            1     Кира   22     Тюмень             ultra  2694.783254   \n",
       "4            1     Кира   22     Тюмень             ultra  4028.687306   \n",
       "...        ...      ...  ...        ...               ...          ...   \n",
       "18063     1534  Альберт   25  Краснодар              free  3781.098080   \n",
       "18064     1534  Альберт   25  Краснодар              free  2840.423057   \n",
       "18065     1534  Альберт   25  Краснодар              free  3826.185507   \n",
       "18066     1534  Альберт   25  Краснодар              free  2902.308661   \n",
       "18067     1534  Альберт   25  Краснодар              free  2371.711192   \n",
       "\n",
       "        duration       date  month  minute_price  start_ride_price  \\\n",
       "0      25.599769 2021-01-01      1             6                 0   \n",
       "1      15.816871 2021-01-18      1             6                 0   \n",
       "2       6.232113 2021-04-20      4             6                 0   \n",
       "3      18.511000 2021-08-11      8             6                 0   \n",
       "4      26.265803 2021-08-28      8             6                 0   \n",
       "...          ...        ...    ...           ...               ...   \n",
       "18063  19.822962 2021-11-04     11             8                50   \n",
       "18064  21.409799 2021-11-16     11             8                50   \n",
       "18065  18.435051 2021-11-18     11             8                50   \n",
       "18066  16.674362 2021-11-27     11             8                50   \n",
       "18067  15.893917 2021-12-29     12             8                50   \n",
       "\n",
       "       subscription_fee  \n",
       "0                   199  \n",
       "1                   199  \n",
       "2                   199  \n",
       "3                   199  \n",
       "4                   199  \n",
       "...                 ...  \n",
       "18063                 0  \n",
       "18064                 0  \n",
       "18065                 0  \n",
       "18066                 0  \n",
       "18067                 0  \n",
       "\n",
       "[18068 rows x 12 columns]"
      ]
     },
     "execution_count": 19,
     "metadata": {},
     "output_type": "execute_result"
    }
   ],
   "source": [
    "# Объединение 3 датафореймов в 'all_data'\n",
    "all_data = pd.merge(users, rides, on='user_id', how='outer')\n",
    "all_data = all_data.merge(subscriptions, on='subscription_type', how='outer')\n",
    "all_data"
   ]
  },
  {
   "cell_type": "markdown",
   "id": "0b3db99d",
   "metadata": {},
   "source": [
    "Теперь на основе объединенного **all_data** создадим 2 датафрейма: с данными о пользователях без подписки и с подпиской:"
   ]
  },
  {
   "cell_type": "code",
   "execution_count": 20,
   "id": "b26562c8",
   "metadata": {},
   "outputs": [],
   "source": [
    "# Создание датафреймов с пользователями без подписки и с подпиской\n",
    "sub_free = all_data.query('subscription_type == \"free\"')\n",
    "sub_ultra = all_data.query('subscription_type == \"ultra\"')"
   ]
  },
  {
   "cell_type": "markdown",
   "id": "f292d19e",
   "metadata": {},
   "source": [
    "Рассмотрим данные о расстоянии и длительности поездок в разрезе используемого тарифного плана.\n",
    "\n",
    "Сравним распределение **расстояния поездок** пользователей с подпиской и без:"
   ]
  },
  {
   "cell_type": "code",
   "execution_count": 21,
   "id": "09d2584f",
   "metadata": {},
   "outputs": [
    {
     "data": {
      "image/png": "[encoded data removed]",
      "text/plain": [
       "<Figure size 1100x400 with 2 Axes>"
      ]
     },
     "metadata": {},
     "output_type": "display_data"
    }
   ],
   "source": [
    "# Построение графиков по параметру 'distance'\n",
    "fig, (ax1, ax2) = plt.subplots(1, 2, figsize=(11, 4))\n",
    "\n",
    "# Создание гистограммы\n",
    "ax1.hist(sub_free['distance'], bins=30, alpha=0.5, label='Free', color='green')\n",
    "ax1.hist(sub_ultra['distance'], bins=30, alpha=0.5, label='Ultra', color='blue')\n",
    "ax1.set_title('График 1 - Расстояние поездки')\n",
    "ax1.set_xlabel('Расстояние, м')\n",
    "ax1.set_ylabel('Частота')\n",
    "ax1.legend()\n",
    "\n",
    "# Создание диаграммы размаха\n",
    "distance_boxplot = [sub_free['distance'], sub_ultra['distance']]\n",
    "labels = ['Free', 'Ultra']\n",
    "ax2.boxplot(distance_boxplot, labels=labels, patch_artist=True)\n",
    "ax2.set_title('График 2 - Расстояние поездки')\n",
    "ax2.set_xlabel('Тариф')\n",
    "ax2.set_ylabel('Расстояние, м')\n",
    "\n",
    "plt.tight_layout()\n",
    "plt.show()"
   ]
  },
  {
   "cell_type": "markdown",
   "id": "d6756086",
   "metadata": {},
   "source": [
    "На графике 1 видим, что в целом форма распределения у пользователей с подпиской и без совпадают. Среднее расстояние у обеих категорий составляет около 3 км. \n",
    "\n",
    "Однако у категорий отличается размах значений (график 2). Пользователи без подписки имеют более широкий размах - встречаются и очень короткие поездки до 1 км и длинные поездки в более 5-6 км. Что вполне логично, т.к. пользователи, использующие сервис редко/единожды, могут совершать поездки по самым разным целям, от чего в том числе зависит и расстояние поездки.\n",
    "\n",
    "А пользователи с подпиской в подавляющем большинстве совершают поездки в диапазоне 1,5-4,5 км. Значения менее 1,5 км и более 4,5 км встречаются намного реже и являются скорее аномальными. Предполагаем, что пользователи оформляют подписку, чтобы выгодно совершать частые поездки по определенному маршруту (например, учеба, работа и т.д.). Для объектов в пешей доступности использовать подписку может быть нерационально. Так же и для дальних объектов (свыше 5-6 км), когда удобнее и выгоднее может быть другой вид транспорта.\n",
    "\n",
    "Далле рассмотрим распределение **продолжительности поездок** в зависимости от тарифного плана:"
   ]
  },
  {
   "cell_type": "code",
   "execution_count": 22,
   "id": "3e724a14",
   "metadata": {},
   "outputs": [
    {
     "data": {
      "image/png": "[encoded data removed]",
      "text/plain": [
       "<Figure size 1100x400 with 2 Axes>"
      ]
     },
     "metadata": {},
     "output_type": "display_data"
    }
   ],
   "source": [
    "# Построение графиков по параметру 'duration'\n",
    "fig, (ax1, ax2) = plt.subplots(1, 2, figsize=(11, 4))\n",
    "\n",
    "# Создание гистограммы\n",
    "ax1.hist(sub_free['duration'], bins=30, alpha=0.5, label='Free', color='green')\n",
    "ax1.hist(sub_ultra['duration'], bins=30, alpha=0.5, label='Ultra', color='blue')\n",
    "ax1.set_title('График 1 - Продолжительность поездки')\n",
    "ax1.set_xlabel('Продолжительность, мин')\n",
    "ax1.set_ylabel('Частота')\n",
    "ax1.legend()\n",
    "\n",
    "# Создание диаграммы размаха\n",
    "distance_boxplot = [sub_free['duration'], sub_ultra['duration']]\n",
    "labels = ['Free', 'Ultra']\n",
    "ax2.boxplot(distance_boxplot, labels=labels, patch_artist=True)\n",
    "ax2.set_title('График 2 - Продолжительность поездки')\n",
    "ax2.set_xlabel('Тариф')\n",
    "ax2.set_ylabel('Продолжительность, мин')\n",
    "\n",
    "plt.tight_layout()\n",
    "plt.show()"
   ]
  },
  {
   "cell_type": "markdown",
   "id": "a26bbe6d",
   "metadata": {},
   "source": [
    "В целом распределение значений по обеим категориям схоже. Среднее время совершенных поездок у пользователей с подпиской и без составляет 16-18 минут. \n",
    "\n",
    "Что стоит отметить, у пользователей с подпиской чаще, чем у пользователей без, встречаются поездки более 30-35 минут. Можем объяснить это тем, что с подпиской стоимость минуты меньше, чем без, + бесплатный старт. Поэтому пользователи совершают поездки на более комфортной скорости (что может увеличить общее время поездки), а не стремятся завершить поездку в максимально короткий срок."
   ]
  },
  {
   "cell_type": "markdown",
   "id": "c3c4dec2",
   "metadata": {},
   "source": [
    "**Выводы:**\n",
    "\n",
    "В результате даного этапа мы объединили все данные в 1 датафрейм **all_data**. Также выделили данные о пользователях с подпиской (**sub_ultra**) и без подписки (**sub_free**). Они понадобятся нам на этапе подсчета выручки.\n",
    "\n",
    "Также мы проанализировали данные о расстоянии и длительности поездок в зависимости от тарифного плана:\n",
    "* Распределение расстояния у пользователей обеих категорий в целом совпадает. За исключением размаха значений - у пользователей без подписки он намного шире, чем у пользователей с подпиской.\n",
    "* Распределение продолжительности поездок показало, что пользователей с подпиской реже совершают короткие поездки и больше длинные, чем пользователи без подписки.\n",
    "\n"
   ]
  },
  {
   "cell_type": "markdown",
   "id": "402d620f",
   "metadata": {},
   "source": [
    "## Подсчёт выручки"
   ]
  },
  {
   "cell_type": "markdown",
   "id": "ac853916",
   "metadata": {},
   "source": [
    "Рассчитаем помесячную выручку для каждого пользователя. Перед этим посчитаем количество поездок, суммарное расстояние и суммарное время для каждого пользователя за каждый месяц."
   ]
  },
  {
   "cell_type": "code",
   "execution_count": 23,
   "id": "b3a541c0",
   "metadata": {},
   "outputs": [
    {
     "data": {
      "text/html": [
       "<div>\n",
       "<style scoped>\n",
       "    .dataframe tbody tr th:only-of-type {\n",
       "        vertical-align: middle;\n",
       "    }\n",
       "\n",
       "    .dataframe tbody tr th {\n",
       "        vertical-align: top;\n",
       "    }\n",
       "\n",
       "    .dataframe thead th {\n",
       "        text-align: right;\n",
       "    }\n",
       "</style>\n",
       "<table border=\"1\" class=\"dataframe\">\n",
       "  <thead>\n",
       "    <tr style=\"text-align: right;\">\n",
       "      <th></th>\n",
       "      <th>user_id</th>\n",
       "      <th>month</th>\n",
       "      <th>subscription_type</th>\n",
       "      <th>rides_count</th>\n",
       "      <th>distance_sum</th>\n",
       "      <th>duration_sum</th>\n",
       "    </tr>\n",
       "  </thead>\n",
       "  <tbody>\n",
       "    <tr>\n",
       "      <th>0</th>\n",
       "      <td>1</td>\n",
       "      <td>1</td>\n",
       "      <td>ultra</td>\n",
       "      <td>2</td>\n",
       "      <td>7027.511294</td>\n",
       "      <td>42</td>\n",
       "    </tr>\n",
       "    <tr>\n",
       "      <th>1</th>\n",
       "      <td>1</td>\n",
       "      <td>4</td>\n",
       "      <td>ultra</td>\n",
       "      <td>1</td>\n",
       "      <td>754.159807</td>\n",
       "      <td>7</td>\n",
       "    </tr>\n",
       "    <tr>\n",
       "      <th>2</th>\n",
       "      <td>1</td>\n",
       "      <td>8</td>\n",
       "      <td>ultra</td>\n",
       "      <td>2</td>\n",
       "      <td>6723.470560</td>\n",
       "      <td>46</td>\n",
       "    </tr>\n",
       "    <tr>\n",
       "      <th>3</th>\n",
       "      <td>1</td>\n",
       "      <td>10</td>\n",
       "      <td>ultra</td>\n",
       "      <td>2</td>\n",
       "      <td>5809.911100</td>\n",
       "      <td>32</td>\n",
       "    </tr>\n",
       "    <tr>\n",
       "      <th>4</th>\n",
       "      <td>1</td>\n",
       "      <td>11</td>\n",
       "      <td>ultra</td>\n",
       "      <td>3</td>\n",
       "      <td>7003.499363</td>\n",
       "      <td>56</td>\n",
       "    </tr>\n",
       "    <tr>\n",
       "      <th>...</th>\n",
       "      <td>...</td>\n",
       "      <td>...</td>\n",
       "      <td>...</td>\n",
       "      <td>...</td>\n",
       "      <td>...</td>\n",
       "      <td>...</td>\n",
       "    </tr>\n",
       "    <tr>\n",
       "      <th>11326</th>\n",
       "      <td>1534</td>\n",
       "      <td>6</td>\n",
       "      <td>free</td>\n",
       "      <td>2</td>\n",
       "      <td>3409.468534</td>\n",
       "      <td>26</td>\n",
       "    </tr>\n",
       "    <tr>\n",
       "      <th>11327</th>\n",
       "      <td>1534</td>\n",
       "      <td>8</td>\n",
       "      <td>free</td>\n",
       "      <td>2</td>\n",
       "      <td>7622.453034</td>\n",
       "      <td>48</td>\n",
       "    </tr>\n",
       "    <tr>\n",
       "      <th>11328</th>\n",
       "      <td>1534</td>\n",
       "      <td>9</td>\n",
       "      <td>free</td>\n",
       "      <td>1</td>\n",
       "      <td>4928.173852</td>\n",
       "      <td>23</td>\n",
       "    </tr>\n",
       "    <tr>\n",
       "      <th>11329</th>\n",
       "      <td>1534</td>\n",
       "      <td>11</td>\n",
       "      <td>free</td>\n",
       "      <td>4</td>\n",
       "      <td>13350.015305</td>\n",
       "      <td>78</td>\n",
       "    </tr>\n",
       "    <tr>\n",
       "      <th>11330</th>\n",
       "      <td>1534</td>\n",
       "      <td>12</td>\n",
       "      <td>free</td>\n",
       "      <td>1</td>\n",
       "      <td>2371.711192</td>\n",
       "      <td>16</td>\n",
       "    </tr>\n",
       "  </tbody>\n",
       "</table>\n",
       "<p>11331 rows × 6 columns</p>\n",
       "</div>"
      ],
      "text/plain": [
       "       user_id  month subscription_type  rides_count  distance_sum  \\\n",
       "0            1      1             ultra            2   7027.511294   \n",
       "1            1      4             ultra            1    754.159807   \n",
       "2            1      8             ultra            2   6723.470560   \n",
       "3            1     10             ultra            2   5809.911100   \n",
       "4            1     11             ultra            3   7003.499363   \n",
       "...        ...    ...               ...          ...           ...   \n",
       "11326     1534      6              free            2   3409.468534   \n",
       "11327     1534      8              free            2   7622.453034   \n",
       "11328     1534      9              free            1   4928.173852   \n",
       "11329     1534     11              free            4  13350.015305   \n",
       "11330     1534     12              free            1   2371.711192   \n",
       "\n",
       "       duration_sum  \n",
       "0                42  \n",
       "1                 7  \n",
       "2                46  \n",
       "3                32  \n",
       "4                56  \n",
       "...             ...  \n",
       "11326            26  \n",
       "11327            48  \n",
       "11328            23  \n",
       "11329            78  \n",
       "11330            16  \n",
       "\n",
       "[11331 rows x 6 columns]"
      ]
     },
     "execution_count": 23,
     "metadata": {},
     "output_type": "execute_result"
    }
   ],
   "source": [
    "# Продолжительность поездок округлим в бОльшую сторону\n",
    "all_data['duration'] = np.ceil(all_data['duration']).astype(int)\n",
    "\n",
    "# Создание датафрейма с агрегированными данными о поездках\n",
    "all_data_profit = (\n",
    "    all_data\n",
    "    .groupby(by=['user_id','month', 'subscription_type'], as_index=False)\n",
    "    .agg({'distance':['count', 'sum'],'duration':'sum'})\n",
    ")\n",
    "all_data_profit.columns = ['user_id', 'month', 'subscription_type', 'rides_count', 'distance_sum', 'duration_sum']\n",
    "all_data_profit"
   ]
  },
  {
   "cell_type": "markdown",
   "id": "af1d41ea",
   "metadata": {},
   "source": [
    "* `rides_count` - количество поездок за месяц\n",
    "* `distance_sum` - суммарное расстояние поездок за месяц (в метрах)\n",
    "* `duration_sum` - суммарное время поездок за месяц (в минутах)\n",
    "\n",
    "Рассчитаем выручку по каждому пользователю по месяцам. Для расчета используем информацию по тарифным планам:\n",
    "\n",
    "**Без подписки:**\n",
    "* абонентская плата отсутствует;\n",
    "* стоимость одной минуты поездки — 8 рублей;\n",
    "* стоимость старта (начала поездки) — 50 рублей;\n",
    "\n",
    "**С подпиской Ultra:**\n",
    "* абонентская плата — 199 рублей в месяц;\n",
    "* стоимость одной минуты поездки — 6 рублей;\n",
    "* стоимость старта — бесплатно."
   ]
  },
  {
   "cell_type": "code",
   "execution_count": 24,
   "id": "e9ebc814",
   "metadata": {},
   "outputs": [
    {
     "data": {
      "text/html": [
       "<div>\n",
       "<style scoped>\n",
       "    .dataframe tbody tr th:only-of-type {\n",
       "        vertical-align: middle;\n",
       "    }\n",
       "\n",
       "    .dataframe tbody tr th {\n",
       "        vertical-align: top;\n",
       "    }\n",
       "\n",
       "    .dataframe thead th {\n",
       "        text-align: right;\n",
       "    }\n",
       "</style>\n",
       "<table border=\"1\" class=\"dataframe\">\n",
       "  <thead>\n",
       "    <tr style=\"text-align: right;\">\n",
       "      <th></th>\n",
       "      <th>user_id</th>\n",
       "      <th>month</th>\n",
       "      <th>subscription_type</th>\n",
       "      <th>rides_count</th>\n",
       "      <th>distance_sum</th>\n",
       "      <th>duration_sum</th>\n",
       "      <th>monthly_profit</th>\n",
       "    </tr>\n",
       "  </thead>\n",
       "  <tbody>\n",
       "    <tr>\n",
       "      <th>0</th>\n",
       "      <td>1</td>\n",
       "      <td>1</td>\n",
       "      <td>ultra</td>\n",
       "      <td>2</td>\n",
       "      <td>7027.511294</td>\n",
       "      <td>42</td>\n",
       "      <td>451</td>\n",
       "    </tr>\n",
       "    <tr>\n",
       "      <th>1</th>\n",
       "      <td>1</td>\n",
       "      <td>4</td>\n",
       "      <td>ultra</td>\n",
       "      <td>1</td>\n",
       "      <td>754.159807</td>\n",
       "      <td>7</td>\n",
       "      <td>241</td>\n",
       "    </tr>\n",
       "    <tr>\n",
       "      <th>2</th>\n",
       "      <td>1</td>\n",
       "      <td>8</td>\n",
       "      <td>ultra</td>\n",
       "      <td>2</td>\n",
       "      <td>6723.470560</td>\n",
       "      <td>46</td>\n",
       "      <td>475</td>\n",
       "    </tr>\n",
       "    <tr>\n",
       "      <th>3</th>\n",
       "      <td>1</td>\n",
       "      <td>10</td>\n",
       "      <td>ultra</td>\n",
       "      <td>2</td>\n",
       "      <td>5809.911100</td>\n",
       "      <td>32</td>\n",
       "      <td>391</td>\n",
       "    </tr>\n",
       "    <tr>\n",
       "      <th>4</th>\n",
       "      <td>1</td>\n",
       "      <td>11</td>\n",
       "      <td>ultra</td>\n",
       "      <td>3</td>\n",
       "      <td>7003.499363</td>\n",
       "      <td>56</td>\n",
       "      <td>535</td>\n",
       "    </tr>\n",
       "    <tr>\n",
       "      <th>...</th>\n",
       "      <td>...</td>\n",
       "      <td>...</td>\n",
       "      <td>...</td>\n",
       "      <td>...</td>\n",
       "      <td>...</td>\n",
       "      <td>...</td>\n",
       "      <td>...</td>\n",
       "    </tr>\n",
       "    <tr>\n",
       "      <th>11326</th>\n",
       "      <td>1534</td>\n",
       "      <td>6</td>\n",
       "      <td>free</td>\n",
       "      <td>2</td>\n",
       "      <td>3409.468534</td>\n",
       "      <td>26</td>\n",
       "      <td>308</td>\n",
       "    </tr>\n",
       "    <tr>\n",
       "      <th>11327</th>\n",
       "      <td>1534</td>\n",
       "      <td>8</td>\n",
       "      <td>free</td>\n",
       "      <td>2</td>\n",
       "      <td>7622.453034</td>\n",
       "      <td>48</td>\n",
       "      <td>484</td>\n",
       "    </tr>\n",
       "    <tr>\n",
       "      <th>11328</th>\n",
       "      <td>1534</td>\n",
       "      <td>9</td>\n",
       "      <td>free</td>\n",
       "      <td>1</td>\n",
       "      <td>4928.173852</td>\n",
       "      <td>23</td>\n",
       "      <td>234</td>\n",
       "    </tr>\n",
       "    <tr>\n",
       "      <th>11329</th>\n",
       "      <td>1534</td>\n",
       "      <td>11</td>\n",
       "      <td>free</td>\n",
       "      <td>4</td>\n",
       "      <td>13350.015305</td>\n",
       "      <td>78</td>\n",
       "      <td>824</td>\n",
       "    </tr>\n",
       "    <tr>\n",
       "      <th>11330</th>\n",
       "      <td>1534</td>\n",
       "      <td>12</td>\n",
       "      <td>free</td>\n",
       "      <td>1</td>\n",
       "      <td>2371.711192</td>\n",
       "      <td>16</td>\n",
       "      <td>178</td>\n",
       "    </tr>\n",
       "  </tbody>\n",
       "</table>\n",
       "<p>11331 rows × 7 columns</p>\n",
       "</div>"
      ],
      "text/plain": [
       "       user_id  month subscription_type  rides_count  distance_sum  \\\n",
       "0            1      1             ultra            2   7027.511294   \n",
       "1            1      4             ultra            1    754.159807   \n",
       "2            1      8             ultra            2   6723.470560   \n",
       "3            1     10             ultra            2   5809.911100   \n",
       "4            1     11             ultra            3   7003.499363   \n",
       "...        ...    ...               ...          ...           ...   \n",
       "11326     1534      6              free            2   3409.468534   \n",
       "11327     1534      8              free            2   7622.453034   \n",
       "11328     1534      9              free            1   4928.173852   \n",
       "11329     1534     11              free            4  13350.015305   \n",
       "11330     1534     12              free            1   2371.711192   \n",
       "\n",
       "       duration_sum  monthly_profit  \n",
       "0                42             451  \n",
       "1                 7             241  \n",
       "2                46             475  \n",
       "3                32             391  \n",
       "4                56             535  \n",
       "...             ...             ...  \n",
       "11326            26             308  \n",
       "11327            48             484  \n",
       "11328            23             234  \n",
       "11329            78             824  \n",
       "11330            16             178  \n",
       "\n",
       "[11331 rows x 7 columns]"
      ]
     },
     "execution_count": 24,
     "metadata": {},
     "output_type": "execute_result"
    }
   ],
   "source": [
    "#Создание функции для расчета выручки в зависимости от тарифного плана\n",
    "def profit_for_month (row):\n",
    "    sub_type = row['subscription_type']\n",
    "    rides = row['rides_count']\n",
    "    duration = row['duration_sum']\n",
    "    \n",
    "    if sub_type == 'ultra':\n",
    "        return 199 + (6 * duration)\n",
    "    else:\n",
    "        return (50 * rides) + (8 * duration)\n",
    "\n",
    "# Добавление столбца с выручкой\n",
    "all_data_profit['monthly_profit'] = all_data_profit.apply(profit_for_month, axis=1)\n",
    "all_data_profit"
   ]
  },
  {
   "cell_type": "markdown",
   "id": "c5642293",
   "metadata": {},
   "source": [
    "В результате получили значение `monthly_profit` - помесячная выручка в рублях по каждому пользователю."
   ]
  },
  {
   "cell_type": "markdown",
   "id": "3076cd97",
   "metadata": {},
   "source": [
    "**Выводы:**\n",
    "\n",
    "* Рассчитали суммарное расстояние, количество поездок и суммарное время для каждого пользователя за каждый месяц.\n",
    "* Высчитали помесячную выручку, которую принёс каждый пользователь в завимисоти от используемого тарифного плана."
   ]
  },
  {
   "cell_type": "markdown",
   "id": "41545ac0",
   "metadata": {},
   "source": [
    "## Проверка гипотез"
   ]
  },
  {
   "cell_type": "markdown",
   "id": "9bdc4b6b",
   "metadata": {},
   "source": [
    "### Пользователи с подпиской тратят больше времени на поездки"
   ]
  },
  {
   "cell_type": "markdown",
   "id": "1d6697c9",
   "metadata": {},
   "source": [
    "Проверим первую гипотезу. Тратят ли пользователи с подпиской больше времени на поездки, чем пользователи без подписки. Для этого проанализируем данные в столбце *duration* в датафреймах с пользователями с подпиской (**sub_ultra**) и без подписки (**sub_free**). Сформулируем нулевую и альтурнативную гипотезы:\n",
    "\n",
    "**H0 (нулевая гипотеза)**: Продолжительность поездки пользователей ultra = Продолжительность поездки пользователей free\n",
    "\n",
    "**H1 (альтернативная гипотеза)**: Продолжительность поездки пользователей ultra > Продолжительность поездки пользователей free"
   ]
  },
  {
   "cell_type": "code",
   "execution_count": 25,
   "id": "51cde1c1",
   "metadata": {},
   "outputs": [
    {
     "name": "stdout",
     "output_type": "stream",
     "text": [
      "Средняя продолжительность поездки пользователей Ultra: 18.54\n",
      "Средняя продолжительность поездки пользователей Free: 17.39\n",
      "P-значение: 1.2804098316645613e-34\n",
      "Отвергаем нулевую гипотезу\n"
     ]
    }
   ],
   "source": [
    "# Установка уровня статистической значимости\n",
    "alpha = 0.05\n",
    "\n",
    "# Проверка гипотезы\n",
    "duration_hypothesis = st.ttest_ind(sub_ultra['duration'], sub_free['duration'], alternative='greater')\n",
    "\n",
    "print('Средняя продолжительность поездки пользователей Ultra:', sub_ultra['duration'].mean().round(2))\n",
    "print('Средняя продолжительность поездки пользователей Free:', sub_free['duration'].mean().round(2))\n",
    "\n",
    "print('P-значение:', duration_hypothesis.pvalue)\n",
    "\n",
    "if duration_hypothesis.pvalue < alpha:\n",
    "    print('Отвергаем нулевую гипотезу')\n",
    "else:\n",
    "    print('Не получилось отвергнуть нулевую гипотезу') "
   ]
  },
  {
   "cell_type": "markdown",
   "id": "265e3e8c",
   "metadata": {},
   "source": [
    "Пользователи с подпиской действительно тратят больше времени на поездки, чем пользователи без подписки. Таким образом, подписчики являются более выгодными для компании."
   ]
  },
  {
   "cell_type": "markdown",
   "id": "815d1ddd",
   "metadata": {},
   "source": [
    "### Пользователи с подпиской проезжают за 1 поездку не более 3130 метров"
   ]
  },
  {
   "cell_type": "markdown",
   "id": "ae9bb8b7",
   "metadata": {},
   "source": [
    "Расстояние одной поездки в 3130 метров — оптимальное с точки зрения износа самоката. Проверим гипогтезу, что расстояние, которое проезжают пользователи с подпиской за одну поездку, не превышает 3130 метров. Для этого проанализируем данные в столбце *distance* в датафрейме **sub_ultra**. Сформулируем нулевую и альтернативную гипотезы:\n",
    "\n",
    "**H0 (нулевая гипотеза)**: Расстояние одной поездки пользователя с подпиской = 3130 метров\n",
    "\n",
    "**H1 (альтернативная гипотеза)**: Расстояние одной поездки пользователя с подпиской > 3130 метров"
   ]
  },
  {
   "cell_type": "code",
   "execution_count": 26,
   "id": "f29b39cb",
   "metadata": {},
   "outputs": [
    {
     "name": "stdout",
     "output_type": "stream",
     "text": [
      "Среднее расстояние поездки пользователей Ultra: 3115.45\n",
      "P-значение: 0.9195368847849785\n",
      "Не отвергаем нулевую гипотезу\n"
     ]
    }
   ],
   "source": [
    "distance_level = 3130\n",
    "\n",
    "# Установка уровня статистической значимости\n",
    "alpha = 0.05\n",
    "\n",
    "# Проверка гипотезы\n",
    "distance_hypothesis = st.ttest_1samp(sub_ultra['distance'], distance_level, alternative='greater')\n",
    "\n",
    "print('Среднее расстояние поездки пользователей Ultra:', sub_ultra['distance'].mean().round(2))\n",
    "\n",
    "print('P-значение:', distance_hypothesis.pvalue)\n",
    "\n",
    "if (distance_hypothesis.pvalue < alpha):\n",
    "    print('Отвергаем нулевую гипотезу')\n",
    "else:\n",
    "    print('Не отвергаем нулевую гипотезу') "
   ]
  },
  {
   "cell_type": "markdown",
   "id": "6b2c4eba",
   "metadata": {},
   "source": [
    "Таким образом, пользователи с подпиской действительно в среднем за одну поездку проезжают расстояние, не превышающее 3130 метров."
   ]
  },
  {
   "cell_type": "markdown",
   "id": "87928794",
   "metadata": {},
   "source": [
    "### Помесячная выручка от пользователей с подпиской выше, чем от пользователей без подписки"
   ]
  },
  {
   "cell_type": "markdown",
   "id": "c0016157",
   "metadata": {},
   "source": [
    "Проверим гипотезу о том, является ли помесячная выручка от пользователей с подпиской выше, чем выручка от пользователей без подписки. Для этого разделим датафрейм с посчитанной выручкой **all_data_profit** на пользователей с подпиской и без. Сформулируем нулевую и альтернативную гипотезы:\n",
    "\n",
    "**H0 (нулевая гипотеза)**: Помесячная выручка от пользователей Ultra = Помесячная выручка от пользователей Free\n",
    "\n",
    "**H1 (альтернативная гипотеза)**: Помесячная выручка от пользователей Ultra > Помесячная выручка от пользователей Free"
   ]
  },
  {
   "cell_type": "code",
   "execution_count": 27,
   "id": "4e95adb7",
   "metadata": {},
   "outputs": [
    {
     "name": "stdout",
     "output_type": "stream",
     "text": [
      "Средняя выручка от пользователей Ultra за месяц: 362.79\n",
      "Средняя выручка от пользователей Free за месяц: 328.64\n",
      "P-значение: 1.8850394384715216e-31\n",
      "Отвергаем нулевую гипотезу\n"
     ]
    }
   ],
   "source": [
    "# Разделение пользователей по тарифному плану\n",
    "all_data_profit_free = all_data_profit.query('subscription_type == \"free\"')\n",
    "all_data_profit_ultra = all_data_profit.query('subscription_type == \"ultra\"')\n",
    "\n",
    "# Установка уровня статистической значимости\n",
    "alpha = 0.05\n",
    "\n",
    "# Проверка гипотезы\n",
    "profit_hypothesis = st.ttest_ind(\n",
    "    all_data_profit_ultra['monthly_profit'], \n",
    "    all_data_profit_free['monthly_profit'], \n",
    "    alternative='greater')\n",
    "\n",
    "print('Средняя выручка от пользователей Ultra за месяц:', all_data_profit_ultra['monthly_profit'].mean().round(2))\n",
    "print('Средняя выручка от пользователей Free за месяц:', all_data_profit_free['monthly_profit'].mean().round(2))\n",
    "\n",
    "print('P-значение:', profit_hypothesis.pvalue)\n",
    "\n",
    "if profit_hypothesis.pvalue < alpha:\n",
    "    print('Отвергаем нулевую гипотезу')\n",
    "else:\n",
    "    print('Не получилось отвергнуть нулевую гипотезу') "
   ]
  },
  {
   "cell_type": "markdown",
   "id": "096d6942",
   "metadata": {},
   "source": [
    "По результатам теста у нас есть основания полагать, что помесячная выручка от пользователей с подпиской действительно больше, чем выручка от пользователей без подписки. "
   ]
  },
  {
   "cell_type": "markdown",
   "id": "6c796cfa",
   "metadata": {},
   "source": [
    "**Выводы:**\n",
    "\n",
    "Мы проверили 3 гипотезы, касающиеся пользователей с подпиской и их взаимодействия с сервисом. После проведения статистических тестов пришли к следующим выводам:\n",
    "* Пользователи с подпиской тратят больше времени на поездки, чем пользователи без подписки.\n",
    "* Расстояние, которое проезжают пользователи с подпиской за одну поездку, в среднем не превышает 3130 метров (оптимальное с точки зрения износа самоката)\n",
    "* Выручка за месяц от пользователей с подпиской больше, чем выручка от пользователей без подписки. "
   ]
  },
  {
   "cell_type": "markdown",
   "id": "61213c5e",
   "metadata": {},
   "source": [
    "## Общий вывод"
   ]
  },
  {
   "cell_type": "markdown",
   "id": "cd746805",
   "metadata": {},
   "source": [
    "В ходе проведенного исследования данных сервиса аренды самокатов были выполнены следующие этапы и получены следующие основные результаты.\n",
    "\n",
    "### Предобработка данных\n",
    "\n",
    "Исследование началось с тщательной предобработки данных, состоящих из 3-ёх отдельных датафреймов.\n",
    "* Были удалены дубликаты в данных. Они составили 1,98% от общего объема данных.\n",
    "* Данные были приведены к соответствующим типам.\n",
    "* Были проверены пропущенные значения, их не обнаружили.\n",
    "\n",
    "### Ход исследования\n",
    "\n",
    "В ходе исследования основных параметров пользователей и совершенных ими поездок, мы проанализировали распределение значений по каждому параметру. В результате выявили:\n",
    "* Больше всего пользователей сервиса находятся в **Пятигорске** (219 пользователей или 14,3% от всего количества). \n",
    "* БОльшую часть пользователей составляют **пользователи без подписки** (54,43%). Подписку оформили 45,57% пользователей.\n",
    "* Средний возраст пользователей составляет **25 лет**. Около половины всех пользователей составляют возрастную группу 22-28 лет.\n",
    "* Среднее расстояние, совершаемое за одну поездку - **3,07 км**.\n",
    "* Средняя продолжительность поездки составляет **17-18 минут**.\n",
    "\n",
    "Помимо этого, мы сравнили данные о поездках (расстояние и длительность поездо) к в зависимости от тарифного плана пользователя. Пришли к следующим результатам:\n",
    "1) **Расстояние поездок**. В целом распределение значений у пользователей обеих категорий совпадает. Раличается размах значений: пользователи с подпиской в подавляющем большинстве совершают поездки в диапазоне **1,5-4,5 км**. Размах же значений у пользователей без подписки шире в ~2 раза.\n",
    "\n",
    "2) **Продолжительность поездок**. Распределение значений показало, что пользователей с подпиской реже совершают короткие поездки (до 5 минут) и больше длинные (более 30 минут), чем пользователи без подписки.\n",
    "\n",
    "Далее была рассчитана выручка за каждый месяц по каждому уникальному пользователю.\n",
    "\n",
    "### Итоги исследования\n",
    "\n",
    "Основываясь на поставленных целях исследования и проверки предложенных гипотез, можно сделать следующие выводы. \n",
    "\n",
    "* Пользователи с подпиской Ultra тратят больше времени на поездки, чем пользователи без подписки.\n",
    "* Расстояние, которое проезжают пользователи с подпиской за одну поездку, в среднем не превышает 3130 метров. Это расстояние - оптимальное с точки зрения износа самоката, таким образом оборудование служит дольше.\n",
    "* Выручка за месяц от пользователей с подпиской Ultra больше, чем выручка от пользователей без подписки. \n",
    "\n",
    "Таким образом, пользователи с подпиской Ultra являются более выгодными для развития бизнеса. Для увеличения прибыли и лояльности клиентов, необходимо использовать данные, полученные в результате данного исследования, для разработки соответствующих маркетинговых стратегий и акций для привлечения новых пользователей с оформлением подписки."
   ]
  }
 ],
 "metadata": {
  "ExecuteTimeLog": [
   {
    "duration": 3,
    "start_time": "2024-05-21T12:24:55.243Z"
   },
   {
    "duration": 1230,
    "start_time": "2024-05-21T12:25:05.817Z"
   },
   {
    "duration": 310,
    "start_time": "2024-05-21T12:27:00.109Z"
   },
   {
    "duration": 15,
    "start_time": "2024-05-21T12:27:03.548Z"
   },
   {
    "duration": 7,
    "start_time": "2024-05-21T12:29:04.550Z"
   },
   {
    "duration": 8,
    "start_time": "2024-05-21T12:29:11.064Z"
   },
   {
    "duration": 7,
    "start_time": "2024-05-21T12:29:33.935Z"
   },
   {
    "duration": 7,
    "start_time": "2024-05-21T12:30:05.391Z"
   },
   {
    "duration": 8,
    "start_time": "2024-05-21T12:30:41.408Z"
   },
   {
    "duration": 8,
    "start_time": "2024-05-21T12:30:47.177Z"
   },
   {
    "duration": 7,
    "start_time": "2024-05-21T12:30:57.152Z"
   },
   {
    "duration": 11,
    "start_time": "2024-05-21T12:34:53.819Z"
   },
   {
    "duration": 8,
    "start_time": "2024-05-21T12:40:57.549Z"
   },
   {
    "duration": 12,
    "start_time": "2024-05-21T12:41:12.916Z"
   },
   {
    "duration": 7,
    "start_time": "2024-05-21T12:42:30.284Z"
   },
   {
    "duration": 9,
    "start_time": "2024-05-21T12:42:38.020Z"
   },
   {
    "duration": 6,
    "start_time": "2024-05-21T13:03:46.905Z"
   },
   {
    "duration": 6,
    "start_time": "2024-05-21T13:05:02.190Z"
   },
   {
    "duration": 6,
    "start_time": "2024-05-21T13:05:25.911Z"
   },
   {
    "duration": 6,
    "start_time": "2024-05-21T13:05:38.183Z"
   },
   {
    "duration": 5,
    "start_time": "2024-05-21T13:05:51.854Z"
   },
   {
    "duration": 9,
    "start_time": "2024-05-21T13:06:34.077Z"
   },
   {
    "duration": 5,
    "start_time": "2024-05-21T13:06:47.446Z"
   },
   {
    "duration": 6,
    "start_time": "2024-05-21T13:06:57.837Z"
   },
   {
    "duration": 5,
    "start_time": "2024-05-21T13:06:58.183Z"
   },
   {
    "duration": 2,
    "start_time": "2024-05-21T13:54:14.732Z"
   },
   {
    "duration": 15,
    "start_time": "2024-05-21T13:54:41.402Z"
   },
   {
    "duration": 15,
    "start_time": "2024-05-21T13:55:31.883Z"
   },
   {
    "duration": 13,
    "start_time": "2024-05-21T13:56:30.907Z"
   },
   {
    "duration": 15,
    "start_time": "2024-05-21T13:56:35.075Z"
   },
   {
    "duration": 13,
    "start_time": "2024-05-21T13:56:48.313Z"
   },
   {
    "duration": 13,
    "start_time": "2024-05-21T13:56:54.217Z"
   },
   {
    "duration": 5,
    "start_time": "2024-05-21T13:58:01.083Z"
   },
   {
    "duration": 6,
    "start_time": "2024-05-21T13:58:02.769Z"
   },
   {
    "duration": 5,
    "start_time": "2024-05-21T13:58:03.026Z"
   },
   {
    "duration": 5,
    "start_time": "2024-05-21T13:59:16.842Z"
   },
   {
    "duration": 6,
    "start_time": "2024-05-21T13:59:51.800Z"
   },
   {
    "duration": 9,
    "start_time": "2024-05-21T14:00:18.497Z"
   },
   {
    "duration": 4,
    "start_time": "2024-05-21T14:00:26.032Z"
   },
   {
    "duration": 4,
    "start_time": "2024-05-21T14:02:04.456Z"
   },
   {
    "duration": 8,
    "start_time": "2024-05-21T14:02:17.511Z"
   },
   {
    "duration": 3,
    "start_time": "2024-05-21T14:02:21.680Z"
   },
   {
    "duration": 5,
    "start_time": "2024-05-21T14:02:28.553Z"
   },
   {
    "duration": 8,
    "start_time": "2024-05-21T14:02:41.568Z"
   },
   {
    "duration": 5,
    "start_time": "2024-05-21T14:02:42.944Z"
   },
   {
    "duration": 5,
    "start_time": "2024-05-21T14:02:47.376Z"
   },
   {
    "duration": 5,
    "start_time": "2024-05-21T14:02:47.824Z"
   },
   {
    "duration": 5,
    "start_time": "2024-05-21T14:03:08.289Z"
   },
   {
    "duration": 6,
    "start_time": "2024-05-21T14:03:20.752Z"
   },
   {
    "duration": 9,
    "start_time": "2024-05-21T14:03:25.471Z"
   },
   {
    "duration": 7,
    "start_time": "2024-05-21T14:03:33.768Z"
   },
   {
    "duration": 9,
    "start_time": "2024-05-21T14:03:59.824Z"
   },
   {
    "duration": 5,
    "start_time": "2024-05-21T14:04:00.312Z"
   },
   {
    "duration": 11,
    "start_time": "2024-05-21T14:04:22.832Z"
   },
   {
    "duration": 91,
    "start_time": "2024-05-21T14:07:13.303Z"
   },
   {
    "duration": 5,
    "start_time": "2024-05-21T14:07:17.007Z"
   },
   {
    "duration": 6,
    "start_time": "2024-05-21T14:07:17.479Z"
   },
   {
    "duration": 5,
    "start_time": "2024-05-21T14:07:18.023Z"
   },
   {
    "duration": 54,
    "start_time": "2024-05-21T14:07:47.662Z"
   },
   {
    "duration": 5,
    "start_time": "2024-05-21T14:17:53.497Z"
   },
   {
    "duration": 7,
    "start_time": "2024-05-21T14:18:59.849Z"
   },
   {
    "duration": 93,
    "start_time": "2024-05-21T14:19:13.480Z"
   },
   {
    "duration": 13,
    "start_time": "2024-05-21T14:19:40.505Z"
   },
   {
    "duration": 13,
    "start_time": "2024-05-21T14:20:10.424Z"
   },
   {
    "duration": 11,
    "start_time": "2024-05-21T14:23:09.375Z"
   },
   {
    "duration": 10,
    "start_time": "2024-05-21T14:23:13.221Z"
   },
   {
    "duration": 3,
    "start_time": "2024-05-21T14:39:10.224Z"
   },
   {
    "duration": 21,
    "start_time": "2024-05-21T14:55:39.543Z"
   },
   {
    "duration": 154,
    "start_time": "2024-05-21T14:56:10.374Z"
   },
   {
    "duration": 153,
    "start_time": "2024-05-21T14:56:19.783Z"
   },
   {
    "duration": 151,
    "start_time": "2024-05-21T14:56:24.582Z"
   },
   {
    "duration": 147,
    "start_time": "2024-05-21T14:56:29.494Z"
   },
   {
    "duration": 148,
    "start_time": "2024-05-21T15:00:01.694Z"
   },
   {
    "duration": 151,
    "start_time": "2024-05-21T15:00:04.910Z"
   },
   {
    "duration": 12,
    "start_time": "2024-05-21T15:12:33.163Z"
   },
   {
    "duration": 686,
    "start_time": "2024-05-21T15:12:38.850Z"
   },
   {
    "duration": 13,
    "start_time": "2024-05-21T15:12:45.442Z"
   },
   {
    "duration": 710,
    "start_time": "2024-05-21T15:12:46.249Z"
   },
   {
    "duration": 6,
    "start_time": "2024-05-21T15:13:18.616Z"
   },
   {
    "duration": 4,
    "start_time": "2024-05-21T15:13:30.586Z"
   },
   {
    "duration": 750,
    "start_time": "2024-05-21T15:13:38.018Z"
   },
   {
    "duration": 811,
    "start_time": "2024-05-21T15:13:45.913Z"
   },
   {
    "duration": 205,
    "start_time": "2024-05-21T15:13:53.154Z"
   },
   {
    "duration": 12,
    "start_time": "2024-05-21T15:14:05.482Z"
   },
   {
    "duration": 143,
    "start_time": "2024-05-21T15:14:12.112Z"
   },
   {
    "duration": 13,
    "start_time": "2024-05-21T15:32:26.630Z"
   },
   {
    "duration": 133,
    "start_time": "2024-05-21T15:32:35.013Z"
   },
   {
    "duration": 120,
    "start_time": "2024-05-21T15:33:31.844Z"
   },
   {
    "duration": 130,
    "start_time": "2024-05-21T15:33:36.866Z"
   },
   {
    "duration": 129,
    "start_time": "2024-05-21T15:33:41.620Z"
   },
   {
    "duration": 123,
    "start_time": "2024-05-21T15:33:44.653Z"
   },
   {
    "duration": 131,
    "start_time": "2024-05-21T15:34:04.908Z"
   },
   {
    "duration": 136,
    "start_time": "2024-05-21T15:34:47.788Z"
   },
   {
    "duration": 127,
    "start_time": "2024-05-21T15:38:48.636Z"
   },
   {
    "duration": 121,
    "start_time": "2024-05-21T15:38:51.842Z"
   },
   {
    "duration": 118,
    "start_time": "2024-05-21T15:38:54.683Z"
   },
   {
    "duration": 193,
    "start_time": "2024-05-21T15:38:57.411Z"
   },
   {
    "duration": 113,
    "start_time": "2024-05-21T15:38:59.564Z"
   },
   {
    "duration": 128,
    "start_time": "2024-05-21T15:39:02.227Z"
   },
   {
    "duration": 126,
    "start_time": "2024-05-21T15:39:07.058Z"
   },
   {
    "duration": 4,
    "start_time": "2024-05-21T15:44:30.465Z"
   },
   {
    "duration": 9,
    "start_time": "2024-05-21T15:44:40.608Z"
   },
   {
    "duration": 122,
    "start_time": "2024-05-21T15:45:10.762Z"
   },
   {
    "duration": 3,
    "start_time": "2024-05-21T15:45:17.337Z"
   },
   {
    "duration": 9,
    "start_time": "2024-05-21T15:48:47.472Z"
   },
   {
    "duration": 120,
    "start_time": "2024-05-21T15:48:53.040Z"
   },
   {
    "duration": 115,
    "start_time": "2024-05-21T15:49:09.609Z"
   },
   {
    "duration": 130,
    "start_time": "2024-05-21T15:49:16.000Z"
   },
   {
    "duration": 132,
    "start_time": "2024-05-21T15:49:19.839Z"
   },
   {
    "duration": 136,
    "start_time": "2024-05-21T15:49:25.129Z"
   },
   {
    "duration": 132,
    "start_time": "2024-05-21T15:49:29.640Z"
   },
   {
    "duration": 130,
    "start_time": "2024-05-21T15:49:41.128Z"
   },
   {
    "duration": 137,
    "start_time": "2024-05-21T15:49:44.665Z"
   },
   {
    "duration": 197,
    "start_time": "2024-05-21T15:50:55.919Z"
   },
   {
    "duration": 132,
    "start_time": "2024-05-21T15:51:00.799Z"
   },
   {
    "duration": 140,
    "start_time": "2024-05-21T15:51:07.416Z"
   },
   {
    "duration": 128,
    "start_time": "2024-05-21T15:51:11.416Z"
   },
   {
    "duration": 145,
    "start_time": "2024-05-21T15:51:19.264Z"
   },
   {
    "duration": 131,
    "start_time": "2024-05-21T15:51:26.126Z"
   },
   {
    "duration": 148,
    "start_time": "2024-05-21T15:51:30.944Z"
   },
   {
    "duration": 156,
    "start_time": "2024-05-21T15:51:36.328Z"
   },
   {
    "duration": 2,
    "start_time": "2024-05-21T15:58:28.302Z"
   },
   {
    "duration": 161,
    "start_time": "2024-05-21T16:00:05.669Z"
   },
   {
    "duration": 152,
    "start_time": "2024-05-21T16:01:23.253Z"
   },
   {
    "duration": 156,
    "start_time": "2024-05-21T16:01:31.716Z"
   },
   {
    "duration": 215,
    "start_time": "2024-05-21T16:02:36.669Z"
   },
   {
    "duration": 132,
    "start_time": "2024-05-21T16:02:43.341Z"
   },
   {
    "duration": 206,
    "start_time": "2024-05-21T16:02:45.820Z"
   },
   {
    "duration": 52,
    "start_time": "2024-05-21T16:15:21.841Z"
   },
   {
    "duration": 7,
    "start_time": "2024-05-21T16:15:31.849Z"
   },
   {
    "duration": 7,
    "start_time": "2024-05-21T16:16:27.519Z"
   },
   {
    "duration": 157,
    "start_time": "2024-05-21T16:16:54.529Z"
   },
   {
    "duration": 158,
    "start_time": "2024-05-21T16:17:18.416Z"
   },
   {
    "duration": 164,
    "start_time": "2024-05-21T16:17:23.240Z"
   },
   {
    "duration": 156,
    "start_time": "2024-05-21T16:17:27.592Z"
   },
   {
    "duration": 127,
    "start_time": "2024-05-21T16:17:58.049Z"
   },
   {
    "duration": 11,
    "start_time": "2024-05-21T16:18:07.089Z"
   },
   {
    "duration": 122,
    "start_time": "2024-05-21T16:18:08.744Z"
   },
   {
    "duration": 179,
    "start_time": "2024-05-21T16:32:06.029Z"
   },
   {
    "duration": 256,
    "start_time": "2024-05-21T16:34:23.561Z"
   },
   {
    "duration": 189,
    "start_time": "2024-05-21T16:56:45.348Z"
   },
   {
    "duration": 177,
    "start_time": "2024-05-21T16:56:55.692Z"
   },
   {
    "duration": 188,
    "start_time": "2024-05-21T16:57:15.611Z"
   },
   {
    "duration": 50,
    "start_time": "2024-05-22T08:15:48.904Z"
   },
   {
    "duration": 1432,
    "start_time": "2024-05-22T08:16:00.054Z"
   },
   {
    "duration": 310,
    "start_time": "2024-05-22T08:16:01.489Z"
   },
   {
    "duration": 3,
    "start_time": "2024-05-22T08:16:01.801Z"
   },
   {
    "duration": 129,
    "start_time": "2024-05-22T08:16:01.806Z"
   },
   {
    "duration": 38,
    "start_time": "2024-05-22T08:16:01.937Z"
   },
   {
    "duration": 17,
    "start_time": "2024-05-22T08:16:01.977Z"
   },
   {
    "duration": 54,
    "start_time": "2024-05-22T08:16:01.996Z"
   },
   {
    "duration": 31,
    "start_time": "2024-05-22T08:16:02.052Z"
   },
   {
    "duration": 47,
    "start_time": "2024-05-22T08:16:02.085Z"
   },
   {
    "duration": 46,
    "start_time": "2024-05-22T08:16:02.136Z"
   },
   {
    "duration": 74,
    "start_time": "2024-05-22T08:16:02.183Z"
   },
   {
    "duration": 29,
    "start_time": "2024-05-22T08:16:02.258Z"
   },
   {
    "duration": 13,
    "start_time": "2024-05-22T08:16:02.288Z"
   },
   {
    "duration": 31,
    "start_time": "2024-05-22T08:16:02.302Z"
   },
   {
    "duration": 24,
    "start_time": "2024-05-22T08:16:02.335Z"
   },
   {
    "duration": 15,
    "start_time": "2024-05-22T08:16:02.360Z"
   },
   {
    "duration": 206,
    "start_time": "2024-05-22T08:16:02.376Z"
   },
   {
    "duration": 13,
    "start_time": "2024-05-22T08:16:02.584Z"
   },
   {
    "duration": 163,
    "start_time": "2024-05-22T08:16:02.599Z"
   },
   {
    "duration": 241,
    "start_time": "2024-05-22T08:16:02.763Z"
   },
   {
    "duration": 213,
    "start_time": "2024-05-22T08:16:03.006Z"
   },
   {
    "duration": 230,
    "start_time": "2024-05-22T08:16:03.221Z"
   },
   {
    "duration": 9,
    "start_time": "2024-05-22T08:16:03.453Z"
   },
   {
    "duration": 7,
    "start_time": "2024-05-22T08:16:16.552Z"
   },
   {
    "duration": 33,
    "start_time": "2024-05-22T08:20:12.132Z"
   },
   {
    "duration": 39,
    "start_time": "2024-05-22T08:22:44.053Z"
   },
   {
    "duration": 31,
    "start_time": "2024-05-22T08:24:05.083Z"
   },
   {
    "duration": 33,
    "start_time": "2024-05-22T08:48:54.950Z"
   },
   {
    "duration": 18,
    "start_time": "2024-05-22T09:04:14.921Z"
   },
   {
    "duration": 20,
    "start_time": "2024-05-22T09:04:23.189Z"
   },
   {
    "duration": 23,
    "start_time": "2024-05-22T09:04:45.515Z"
   },
   {
    "duration": 11,
    "start_time": "2024-05-22T09:49:34.594Z"
   },
   {
    "duration": 10,
    "start_time": "2024-05-22T09:49:48.959Z"
   },
   {
    "duration": 306,
    "start_time": "2024-05-22T09:53:08.063Z"
   },
   {
    "duration": 417,
    "start_time": "2024-05-22T09:53:21.983Z"
   },
   {
    "duration": 563,
    "start_time": "2024-05-22T09:53:30.256Z"
   },
   {
    "duration": 513,
    "start_time": "2024-05-22T09:53:36.479Z"
   },
   {
    "duration": 599,
    "start_time": "2024-05-22T09:53:42.990Z"
   },
   {
    "duration": 597,
    "start_time": "2024-05-22T09:53:50.360Z"
   },
   {
    "duration": 576,
    "start_time": "2024-05-22T09:53:55.839Z"
   },
   {
    "duration": 744,
    "start_time": "2024-05-22T09:53:59.183Z"
   },
   {
    "duration": 582,
    "start_time": "2024-05-22T09:54:02.718Z"
   },
   {
    "duration": 572,
    "start_time": "2024-05-22T09:54:09.503Z"
   },
   {
    "duration": 544,
    "start_time": "2024-05-22T09:54:15.320Z"
   },
   {
    "duration": 591,
    "start_time": "2024-05-22T09:54:19.957Z"
   },
   {
    "duration": 673,
    "start_time": "2024-05-22T09:54:41.918Z"
   },
   {
    "duration": 599,
    "start_time": "2024-05-22T09:55:09.950Z"
   },
   {
    "duration": 598,
    "start_time": "2024-05-22T09:56:42.183Z"
   },
   {
    "duration": 810,
    "start_time": "2024-05-22T09:56:53.366Z"
   },
   {
    "duration": 523,
    "start_time": "2024-05-22T09:57:02.325Z"
   },
   {
    "duration": 603,
    "start_time": "2024-05-22T09:57:07.165Z"
   },
   {
    "duration": 582,
    "start_time": "2024-05-22T10:00:15.484Z"
   },
   {
    "duration": 607,
    "start_time": "2024-05-22T10:00:21.874Z"
   },
   {
    "duration": 37,
    "start_time": "2024-05-22T10:10:07.697Z"
   },
   {
    "duration": 30,
    "start_time": "2024-05-22T10:10:30.634Z"
   },
   {
    "duration": 664,
    "start_time": "2024-05-22T10:12:40.050Z"
   },
   {
    "duration": 36,
    "start_time": "2024-05-22T13:16:37.623Z"
   },
   {
    "duration": 37,
    "start_time": "2024-05-22T13:16:44.382Z"
   },
   {
    "duration": 158,
    "start_time": "2024-05-22T13:24:16.412Z"
   },
   {
    "duration": 12,
    "start_time": "2024-05-22T14:06:49.795Z"
   },
   {
    "duration": 10,
    "start_time": "2024-05-22T14:07:11.610Z"
   },
   {
    "duration": 12,
    "start_time": "2024-05-22T14:07:16.113Z"
   },
   {
    "duration": 6,
    "start_time": "2024-05-22T14:07:20.017Z"
   },
   {
    "duration": 6,
    "start_time": "2024-05-22T14:08:10.769Z"
   },
   {
    "duration": 7,
    "start_time": "2024-05-22T14:18:20.368Z"
   },
   {
    "duration": 10,
    "start_time": "2024-05-22T14:25:09.630Z"
   },
   {
    "duration": 9,
    "start_time": "2024-05-22T14:32:21.070Z"
   },
   {
    "duration": 10,
    "start_time": "2024-05-22T14:32:31.682Z"
   },
   {
    "duration": 7,
    "start_time": "2024-05-22T14:34:50.506Z"
   },
   {
    "duration": 6,
    "start_time": "2024-05-22T14:36:45.696Z"
   },
   {
    "duration": 7,
    "start_time": "2024-05-22T14:47:48.250Z"
   },
   {
    "duration": 9,
    "start_time": "2024-05-22T14:48:00.274Z"
   },
   {
    "duration": 9,
    "start_time": "2024-05-22T15:36:01.534Z"
   },
   {
    "duration": 8,
    "start_time": "2024-05-22T15:38:25.410Z"
   },
   {
    "duration": 6,
    "start_time": "2024-05-22T15:38:28.674Z"
   },
   {
    "duration": 11,
    "start_time": "2024-05-22T16:05:45.183Z"
   },
   {
    "duration": 15,
    "start_time": "2024-05-22T16:16:33.973Z"
   },
   {
    "duration": 16,
    "start_time": "2024-05-22T16:16:37.011Z"
   },
   {
    "duration": 16,
    "start_time": "2024-05-22T16:16:52.204Z"
   },
   {
    "duration": 13,
    "start_time": "2024-05-22T16:21:40.175Z"
   },
   {
    "duration": 14,
    "start_time": "2024-05-22T16:23:03.933Z"
   },
   {
    "duration": 18,
    "start_time": "2024-05-22T16:23:10.084Z"
   },
   {
    "duration": 6,
    "start_time": "2024-05-22T16:23:26.566Z"
   },
   {
    "duration": 8,
    "start_time": "2024-05-22T16:23:34.981Z"
   },
   {
    "duration": 6,
    "start_time": "2024-05-22T16:23:41.492Z"
   },
   {
    "duration": 12,
    "start_time": "2024-05-22T16:24:30.468Z"
   },
   {
    "duration": 5,
    "start_time": "2024-05-22T16:35:24.590Z"
   },
   {
    "duration": 3,
    "start_time": "2024-05-22T16:38:38.331Z"
   },
   {
    "duration": 2,
    "start_time": "2024-05-22T16:40:07.468Z"
   },
   {
    "duration": 63,
    "start_time": "2024-05-22T16:41:15.706Z"
   },
   {
    "duration": 49,
    "start_time": "2024-05-23T09:11:51.375Z"
   },
   {
    "duration": 1315,
    "start_time": "2024-05-23T09:11:57.856Z"
   },
   {
    "duration": 212,
    "start_time": "2024-05-23T09:11:59.173Z"
   },
   {
    "duration": 3,
    "start_time": "2024-05-23T09:11:59.387Z"
   },
   {
    "duration": 27,
    "start_time": "2024-05-23T09:11:59.392Z"
   },
   {
    "duration": 16,
    "start_time": "2024-05-23T09:11:59.422Z"
   },
   {
    "duration": 13,
    "start_time": "2024-05-23T09:11:59.440Z"
   },
   {
    "duration": 6,
    "start_time": "2024-05-23T09:11:59.461Z"
   },
   {
    "duration": 7,
    "start_time": "2024-05-23T09:11:59.469Z"
   },
   {
    "duration": 6,
    "start_time": "2024-05-23T09:11:59.478Z"
   },
   {
    "duration": 6,
    "start_time": "2024-05-23T09:11:59.486Z"
   },
   {
    "duration": 9,
    "start_time": "2024-05-23T09:11:59.495Z"
   },
   {
    "duration": 10,
    "start_time": "2024-05-23T09:11:59.505Z"
   },
   {
    "duration": 9,
    "start_time": "2024-05-23T09:11:59.561Z"
   },
   {
    "duration": 10,
    "start_time": "2024-05-23T09:11:59.573Z"
   },
   {
    "duration": 15,
    "start_time": "2024-05-23T09:11:59.584Z"
   },
   {
    "duration": 13,
    "start_time": "2024-05-23T09:11:59.600Z"
   },
   {
    "duration": 201,
    "start_time": "2024-05-23T09:11:59.615Z"
   },
   {
    "duration": 13,
    "start_time": "2024-05-23T09:11:59.817Z"
   },
   {
    "duration": 157,
    "start_time": "2024-05-23T09:11:59.832Z"
   },
   {
    "duration": 226,
    "start_time": "2024-05-23T09:11:59.990Z"
   },
   {
    "duration": 204,
    "start_time": "2024-05-23T09:12:00.218Z"
   },
   {
    "duration": 209,
    "start_time": "2024-05-23T09:12:00.423Z"
   },
   {
    "duration": 39,
    "start_time": "2024-05-23T09:12:00.634Z"
   },
   {
    "duration": 31,
    "start_time": "2024-05-23T09:12:00.675Z"
   },
   {
    "duration": 663,
    "start_time": "2024-05-23T09:12:00.708Z"
   },
   {
    "duration": 684,
    "start_time": "2024-05-23T09:12:01.373Z"
   },
   {
    "duration": 32,
    "start_time": "2024-05-23T09:12:02.060Z"
   },
   {
    "duration": 154,
    "start_time": "2024-05-23T09:12:02.094Z"
   },
   {
    "duration": 13,
    "start_time": "2024-05-23T09:12:02.250Z"
   },
   {
    "duration": 7,
    "start_time": "2024-05-23T09:12:02.264Z"
   },
   {
    "duration": 16,
    "start_time": "2024-05-23T09:12:02.272Z"
   },
   {
    "duration": 6,
    "start_time": "2024-05-23T09:12:02.289Z"
   },
   {
    "duration": 81,
    "start_time": "2024-05-23T09:18:08.999Z"
   },
   {
    "duration": 210,
    "start_time": "2024-05-23T09:27:34.833Z"
   },
   {
    "duration": 197,
    "start_time": "2024-05-23T09:27:39.896Z"
   },
   {
    "duration": 197,
    "start_time": "2024-05-23T09:27:55.786Z"
   },
   {
    "duration": 170,
    "start_time": "2024-05-23T09:28:00.504Z"
   },
   {
    "duration": 193,
    "start_time": "2024-05-23T09:28:34.712Z"
   },
   {
    "duration": 513,
    "start_time": "2024-05-23T09:31:02.897Z"
   },
   {
    "duration": 588,
    "start_time": "2024-05-23T09:31:09.145Z"
   },
   {
    "duration": 4,
    "start_time": "2024-05-23T09:40:05.062Z"
   },
   {
    "duration": 4,
    "start_time": "2024-05-23T09:40:11.989Z"
   },
   {
    "duration": 5,
    "start_time": "2024-05-23T09:40:19.390Z"
   },
   {
    "duration": 167,
    "start_time": "2024-05-23T10:14:55.652Z"
   },
   {
    "duration": 281,
    "start_time": "2024-05-23T10:15:02.396Z"
   },
   {
    "duration": 207,
    "start_time": "2024-05-23T10:21:51.570Z"
   },
   {
    "duration": 190,
    "start_time": "2024-05-23T10:21:59.169Z"
   },
   {
    "duration": 219,
    "start_time": "2024-05-23T10:22:05.129Z"
   },
   {
    "duration": 177,
    "start_time": "2024-05-23T10:22:08.713Z"
   },
   {
    "duration": 221,
    "start_time": "2024-05-23T10:32:11.703Z"
   },
   {
    "duration": 272,
    "start_time": "2024-05-23T10:32:19.158Z"
   },
   {
    "duration": 289,
    "start_time": "2024-05-23T10:32:28.190Z"
   },
   {
    "duration": 277,
    "start_time": "2024-05-23T10:32:34.669Z"
   },
   {
    "duration": 169,
    "start_time": "2024-05-23T10:32:37.798Z"
   },
   {
    "duration": 197,
    "start_time": "2024-05-23T10:32:43.470Z"
   },
   {
    "duration": 1076,
    "start_time": "2024-05-23T10:53:38.861Z"
   },
   {
    "duration": 72,
    "start_time": "2024-05-23T10:53:39.939Z"
   },
   {
    "duration": 3,
    "start_time": "2024-05-23T10:53:40.013Z"
   },
   {
    "duration": 51,
    "start_time": "2024-05-23T10:53:40.017Z"
   },
   {
    "duration": 18,
    "start_time": "2024-05-23T10:53:40.071Z"
   },
   {
    "duration": 15,
    "start_time": "2024-05-23T10:53:40.090Z"
   },
   {
    "duration": 5,
    "start_time": "2024-05-23T10:53:40.107Z"
   },
   {
    "duration": 8,
    "start_time": "2024-05-23T10:53:40.114Z"
   },
   {
    "duration": 40,
    "start_time": "2024-05-23T10:53:40.124Z"
   },
   {
    "duration": 7,
    "start_time": "2024-05-23T10:53:40.165Z"
   },
   {
    "duration": 10,
    "start_time": "2024-05-23T10:53:40.174Z"
   },
   {
    "duration": 8,
    "start_time": "2024-05-23T10:53:40.186Z"
   },
   {
    "duration": 5,
    "start_time": "2024-05-23T10:53:40.195Z"
   },
   {
    "duration": 11,
    "start_time": "2024-05-23T10:53:40.204Z"
   },
   {
    "duration": 55,
    "start_time": "2024-05-23T10:53:40.216Z"
   },
   {
    "duration": 20,
    "start_time": "2024-05-23T10:53:40.273Z"
   },
   {
    "duration": 214,
    "start_time": "2024-05-23T10:53:40.295Z"
   },
   {
    "duration": 12,
    "start_time": "2024-05-23T10:53:40.510Z"
   },
   {
    "duration": 162,
    "start_time": "2024-05-23T10:53:40.524Z"
   },
   {
    "duration": 230,
    "start_time": "2024-05-23T10:53:40.687Z"
   },
   {
    "duration": 200,
    "start_time": "2024-05-23T10:53:40.919Z"
   },
   {
    "duration": 181,
    "start_time": "2024-05-23T10:53:41.120Z"
   },
   {
    "duration": 3,
    "start_time": "2024-05-23T10:53:41.303Z"
   },
   {
    "duration": 32,
    "start_time": "2024-05-23T10:53:41.308Z"
   },
   {
    "duration": 30,
    "start_time": "2024-05-23T10:53:41.341Z"
   },
   {
    "duration": 591,
    "start_time": "2024-05-23T10:53:41.372Z"
   },
   {
    "duration": 717,
    "start_time": "2024-05-23T10:53:41.966Z"
   },
   {
    "duration": 35,
    "start_time": "2024-05-23T10:53:42.685Z"
   },
   {
    "duration": 190,
    "start_time": "2024-05-23T10:53:42.722Z"
   },
   {
    "duration": 7,
    "start_time": "2024-05-23T10:53:42.914Z"
   },
   {
    "duration": 19,
    "start_time": "2024-05-23T10:53:42.923Z"
   },
   {
    "duration": 20,
    "start_time": "2024-05-23T10:53:42.944Z"
   },
   {
    "duration": 5,
    "start_time": "2024-05-23T10:55:54.493Z"
   },
   {
    "duration": 11,
    "start_time": "2024-05-23T10:56:35.581Z"
   },
   {
    "duration": 1111,
    "start_time": "2024-05-23T10:56:57.819Z"
   },
   {
    "duration": 71,
    "start_time": "2024-05-23T10:56:58.932Z"
   },
   {
    "duration": 4,
    "start_time": "2024-05-23T10:56:59.005Z"
   },
   {
    "duration": 23,
    "start_time": "2024-05-23T10:56:59.011Z"
   },
   {
    "duration": 16,
    "start_time": "2024-05-23T10:56:59.035Z"
   },
   {
    "duration": 17,
    "start_time": "2024-05-23T10:56:59.052Z"
   },
   {
    "duration": 5,
    "start_time": "2024-05-23T10:56:59.071Z"
   },
   {
    "duration": 8,
    "start_time": "2024-05-23T10:56:59.078Z"
   },
   {
    "duration": 5,
    "start_time": "2024-05-23T10:56:59.088Z"
   },
   {
    "duration": 12,
    "start_time": "2024-05-23T10:56:59.096Z"
   },
   {
    "duration": 8,
    "start_time": "2024-05-23T10:56:59.110Z"
   },
   {
    "duration": 49,
    "start_time": "2024-05-23T10:56:59.119Z"
   },
   {
    "duration": 11,
    "start_time": "2024-05-23T10:56:59.170Z"
   },
   {
    "duration": 13,
    "start_time": "2024-05-23T10:56:59.182Z"
   },
   {
    "duration": 224,
    "start_time": "2024-05-23T10:56:59.196Z"
   },
   {
    "duration": 14,
    "start_time": "2024-05-23T10:56:59.422Z"
   },
   {
    "duration": 152,
    "start_time": "2024-05-23T10:56:59.438Z"
   },
   {
    "duration": 227,
    "start_time": "2024-05-23T10:56:59.592Z"
   },
   {
    "duration": 217,
    "start_time": "2024-05-23T10:56:59.820Z"
   },
   {
    "duration": 183,
    "start_time": "2024-05-23T10:57:00.039Z"
   },
   {
    "duration": 3,
    "start_time": "2024-05-23T10:57:00.224Z"
   },
   {
    "duration": 73,
    "start_time": "2024-05-23T10:57:00.229Z"
   },
   {
    "duration": 54,
    "start_time": "2024-05-23T10:57:00.304Z"
   },
   {
    "duration": 928,
    "start_time": "2024-05-23T10:57:00.359Z"
   },
   {
    "duration": 1097,
    "start_time": "2024-05-23T10:57:01.289Z"
   },
   {
    "duration": 35,
    "start_time": "2024-05-23T10:57:02.388Z"
   },
   {
    "duration": 161,
    "start_time": "2024-05-23T10:57:02.425Z"
   },
   {
    "duration": 10,
    "start_time": "2024-05-23T10:57:02.590Z"
   },
   {
    "duration": 30,
    "start_time": "2024-05-23T10:57:02.602Z"
   },
   {
    "duration": 14,
    "start_time": "2024-05-23T10:57:02.633Z"
   },
   {
    "duration": 1188,
    "start_time": "2024-05-23T11:05:19.930Z"
   },
   {
    "duration": 69,
    "start_time": "2024-05-23T11:05:21.120Z"
   },
   {
    "duration": 5,
    "start_time": "2024-05-23T11:05:21.191Z"
   },
   {
    "duration": 53,
    "start_time": "2024-05-23T11:05:21.198Z"
   },
   {
    "duration": 32,
    "start_time": "2024-05-23T11:05:21.253Z"
   },
   {
    "duration": 31,
    "start_time": "2024-05-23T11:05:21.287Z"
   },
   {
    "duration": 24,
    "start_time": "2024-05-23T11:05:21.320Z"
   },
   {
    "duration": 30,
    "start_time": "2024-05-23T11:05:21.346Z"
   },
   {
    "duration": 29,
    "start_time": "2024-05-23T11:05:21.378Z"
   },
   {
    "duration": 40,
    "start_time": "2024-05-23T11:05:21.409Z"
   },
   {
    "duration": 22,
    "start_time": "2024-05-23T11:05:21.450Z"
   },
   {
    "duration": 28,
    "start_time": "2024-05-23T11:05:21.474Z"
   },
   {
    "duration": 38,
    "start_time": "2024-05-23T11:05:21.504Z"
   },
   {
    "duration": 37,
    "start_time": "2024-05-23T11:05:21.543Z"
   },
   {
    "duration": 220,
    "start_time": "2024-05-23T11:05:21.582Z"
   },
   {
    "duration": 12,
    "start_time": "2024-05-23T11:05:21.804Z"
   },
   {
    "duration": 180,
    "start_time": "2024-05-23T11:05:21.818Z"
   },
   {
    "duration": 245,
    "start_time": "2024-05-23T11:05:21.999Z"
   },
   {
    "duration": 220,
    "start_time": "2024-05-23T11:05:22.246Z"
   },
   {
    "duration": 180,
    "start_time": "2024-05-23T11:05:22.468Z"
   },
   {
    "duration": 12,
    "start_time": "2024-05-23T11:05:22.650Z"
   },
   {
    "duration": 39,
    "start_time": "2024-05-23T11:05:22.664Z"
   },
   {
    "duration": 12,
    "start_time": "2024-05-23T11:05:22.705Z"
   },
   {
    "duration": 596,
    "start_time": "2024-05-23T11:05:22.719Z"
   },
   {
    "duration": 691,
    "start_time": "2024-05-23T11:05:23.317Z"
   },
   {
    "duration": 36,
    "start_time": "2024-05-23T11:05:24.010Z"
   },
   {
    "duration": 157,
    "start_time": "2024-05-23T11:05:24.047Z"
   },
   {
    "duration": 7,
    "start_time": "2024-05-23T11:05:24.207Z"
   },
   {
    "duration": 6,
    "start_time": "2024-05-23T11:05:24.215Z"
   },
   {
    "duration": 12,
    "start_time": "2024-05-23T11:05:24.222Z"
   },
   {
    "duration": 1030,
    "start_time": "2024-05-23T11:24:13.734Z"
   },
   {
    "duration": 315,
    "start_time": "2024-05-23T11:24:14.766Z"
   },
   {
    "duration": 4,
    "start_time": "2024-05-23T11:24:15.083Z"
   },
   {
    "duration": 132,
    "start_time": "2024-05-23T11:24:15.089Z"
   },
   {
    "duration": 84,
    "start_time": "2024-05-23T11:24:15.223Z"
   },
   {
    "duration": 46,
    "start_time": "2024-05-23T11:24:15.309Z"
   },
   {
    "duration": 51,
    "start_time": "2024-05-23T11:24:15.356Z"
   },
   {
    "duration": 25,
    "start_time": "2024-05-23T11:24:15.408Z"
   },
   {
    "duration": 36,
    "start_time": "2024-05-23T11:24:15.434Z"
   },
   {
    "duration": 19,
    "start_time": "2024-05-23T11:24:15.472Z"
   },
   {
    "duration": 37,
    "start_time": "2024-05-23T11:24:15.493Z"
   },
   {
    "duration": 36,
    "start_time": "2024-05-23T11:24:15.532Z"
   },
   {
    "duration": 41,
    "start_time": "2024-05-23T11:24:15.569Z"
   },
   {
    "duration": 16,
    "start_time": "2024-05-23T11:24:15.612Z"
   },
   {
    "duration": 205,
    "start_time": "2024-05-23T11:24:15.629Z"
   },
   {
    "duration": 11,
    "start_time": "2024-05-23T11:24:15.836Z"
   },
   {
    "duration": 139,
    "start_time": "2024-05-23T11:24:15.849Z"
   },
   {
    "duration": 207,
    "start_time": "2024-05-23T11:24:15.993Z"
   },
   {
    "duration": 194,
    "start_time": "2024-05-23T11:24:16.202Z"
   },
   {
    "duration": 175,
    "start_time": "2024-05-23T11:24:16.397Z"
   },
   {
    "duration": 4,
    "start_time": "2024-05-23T11:24:16.574Z"
   },
   {
    "duration": 99,
    "start_time": "2024-05-23T11:24:16.580Z"
   },
   {
    "duration": 17,
    "start_time": "2024-05-23T11:24:16.681Z"
   },
   {
    "duration": 568,
    "start_time": "2024-05-23T11:24:16.700Z"
   },
   {
    "duration": 652,
    "start_time": "2024-05-23T11:24:17.270Z"
   },
   {
    "duration": 33,
    "start_time": "2024-05-23T11:24:17.923Z"
   },
   {
    "duration": 158,
    "start_time": "2024-05-23T11:24:17.957Z"
   },
   {
    "duration": 6,
    "start_time": "2024-05-23T11:24:18.117Z"
   },
   {
    "duration": 7,
    "start_time": "2024-05-23T11:24:18.125Z"
   },
   {
    "duration": 12,
    "start_time": "2024-05-23T11:24:18.133Z"
   },
   {
    "duration": 25,
    "start_time": "2024-05-23T11:27:57.904Z"
   },
   {
    "duration": 7,
    "start_time": "2024-05-23T11:28:23.008Z"
   },
   {
    "duration": 27,
    "start_time": "2024-05-23T12:55:15.328Z"
   },
   {
    "duration": 23,
    "start_time": "2024-05-23T12:55:20.227Z"
   },
   {
    "duration": 33,
    "start_time": "2024-05-23T12:55:26.894Z"
   },
   {
    "duration": 1201,
    "start_time": "2024-05-23T12:55:38.039Z"
   },
   {
    "duration": 73,
    "start_time": "2024-05-23T12:55:39.242Z"
   },
   {
    "duration": 4,
    "start_time": "2024-05-23T12:55:39.316Z"
   },
   {
    "duration": 28,
    "start_time": "2024-05-23T12:55:39.321Z"
   },
   {
    "duration": 17,
    "start_time": "2024-05-23T12:55:39.351Z"
   },
   {
    "duration": 15,
    "start_time": "2024-05-23T12:55:39.369Z"
   },
   {
    "duration": 6,
    "start_time": "2024-05-23T12:55:39.386Z"
   },
   {
    "duration": 34,
    "start_time": "2024-05-23T12:55:39.394Z"
   },
   {
    "duration": 19,
    "start_time": "2024-05-23T12:55:39.430Z"
   },
   {
    "duration": 18,
    "start_time": "2024-05-23T12:55:39.452Z"
   },
   {
    "duration": 19,
    "start_time": "2024-05-23T12:55:39.471Z"
   },
   {
    "duration": 18,
    "start_time": "2024-05-23T12:55:39.492Z"
   },
   {
    "duration": 33,
    "start_time": "2024-05-23T12:55:39.512Z"
   },
   {
    "duration": 13,
    "start_time": "2024-05-23T12:55:39.547Z"
   },
   {
    "duration": 187,
    "start_time": "2024-05-23T12:55:39.562Z"
   },
   {
    "duration": 17,
    "start_time": "2024-05-23T12:55:39.750Z"
   },
   {
    "duration": 158,
    "start_time": "2024-05-23T12:55:39.769Z"
   },
   {
    "duration": 220,
    "start_time": "2024-05-23T12:55:39.929Z"
   },
   {
    "duration": 204,
    "start_time": "2024-05-23T12:55:40.151Z"
   },
   {
    "duration": 192,
    "start_time": "2024-05-23T12:55:40.356Z"
   },
   {
    "duration": 4,
    "start_time": "2024-05-23T12:55:40.550Z"
   },
   {
    "duration": 41,
    "start_time": "2024-05-23T12:55:40.555Z"
   },
   {
    "duration": 12,
    "start_time": "2024-05-23T12:55:40.598Z"
   },
   {
    "duration": 596,
    "start_time": "2024-05-23T12:55:40.612Z"
   },
   {
    "duration": 661,
    "start_time": "2024-05-23T12:55:41.210Z"
   },
   {
    "duration": 34,
    "start_time": "2024-05-23T12:55:41.873Z"
   },
   {
    "duration": 158,
    "start_time": "2024-05-23T12:55:41.909Z"
   },
   {
    "duration": 7,
    "start_time": "2024-05-23T12:55:42.071Z"
   },
   {
    "duration": 11,
    "start_time": "2024-05-23T12:55:42.079Z"
   },
   {
    "duration": 13,
    "start_time": "2024-05-23T12:55:42.091Z"
   },
   {
    "duration": 33,
    "start_time": "2024-05-23T12:56:23.527Z"
   },
   {
    "duration": 33,
    "start_time": "2024-05-23T12:56:27.762Z"
   },
   {
    "duration": 19,
    "start_time": "2024-05-23T12:56:33.769Z"
   },
   {
    "duration": 187,
    "start_time": "2024-05-23T13:04:35.700Z"
   },
   {
    "duration": 4,
    "start_time": "2024-05-23T13:09:57.011Z"
   },
   {
    "duration": 74,
    "start_time": "2024-05-23T13:09:57.303Z"
   },
   {
    "duration": 3,
    "start_time": "2024-05-23T13:09:58.120Z"
   },
   {
    "duration": 17,
    "start_time": "2024-05-23T13:09:59.009Z"
   },
   {
    "duration": 16,
    "start_time": "2024-05-23T13:10:00.927Z"
   },
   {
    "duration": 20,
    "start_time": "2024-05-23T13:10:04.728Z"
   },
   {
    "duration": 1139,
    "start_time": "2024-05-23T13:18:14.479Z"
   },
   {
    "duration": 75,
    "start_time": "2024-05-23T13:18:15.620Z"
   },
   {
    "duration": 3,
    "start_time": "2024-05-23T13:18:15.697Z"
   },
   {
    "duration": 53,
    "start_time": "2024-05-23T13:18:15.702Z"
   },
   {
    "duration": 16,
    "start_time": "2024-05-23T13:18:15.757Z"
   },
   {
    "duration": 18,
    "start_time": "2024-05-23T13:18:15.774Z"
   },
   {
    "duration": 15,
    "start_time": "2024-05-23T13:18:15.794Z"
   },
   {
    "duration": 13,
    "start_time": "2024-05-23T13:18:15.810Z"
   },
   {
    "duration": 5,
    "start_time": "2024-05-23T13:18:15.825Z"
   },
   {
    "duration": 28,
    "start_time": "2024-05-23T13:18:15.833Z"
   },
   {
    "duration": 10,
    "start_time": "2024-05-23T13:18:15.863Z"
   },
   {
    "duration": 13,
    "start_time": "2024-05-23T13:18:15.874Z"
   },
   {
    "duration": 13,
    "start_time": "2024-05-23T13:18:15.889Z"
   },
   {
    "duration": 220,
    "start_time": "2024-05-23T13:18:15.903Z"
   },
   {
    "duration": 13,
    "start_time": "2024-05-23T13:18:16.125Z"
   },
   {
    "duration": 169,
    "start_time": "2024-05-23T13:18:16.139Z"
   },
   {
    "duration": 233,
    "start_time": "2024-05-23T13:18:16.311Z"
   },
   {
    "duration": 220,
    "start_time": "2024-05-23T13:18:16.546Z"
   },
   {
    "duration": 179,
    "start_time": "2024-05-23T13:18:16.768Z"
   },
   {
    "duration": 3,
    "start_time": "2024-05-23T13:18:16.949Z"
   },
   {
    "duration": 30,
    "start_time": "2024-05-23T13:18:16.961Z"
   },
   {
    "duration": 11,
    "start_time": "2024-05-23T13:18:16.993Z"
   },
   {
    "duration": 607,
    "start_time": "2024-05-23T13:18:17.006Z"
   },
   {
    "duration": 665,
    "start_time": "2024-05-23T13:18:17.615Z"
   },
   {
    "duration": 36,
    "start_time": "2024-05-23T13:18:18.282Z"
   },
   {
    "duration": 185,
    "start_time": "2024-05-23T13:18:18.320Z"
   },
   {
    "duration": 8,
    "start_time": "2024-05-23T13:18:18.507Z"
   },
   {
    "duration": 6,
    "start_time": "2024-05-23T13:18:18.518Z"
   },
   {
    "duration": 36,
    "start_time": "2024-05-23T13:18:18.525Z"
   },
   {
    "duration": 1255,
    "start_time": "2024-05-23T20:18:31.344Z"
   },
   {
    "duration": 318,
    "start_time": "2024-05-23T20:18:32.601Z"
   },
   {
    "duration": 4,
    "start_time": "2024-05-23T20:18:32.920Z"
   },
   {
    "duration": 27,
    "start_time": "2024-05-23T20:18:32.926Z"
   },
   {
    "duration": 18,
    "start_time": "2024-05-23T20:18:32.955Z"
   },
   {
    "duration": 14,
    "start_time": "2024-05-23T20:18:32.975Z"
   },
   {
    "duration": 17,
    "start_time": "2024-05-23T20:18:32.991Z"
   },
   {
    "duration": 10,
    "start_time": "2024-05-23T20:18:33.009Z"
   },
   {
    "duration": 9,
    "start_time": "2024-05-23T20:18:33.020Z"
   },
   {
    "duration": 19,
    "start_time": "2024-05-23T20:18:33.031Z"
   },
   {
    "duration": 8,
    "start_time": "2024-05-23T20:18:33.069Z"
   },
   {
    "duration": 11,
    "start_time": "2024-05-23T20:18:33.079Z"
   },
   {
    "duration": 13,
    "start_time": "2024-05-23T20:18:33.092Z"
   },
   {
    "duration": 227,
    "start_time": "2024-05-23T20:18:33.107Z"
   },
   {
    "duration": 13,
    "start_time": "2024-05-23T20:18:33.335Z"
   },
   {
    "duration": 167,
    "start_time": "2024-05-23T20:18:33.349Z"
   },
   {
    "duration": 242,
    "start_time": "2024-05-23T20:18:33.517Z"
   },
   {
    "duration": 213,
    "start_time": "2024-05-23T20:18:33.761Z"
   },
   {
    "duration": 195,
    "start_time": "2024-05-23T20:18:33.976Z"
   },
   {
    "duration": 5,
    "start_time": "2024-05-23T20:18:34.173Z"
   },
   {
    "duration": 43,
    "start_time": "2024-05-23T20:18:34.180Z"
   },
   {
    "duration": 12,
    "start_time": "2024-05-23T20:18:34.225Z"
   },
   {
    "duration": 617,
    "start_time": "2024-05-23T20:18:34.238Z"
   },
   {
    "duration": 739,
    "start_time": "2024-05-23T20:18:34.857Z"
   },
   {
    "duration": 35,
    "start_time": "2024-05-23T20:18:35.598Z"
   },
   {
    "duration": 156,
    "start_time": "2024-05-23T20:18:35.635Z"
   },
   {
    "duration": 6,
    "start_time": "2024-05-23T20:18:35.793Z"
   },
   {
    "duration": 9,
    "start_time": "2024-05-23T20:18:35.802Z"
   },
   {
    "duration": 30,
    "start_time": "2024-05-23T20:18:35.813Z"
   }
  ],
  "kernelspec": {
   "display_name": "Python 3 (ipykernel)",
   "language": "python",
   "name": "python3"
  },
  "language_info": {
   "codemirror_mode": {
    "name": "ipython",
    "version": 3
   },
   "file_extension": ".py",
   "mimetype": "text/x-python",
   "name": "python",
   "nbconvert_exporter": "python",
   "pygments_lexer": "ipython3",
   "version": "3.11.7"
  },
  "toc": {
   "base_numbering": 1,
   "nav_menu": {},
   "number_sections": true,
   "sideBar": true,
   "skip_h1_title": true,
   "title_cell": "Table of Contents",
   "title_sidebar": "Contents",
   "toc_cell": false,
   "toc_position": {
    "height": "calc(100% - 180px)",
    "left": "10px",
    "top": "150px",
    "width": "349.091px"
   },
   "toc_section_display": true,
   "toc_window_display": false
  }
 },
 "nbformat": 4,
 "nbformat_minor": 5
}
