{
 "cells": [
  {
   "cell_type": "markdown",
   "metadata": {},
   "source": [
    "# Определение стоимости автомобилей"
   ]
  },
  {
   "cell_type": "markdown",
   "metadata": {},
   "source": [
    "Исследование содержит данные сервиса по продаже автомобилей с пробегом, включая технические характеристики, комплектации и цены автомобилей. Основная задача — разработать модель для оценки рыночной стоимости автомобилей на основе имеющихся данных.\n",
    "\n",
    "**Цель исследования:**\n",
    "\n",
    "1) Построить модель машинного обучения для точного предсказания рыночной стоимости автомобилей на основе их характеристик.\n",
    "2) Оценить модель по трем критериям: качество предсказания и время, затрачиваемое на обучение и предсказание.\n",
    "\n",
    "Таким образом, исследование пройдёт в **шесть этапов**:\n",
    "1) Обзор данных\n",
    "2) Предобработка данных\n",
    "3) Исследовательский анализ данных\n",
    "4) Корреляционный анализ данных\n",
    "5) Обучение моделей\n",
    "6)  Анализ результатов. Выбор лучшей модели\n",
    "\n",
    " **Условия проекта**:\n",
    "- Для оценки качества моделей применять метрику RMSE.\n",
    "- Значение метрики RMSE должно быть меньше 2500."
   ]
  },
  {
   "cell_type": "markdown",
   "metadata": {},
   "source": [
    "## Загрузка и импорт библиотек"
   ]
  },
  {
   "cell_type": "code",
   "execution_count": 1,
   "metadata": {},
   "outputs": [
    {
     "name": "stdout",
     "output_type": "stream",
     "text": [
      "Collecting optuna\n",
      "  Downloading optuna-4.0.0-py3-none-any.whl (362 kB)\n",
      "\u001b[K     |████████████████████████████████| 362 kB 69 kB/s eta 0:00:011\n",
      "\u001b[?25hRequirement already satisfied: tqdm in /opt/conda/lib/python3.9/site-packages (from optuna) (4.61.2)\n",
      "Requirement already satisfied: alembic>=1.5.0 in /opt/conda/lib/python3.9/site-packages (from optuna) (1.6.5)\n",
      "Collecting colorlog\n",
      "  Downloading colorlog-6.8.2-py3-none-any.whl (11 kB)\n",
      "Requirement already satisfied: numpy in /opt/conda/lib/python3.9/site-packages (from optuna) (1.21.1)\n",
      "Requirement already satisfied: packaging>=20.0 in /opt/conda/lib/python3.9/site-packages (from optuna) (21.3)\n",
      "Requirement already satisfied: PyYAML in /opt/conda/lib/python3.9/site-packages (from optuna) (6.0)\n",
      "Requirement already satisfied: sqlalchemy>=1.3.0 in /opt/conda/lib/python3.9/site-packages (from optuna) (1.4.20)\n",
      "Requirement already satisfied: python-editor>=0.3 in /opt/conda/lib/python3.9/site-packages (from alembic>=1.5.0->optuna) (1.0.4)\n",
      "Requirement already satisfied: python-dateutil in /opt/conda/lib/python3.9/site-packages (from alembic>=1.5.0->optuna) (2.8.1)\n",
      "Requirement already satisfied: Mako in /opt/conda/lib/python3.9/site-packages (from alembic>=1.5.0->optuna) (1.1.4)\n",
      "Requirement already satisfied: pyparsing!=3.0.5,>=2.0.2 in /opt/conda/lib/python3.9/site-packages (from packaging>=20.0->optuna) (2.4.7)\n",
      "Requirement already satisfied: greenlet!=0.4.17 in /opt/conda/lib/python3.9/site-packages (from sqlalchemy>=1.3.0->optuna) (1.1.0)\n",
      "Requirement already satisfied: MarkupSafe>=0.9.2 in /opt/conda/lib/python3.9/site-packages (from Mako->alembic>=1.5.0->optuna) (2.1.1)\n",
      "Requirement already satisfied: six>=1.5 in /opt/conda/lib/python3.9/site-packages (from python-dateutil->alembic>=1.5.0->optuna) (1.16.0)\n",
      "Installing collected packages: colorlog, optuna\n",
      "Successfully installed colorlog-6.8.2 optuna-4.0.0\n",
      "Requirement already satisfied: lightgbm in /opt/conda/lib/python3.9/site-packages (3.3.1)\n",
      "Requirement already satisfied: numpy in /opt/conda/lib/python3.9/site-packages (from lightgbm) (1.21.1)\n",
      "Requirement already satisfied: scipy in /opt/conda/lib/python3.9/site-packages (from lightgbm) (1.9.1)\n",
      "Requirement already satisfied: wheel in /opt/conda/lib/python3.9/site-packages (from lightgbm) (0.36.2)\n",
      "Requirement already satisfied: scikit-learn!=0.22.0 in /opt/conda/lib/python3.9/site-packages (from lightgbm) (0.24.1)\n",
      "Requirement already satisfied: joblib>=0.11 in /opt/conda/lib/python3.9/site-packages (from scikit-learn!=0.22.0->lightgbm) (1.1.0)\n",
      "Requirement already satisfied: threadpoolctl>=2.0.0 in /opt/conda/lib/python3.9/site-packages (from scikit-learn!=0.22.0->lightgbm) (3.1.0)\n",
      "Collecting shap\n",
      "  Downloading shap-0.46.0-cp39-cp39-manylinux_2_12_x86_64.manylinux2010_x86_64.manylinux_2_17_x86_64.manylinux2014_x86_64.whl (539 kB)\n",
      "\u001b[K     |████████████████████████████████| 539 kB 1.1 MB/s eta 0:00:01\n",
      "\u001b[?25hCollecting phik\n",
      "  Downloading phik-0.12.4-cp39-cp39-manylinux_2_17_x86_64.manylinux2014_x86_64.whl (686 kB)\n",
      "\u001b[K     |████████████████████████████████| 686 kB 34.0 MB/s eta 0:00:01\n",
      "\u001b[?25hRequirement already satisfied: pandas in /opt/conda/lib/python3.9/site-packages (from shap) (1.2.4)\n",
      "Requirement already satisfied: numba in /opt/conda/lib/python3.9/site-packages (from shap) (0.56.0)\n",
      "Collecting slicer==0.0.8\n",
      "  Downloading slicer-0.0.8-py3-none-any.whl (15 kB)\n",
      "Requirement already satisfied: scipy in /opt/conda/lib/python3.9/site-packages (from shap) (1.9.1)\n",
      "Requirement already satisfied: numpy in /opt/conda/lib/python3.9/site-packages (from shap) (1.21.1)\n",
      "Requirement already satisfied: tqdm>=4.27.0 in /opt/conda/lib/python3.9/site-packages (from shap) (4.61.2)\n",
      "Requirement already satisfied: scikit-learn in /opt/conda/lib/python3.9/site-packages (from shap) (0.24.1)\n",
      "Collecting cloudpickle\n",
      "  Downloading cloudpickle-3.1.0-py3-none-any.whl (22 kB)\n",
      "Requirement already satisfied: packaging>20.9 in /opt/conda/lib/python3.9/site-packages (from shap) (21.3)\n",
      "Requirement already satisfied: pyparsing!=3.0.5,>=2.0.2 in /opt/conda/lib/python3.9/site-packages (from packaging>20.9->shap) (2.4.7)\n",
      "Requirement already satisfied: matplotlib>=2.2.3 in /opt/conda/lib/python3.9/site-packages (from phik) (3.3.4)\n",
      "Requirement already satisfied: joblib>=0.14.1 in /opt/conda/lib/python3.9/site-packages (from phik) (1.1.0)\n",
      "Requirement already satisfied: kiwisolver>=1.0.1 in /opt/conda/lib/python3.9/site-packages (from matplotlib>=2.2.3->phik) (1.4.4)\n",
      "Requirement already satisfied: cycler>=0.10 in /opt/conda/lib/python3.9/site-packages (from matplotlib>=2.2.3->phik) (0.11.0)\n",
      "Requirement already satisfied: pillow>=6.2.0 in /opt/conda/lib/python3.9/site-packages (from matplotlib>=2.2.3->phik) (8.4.0)\n",
      "Requirement already satisfied: python-dateutil>=2.1 in /opt/conda/lib/python3.9/site-packages (from matplotlib>=2.2.3->phik) (2.8.1)\n",
      "Requirement already satisfied: pytz>=2017.3 in /opt/conda/lib/python3.9/site-packages (from pandas->shap) (2021.1)\n",
      "Requirement already satisfied: six>=1.5 in /opt/conda/lib/python3.9/site-packages (from python-dateutil>=2.1->matplotlib>=2.2.3->phik) (1.16.0)\n",
      "Requirement already satisfied: llvmlite<0.40,>=0.39.0dev0 in /opt/conda/lib/python3.9/site-packages (from numba->shap) (0.39.0)\n",
      "Requirement already satisfied: setuptools in /opt/conda/lib/python3.9/site-packages (from numba->shap) (49.6.0.post20210108)\n",
      "Requirement already satisfied: threadpoolctl>=2.0.0 in /opt/conda/lib/python3.9/site-packages (from scikit-learn->shap) (3.1.0)\n",
      "Installing collected packages: slicer, cloudpickle, shap, phik\n",
      "Successfully installed cloudpickle-3.1.0 phik-0.12.4 shap-0.46.0 slicer-0.0.8\n",
      "Collecting optuna-integration[sklearn]\n",
      "  Downloading optuna_integration-4.0.0-py3-none-any.whl (96 kB)\n",
      "\u001b[K     |████████████████████████████████| 96 kB 1.3 MB/s eta 0:00:011\n",
      "\u001b[?25hRequirement already satisfied: optuna in /opt/conda/lib/python3.9/site-packages (from optuna-integration[sklearn]) (4.0.0)\n",
      "Requirement already satisfied: scipy in /opt/conda/lib/python3.9/site-packages (from optuna-integration[sklearn]) (1.9.1)\n",
      "Requirement already satisfied: pandas in /opt/conda/lib/python3.9/site-packages (from optuna-integration[sklearn]) (1.2.4)\n",
      "Requirement already satisfied: scikit-learn in /opt/conda/lib/python3.9/site-packages (from optuna-integration[sklearn]) (0.24.1)\n",
      "Requirement already satisfied: alembic>=1.5.0 in /opt/conda/lib/python3.9/site-packages (from optuna->optuna-integration[sklearn]) (1.6.5)\n",
      "Requirement already satisfied: colorlog in /opt/conda/lib/python3.9/site-packages (from optuna->optuna-integration[sklearn]) (6.8.2)\n",
      "Requirement already satisfied: packaging>=20.0 in /opt/conda/lib/python3.9/site-packages (from optuna->optuna-integration[sklearn]) (21.3)\n",
      "Requirement already satisfied: sqlalchemy>=1.3.0 in /opt/conda/lib/python3.9/site-packages (from optuna->optuna-integration[sklearn]) (1.4.20)\n",
      "Requirement already satisfied: numpy in /opt/conda/lib/python3.9/site-packages (from optuna->optuna-integration[sklearn]) (1.21.1)\n",
      "Requirement already satisfied: tqdm in /opt/conda/lib/python3.9/site-packages (from optuna->optuna-integration[sklearn]) (4.61.2)\n",
      "Requirement already satisfied: PyYAML in /opt/conda/lib/python3.9/site-packages (from optuna->optuna-integration[sklearn]) (6.0)\n",
      "Requirement already satisfied: python-editor>=0.3 in /opt/conda/lib/python3.9/site-packages (from alembic>=1.5.0->optuna->optuna-integration[sklearn]) (1.0.4)\n",
      "Requirement already satisfied: python-dateutil in /opt/conda/lib/python3.9/site-packages (from alembic>=1.5.0->optuna->optuna-integration[sklearn]) (2.8.1)\n",
      "Requirement already satisfied: Mako in /opt/conda/lib/python3.9/site-packages (from alembic>=1.5.0->optuna->optuna-integration[sklearn]) (1.1.4)\n",
      "Requirement already satisfied: pyparsing!=3.0.5,>=2.0.2 in /opt/conda/lib/python3.9/site-packages (from packaging>=20.0->optuna->optuna-integration[sklearn]) (2.4.7)\n",
      "Requirement already satisfied: greenlet!=0.4.17 in /opt/conda/lib/python3.9/site-packages (from sqlalchemy>=1.3.0->optuna->optuna-integration[sklearn]) (1.1.0)\n",
      "Requirement already satisfied: MarkupSafe>=0.9.2 in /opt/conda/lib/python3.9/site-packages (from Mako->alembic>=1.5.0->optuna->optuna-integration[sklearn]) (2.1.1)\n",
      "Requirement already satisfied: pytz>=2017.3 in /opt/conda/lib/python3.9/site-packages (from pandas->optuna-integration[sklearn]) (2021.1)\n",
      "Requirement already satisfied: six>=1.5 in /opt/conda/lib/python3.9/site-packages (from python-dateutil->alembic>=1.5.0->optuna->optuna-integration[sklearn]) (1.16.0)\n",
      "Requirement already satisfied: threadpoolctl>=2.0.0 in /opt/conda/lib/python3.9/site-packages (from scikit-learn->optuna-integration[sklearn]) (3.1.0)\n",
      "Requirement already satisfied: joblib>=0.11 in /opt/conda/lib/python3.9/site-packages (from scikit-learn->optuna-integration[sklearn]) (1.1.0)\n",
      "Installing collected packages: optuna-integration\n",
      "Successfully installed optuna-integration-4.0.0\n",
      "Requirement already satisfied: scikit-learn in /opt/conda/lib/python3.9/site-packages (0.24.1)\n",
      "Collecting scikit-learn\n",
      "  Downloading scikit_learn-1.5.2-cp39-cp39-manylinux_2_17_x86_64.manylinux2014_x86_64.whl (13.4 MB)\n",
      "\u001b[K     |████████████████████████████████| 13.4 MB 2.2 MB/s eta 0:00:01\n",
      "\u001b[?25hRequirement already satisfied: threadpoolctl>=3.1.0 in /opt/conda/lib/python3.9/site-packages (from scikit-learn) (3.1.0)\n",
      "Requirement already satisfied: numpy>=1.19.5 in /opt/conda/lib/python3.9/site-packages (from scikit-learn) (1.21.1)\n",
      "Requirement already satisfied: scipy>=1.6.0 in /opt/conda/lib/python3.9/site-packages (from scikit-learn) (1.9.1)\n",
      "Collecting joblib>=1.2.0\n",
      "  Downloading joblib-1.4.2-py3-none-any.whl (301 kB)\n",
      "\u001b[K     |████████████████████████████████| 301 kB 65.7 MB/s eta 0:00:01\n",
      "\u001b[?25hInstalling collected packages: joblib, scikit-learn\n",
      "  Attempting uninstall: joblib\n",
      "    Found existing installation: joblib 1.1.0\n",
      "    Uninstalling joblib-1.1.0:\n",
      "      Successfully uninstalled joblib-1.1.0\n",
      "  Attempting uninstall: scikit-learn\n",
      "    Found existing installation: scikit-learn 0.24.1\n",
      "    Uninstalling scikit-learn-0.24.1:\n",
      "      Successfully uninstalled scikit-learn-0.24.1\n",
      "Successfully installed joblib-1.4.2 scikit-learn-1.5.2\n",
      "Collecting matplotlib==3.8.0\n",
      "  Downloading matplotlib-3.8.0-cp39-cp39-manylinux_2_17_x86_64.manylinux2014_x86_64.whl (11.6 MB)\n",
      "\u001b[K     |████████████████████████████████| 11.6 MB 2.2 MB/s eta 0:00:01\n",
      "\u001b[?25hRequirement already satisfied: pillow>=6.2.0 in /opt/conda/lib/python3.9/site-packages (from matplotlib==3.8.0) (8.4.0)\n",
      "Requirement already satisfied: numpy<2,>=1.21 in /opt/conda/lib/python3.9/site-packages (from matplotlib==3.8.0) (1.21.1)\n",
      "Collecting fonttools>=4.22.0\n",
      "  Downloading fonttools-4.54.1-cp39-cp39-manylinux_2_17_x86_64.manylinux2014_x86_64.whl (4.6 MB)\n",
      "\u001b[K     |████████████████████████████████| 4.6 MB 60.4 MB/s eta 0:00:01\n",
      "\u001b[?25hCollecting importlib-resources>=3.2.0\n",
      "  Downloading importlib_resources-6.4.5-py3-none-any.whl (36 kB)\n",
      "Requirement already satisfied: kiwisolver>=1.0.1 in /opt/conda/lib/python3.9/site-packages (from matplotlib==3.8.0) (1.4.4)\n",
      "Collecting contourpy>=1.0.1\n",
      "  Downloading contourpy-1.3.0-cp39-cp39-manylinux_2_17_x86_64.manylinux2014_x86_64.whl (321 kB)\n",
      "\u001b[K     |████████████████████████████████| 321 kB 64.3 MB/s eta 0:00:01\n",
      "\u001b[?25hRequirement already satisfied: cycler>=0.10 in /opt/conda/lib/python3.9/site-packages (from matplotlib==3.8.0) (0.11.0)\n",
      "Requirement already satisfied: packaging>=20.0 in /opt/conda/lib/python3.9/site-packages (from matplotlib==3.8.0) (21.3)\n",
      "Requirement already satisfied: pyparsing>=2.3.1 in /opt/conda/lib/python3.9/site-packages (from matplotlib==3.8.0) (2.4.7)\n",
      "Requirement already satisfied: python-dateutil>=2.7 in /opt/conda/lib/python3.9/site-packages (from matplotlib==3.8.0) (2.8.1)\n",
      "Collecting numpy<2,>=1.21\n",
      "  Downloading numpy-1.26.4-cp39-cp39-manylinux_2_17_x86_64.manylinux2014_x86_64.whl (18.2 MB)\n",
      "\u001b[K     |████████████████████████████████| 18.2 MB 71.7 MB/s eta 0:00:01\n",
      "\u001b[?25hRequirement already satisfied: zipp>=3.1.0 in /opt/conda/lib/python3.9/site-packages (from importlib-resources>=3.2.0->matplotlib==3.8.0) (3.5.0)\n",
      "Requirement already satisfied: six>=1.5 in /opt/conda/lib/python3.9/site-packages (from python-dateutil>=2.7->matplotlib==3.8.0) (1.16.0)\n",
      "Installing collected packages: numpy, importlib-resources, fonttools, contourpy, matplotlib\n",
      "  Attempting uninstall: numpy\n",
      "    Found existing installation: numpy 1.21.1\n",
      "    Uninstalling numpy-1.21.1:\n",
      "      Successfully uninstalled numpy-1.21.1\n",
      "  Attempting uninstall: matplotlib\n",
      "    Found existing installation: matplotlib 3.3.4\n",
      "    Uninstalling matplotlib-3.3.4:\n",
      "      Successfully uninstalled matplotlib-3.3.4\n",
      "\u001b[31mERROR: pip's dependency resolver does not currently take into account all the packages that are installed. This behaviour is the source of the following dependency conflicts.\n",
      "scipy 1.9.1 requires numpy<1.25.0,>=1.18.5, but you have numpy 1.26.4 which is incompatible.\n",
      "numba 0.56.0 requires numpy<1.23,>=1.18, but you have numpy 1.26.4 which is incompatible.\u001b[0m\n",
      "Successfully installed contourpy-1.3.0 fonttools-4.54.1 importlib-resources-6.4.5 matplotlib-3.8.0 numpy-1.26.4\n",
      "Requirement already satisfied: seaborn in /opt/conda/lib/python3.9/site-packages (0.11.1)\n",
      "Collecting seaborn\n",
      "  Downloading seaborn-0.13.2-py3-none-any.whl (294 kB)\n",
      "\u001b[K     |████████████████████████████████| 294 kB 2.2 MB/s eta 0:00:01\n",
      "\u001b[?25hRequirement already satisfied: matplotlib!=3.6.1,>=3.4 in /opt/conda/lib/python3.9/site-packages (from seaborn) (3.8.0)\n",
      "Requirement already satisfied: pandas>=1.2 in /opt/conda/lib/python3.9/site-packages (from seaborn) (1.2.4)\n",
      "Requirement already satisfied: numpy!=1.24.0,>=1.20 in /opt/conda/lib/python3.9/site-packages (from seaborn) (1.26.4)\n",
      "Requirement already satisfied: fonttools>=4.22.0 in /opt/conda/lib/python3.9/site-packages (from matplotlib!=3.6.1,>=3.4->seaborn) (4.54.1)\n",
      "Requirement already satisfied: pillow>=6.2.0 in /opt/conda/lib/python3.9/site-packages (from matplotlib!=3.6.1,>=3.4->seaborn) (8.4.0)\n",
      "Requirement already satisfied: kiwisolver>=1.0.1 in /opt/conda/lib/python3.9/site-packages (from matplotlib!=3.6.1,>=3.4->seaborn) (1.4.4)\n",
      "Requirement already satisfied: pyparsing>=2.3.1 in /opt/conda/lib/python3.9/site-packages (from matplotlib!=3.6.1,>=3.4->seaborn) (2.4.7)\n",
      "Requirement already satisfied: cycler>=0.10 in /opt/conda/lib/python3.9/site-packages (from matplotlib!=3.6.1,>=3.4->seaborn) (0.11.0)\n",
      "Requirement already satisfied: importlib-resources>=3.2.0 in /opt/conda/lib/python3.9/site-packages (from matplotlib!=3.6.1,>=3.4->seaborn) (6.4.5)\n",
      "Requirement already satisfied: packaging>=20.0 in /opt/conda/lib/python3.9/site-packages (from matplotlib!=3.6.1,>=3.4->seaborn) (21.3)\n",
      "Requirement already satisfied: contourpy>=1.0.1 in /opt/conda/lib/python3.9/site-packages (from matplotlib!=3.6.1,>=3.4->seaborn) (1.3.0)\n",
      "Requirement already satisfied: python-dateutil>=2.7 in /opt/conda/lib/python3.9/site-packages (from matplotlib!=3.6.1,>=3.4->seaborn) (2.8.1)\n",
      "Requirement already satisfied: zipp>=3.1.0 in /opt/conda/lib/python3.9/site-packages (from importlib-resources>=3.2.0->matplotlib!=3.6.1,>=3.4->seaborn) (3.5.0)\n",
      "Requirement already satisfied: pytz>=2017.3 in /opt/conda/lib/python3.9/site-packages (from pandas>=1.2->seaborn) (2021.1)\n",
      "Requirement already satisfied: six>=1.5 in /opt/conda/lib/python3.9/site-packages (from python-dateutil>=2.7->matplotlib!=3.6.1,>=3.4->seaborn) (1.16.0)\n",
      "Installing collected packages: seaborn\n",
      "  Attempting uninstall: seaborn\n",
      "    Found existing installation: seaborn 0.11.1\n",
      "    Uninstalling seaborn-0.11.1:\n",
      "      Successfully uninstalled seaborn-0.11.1\n",
      "Successfully installed seaborn-0.13.2\n"
     ]
    }
   ],
   "source": [
    "# Загрузка необходимых библиотек\n",
    "!pip install optuna\n",
    "!pip install lightgbm\n",
    "!pip install shap phik\n",
    "!pip install optuna-integration[sklearn]\n",
    "!pip install -U scikit-learn\n",
    "!pip install matplotlib==3.8.0\n",
    "!pip install seaborn --upgrade"
   ]
  },
  {
   "cell_type": "code",
   "execution_count": 2,
   "metadata": {},
   "outputs": [
    {
     "name": "stderr",
     "output_type": "stream",
     "text": [
      "/opt/conda/lib/python3.9/site-packages/scipy/__init__.py:155: UserWarning: A NumPy version >=1.18.5 and <1.25.0 is required for this version of SciPy (detected version 1.26.4\n",
      "  warnings.warn(f\"A NumPy version >={np_minversion} and <{np_maxversion}\"\n"
     ]
    }
   ],
   "source": [
    "# Импорт необходимых библиотек\n",
    "import pandas as pd\n",
    "import matplotlib.pyplot as plt\n",
    "import numpy as np\n",
    "import seaborn as sns\n",
    "import phik\n",
    "import optuna\n",
    "import time\n",
    "import lightgbm as lgb\n",
    "from matplotlib import pyplot as plt\n",
    "from sklearn.model_selection import train_test_split\n",
    "from sklearn.impute import SimpleImputer\n",
    "from sklearn.linear_model import LinearRegression, Ridge\n",
    "from sklearn.ensemble import RandomForestRegressor\n",
    "from sklearn.dummy import DummyRegressor\n",
    "from sklearn.pipeline import Pipeline\n",
    "from sklearn.compose import ColumnTransformer\n",
    "from sklearn.metrics import mean_squared_error\n",
    "from sklearn.preprocessing import StandardScaler, OneHotEncoder, OrdinalEncoder\n",
    "from lightgbm import LGBMRegressor\n",
    "from optuna.integration import OptunaSearchCV\n",
    "\n",
    "import warnings\n",
    "warnings.filterwarnings('ignore')\n",
    "\n",
    "sns.set_theme(style='whitegrid', palette='muted')"
   ]
  },
  {
   "cell_type": "code",
   "execution_count": 3,
   "metadata": {},
   "outputs": [],
   "source": [
    "def data_info (df):\n",
    "    '''\n",
    "    Отображает первые 5 строк, общую информацию и описательную статистику DataFrame.\n",
    "\n",
    "    '''\n",
    "    display(df.head())\n",
    "    df.info()\n",
    "    display(df.describe().round(3))"
   ]
  },
  {
   "cell_type": "code",
   "execution_count": 4,
   "metadata": {},
   "outputs": [],
   "source": [
    "def plt_hist_boxplt(column, title, label, bins=20, \n",
    "                     hue=None, xlim=None, color=None):\n",
    "    '''\n",
    "    Строит гистограмму и диаграмму размаха для указанного столбца DataFrame.\n",
    "    \n",
    "    Args:\n",
    "        column (str): Столбец, для которого будут строиться графики.\n",
    "        title (str): Заголовок для графиков.\n",
    "        label (str): Название оси x для обоих графиков.\n",
    "        hue (str): Кательгориальный столбец для разбивки. По умолчанию None\n",
    "        bins (int, optional): Количество бинов для гистограммы. По умолчанию 20.\n",
    "        xlim (tuple, optional): Пределы для оси x. По умолчанию None.\n",
    "        color (str, optional): Цвет графиков. По умолчанию None.\n",
    "    '''\n",
    "    \n",
    "    # Описательные статистики\n",
    "    print(f'Описательные статистики параметра {title}')\n",
    "    #display(pd.DataFrame(autos[column].describe()).T.style.format(precision=3))\n",
    "    display(pd.DataFrame(autos[column].describe()).T.style.set_precision(3))\n",
    "    \n",
    "    # Построение графиков\n",
    "    fig, (ax1, ax2) = plt.subplots(1, 2, figsize=(12, 4.5))\n",
    "    \n",
    "    # Гистограмма\n",
    "    sns.histplot(data=autos, x=column, hue=hue, bins=bins, ax=ax1, color=color)\n",
    "    ax1.set_title(f'Гистограмма - {title}', fontsize=14)\n",
    "    ax1.set_xlabel(label)\n",
    "    ax1.set_ylabel('Частота')\n",
    "    ax1.set_xlim(xlim)\n",
    "\n",
    "    # Диаграмма размаха\n",
    "    sns.boxplot(data=autos, x=hue, y=column, ax=ax2, color=color, width=.5)\n",
    "    ax2.set_title(f'Диаграмма размаха - {title}', fontsize=14)\n",
    "    ax2.set_ylabel(label)\n",
    "    ax2.set_xlim(xlim)\n",
    "\n",
    "    plt.tight_layout()\n",
    "    plt.show()"
   ]
  },
  {
   "cell_type": "code",
   "execution_count": 5,
   "metadata": {},
   "outputs": [],
   "source": [
    "def plt_bar_box(column, xlabel, title, values='model', aggfunc='count', ylabel='Количество',\n",
    "                figsize=(14, 5), display_pivot=False, display_bar_label=False):\n",
    "    '''\n",
    "    Создает вертикальную столбчатую диаграмму и боксплот для цены по категориям.\n",
    "\n",
    "    Args:\n",
    "        column (str): Столбец для построения сводной таблицы и диаграмм.\n",
    "        xlabel (str): Название оси x для барплота.\n",
    "        title (str): Заголовок барплота.\n",
    "        values (str, optional): Столбец для агрегации в сводной таблице. По умолчанию 'model'.\n",
    "        aggfunc (str or function, optional): Функция агрегации для сводной таблицы. По умолчанию 'count'.\n",
    "        ylabel (str, optional): Название оси y для барплота. По умолчанию 'Количество'.\n",
    "        figsize (tuple, optional): Размеры фигуры (ширина, высота). По умолчанию (14, 5).\n",
    "        display_pivot (bool, optional): Отображать сводную таблицу перед построением диаграмм. По умолчанию False.\n",
    "        display_bar_label (bool, optional): Добавлять метки на столбики барплота. По умолчанию False.\n",
    "    '''\n",
    "\n",
    "    # Сводная таблица\n",
    "    column_pivot_bar = (\n",
    "        autos\n",
    "        .pivot_table(index=column, values=values, aggfunc=aggfunc)\n",
    "        .reset_index()\n",
    "        .sort_values(by=values, ascending=False)\n",
    "    )\n",
    "    \n",
    "    if display_pivot:\n",
    "        display(column_pivot_bar)\n",
    "\n",
    "    # Построение графиков\n",
    "    fig, axes = plt.subplots(1, 2, figsize=figsize)\n",
    "\n",
    "    # Столбчатая диаграмма\n",
    "    ax1 = sns.barplot(data=column_pivot_bar, x=column, y=values, palette='muted', ax=axes[0])\n",
    "    ax1.set_ylabel(ylabel)\n",
    "    ax1.set_xlabel(xlabel)\n",
    "    ax1.set_title(title, fontsize=14)\n",
    "\n",
    "    # Метки с абсолютными значениями на столбики\n",
    "    if display_bar_label:\n",
    "        for container in ax1.containers:\n",
    "            ax1.bar_label(container, fontsize=10)\n",
    "\n",
    "    # Диаграмма размаха\n",
    "    ax2 = sns.boxplot(data=autos, x=column, y='price', palette='muted', ax=axes[1])\n",
    "    ax2.set_ylabel('Евро')\n",
    "    ax2.set_xlabel(xlabel)\n",
    "    ax2.set_title(f'Диаграмма размаха цены - {title}')\n",
    "\n",
    "    plt.tight_layout()\n",
    "    plt.show()"
   ]
  },
  {
   "cell_type": "code",
   "execution_count": 6,
   "metadata": {},
   "outputs": [],
   "source": [
    "def plt_barh(column, ylabel, title, values='fuel_type', aggfunc='count', xlabel='Количество', \n",
    "            figsize=(14, 5), head=15, display_bar_label=False):\n",
    "    '''\n",
    "    Создает горизонтальную столбчатую диаграмму для указанного столбца DataFrame.\n",
    "    \n",
    "    Args:\n",
    "        column (str): Столбец, по которому будет строиться сводная таблица и диаграмма.\n",
    "        xlabel (str): Название оси x для диаграммы.\n",
    "        title (str): Заголовок диаграммы.\n",
    "        values (str, optional): Столбец для агрегации в сводной таблице. По умолчанию 'model'.\n",
    "        aggfunc (str or function, optional): Функция агрегации для сводной таблицы. По умолчанию 'count'.\n",
    "        ylabel (str, optional): Название оси y для диаграммы. По умолчанию 'Количество'.\n",
    "        figsize (tuple, optional): Размеры фигуры (ширина, высота). По умолчанию (14, 5).\n",
    "        display_bar_label (bool, optional): Добавлять метки на столбики барплота. По умолчанию False.\n",
    "    '''\n",
    "    \n",
    "    # Сводная таблица\n",
    "    column_pivot_bar = (\n",
    "        autos\n",
    "        .pivot_table(index=column, values=values, aggfunc=aggfunc)\n",
    "        .reset_index()\n",
    "        .sort_values(by=values, ascending=False)\n",
    "        .head(head)\n",
    "    )\n",
    "\n",
    "    # Столбчатая диаграмма\n",
    "    plt.figure(figsize=figsize)\n",
    "    ax = sns.barplot(data=column_pivot_bar, y=column, x=values, palette='muted')\n",
    "    plt.ylabel(ylabel)\n",
    "    plt.xlabel(xlabel)\n",
    "    plt.title(title, fontsize=14)\n",
    "\n",
    "    # Метки с абсолютными значениями на столбики\n",
    "    if display_bar_label:\n",
    "        for container in ax.containers:\n",
    "            ax.bar_label(container, fontsize=10)\n",
    "    \n",
    "    plt.show()"
   ]
  },
  {
   "cell_type": "markdown",
   "metadata": {},
   "source": [
    "## Загрузка и обзор данных"
   ]
  },
  {
   "cell_type": "code",
   "execution_count": 7,
   "metadata": {},
   "outputs": [],
   "source": [
    "# Загрузка данных\n",
    "try:\n",
    "    autos = pd.read_csv('autos.csv', \n",
    "                        parse_dates=['DateCrawled', 'DateCreated', 'LastSeen'])\n",
    "except:\n",
    "    autos = pd.read_csv('/datasets/autos.csv', \n",
    "                        parse_dates=['DateCrawled', 'DateCreated', 'LastSeen'])"
   ]
  },
  {
   "cell_type": "code",
   "execution_count": 8,
   "metadata": {},
   "outputs": [
    {
     "data": {
      "text/html": [
       "<div>\n",
       "<style scoped>\n",
       "    .dataframe tbody tr th:only-of-type {\n",
       "        vertical-align: middle;\n",
       "    }\n",
       "\n",
       "    .dataframe tbody tr th {\n",
       "        vertical-align: top;\n",
       "    }\n",
       "\n",
       "    .dataframe thead th {\n",
       "        text-align: right;\n",
       "    }\n",
       "</style>\n",
       "<table border=\"1\" class=\"dataframe\">\n",
       "  <thead>\n",
       "    <tr style=\"text-align: right;\">\n",
       "      <th></th>\n",
       "      <th>DateCrawled</th>\n",
       "      <th>Price</th>\n",
       "      <th>VehicleType</th>\n",
       "      <th>RegistrationYear</th>\n",
       "      <th>Gearbox</th>\n",
       "      <th>Power</th>\n",
       "      <th>Model</th>\n",
       "      <th>Kilometer</th>\n",
       "      <th>RegistrationMonth</th>\n",
       "      <th>FuelType</th>\n",
       "      <th>Brand</th>\n",
       "      <th>Repaired</th>\n",
       "      <th>DateCreated</th>\n",
       "      <th>NumberOfPictures</th>\n",
       "      <th>PostalCode</th>\n",
       "      <th>LastSeen</th>\n",
       "    </tr>\n",
       "  </thead>\n",
       "  <tbody>\n",
       "    <tr>\n",
       "      <th>0</th>\n",
       "      <td>2016-03-24 11:52:17</td>\n",
       "      <td>480</td>\n",
       "      <td>NaN</td>\n",
       "      <td>1993</td>\n",
       "      <td>manual</td>\n",
       "      <td>0</td>\n",
       "      <td>golf</td>\n",
       "      <td>150000</td>\n",
       "      <td>0</td>\n",
       "      <td>petrol</td>\n",
       "      <td>volkswagen</td>\n",
       "      <td>NaN</td>\n",
       "      <td>2016-03-24</td>\n",
       "      <td>0</td>\n",
       "      <td>70435</td>\n",
       "      <td>2016-04-07 03:16:57</td>\n",
       "    </tr>\n",
       "    <tr>\n",
       "      <th>1</th>\n",
       "      <td>2016-03-24 10:58:45</td>\n",
       "      <td>18300</td>\n",
       "      <td>coupe</td>\n",
       "      <td>2011</td>\n",
       "      <td>manual</td>\n",
       "      <td>190</td>\n",
       "      <td>NaN</td>\n",
       "      <td>125000</td>\n",
       "      <td>5</td>\n",
       "      <td>gasoline</td>\n",
       "      <td>audi</td>\n",
       "      <td>yes</td>\n",
       "      <td>2016-03-24</td>\n",
       "      <td>0</td>\n",
       "      <td>66954</td>\n",
       "      <td>2016-04-07 01:46:50</td>\n",
       "    </tr>\n",
       "    <tr>\n",
       "      <th>2</th>\n",
       "      <td>2016-03-14 12:52:21</td>\n",
       "      <td>9800</td>\n",
       "      <td>suv</td>\n",
       "      <td>2004</td>\n",
       "      <td>auto</td>\n",
       "      <td>163</td>\n",
       "      <td>grand</td>\n",
       "      <td>125000</td>\n",
       "      <td>8</td>\n",
       "      <td>gasoline</td>\n",
       "      <td>jeep</td>\n",
       "      <td>NaN</td>\n",
       "      <td>2016-03-14</td>\n",
       "      <td>0</td>\n",
       "      <td>90480</td>\n",
       "      <td>2016-04-05 12:47:46</td>\n",
       "    </tr>\n",
       "    <tr>\n",
       "      <th>3</th>\n",
       "      <td>2016-03-17 16:54:04</td>\n",
       "      <td>1500</td>\n",
       "      <td>small</td>\n",
       "      <td>2001</td>\n",
       "      <td>manual</td>\n",
       "      <td>75</td>\n",
       "      <td>golf</td>\n",
       "      <td>150000</td>\n",
       "      <td>6</td>\n",
       "      <td>petrol</td>\n",
       "      <td>volkswagen</td>\n",
       "      <td>no</td>\n",
       "      <td>2016-03-17</td>\n",
       "      <td>0</td>\n",
       "      <td>91074</td>\n",
       "      <td>2016-03-17 17:40:17</td>\n",
       "    </tr>\n",
       "    <tr>\n",
       "      <th>4</th>\n",
       "      <td>2016-03-31 17:25:20</td>\n",
       "      <td>3600</td>\n",
       "      <td>small</td>\n",
       "      <td>2008</td>\n",
       "      <td>manual</td>\n",
       "      <td>69</td>\n",
       "      <td>fabia</td>\n",
       "      <td>90000</td>\n",
       "      <td>7</td>\n",
       "      <td>gasoline</td>\n",
       "      <td>skoda</td>\n",
       "      <td>no</td>\n",
       "      <td>2016-03-31</td>\n",
       "      <td>0</td>\n",
       "      <td>60437</td>\n",
       "      <td>2016-04-06 10:17:21</td>\n",
       "    </tr>\n",
       "  </tbody>\n",
       "</table>\n",
       "</div>"
      ],
      "text/plain": [
       "          DateCrawled  Price VehicleType  RegistrationYear Gearbox  Power  \\\n",
       "0 2016-03-24 11:52:17    480         NaN              1993  manual      0   \n",
       "1 2016-03-24 10:58:45  18300       coupe              2011  manual    190   \n",
       "2 2016-03-14 12:52:21   9800         suv              2004    auto    163   \n",
       "3 2016-03-17 16:54:04   1500       small              2001  manual     75   \n",
       "4 2016-03-31 17:25:20   3600       small              2008  manual     69   \n",
       "\n",
       "   Model  Kilometer  RegistrationMonth  FuelType       Brand Repaired  \\\n",
       "0   golf     150000                  0    petrol  volkswagen      NaN   \n",
       "1    NaN     125000                  5  gasoline        audi      yes   \n",
       "2  grand     125000                  8  gasoline        jeep      NaN   \n",
       "3   golf     150000                  6    petrol  volkswagen       no   \n",
       "4  fabia      90000                  7  gasoline       skoda       no   \n",
       "\n",
       "  DateCreated  NumberOfPictures  PostalCode            LastSeen  \n",
       "0  2016-03-24                 0       70435 2016-04-07 03:16:57  \n",
       "1  2016-03-24                 0       66954 2016-04-07 01:46:50  \n",
       "2  2016-03-14                 0       90480 2016-04-05 12:47:46  \n",
       "3  2016-03-17                 0       91074 2016-03-17 17:40:17  \n",
       "4  2016-03-31                 0       60437 2016-04-06 10:17:21  "
      ]
     },
     "metadata": {},
     "output_type": "display_data"
    },
    {
     "name": "stdout",
     "output_type": "stream",
     "text": [
      "<class 'pandas.core.frame.DataFrame'>\n",
      "RangeIndex: 354369 entries, 0 to 354368\n",
      "Data columns (total 16 columns):\n",
      " #   Column             Non-Null Count   Dtype         \n",
      "---  ------             --------------   -----         \n",
      " 0   DateCrawled        354369 non-null  datetime64[ns]\n",
      " 1   Price              354369 non-null  int64         \n",
      " 2   VehicleType        316879 non-null  object        \n",
      " 3   RegistrationYear   354369 non-null  int64         \n",
      " 4   Gearbox            334536 non-null  object        \n",
      " 5   Power              354369 non-null  int64         \n",
      " 6   Model              334664 non-null  object        \n",
      " 7   Kilometer          354369 non-null  int64         \n",
      " 8   RegistrationMonth  354369 non-null  int64         \n",
      " 9   FuelType           321474 non-null  object        \n",
      " 10  Brand              354369 non-null  object        \n",
      " 11  Repaired           283215 non-null  object        \n",
      " 12  DateCreated        354369 non-null  datetime64[ns]\n",
      " 13  NumberOfPictures   354369 non-null  int64         \n",
      " 14  PostalCode         354369 non-null  int64         \n",
      " 15  LastSeen           354369 non-null  datetime64[ns]\n",
      "dtypes: datetime64[ns](3), int64(7), object(6)\n",
      "memory usage: 43.3+ MB\n"
     ]
    },
    {
     "data": {
      "text/html": [
       "<div>\n",
       "<style scoped>\n",
       "    .dataframe tbody tr th:only-of-type {\n",
       "        vertical-align: middle;\n",
       "    }\n",
       "\n",
       "    .dataframe tbody tr th {\n",
       "        vertical-align: top;\n",
       "    }\n",
       "\n",
       "    .dataframe thead th {\n",
       "        text-align: right;\n",
       "    }\n",
       "</style>\n",
       "<table border=\"1\" class=\"dataframe\">\n",
       "  <thead>\n",
       "    <tr style=\"text-align: right;\">\n",
       "      <th></th>\n",
       "      <th>Price</th>\n",
       "      <th>RegistrationYear</th>\n",
       "      <th>Power</th>\n",
       "      <th>Kilometer</th>\n",
       "      <th>RegistrationMonth</th>\n",
       "      <th>NumberOfPictures</th>\n",
       "      <th>PostalCode</th>\n",
       "    </tr>\n",
       "  </thead>\n",
       "  <tbody>\n",
       "    <tr>\n",
       "      <th>count</th>\n",
       "      <td>354369.000</td>\n",
       "      <td>354369.000</td>\n",
       "      <td>354369.000</td>\n",
       "      <td>354369.000</td>\n",
       "      <td>354369.000</td>\n",
       "      <td>354369.0</td>\n",
       "      <td>354369.000</td>\n",
       "    </tr>\n",
       "    <tr>\n",
       "      <th>mean</th>\n",
       "      <td>4416.657</td>\n",
       "      <td>2004.234</td>\n",
       "      <td>110.094</td>\n",
       "      <td>128211.173</td>\n",
       "      <td>5.715</td>\n",
       "      <td>0.0</td>\n",
       "      <td>50508.689</td>\n",
       "    </tr>\n",
       "    <tr>\n",
       "      <th>std</th>\n",
       "      <td>4514.159</td>\n",
       "      <td>90.228</td>\n",
       "      <td>189.850</td>\n",
       "      <td>37905.342</td>\n",
       "      <td>3.726</td>\n",
       "      <td>0.0</td>\n",
       "      <td>25783.096</td>\n",
       "    </tr>\n",
       "    <tr>\n",
       "      <th>min</th>\n",
       "      <td>0.000</td>\n",
       "      <td>1000.000</td>\n",
       "      <td>0.000</td>\n",
       "      <td>5000.000</td>\n",
       "      <td>0.000</td>\n",
       "      <td>0.0</td>\n",
       "      <td>1067.000</td>\n",
       "    </tr>\n",
       "    <tr>\n",
       "      <th>25%</th>\n",
       "      <td>1050.000</td>\n",
       "      <td>1999.000</td>\n",
       "      <td>69.000</td>\n",
       "      <td>125000.000</td>\n",
       "      <td>3.000</td>\n",
       "      <td>0.0</td>\n",
       "      <td>30165.000</td>\n",
       "    </tr>\n",
       "    <tr>\n",
       "      <th>50%</th>\n",
       "      <td>2700.000</td>\n",
       "      <td>2003.000</td>\n",
       "      <td>105.000</td>\n",
       "      <td>150000.000</td>\n",
       "      <td>6.000</td>\n",
       "      <td>0.0</td>\n",
       "      <td>49413.000</td>\n",
       "    </tr>\n",
       "    <tr>\n",
       "      <th>75%</th>\n",
       "      <td>6400.000</td>\n",
       "      <td>2008.000</td>\n",
       "      <td>143.000</td>\n",
       "      <td>150000.000</td>\n",
       "      <td>9.000</td>\n",
       "      <td>0.0</td>\n",
       "      <td>71083.000</td>\n",
       "    </tr>\n",
       "    <tr>\n",
       "      <th>max</th>\n",
       "      <td>20000.000</td>\n",
       "      <td>9999.000</td>\n",
       "      <td>20000.000</td>\n",
       "      <td>150000.000</td>\n",
       "      <td>12.000</td>\n",
       "      <td>0.0</td>\n",
       "      <td>99998.000</td>\n",
       "    </tr>\n",
       "  </tbody>\n",
       "</table>\n",
       "</div>"
      ],
      "text/plain": [
       "            Price  RegistrationYear       Power   Kilometer  \\\n",
       "count  354369.000        354369.000  354369.000  354369.000   \n",
       "mean     4416.657          2004.234     110.094  128211.173   \n",
       "std      4514.159            90.228     189.850   37905.342   \n",
       "min         0.000          1000.000       0.000    5000.000   \n",
       "25%      1050.000          1999.000      69.000  125000.000   \n",
       "50%      2700.000          2003.000     105.000  150000.000   \n",
       "75%      6400.000          2008.000     143.000  150000.000   \n",
       "max     20000.000          9999.000   20000.000  150000.000   \n",
       "\n",
       "       RegistrationMonth  NumberOfPictures  PostalCode  \n",
       "count         354369.000          354369.0  354369.000  \n",
       "mean               5.715               0.0   50508.689  \n",
       "std                3.726               0.0   25783.096  \n",
       "min                0.000               0.0    1067.000  \n",
       "25%                3.000               0.0   30165.000  \n",
       "50%                6.000               0.0   49413.000  \n",
       "75%                9.000               0.0   71083.000  \n",
       "max               12.000               0.0   99998.000  "
      ]
     },
     "metadata": {},
     "output_type": "display_data"
    }
   ],
   "source": [
    "# Вывод общей информации о датафрейме\n",
    "data_info(autos)"
   ]
  },
  {
   "cell_type": "markdown",
   "metadata": {},
   "source": [
    "**Общая предварительная оценка данных:**\n",
    "- Набор данных достаточен для исследовательского анализа.\n",
    "- Датафрейм содержит 354 369 строк с информацией о технических характеристиках, комплектации и ценах автомобилей.\n",
    "- В данных присутствуют пропуски, а также аномальные значения.\n",
    "- В данных могут содержатся дубликаты.\n",
    "- Датафрейм содержит неинформативные для анализа и прогноза признаки.\n",
    "\n",
    "Для дальнейшей работы с данными выполним их предобработку."
   ]
  },
  {
   "cell_type": "markdown",
   "metadata": {},
   "source": [
    "## Предобработка данных"
   ]
  },
  {
   "cell_type": "markdown",
   "metadata": {},
   "source": [
    "### Удаление неинформативных признаков"
   ]
  },
  {
   "cell_type": "markdown",
   "metadata": {},
   "source": [
    "В датафрейме присутствует ряд признаков неинформативных для дальнейшего анализа и обучения модели прогнозирования цены. Это признаки, связанные с пользователями и деталями скачивания данных:\n",
    "- `DateCrawled` — дата скачивания анкеты из базы\n",
    "- `DateCreated` — дата создания анкеты\n",
    "- `PostalCode` — почтовый индекс владельца анкеты (пользователя)\n",
    "- `LastSeen` — дата последней активности пользователя\n",
    "\n",
    "Удалим указанные столбцы из датафрейма. Также удалим столбец `NumberOfPictures` (количество фотографий автомобиля), т.к. все значения в нем равны 0."
   ]
  },
  {
   "cell_type": "code",
   "execution_count": 9,
   "metadata": {},
   "outputs": [
    {
     "data": {
      "text/plain": [
       "0    354369\n",
       "Name: NumberOfPictures, dtype: int64"
      ]
     },
     "execution_count": 9,
     "metadata": {},
     "output_type": "execute_result"
    }
   ],
   "source": [
    "# Количество уникальных значений в столбце 'NumberOfPictures'\n",
    "autos['NumberOfPictures'].value_counts()"
   ]
  },
  {
   "cell_type": "code",
   "execution_count": 10,
   "metadata": {},
   "outputs": [
    {
     "data": {
      "text/html": [
       "<div>\n",
       "<style scoped>\n",
       "    .dataframe tbody tr th:only-of-type {\n",
       "        vertical-align: middle;\n",
       "    }\n",
       "\n",
       "    .dataframe tbody tr th {\n",
       "        vertical-align: top;\n",
       "    }\n",
       "\n",
       "    .dataframe thead th {\n",
       "        text-align: right;\n",
       "    }\n",
       "</style>\n",
       "<table border=\"1\" class=\"dataframe\">\n",
       "  <thead>\n",
       "    <tr style=\"text-align: right;\">\n",
       "      <th></th>\n",
       "      <th>Price</th>\n",
       "      <th>VehicleType</th>\n",
       "      <th>RegistrationYear</th>\n",
       "      <th>Gearbox</th>\n",
       "      <th>Power</th>\n",
       "      <th>Model</th>\n",
       "      <th>Kilometer</th>\n",
       "      <th>RegistrationMonth</th>\n",
       "      <th>FuelType</th>\n",
       "      <th>Brand</th>\n",
       "      <th>Repaired</th>\n",
       "    </tr>\n",
       "  </thead>\n",
       "  <tbody>\n",
       "    <tr>\n",
       "      <th>0</th>\n",
       "      <td>480</td>\n",
       "      <td>NaN</td>\n",
       "      <td>1993</td>\n",
       "      <td>manual</td>\n",
       "      <td>0</td>\n",
       "      <td>golf</td>\n",
       "      <td>150000</td>\n",
       "      <td>0</td>\n",
       "      <td>petrol</td>\n",
       "      <td>volkswagen</td>\n",
       "      <td>NaN</td>\n",
       "    </tr>\n",
       "    <tr>\n",
       "      <th>1</th>\n",
       "      <td>18300</td>\n",
       "      <td>coupe</td>\n",
       "      <td>2011</td>\n",
       "      <td>manual</td>\n",
       "      <td>190</td>\n",
       "      <td>NaN</td>\n",
       "      <td>125000</td>\n",
       "      <td>5</td>\n",
       "      <td>gasoline</td>\n",
       "      <td>audi</td>\n",
       "      <td>yes</td>\n",
       "    </tr>\n",
       "  </tbody>\n",
       "</table>\n",
       "</div>"
      ],
      "text/plain": [
       "   Price VehicleType  RegistrationYear Gearbox  Power Model  Kilometer  \\\n",
       "0    480         NaN              1993  manual      0  golf     150000   \n",
       "1  18300       coupe              2011  manual    190   NaN     125000   \n",
       "\n",
       "   RegistrationMonth  FuelType       Brand Repaired  \n",
       "0                  0    petrol  volkswagen      NaN  \n",
       "1                  5  gasoline        audi      yes  "
      ]
     },
     "execution_count": 10,
     "metadata": {},
     "output_type": "execute_result"
    }
   ],
   "source": [
    "# Удаление неинформативных столбцов\n",
    "autos = autos.drop(['NumberOfPictures', \n",
    "                    'DateCrawled', \n",
    "                    'DateCreated', \n",
    "                    'PostalCode', \n",
    "                    'LastSeen'], axis=1)\n",
    "autos.head(2)"
   ]
  },
  {
   "cell_type": "markdown",
   "metadata": {},
   "source": [
    "### Переименование столбцов"
   ]
  },
  {
   "cell_type": "markdown",
   "metadata": {},
   "source": [
    "Приведем названия столбцов к нижнему регистру и к стилю snake_case:"
   ]
  },
  {
   "cell_type": "code",
   "execution_count": 11,
   "metadata": {},
   "outputs": [
    {
     "data": {
      "text/plain": [
       "Index(['price', 'vehicle_type', 'registration_year', 'gearbox', 'power',\n",
       "       'model', 'kilometer', 'registration_month', 'fuel_type', 'brand',\n",
       "       'repaired'],\n",
       "      dtype='object')"
      ]
     },
     "execution_count": 11,
     "metadata": {},
     "output_type": "execute_result"
    }
   ],
   "source": [
    "# Приведение названий столбцов к нижнему регистру и формату snake_case\n",
    "autos.columns = autos.columns.str.replace(r'(?<!^)(?=[A-Z])', '_', regex=True).str.lower()\n",
    "\n",
    "autos.columns"
   ]
  },
  {
   "cell_type": "markdown",
   "metadata": {},
   "source": [
    "### Обработка пропусков"
   ]
  },
  {
   "cell_type": "code",
   "execution_count": 12,
   "metadata": {},
   "outputs": [
    {
     "name": "stdout",
     "output_type": "stream",
     "text": [
      "Количество пропусков:\n",
      "price                     0\n",
      "vehicle_type          37490\n",
      "registration_year         0\n",
      "gearbox               19833\n",
      "power                     0\n",
      "model                 19705\n",
      "kilometer                 0\n",
      "registration_month        0\n",
      "fuel_type             32895\n",
      "brand                     0\n",
      "repaired              71154\n",
      "dtype: int64\n"
     ]
    },
    {
     "data": {
      "text/html": [
       "<style  type=\"text/css\" >\n",
       "#T_5319c_row0_col0,#T_5319c_row2_col0,#T_5319c_row4_col0,#T_5319c_row6_col0,#T_5319c_row7_col0,#T_5319c_row9_col0{\n",
       "            background-color:  #fff7fb;\n",
       "            color:  #000000;\n",
       "        }#T_5319c_row1_col0{\n",
       "            background-color:  #67a4cc;\n",
       "            color:  #000000;\n",
       "        }#T_5319c_row3_col0{\n",
       "            background-color:  #c6cce3;\n",
       "            color:  #000000;\n",
       "        }#T_5319c_row5_col0{\n",
       "            background-color:  #c8cde4;\n",
       "            color:  #000000;\n",
       "        }#T_5319c_row8_col0{\n",
       "            background-color:  #83afd3;\n",
       "            color:  #000000;\n",
       "        }#T_5319c_row10_col0{\n",
       "            background-color:  #023858;\n",
       "            color:  #f1f1f1;\n",
       "        }</style><table id=\"T_5319c_\" ><thead>    <tr>        <th class=\"blank level0\" ></th>        <th class=\"col_heading level0 col0\" >0</th>    </tr></thead><tbody>\n",
       "                <tr>\n",
       "                        <th id=\"T_5319c_level0_row0\" class=\"row_heading level0 row0\" >price</th>\n",
       "                        <td id=\"T_5319c_row0_col0\" class=\"data row0 col0\" >0.00</td>\n",
       "            </tr>\n",
       "            <tr>\n",
       "                        <th id=\"T_5319c_level0_row1\" class=\"row_heading level0 row1\" >vehicle_type</th>\n",
       "                        <td id=\"T_5319c_row1_col0\" class=\"data row1 col0\" >10.58</td>\n",
       "            </tr>\n",
       "            <tr>\n",
       "                        <th id=\"T_5319c_level0_row2\" class=\"row_heading level0 row2\" >registration_year</th>\n",
       "                        <td id=\"T_5319c_row2_col0\" class=\"data row2 col0\" >0.00</td>\n",
       "            </tr>\n",
       "            <tr>\n",
       "                        <th id=\"T_5319c_level0_row3\" class=\"row_heading level0 row3\" >gearbox</th>\n",
       "                        <td id=\"T_5319c_row3_col0\" class=\"data row3 col0\" >5.60</td>\n",
       "            </tr>\n",
       "            <tr>\n",
       "                        <th id=\"T_5319c_level0_row4\" class=\"row_heading level0 row4\" >power</th>\n",
       "                        <td id=\"T_5319c_row4_col0\" class=\"data row4 col0\" >0.00</td>\n",
       "            </tr>\n",
       "            <tr>\n",
       "                        <th id=\"T_5319c_level0_row5\" class=\"row_heading level0 row5\" >model</th>\n",
       "                        <td id=\"T_5319c_row5_col0\" class=\"data row5 col0\" >5.56</td>\n",
       "            </tr>\n",
       "            <tr>\n",
       "                        <th id=\"T_5319c_level0_row6\" class=\"row_heading level0 row6\" >kilometer</th>\n",
       "                        <td id=\"T_5319c_row6_col0\" class=\"data row6 col0\" >0.00</td>\n",
       "            </tr>\n",
       "            <tr>\n",
       "                        <th id=\"T_5319c_level0_row7\" class=\"row_heading level0 row7\" >registration_month</th>\n",
       "                        <td id=\"T_5319c_row7_col0\" class=\"data row7 col0\" >0.00</td>\n",
       "            </tr>\n",
       "            <tr>\n",
       "                        <th id=\"T_5319c_level0_row8\" class=\"row_heading level0 row8\" >fuel_type</th>\n",
       "                        <td id=\"T_5319c_row8_col0\" class=\"data row8 col0\" >9.28</td>\n",
       "            </tr>\n",
       "            <tr>\n",
       "                        <th id=\"T_5319c_level0_row9\" class=\"row_heading level0 row9\" >brand</th>\n",
       "                        <td id=\"T_5319c_row9_col0\" class=\"data row9 col0\" >0.00</td>\n",
       "            </tr>\n",
       "            <tr>\n",
       "                        <th id=\"T_5319c_level0_row10\" class=\"row_heading level0 row10\" >repaired</th>\n",
       "                        <td id=\"T_5319c_row10_col0\" class=\"data row10 col0\" >20.08</td>\n",
       "            </tr>\n",
       "    </tbody></table>"
      ],
      "text/plain": [
       "<pandas.io.formats.style.Styler at 0x7fa36c3c1430>"
      ]
     },
     "execution_count": 12,
     "metadata": {},
     "output_type": "execute_result"
    }
   ],
   "source": [
    "# Подсчет количества пропусков в каждом столбце\n",
    "print('Количество пропусков:',\n",
    "      autos.isna().sum(), sep='\\n')\n",
    "\n",
    "# Вывод доли пропущенных значений для каждого столбца\n",
    "pd.DataFrame(autos.isna().mean()*100).style.set_precision(2).background_gradient('PuBu')"
   ]
  },
  {
   "cell_type": "markdown",
   "metadata": {},
   "source": [
    "Наблюдаем большое количество пропусков. Для начала проверим, сколько данных содержат пропуски одновременно во всех выделенных столбцах. Это может говорить о сбое при выгрузке данных или проблемах при заполнении анкеты пользователем."
   ]
  },
  {
   "cell_type": "code",
   "execution_count": 13,
   "metadata": {},
   "outputs": [
    {
     "data": {
      "text/html": [
       "<div>\n",
       "<style scoped>\n",
       "    .dataframe tbody tr th:only-of-type {\n",
       "        vertical-align: middle;\n",
       "    }\n",
       "\n",
       "    .dataframe tbody tr th {\n",
       "        vertical-align: top;\n",
       "    }\n",
       "\n",
       "    .dataframe thead th {\n",
       "        text-align: right;\n",
       "    }\n",
       "</style>\n",
       "<table border=\"1\" class=\"dataframe\">\n",
       "  <thead>\n",
       "    <tr style=\"text-align: right;\">\n",
       "      <th></th>\n",
       "      <th>price</th>\n",
       "      <th>vehicle_type</th>\n",
       "      <th>registration_year</th>\n",
       "      <th>gearbox</th>\n",
       "      <th>power</th>\n",
       "      <th>model</th>\n",
       "      <th>kilometer</th>\n",
       "      <th>registration_month</th>\n",
       "      <th>fuel_type</th>\n",
       "      <th>brand</th>\n",
       "      <th>repaired</th>\n",
       "    </tr>\n",
       "  </thead>\n",
       "  <tbody>\n",
       "    <tr>\n",
       "      <th>306</th>\n",
       "      <td>200</td>\n",
       "      <td>NaN</td>\n",
       "      <td>2009</td>\n",
       "      <td>NaN</td>\n",
       "      <td>0</td>\n",
       "      <td>NaN</td>\n",
       "      <td>10000</td>\n",
       "      <td>0</td>\n",
       "      <td>NaN</td>\n",
       "      <td>sonstige_autos</td>\n",
       "      <td>NaN</td>\n",
       "    </tr>\n",
       "    <tr>\n",
       "      <th>522</th>\n",
       "      <td>0</td>\n",
       "      <td>NaN</td>\n",
       "      <td>2000</td>\n",
       "      <td>NaN</td>\n",
       "      <td>0</td>\n",
       "      <td>NaN</td>\n",
       "      <td>150000</td>\n",
       "      <td>0</td>\n",
       "      <td>NaN</td>\n",
       "      <td>volvo</td>\n",
       "      <td>NaN</td>\n",
       "    </tr>\n",
       "    <tr>\n",
       "      <th>538</th>\n",
       "      <td>2600</td>\n",
       "      <td>NaN</td>\n",
       "      <td>2005</td>\n",
       "      <td>NaN</td>\n",
       "      <td>0</td>\n",
       "      <td>NaN</td>\n",
       "      <td>125000</td>\n",
       "      <td>0</td>\n",
       "      <td>NaN</td>\n",
       "      <td>chevrolet</td>\n",
       "      <td>NaN</td>\n",
       "    </tr>\n",
       "    <tr>\n",
       "      <th>552</th>\n",
       "      <td>50</td>\n",
       "      <td>NaN</td>\n",
       "      <td>1985</td>\n",
       "      <td>NaN</td>\n",
       "      <td>0</td>\n",
       "      <td>NaN</td>\n",
       "      <td>150000</td>\n",
       "      <td>11</td>\n",
       "      <td>NaN</td>\n",
       "      <td>trabant</td>\n",
       "      <td>NaN</td>\n",
       "    </tr>\n",
       "    <tr>\n",
       "      <th>622</th>\n",
       "      <td>0</td>\n",
       "      <td>NaN</td>\n",
       "      <td>1111</td>\n",
       "      <td>NaN</td>\n",
       "      <td>0</td>\n",
       "      <td>NaN</td>\n",
       "      <td>5000</td>\n",
       "      <td>0</td>\n",
       "      <td>NaN</td>\n",
       "      <td>opel</td>\n",
       "      <td>NaN</td>\n",
       "    </tr>\n",
       "    <tr>\n",
       "      <th>...</th>\n",
       "      <td>...</td>\n",
       "      <td>...</td>\n",
       "      <td>...</td>\n",
       "      <td>...</td>\n",
       "      <td>...</td>\n",
       "      <td>...</td>\n",
       "      <td>...</td>\n",
       "      <td>...</td>\n",
       "      <td>...</td>\n",
       "      <td>...</td>\n",
       "      <td>...</td>\n",
       "    </tr>\n",
       "    <tr>\n",
       "      <th>353727</th>\n",
       "      <td>1</td>\n",
       "      <td>NaN</td>\n",
       "      <td>2000</td>\n",
       "      <td>NaN</td>\n",
       "      <td>0</td>\n",
       "      <td>NaN</td>\n",
       "      <td>150000</td>\n",
       "      <td>0</td>\n",
       "      <td>NaN</td>\n",
       "      <td>bmw</td>\n",
       "      <td>NaN</td>\n",
       "    </tr>\n",
       "    <tr>\n",
       "      <th>354073</th>\n",
       "      <td>1750</td>\n",
       "      <td>NaN</td>\n",
       "      <td>1995</td>\n",
       "      <td>NaN</td>\n",
       "      <td>0</td>\n",
       "      <td>NaN</td>\n",
       "      <td>100000</td>\n",
       "      <td>12</td>\n",
       "      <td>NaN</td>\n",
       "      <td>sonstige_autos</td>\n",
       "      <td>NaN</td>\n",
       "    </tr>\n",
       "    <tr>\n",
       "      <th>354083</th>\n",
       "      <td>0</td>\n",
       "      <td>NaN</td>\n",
       "      <td>2000</td>\n",
       "      <td>NaN</td>\n",
       "      <td>0</td>\n",
       "      <td>NaN</td>\n",
       "      <td>150000</td>\n",
       "      <td>0</td>\n",
       "      <td>NaN</td>\n",
       "      <td>sonstige_autos</td>\n",
       "      <td>NaN</td>\n",
       "    </tr>\n",
       "    <tr>\n",
       "      <th>354162</th>\n",
       "      <td>1500</td>\n",
       "      <td>NaN</td>\n",
       "      <td>1995</td>\n",
       "      <td>NaN</td>\n",
       "      <td>0</td>\n",
       "      <td>NaN</td>\n",
       "      <td>150000</td>\n",
       "      <td>0</td>\n",
       "      <td>NaN</td>\n",
       "      <td>volkswagen</td>\n",
       "      <td>NaN</td>\n",
       "    </tr>\n",
       "    <tr>\n",
       "      <th>354365</th>\n",
       "      <td>2200</td>\n",
       "      <td>NaN</td>\n",
       "      <td>2005</td>\n",
       "      <td>NaN</td>\n",
       "      <td>0</td>\n",
       "      <td>NaN</td>\n",
       "      <td>20000</td>\n",
       "      <td>1</td>\n",
       "      <td>NaN</td>\n",
       "      <td>sonstige_autos</td>\n",
       "      <td>NaN</td>\n",
       "    </tr>\n",
       "  </tbody>\n",
       "</table>\n",
       "<p>2237 rows × 11 columns</p>\n",
       "</div>"
      ],
      "text/plain": [
       "        price vehicle_type  registration_year gearbox  power model  kilometer  \\\n",
       "306       200          NaN               2009     NaN      0   NaN      10000   \n",
       "522         0          NaN               2000     NaN      0   NaN     150000   \n",
       "538      2600          NaN               2005     NaN      0   NaN     125000   \n",
       "552        50          NaN               1985     NaN      0   NaN     150000   \n",
       "622         0          NaN               1111     NaN      0   NaN       5000   \n",
       "...       ...          ...                ...     ...    ...   ...        ...   \n",
       "353727      1          NaN               2000     NaN      0   NaN     150000   \n",
       "354073   1750          NaN               1995     NaN      0   NaN     100000   \n",
       "354083      0          NaN               2000     NaN      0   NaN     150000   \n",
       "354162   1500          NaN               1995     NaN      0   NaN     150000   \n",
       "354365   2200          NaN               2005     NaN      0   NaN      20000   \n",
       "\n",
       "        registration_month fuel_type           brand repaired  \n",
       "306                      0       NaN  sonstige_autos      NaN  \n",
       "522                      0       NaN           volvo      NaN  \n",
       "538                      0       NaN       chevrolet      NaN  \n",
       "552                     11       NaN         trabant      NaN  \n",
       "622                      0       NaN            opel      NaN  \n",
       "...                    ...       ...             ...      ...  \n",
       "353727                   0       NaN             bmw      NaN  \n",
       "354073                  12       NaN  sonstige_autos      NaN  \n",
       "354083                   0       NaN  sonstige_autos      NaN  \n",
       "354162                   0       NaN      volkswagen      NaN  \n",
       "354365                   1       NaN  sonstige_autos      NaN  \n",
       "\n",
       "[2237 rows x 11 columns]"
      ]
     },
     "execution_count": 13,
     "metadata": {},
     "output_type": "execute_result"
    }
   ],
   "source": [
    "# Строки с пропусками в 5 столбцах\n",
    "missing_columns  = ['vehicle_type', 'gearbox', 'fuel_type', 'model', 'repaired']\n",
    "autos[autos[missing_columns].isna().all(axis=1)]"
   ]
  },
  {
   "cell_type": "markdown",
   "metadata": {},
   "source": [
    "Обнаружили 2237 строк с пропусками в ключевых для ценообразования признаках. Т.к. восстановить данные не представляется возможным, а заполнение пропусков при отсутствии половины характеристик считаем нецелесообразным, избавимся от них:"
   ]
  },
  {
   "cell_type": "code",
   "execution_count": 14,
   "metadata": {},
   "outputs": [
    {
     "data": {
      "text/html": [
       "<style  type=\"text/css\" >\n",
       "#T_ef635_row0_col0,#T_ef635_row2_col0,#T_ef635_row4_col0,#T_ef635_row6_col0,#T_ef635_row7_col0,#T_ef635_row9_col0{\n",
       "            background-color:  #fff7fb;\n",
       "            color:  #000000;\n",
       "        }#T_ef635_row1_col0{\n",
       "            background-color:  #6fa7ce;\n",
       "            color:  #000000;\n",
       "        }#T_ef635_row3_col0{\n",
       "            background-color:  #ced0e6;\n",
       "            color:  #000000;\n",
       "        }#T_ef635_row5_col0{\n",
       "            background-color:  #d0d1e6;\n",
       "            color:  #000000;\n",
       "        }#T_ef635_row8_col0{\n",
       "            background-color:  #8bb2d4;\n",
       "            color:  #000000;\n",
       "        }#T_ef635_row10_col0{\n",
       "            background-color:  #023858;\n",
       "            color:  #f1f1f1;\n",
       "        }</style><table id=\"T_ef635_\" ><thead>    <tr>        <th class=\"blank level0\" ></th>        <th class=\"col_heading level0 col0\" >0</th>    </tr></thead><tbody>\n",
       "                <tr>\n",
       "                        <th id=\"T_ef635_level0_row0\" class=\"row_heading level0 row0\" >price</th>\n",
       "                        <td id=\"T_ef635_row0_col0\" class=\"data row0 col0\" >0.00</td>\n",
       "            </tr>\n",
       "            <tr>\n",
       "                        <th id=\"T_ef635_level0_row1\" class=\"row_heading level0 row1\" >vehicle_type</th>\n",
       "                        <td id=\"T_ef635_row1_col0\" class=\"data row1 col0\" >10.01</td>\n",
       "            </tr>\n",
       "            <tr>\n",
       "                        <th id=\"T_ef635_level0_row2\" class=\"row_heading level0 row2\" >registration_year</th>\n",
       "                        <td id=\"T_ef635_row2_col0\" class=\"data row2 col0\" >0.00</td>\n",
       "            </tr>\n",
       "            <tr>\n",
       "                        <th id=\"T_ef635_level0_row3\" class=\"row_heading level0 row3\" >gearbox</th>\n",
       "                        <td id=\"T_ef635_row3_col0\" class=\"data row3 col0\" >5.00</td>\n",
       "            </tr>\n",
       "            <tr>\n",
       "                        <th id=\"T_ef635_level0_row4\" class=\"row_heading level0 row4\" >power</th>\n",
       "                        <td id=\"T_ef635_row4_col0\" class=\"data row4 col0\" >0.00</td>\n",
       "            </tr>\n",
       "            <tr>\n",
       "                        <th id=\"T_ef635_level0_row5\" class=\"row_heading level0 row5\" >model</th>\n",
       "                        <td id=\"T_ef635_row5_col0\" class=\"data row5 col0\" >4.96</td>\n",
       "            </tr>\n",
       "            <tr>\n",
       "                        <th id=\"T_ef635_level0_row6\" class=\"row_heading level0 row6\" >kilometer</th>\n",
       "                        <td id=\"T_ef635_row6_col0\" class=\"data row6 col0\" >0.00</td>\n",
       "            </tr>\n",
       "            <tr>\n",
       "                        <th id=\"T_ef635_level0_row7\" class=\"row_heading level0 row7\" >registration_month</th>\n",
       "                        <td id=\"T_ef635_row7_col0\" class=\"data row7 col0\" >0.00</td>\n",
       "            </tr>\n",
       "            <tr>\n",
       "                        <th id=\"T_ef635_level0_row8\" class=\"row_heading level0 row8\" >fuel_type</th>\n",
       "                        <td id=\"T_ef635_row8_col0\" class=\"data row8 col0\" >8.71</td>\n",
       "            </tr>\n",
       "            <tr>\n",
       "                        <th id=\"T_ef635_level0_row9\" class=\"row_heading level0 row9\" >brand</th>\n",
       "                        <td id=\"T_ef635_row9_col0\" class=\"data row9 col0\" >0.00</td>\n",
       "            </tr>\n",
       "            <tr>\n",
       "                        <th id=\"T_ef635_level0_row10\" class=\"row_heading level0 row10\" >repaired</th>\n",
       "                        <td id=\"T_ef635_row10_col0\" class=\"data row10 col0\" >19.57</td>\n",
       "            </tr>\n",
       "    </tbody></table>"
      ],
      "text/plain": [
       "<pandas.io.formats.style.Styler at 0x7fa312d8ac40>"
      ]
     },
     "execution_count": 14,
     "metadata": {},
     "output_type": "execute_result"
    }
   ],
   "source": [
    "# Удаление строк\n",
    "autos.dropna(subset=missing_columns, how='all', inplace=True)\n",
    "\n",
    "# Вывод результата\n",
    "pd.DataFrame(autos.isna().mean()*100).style.set_precision(2).background_gradient('PuBu')"
   ]
  },
  {
   "cell_type": "markdown",
   "metadata": {},
   "source": [
    "- `repaired`. Посколько пропуски составляют практически 20% всего датасета, их удаление повлечет за собой потерю большой части данных, а замена на моду - искажение распределения данных и снижение точности анализа. Поэтому пропущенные значения заменим на значение **'no_info'**.\n",
    "- `gearbox`. Также заменим пропуски на **'no_info'**.\n",
    "- `model`. Модель автомобиля является одним из ключевых факторов в ценообразовании. Т.к. возможности достоверно восстановить данные нет (используя другие характеристики авто), и их количество составляет 4,96% от всего датасета, **удалим** пропущенные значения.\n",
    "- `vehicle_type`, `fuel_type`. Пропуски по каждому признаку составляют около 10%, что является значительной частью датасета. Удалять их или заменять модой будет не лучшей стратегией. Заменим пропуски на **'no_info'**.\n",
    "\n",
    "*Примечание*. В столбцах `vehicle_type`, `fuel_type` встречается категория 'other'. Мы намеренно не записываем пропуски в эту категорию, чтобы явно показать, что пропуски означают отсутствие данных, а не 'другие' значения. Это позволит модели учесть этот важный аспект данных и принимать решения на основе более точной информации. Стоит учесть, что пропусков большое количество (свыше 30 тыс.) и их запись в категорию 'other' создаст искажение распределения данных."
   ]
  },
  {
   "cell_type": "code",
   "execution_count": 15,
   "metadata": {},
   "outputs": [
    {
     "name": "stdout",
     "output_type": "stream",
     "text": [
      "Количество пропусков:\n",
      "price                 0\n",
      "vehicle_type          0\n",
      "registration_year     0\n",
      "gearbox               0\n",
      "power                 0\n",
      "model                 0\n",
      "kilometer             0\n",
      "registration_month    0\n",
      "fuel_type             0\n",
      "brand                 0\n",
      "repaired              0\n",
      "dtype: int64\n",
      "\n",
      "Удалено строк: 17468 (4.96% от общего числа)\n"
     ]
    }
   ],
   "source": [
    "# Удаление пропусков в столбце 'model'\n",
    "autos_before = len(autos)\n",
    "autos.dropna(subset=['model'], inplace=True)\n",
    "autos_after = len(autos)\n",
    "\n",
    "# Заполнение пропусков на 'no_info'\n",
    "columns_to_fillna = ['vehicle_type', 'gearbox', 'fuel_type', 'repaired']\n",
    "autos[columns_to_fillna] = autos[columns_to_fillna].fillna('no_info')\n",
    "\n",
    "# Проверка результатов\n",
    "print('Количество пропусков:', autos.isna().sum(), sep='\\n', end='\\n\\n')\n",
    "\n",
    "# Вывод количества удалённых строк\n",
    "print(f'Удалено строк: {autos_before - autos_after} ' \n",
    "      f'({((autos_before - autos_after) / autos_before) * 100:.2f}% от общего числа)')"
   ]
  },
  {
   "cell_type": "markdown",
   "metadata": {},
   "source": [
    "### Обработка дубликатов"
   ]
  },
  {
   "cell_type": "markdown",
   "metadata": {},
   "source": [
    "#### Обработка явных дубликатов"
   ]
  },
  {
   "cell_type": "code",
   "execution_count": 16,
   "metadata": {},
   "outputs": [
    {
     "name": "stdout",
     "output_type": "stream",
     "text": [
      "Количество явных дубликатов: 26370 или 7.88 % от общего числа\n"
     ]
    }
   ],
   "source": [
    "# Подсчет количества явных дубликатов\n",
    "print(f'Количество явных дубликатов: {autos.duplicated().sum()} или '\n",
    "      f'{autos.duplicated().sum() / len(autos) * 100:.2f} % от общего числа')"
   ]
  },
  {
   "cell_type": "markdown",
   "metadata": {},
   "source": [
    "Удалим обнаруженные дубликаты после этапа EDA, перед обучением моделей."
   ]
  },
  {
   "cell_type": "markdown",
   "metadata": {},
   "source": [
    "#### Обработка неявных дубликатов"
   ]
  },
  {
   "cell_type": "markdown",
   "metadata": {},
   "source": [
    "Также проверим наличие неявных дубликатов в столбцах с категориальными значениями."
   ]
  },
  {
   "cell_type": "code",
   "execution_count": 17,
   "metadata": {},
   "outputs": [
    {
     "name": "stdout",
     "output_type": "stream",
     "text": [
      "Уникальные значения в столбце vehicle_type: ['no_info' 'suv' 'small' 'sedan' 'convertible' 'bus' 'wagon' 'coupe'\n",
      " 'other']\n",
      "\n",
      "Уникальные значения в столбце gearbox: ['manual' 'auto' 'no_info']\n",
      "\n",
      "Уникальные значения в столбце model: ['golf' 'grand' 'fabia' '3er' '2_reihe' 'other' 'c_max' '3_reihe' 'passat'\n",
      " 'navara' 'ka' 'polo' 'twingo' 'a_klasse' 'scirocco' '5er' 'meriva'\n",
      " 'arosa' 'c4' 'civic' 'transporter' 'punto' 'e_klasse' 'clio' 'kadett'\n",
      " 'kangoo' 'corsa' 'one' 'fortwo' '1er' 'b_klasse' 'signum' 'astra' 'a8'\n",
      " 'jetta' 'fiesta' 'c_klasse' 'micra' 'vito' 'sprinter' '156' 'escort'\n",
      " 'forester' 'xc_reihe' 'scenic' 'a4' 'a1' 'insignia' 'combo' 'focus' 'tt'\n",
      " 'a6' 'jazz' 'omega' 'slk' '7er' '80' '147' '100' 'z_reihe' 'sportage'\n",
      " 'sorento' 'v40' 'ibiza' 'mustang' 'eos' 'touran' 'getz' 'a3' 'almera'\n",
      " 'megane' 'lupo' 'r19' 'zafira' 'caddy' 'mondeo' 'cordoba' 'colt'\n",
      " 'impreza' 'vectra' 'berlingo' 'tiguan' 'i_reihe' 'espace' 'sharan'\n",
      " '6_reihe' 'panda' 'up' 'seicento' 'ceed' '5_reihe' 'yeti' 'octavia' 'mii'\n",
      " 'rx_reihe' '6er' 'modus' 'fox' 'matiz' 'beetle' 'c1' 'rio' 'touareg'\n",
      " 'logan' 'spider' 'cuore' 's_max' 'a2' 'galaxy' 'c3' 'viano' 's_klasse'\n",
      " '1_reihe' 'avensis' 'roomster' 'sl' 'kaefer' 'santa' 'cooper' 'leon'\n",
      " '4_reihe' 'a5' '500' 'laguna' 'ptcruiser' 'clk' 'primera' 'x_reihe'\n",
      " 'exeo' '159' 'transit' 'juke' 'qashqai' 'carisma' 'accord' 'corolla'\n",
      " 'lanos' 'phaeton' 'verso' 'swift' 'rav' 'picanto' 'boxster' 'kalos'\n",
      " 'superb' 'stilo' 'alhambra' 'mx_reihe' 'roadster' 'ypsilon' 'cayenne'\n",
      " 'galant' 'justy' '90' 'sirion' 'crossfire' 'agila' 'duster' 'cr_reihe'\n",
      " 'v50' 'c_reihe' 'v_klasse' 'm_klasse' 'yaris' 'c5' 'aygo' 'cc' 'carnival'\n",
      " 'fusion' '911' 'bora' 'forfour' 'm_reihe' 'cl' 'tigra' '300c' 'spark'\n",
      " 'v70' 'kuga' 'x_type' 'ducato' 's_type' 'x_trail' 'toledo' 'altea'\n",
      " 'voyager' 'calibra' 'bravo' 'antara' 'tucson' 'citigo' 'jimny' 'wrangler'\n",
      " 'lybra' 'q7' 'lancer' 'captiva' 'c2' 'discovery' 'freelander' 'sandero'\n",
      " 'note' '900' 'cherokee' 'clubman' 'samara' 'defender' '601' 'cx_reihe'\n",
      " 'legacy' 'pajero' 'auris' 'niva' 's60' 'nubira' 'vivaro' 'g_klasse'\n",
      " 'lodgy' '850' 'range_rover' 'q3' 'serie_2' 'glk' 'charade' 'croma'\n",
      " 'outlander' 'doblo' 'musa' 'move' '9000' 'v60' '145' 'aveo' '200' 'b_max'\n",
      " 'range_rover_sport' 'terios' 'rangerover' 'q5' 'range_rover_evoque'\n",
      " 'materia' 'delta' 'gl' 'kalina' 'amarok' 'elefantino' 'i3' 'kappa'\n",
      " 'serie_3' 'serie_1']\n",
      "\n",
      "Уникальные значения в столбце fuel_type: ['petrol' 'gasoline' 'no_info' 'lpg' 'other' 'hybrid' 'cng' 'electric']\n",
      "\n",
      "Уникальные значения в столбце brand: ['volkswagen' 'jeep' 'skoda' 'bmw' 'peugeot' 'ford' 'mazda' 'nissan'\n",
      " 'renault' 'mercedes_benz' 'opel' 'seat' 'citroen' 'honda' 'fiat' 'mini'\n",
      " 'smart' 'hyundai' 'audi' 'alfa_romeo' 'subaru' 'volvo' 'mitsubishi' 'kia'\n",
      " 'suzuki' 'lancia' 'toyota' 'chevrolet' 'dacia' 'daihatsu' 'chrysler'\n",
      " 'jaguar' 'daewoo' 'porsche' 'rover' 'saab' 'land_rover' 'trabant' 'lada']\n",
      "\n",
      "Уникальные значения в столбце repaired: ['no_info' 'no' 'yes']\n",
      "\n"
     ]
    }
   ],
   "source": [
    "# Уникальные значения категориальных столбцов\n",
    "for column in autos.columns:\n",
    "        if autos[column].dtypes == 'object':\n",
    "            print(f'Уникальные значения в столбце {column}: {autos[column].unique()}', end='\\n\\n')"
   ]
  },
  {
   "cell_type": "markdown",
   "metadata": {},
   "source": [
    "- В столбце `fuel_type` присутствуют неявные дубликаты - 'petrol' 'gasoline'. Это одно и то же, но в британском английском используется 'petrol', а в американском - 'gasoline'. Оставим 1 вариант - 'gasoline'.\n",
    "- В столбцу `model` дублируются 'rangerover' и 'range_rover'. Оставим 1 вариант - 'range_rover'.\n",
    "\n",
    "В других столбцах дубликатов не обнаружено."
   ]
  },
  {
   "cell_type": "code",
   "execution_count": 18,
   "metadata": {},
   "outputs": [
    {
     "data": {
      "text/plain": [
       "array(['gasoline', 'no_info', 'lpg', 'other', 'hybrid', 'cng', 'electric'],\n",
       "      dtype=object)"
      ]
     },
     "metadata": {},
     "output_type": "display_data"
    },
    {
     "data": {
      "text/plain": [
       "array(['golf', 'grand', 'fabia', '3er', '2_reihe', 'other', 'c_max',\n",
       "       '3_reihe', 'passat', 'navara', 'ka', 'polo', 'twingo', 'a_klasse',\n",
       "       'scirocco', '5er', 'meriva', 'arosa', 'c4', 'civic', 'transporter',\n",
       "       'punto', 'e_klasse', 'clio', 'kadett', 'kangoo', 'corsa', 'one',\n",
       "       'fortwo', '1er', 'b_klasse', 'signum', 'astra', 'a8', 'jetta',\n",
       "       'fiesta', 'c_klasse', 'micra', 'vito', 'sprinter', '156', 'escort',\n",
       "       'forester', 'xc_reihe', 'scenic', 'a4', 'a1', 'insignia', 'combo',\n",
       "       'focus', 'tt', 'a6', 'jazz', 'omega', 'slk', '7er', '80', '147',\n",
       "       '100', 'z_reihe', 'sportage', 'sorento', 'v40', 'ibiza', 'mustang',\n",
       "       'eos', 'touran', 'getz', 'a3', 'almera', 'megane', 'lupo', 'r19',\n",
       "       'zafira', 'caddy', 'mondeo', 'cordoba', 'colt', 'impreza',\n",
       "       'vectra', 'berlingo', 'tiguan', 'i_reihe', 'espace', 'sharan',\n",
       "       '6_reihe', 'panda', 'up', 'seicento', 'ceed', '5_reihe', 'yeti',\n",
       "       'octavia', 'mii', 'rx_reihe', '6er', 'modus', 'fox', 'matiz',\n",
       "       'beetle', 'c1', 'rio', 'touareg', 'logan', 'spider', 'cuore',\n",
       "       's_max', 'a2', 'galaxy', 'c3', 'viano', 's_klasse', '1_reihe',\n",
       "       'avensis', 'roomster', 'sl', 'kaefer', 'santa', 'cooper', 'leon',\n",
       "       '4_reihe', 'a5', '500', 'laguna', 'ptcruiser', 'clk', 'primera',\n",
       "       'x_reihe', 'exeo', '159', 'transit', 'juke', 'qashqai', 'carisma',\n",
       "       'accord', 'corolla', 'lanos', 'phaeton', 'verso', 'swift', 'rav',\n",
       "       'picanto', 'boxster', 'kalos', 'superb', 'stilo', 'alhambra',\n",
       "       'mx_reihe', 'roadster', 'ypsilon', 'cayenne', 'galant', 'justy',\n",
       "       '90', 'sirion', 'crossfire', 'agila', 'duster', 'cr_reihe', 'v50',\n",
       "       'c_reihe', 'v_klasse', 'm_klasse', 'yaris', 'c5', 'aygo', 'cc',\n",
       "       'carnival', 'fusion', '911', 'bora', 'forfour', 'm_reihe', 'cl',\n",
       "       'tigra', '300c', 'spark', 'v70', 'kuga', 'x_type', 'ducato',\n",
       "       's_type', 'x_trail', 'toledo', 'altea', 'voyager', 'calibra',\n",
       "       'bravo', 'antara', 'tucson', 'citigo', 'jimny', 'wrangler',\n",
       "       'lybra', 'q7', 'lancer', 'captiva', 'c2', 'discovery',\n",
       "       'freelander', 'sandero', 'note', '900', 'cherokee', 'clubman',\n",
       "       'samara', 'defender', '601', 'cx_reihe', 'legacy', 'pajero',\n",
       "       'auris', 'niva', 's60', 'nubira', 'vivaro', 'g_klasse', 'lodgy',\n",
       "       '850', 'range_rover', 'q3', 'serie_2', 'glk', 'charade', 'croma',\n",
       "       'outlander', 'doblo', 'musa', 'move', '9000', 'v60', '145', 'aveo',\n",
       "       '200', 'b_max', 'range_rover_sport', 'terios', 'q5',\n",
       "       'range_rover_evoque', 'materia', 'delta', 'gl', 'kalina', 'amarok',\n",
       "       'elefantino', 'i3', 'kappa', 'serie_3', 'serie_1'], dtype=object)"
      ]
     },
     "metadata": {},
     "output_type": "display_data"
    }
   ],
   "source": [
    "# Замена дубликатов\n",
    "autos['fuel_type'].replace('petrol', 'gasoline', inplace=True)\n",
    "autos['model'].replace('rangerover', 'range_rover', inplace=True)\n",
    "\n",
    "# Проверка результатов\n",
    "display(autos['fuel_type'].unique())\n",
    "display(autos['model'].unique())"
   ]
  },
  {
   "cell_type": "markdown",
   "metadata": {},
   "source": [
    "**В результате предобработки данных**:\n",
    "\n",
    "- Было удалено 5 неинформативных признака ('NumberOfPictures', 'DateCrawled', 'DateCreated', 'PostalCode', 'LastSeen').\n",
    "- Обработаны пропущенные значения. 19 705 строк (5,56 % всех данных) было удалено. Оставшиеся пропуски были заменены на значение 'no_info'.\n",
    "- Было обнаружено 26 370 полных дубликатов или 7.88 % от всех данных. Удалим их после этапа EDA. Также были обработаны неявные дубликаты  в столбцах с категориальными значениями."
   ]
  },
  {
   "cell_type": "markdown",
   "metadata": {},
   "source": [
    "## Исследовательский анализ данных"
   ]
  },
  {
   "cell_type": "markdown",
   "metadata": {},
   "source": [
    "Проанализируем более подробно все параметры. "
   ]
  },
  {
   "cell_type": "markdown",
   "metadata": {},
   "source": [
    "1) `price` - цена автомобиля (евро). Целевой признак."
   ]
  },
  {
   "cell_type": "code",
   "execution_count": 19,
   "metadata": {},
   "outputs": [
    {
     "name": "stdout",
     "output_type": "stream",
     "text": [
      "Описательные статистики параметра Цена\n"
     ]
    },
    {
     "data": {
      "text/html": [
       "<style  type=\"text/css\" >\n",
       "</style><table id=\"T_40211_\" ><thead>    <tr>        <th class=\"blank level0\" ></th>        <th class=\"col_heading level0 col0\" >count</th>        <th class=\"col_heading level0 col1\" >mean</th>        <th class=\"col_heading level0 col2\" >std</th>        <th class=\"col_heading level0 col3\" >min</th>        <th class=\"col_heading level0 col4\" >25%</th>        <th class=\"col_heading level0 col5\" >50%</th>        <th class=\"col_heading level0 col6\" >75%</th>        <th class=\"col_heading level0 col7\" >max</th>    </tr></thead><tbody>\n",
       "                <tr>\n",
       "                        <th id=\"T_40211_level0_row0\" class=\"row_heading level0 row0\" >price</th>\n",
       "                        <td id=\"T_40211_row0_col0\" class=\"data row0 col0\" >334664.000</td>\n",
       "                        <td id=\"T_40211_row0_col1\" class=\"data row0 col1\" >4504.347</td>\n",
       "                        <td id=\"T_40211_row0_col2\" class=\"data row0 col2\" >4531.439</td>\n",
       "                        <td id=\"T_40211_row0_col3\" class=\"data row0 col3\" >0.000</td>\n",
       "                        <td id=\"T_40211_row0_col4\" class=\"data row0 col4\" >1150.000</td>\n",
       "                        <td id=\"T_40211_row0_col5\" class=\"data row0 col5\" >2800.000</td>\n",
       "                        <td id=\"T_40211_row0_col6\" class=\"data row0 col6\" >6500.000</td>\n",
       "                        <td id=\"T_40211_row0_col7\" class=\"data row0 col7\" >20000.000</td>\n",
       "            </tr>\n",
       "    </tbody></table>"
      ],
      "text/plain": [
       "<pandas.io.formats.style.Styler at 0x7fa312d8af10>"
      ]
     },
     "metadata": {},
     "output_type": "display_data"
    },
    {
     "data": {
      "image/png": "[encoded data removed]",
      "text/plain": [
       "<Figure size 864x324 with 2 Axes>"
      ]
     },
     "metadata": {
      "needs_background": "light"
     },
     "output_type": "display_data"
    }
   ],
   "source": [
    "# Графики по столбцу 'price'\n",
    "plt_hist_boxplt('price', title='Цена', label='Евро', bins=20, color='teal')"
   ]
  },
  {
   "cell_type": "markdown",
   "metadata": {},
   "source": [
    "- Минимальное значение цены равно 0, что является явной ошибкой. Удалим данные значения. Помимо этого, избавимся от значений ниже 500 евро, т.к. купить подержанный автомобиль за эту сумму в 2016 году было крайне маловероятно. Такие цены могли встречаться лишь в редких случаях, например, для сильно повреждённых или полностью неработающих автомобилей, которые продавались на запчасти или для утилизации.\n",
    "\n",
    "- На диаграмме размаха значения свыше 15 000 евро обозначены как выбросы. Однако эти цены не являются ошибочными и аномальными. Автомобили с высокими ценами представляют важную информацию о премиум-сегменте и элитных брендах, которые составляют достаточно значимую часть рынка. Удаление этих данных может исказить результаты анализа и результаты модели. Поэтому оставим их без изменений. "
   ]
  },
  {
   "cell_type": "code",
   "execution_count": 20,
   "metadata": {},
   "outputs": [
    {
     "name": "stdout",
     "output_type": "stream",
     "text": [
      "Удалено строк: 36245\n"
     ]
    }
   ],
   "source": [
    "# Удаление значений с ценой ниже 500 евро\n",
    "autos_before = len(autos)\n",
    "autos = autos.query('price > 500')\n",
    "autos_after = len(autos)\n",
    "\n",
    "# Вывод количества удалённых строк\n",
    "print(f'Удалено строк: {autos_before - autos_after}')"
   ]
  },
  {
   "cell_type": "code",
   "execution_count": 21,
   "metadata": {},
   "outputs": [
    {
     "name": "stdout",
     "output_type": "stream",
     "text": [
      "Описательные статистики параметра Цена\n"
     ]
    },
    {
     "data": {
      "text/html": [
       "<style  type=\"text/css\" >\n",
       "</style><table id=\"T_4895a_\" ><thead>    <tr>        <th class=\"blank level0\" ></th>        <th class=\"col_heading level0 col0\" >count</th>        <th class=\"col_heading level0 col1\" >mean</th>        <th class=\"col_heading level0 col2\" >std</th>        <th class=\"col_heading level0 col3\" >min</th>        <th class=\"col_heading level0 col4\" >25%</th>        <th class=\"col_heading level0 col5\" >50%</th>        <th class=\"col_heading level0 col6\" >75%</th>        <th class=\"col_heading level0 col7\" >max</th>    </tr></thead><tbody>\n",
       "                <tr>\n",
       "                        <th id=\"T_4895a_level0_row0\" class=\"row_heading level0 row0\" >price</th>\n",
       "                        <td id=\"T_4895a_row0_col0\" class=\"data row0 col0\" >298419.000</td>\n",
       "                        <td id=\"T_4895a_row0_col1\" class=\"data row0 col1\" >5021.778</td>\n",
       "                        <td id=\"T_4895a_row0_col2\" class=\"data row0 col2\" >4533.385</td>\n",
       "                        <td id=\"T_4895a_row0_col3\" class=\"data row0 col3\" >501.000</td>\n",
       "                        <td id=\"T_4895a_row0_col4\" class=\"data row0 col4\" >1500.000</td>\n",
       "                        <td id=\"T_4895a_row0_col5\" class=\"data row0 col5\" >3399.000</td>\n",
       "                        <td id=\"T_4895a_row0_col6\" class=\"data row0 col6\" >7000.000</td>\n",
       "                        <td id=\"T_4895a_row0_col7\" class=\"data row0 col7\" >20000.000</td>\n",
       "            </tr>\n",
       "    </tbody></table>"
      ],
      "text/plain": [
       "<pandas.io.formats.style.Styler at 0x7fa30e90b8b0>"
      ]
     },
     "metadata": {},
     "output_type": "display_data"
    },
    {
     "data": {
      "image/png": "[encoded data removed]",
      "text/plain": [
       "<Figure size 864x324 with 2 Axes>"
      ]
     },
     "metadata": {
      "needs_background": "light"
     },
     "output_type": "display_data"
    }
   ],
   "source": [
    "# Графики по столбцу 'price'\n",
    "plt_hist_boxplt('price', title='Цена', label='Евро', bins=20, color='teal')"
   ]
  },
  {
   "cell_type": "markdown",
   "metadata": {},
   "source": [
    "Медианное значение цены составляет **5 021 евро**. Большинство автомобилей продаются по ценам ниже 2500 евро, что можно наблюдать на гистограмме. "
   ]
  },
  {
   "cell_type": "markdown",
   "metadata": {},
   "source": [
    "2) `power` - мощность (л. с.)."
   ]
  },
  {
   "cell_type": "code",
   "execution_count": 22,
   "metadata": {},
   "outputs": [
    {
     "name": "stdout",
     "output_type": "stream",
     "text": [
      "Описательные статистики параметра Мощность\n"
     ]
    },
    {
     "data": {
      "text/html": [
       "<style  type=\"text/css\" >\n",
       "</style><table id=\"T_0b024_\" ><thead>    <tr>        <th class=\"blank level0\" ></th>        <th class=\"col_heading level0 col0\" >count</th>        <th class=\"col_heading level0 col1\" >mean</th>        <th class=\"col_heading level0 col2\" >std</th>        <th class=\"col_heading level0 col3\" >min</th>        <th class=\"col_heading level0 col4\" >25%</th>        <th class=\"col_heading level0 col5\" >50%</th>        <th class=\"col_heading level0 col6\" >75%</th>        <th class=\"col_heading level0 col7\" >max</th>    </tr></thead><tbody>\n",
       "                <tr>\n",
       "                        <th id=\"T_0b024_level0_row0\" class=\"row_heading level0 row0\" >power</th>\n",
       "                        <td id=\"T_0b024_row0_col0\" class=\"data row0 col0\" >298419.000</td>\n",
       "                        <td id=\"T_0b024_row0_col1\" class=\"data row0 col1\" >116.311</td>\n",
       "                        <td id=\"T_0b024_row0_col2\" class=\"data row0 col2\" >184.002</td>\n",
       "                        <td id=\"T_0b024_row0_col3\" class=\"data row0 col3\" >0.000</td>\n",
       "                        <td id=\"T_0b024_row0_col4\" class=\"data row0 col4\" >75.000</td>\n",
       "                        <td id=\"T_0b024_row0_col5\" class=\"data row0 col5\" >109.000</td>\n",
       "                        <td id=\"T_0b024_row0_col6\" class=\"data row0 col6\" >147.000</td>\n",
       "                        <td id=\"T_0b024_row0_col7\" class=\"data row0 col7\" >20000.000</td>\n",
       "            </tr>\n",
       "    </tbody></table>"
      ],
      "text/plain": [
       "<pandas.io.formats.style.Styler at 0x7fa30e906cd0>"
      ]
     },
     "metadata": {},
     "output_type": "display_data"
    },
    {
     "data": {
      "image/png": "[encoded data removed]",
      "text/plain": [
       "<Figure size 864x324 with 2 Axes>"
      ]
     },
     "metadata": {
      "needs_background": "light"
     },
     "output_type": "display_data"
    }
   ],
   "source": [
    "# Графики по столбцу 'power'\n",
    "plt_hist_boxplt('power', title='Мощность', label='л.с.', bins=20, color='steelblue')"
   ]
  },
  {
   "cell_type": "markdown",
   "metadata": {},
   "source": [
    "Оба графика неинформативные из-за наличия аномальных значений:\n",
    "- Минимальное значение составляет 0 л.с., что является явной ошибкой. Причиной может служить сбой при выгрузке данных, либо пользователи при создании анкет не указали реальное значение. Т.к. восстановить данные не представляется возможным, удалим их.\n",
    "- Также есть ошибочно высокие значения. Самые мощные современные авто не имеют значенйи свыше 4.5 тыс.л.с. ([ссылка](https://domcar.com.cy/live/blog/top-10-most-powerful-cars-in-the-world/)). Если же брать во внимание мощность стандартных легковых автомобилей, то значения свыше 800 встречаются крайне редко. Таким образом, удалим также значения превышающие 800 л.с.\n",
    "- Помимо этого, удалим значения ниже 50 л.с., т.к. модели авто с указанной мощностью являются редкостью (самые компактные или раритетные модели)"
   ]
  },
  {
   "cell_type": "code",
   "execution_count": 23,
   "metadata": {},
   "outputs": [
    {
     "name": "stdout",
     "output_type": "stream",
     "text": [
      "Удалено строк: 31176\n"
     ]
    }
   ],
   "source": [
    "# Удаление значений с мощностью менее 50 и более 800 л.с.\n",
    "autos_before = len(autos)\n",
    "autos = autos.query('(power < 800) and (power > 50)')\n",
    "autos_after = len(autos)\n",
    "\n",
    "# Вывод количества удалённых строк\n",
    "print(f'Удалено строк: {autos_before - autos_after}')"
   ]
  },
  {
   "cell_type": "code",
   "execution_count": 24,
   "metadata": {},
   "outputs": [
    {
     "name": "stdout",
     "output_type": "stream",
     "text": [
      "Описательные статистики параметра Мощность\n"
     ]
    },
    {
     "data": {
      "text/html": [
       "<style  type=\"text/css\" >\n",
       "</style><table id=\"T_4694e_\" ><thead>    <tr>        <th class=\"blank level0\" ></th>        <th class=\"col_heading level0 col0\" >count</th>        <th class=\"col_heading level0 col1\" >mean</th>        <th class=\"col_heading level0 col2\" >std</th>        <th class=\"col_heading level0 col3\" >min</th>        <th class=\"col_heading level0 col4\" >25%</th>        <th class=\"col_heading level0 col5\" >50%</th>        <th class=\"col_heading level0 col6\" >75%</th>        <th class=\"col_heading level0 col7\" >max</th>    </tr></thead><tbody>\n",
       "                <tr>\n",
       "                        <th id=\"T_4694e_level0_row0\" class=\"row_heading level0 row0\" >power</th>\n",
       "                        <td id=\"T_4694e_row0_col0\" class=\"data row0 col0\" >267243.000</td>\n",
       "                        <td id=\"T_4694e_row0_col1\" class=\"data row0 col1\" >125.084</td>\n",
       "                        <td id=\"T_4694e_row0_col2\" class=\"data row0 col2\" >52.861</td>\n",
       "                        <td id=\"T_4694e_row0_col3\" class=\"data row0 col3\" >51.000</td>\n",
       "                        <td id=\"T_4694e_row0_col4\" class=\"data row0 col4\" >86.000</td>\n",
       "                        <td id=\"T_4694e_row0_col5\" class=\"data row0 col5\" >116.000</td>\n",
       "                        <td id=\"T_4694e_row0_col6\" class=\"data row0 col6\" >150.000</td>\n",
       "                        <td id=\"T_4694e_row0_col7\" class=\"data row0 col7\" >776.000</td>\n",
       "            </tr>\n",
       "    </tbody></table>"
      ],
      "text/plain": [
       "<pandas.io.formats.style.Styler at 0x7fa312b9d640>"
      ]
     },
     "metadata": {},
     "output_type": "display_data"
    },
    {
     "data": {
      "image/png": "[encoded data removed]",
      "text/plain": [
       "<Figure size 864x324 with 2 Axes>"
      ]
     },
     "metadata": {
      "needs_background": "light"
     },
     "output_type": "display_data"
    }
   ],
   "source": [
    "# Графики по столбцу 'power'\n",
    "plt_hist_boxplt('power', title='Мощность', label='л.с.', bins=15, color='steelblue')"
   ]
  },
  {
   "cell_type": "markdown",
   "metadata": {},
   "source": [
    "Медианное значение мощности составляет **125** лошадиных сил. Половина всех представленных авто имеют мощность 86-150 лошадиных сил."
   ]
  },
  {
   "cell_type": "markdown",
   "metadata": {},
   "source": [
    "3) `kilometer` - пробег (км)."
   ]
  },
  {
   "cell_type": "code",
   "execution_count": 25,
   "metadata": {},
   "outputs": [
    {
     "name": "stdout",
     "output_type": "stream",
     "text": [
      "Описательные статистики параметра Пробег\n"
     ]
    },
    {
     "data": {
      "text/html": [
       "<style  type=\"text/css\" >\n",
       "</style><table id=\"T_1aec9_\" ><thead>    <tr>        <th class=\"blank level0\" ></th>        <th class=\"col_heading level0 col0\" >count</th>        <th class=\"col_heading level0 col1\" >mean</th>        <th class=\"col_heading level0 col2\" >std</th>        <th class=\"col_heading level0 col3\" >min</th>        <th class=\"col_heading level0 col4\" >25%</th>        <th class=\"col_heading level0 col5\" >50%</th>        <th class=\"col_heading level0 col6\" >75%</th>        <th class=\"col_heading level0 col7\" >max</th>    </tr></thead><tbody>\n",
       "                <tr>\n",
       "                        <th id=\"T_1aec9_level0_row0\" class=\"row_heading level0 row0\" >kilometer</th>\n",
       "                        <td id=\"T_1aec9_row0_col0\" class=\"data row0 col0\" >267243.000</td>\n",
       "                        <td id=\"T_1aec9_row0_col1\" class=\"data row0 col1\" >127765.274</td>\n",
       "                        <td id=\"T_1aec9_row0_col2\" class=\"data row0 col2\" >36784.389</td>\n",
       "                        <td id=\"T_1aec9_row0_col3\" class=\"data row0 col3\" >5000.000</td>\n",
       "                        <td id=\"T_1aec9_row0_col4\" class=\"data row0 col4\" >125000.000</td>\n",
       "                        <td id=\"T_1aec9_row0_col5\" class=\"data row0 col5\" >150000.000</td>\n",
       "                        <td id=\"T_1aec9_row0_col6\" class=\"data row0 col6\" >150000.000</td>\n",
       "                        <td id=\"T_1aec9_row0_col7\" class=\"data row0 col7\" >150000.000</td>\n",
       "            </tr>\n",
       "    </tbody></table>"
      ],
      "text/plain": [
       "<pandas.io.formats.style.Styler at 0x7fa3129a70a0>"
      ]
     },
     "metadata": {},
     "output_type": "display_data"
    },
    {
     "data": {
      "image/png": "[encoded data removed]",
      "text/plain": [
       "<Figure size 864x324 with 2 Axes>"
      ]
     },
     "metadata": {
      "needs_background": "light"
     },
     "output_type": "display_data"
    }
   ],
   "source": [
    "# Графики по столбцу 'kilometer'\n",
    "plt_hist_boxplt('kilometer', title='Пробег', label='км', bins=10, color='mediumpurple')"
   ]
  },
  {
   "cell_type": "markdown",
   "metadata": {},
   "source": [
    "Медианное значение составляет **127 765 км**. Подавляющая часть представленных авто имеют пробег свыше 120 000 км.\n",
    "На диаграмме размаха значения ниже 90 000 км выделены как выбросы, однако они не являются аномальными или ошибочными. Оставим их без изменений."
   ]
  },
  {
   "cell_type": "markdown",
   "metadata": {},
   "source": [
    "4) `registration_year` - год регистрации автомобиля."
   ]
  },
  {
   "cell_type": "code",
   "execution_count": 26,
   "metadata": {},
   "outputs": [
    {
     "name": "stdout",
     "output_type": "stream",
     "text": [
      "Описательные статистики параметра Год регистрации автомобиля\n"
     ]
    },
    {
     "data": {
      "text/html": [
       "<style  type=\"text/css\" >\n",
       "</style><table id=\"T_d8e4b_\" ><thead>    <tr>        <th class=\"blank level0\" ></th>        <th class=\"col_heading level0 col0\" >count</th>        <th class=\"col_heading level0 col1\" >mean</th>        <th class=\"col_heading level0 col2\" >std</th>        <th class=\"col_heading level0 col3\" >min</th>        <th class=\"col_heading level0 col4\" >25%</th>        <th class=\"col_heading level0 col5\" >50%</th>        <th class=\"col_heading level0 col6\" >75%</th>        <th class=\"col_heading level0 col7\" >max</th>    </tr></thead><tbody>\n",
       "                <tr>\n",
       "                        <th id=\"T_d8e4b_level0_row0\" class=\"row_heading level0 row0\" >registration_year</th>\n",
       "                        <td id=\"T_d8e4b_row0_col0\" class=\"data row0 col0\" >267243.000</td>\n",
       "                        <td id=\"T_d8e4b_row0_col1\" class=\"data row0 col1\" >2003.959</td>\n",
       "                        <td id=\"T_d8e4b_row0_col2\" class=\"data row0 col2\" >19.003</td>\n",
       "                        <td id=\"T_d8e4b_row0_col3\" class=\"data row0 col3\" >1000.000</td>\n",
       "                        <td id=\"T_d8e4b_row0_col4\" class=\"data row0 col4\" >2000.000</td>\n",
       "                        <td id=\"T_d8e4b_row0_col5\" class=\"data row0 col5\" >2004.000</td>\n",
       "                        <td id=\"T_d8e4b_row0_col6\" class=\"data row0 col6\" >2008.000</td>\n",
       "                        <td id=\"T_d8e4b_row0_col7\" class=\"data row0 col7\" >5911.000</td>\n",
       "            </tr>\n",
       "    </tbody></table>"
      ],
      "text/plain": [
       "<pandas.io.formats.style.Styler at 0x7fa312b51220>"
      ]
     },
     "metadata": {},
     "output_type": "display_data"
    },
    {
     "data": {
      "image/png": "[encoded data removed]",
      "text/plain": [
       "<Figure size 864x324 with 2 Axes>"
      ]
     },
     "metadata": {
      "needs_background": "light"
     },
     "output_type": "display_data"
    }
   ],
   "source": [
    "# Графики по столбцу 'registration_year'\n",
    "plt_hist_boxplt('registration_year', title='Год регистрации автомобиля', \n",
    "                label='Год', bins=10, color='teal')"
   ]
  },
  {
   "cell_type": "markdown",
   "metadata": {},
   "source": [
    "Оба графика малоинформативные из-за наличия аномальных  и ошибочных значений:\n",
    "- Максимальное значение достигает 8200 лет. Т.к. данные были выгружены за 2016 год, следовательно в них не могут находится автомобили, выпущенные позже  этого года. Удалим значения, превыщаюшие 2016.\n",
    "- Минимально значение 1000 год, что также является ошибкой. Автомобили, с момента производства которых прошло 30 лет или более, можно считать [раритетными](https://auto.ru/mag/article/kak-priznat-staruyu-mashinu-raritetom-i-zachem-eto-nuzhno/?utm_referrer=https%3A%2F%2Fwww.google.com%2F#part2). Удалим также данные с автомобилями старше 30 лет (год регистрации менее 1986 года)."
   ]
  },
  {
   "cell_type": "code",
   "execution_count": 27,
   "metadata": {},
   "outputs": [
    {
     "name": "stdout",
     "output_type": "stream",
     "text": [
      "Удалено строк: 10849\n"
     ]
    }
   ],
   "source": [
    "# Удаление значений с годом регистрации менее 1986 и более 2016 года\n",
    "autos_before = len(autos)\n",
    "autos = autos.query('(registration_year <= 2016) and (registration_year >= 1986)')\n",
    "autos_after = len(autos)\n",
    "\n",
    "# Вывод количества удалённых строк\n",
    "print(f'Удалено строк: {autos_before - autos_after}')"
   ]
  },
  {
   "cell_type": "code",
   "execution_count": 28,
   "metadata": {},
   "outputs": [
    {
     "name": "stdout",
     "output_type": "stream",
     "text": [
      "Описательные статистики параметра Год регистрации автомобиля\n"
     ]
    },
    {
     "data": {
      "text/html": [
       "<style  type=\"text/css\" >\n",
       "</style><table id=\"T_d78ca_\" ><thead>    <tr>        <th class=\"blank level0\" ></th>        <th class=\"col_heading level0 col0\" >count</th>        <th class=\"col_heading level0 col1\" >mean</th>        <th class=\"col_heading level0 col2\" >std</th>        <th class=\"col_heading level0 col3\" >min</th>        <th class=\"col_heading level0 col4\" >25%</th>        <th class=\"col_heading level0 col5\" >50%</th>        <th class=\"col_heading level0 col6\" >75%</th>        <th class=\"col_heading level0 col7\" >max</th>    </tr></thead><tbody>\n",
       "                <tr>\n",
       "                        <th id=\"T_d78ca_level0_row0\" class=\"row_heading level0 row0\" >registration_year</th>\n",
       "                        <td id=\"T_d78ca_row0_col0\" class=\"data row0 col0\" >256394.000</td>\n",
       "                        <td id=\"T_d78ca_row0_col1\" class=\"data row0 col1\" >2003.687</td>\n",
       "                        <td id=\"T_d78ca_row0_col2\" class=\"data row0 col2\" >5.469</td>\n",
       "                        <td id=\"T_d78ca_row0_col3\" class=\"data row0 col3\" >1986.000</td>\n",
       "                        <td id=\"T_d78ca_row0_col4\" class=\"data row0 col4\" >2000.000</td>\n",
       "                        <td id=\"T_d78ca_row0_col5\" class=\"data row0 col5\" >2004.000</td>\n",
       "                        <td id=\"T_d78ca_row0_col6\" class=\"data row0 col6\" >2008.000</td>\n",
       "                        <td id=\"T_d78ca_row0_col7\" class=\"data row0 col7\" >2016.000</td>\n",
       "            </tr>\n",
       "    </tbody></table>"
      ],
      "text/plain": [
       "<pandas.io.formats.style.Styler at 0x7fa315365c70>"
      ]
     },
     "metadata": {},
     "output_type": "display_data"
    },
    {
     "data": {
      "image/png": "[encoded data removed]",
      "text/plain": [
       "<Figure size 864x324 with 2 Axes>"
      ]
     },
     "metadata": {
      "needs_background": "light"
     },
     "output_type": "display_data"
    }
   ],
   "source": [
    "# Графики по столбцу 'registration_year'\n",
    "plt_hist_boxplt('registration_year', title='Год регистрации автомобиля', \n",
    "                label='Год', bins=15, color='teal')"
   ]
  },
  {
   "cell_type": "markdown",
   "metadata": {},
   "source": [
    "Среднее значение регистрации авто составляет **2003 год**. Основное количество автомобилей зарегистрированы в промежуток 2000-2008 года."
   ]
  },
  {
   "cell_type": "markdown",
   "metadata": {},
   "source": [
    "5) `registration_month` - месяц регистрации автомобиля."
   ]
  },
  {
   "cell_type": "code",
   "execution_count": 29,
   "metadata": {},
   "outputs": [
    {
     "data": {
      "image/png": "[encoded data removed]",
      "text/plain": [
       "<Figure size 1008x360 with 2 Axes>"
      ]
     },
     "metadata": {
      "needs_background": "light"
     },
     "output_type": "display_data"
    }
   ],
   "source": [
    "# Графики по столбцу 'registration_month'\n",
    "plt_bar_box('registration_month', xlabel='Месяц', \n",
    "            title='Месяц регистрации автомобиля', display_bar_label=True)"
   ]
  },
  {
   "cell_type": "markdown",
   "metadata": {},
   "source": [
    "Признак включает в себя 13 месяцев, что является ошибкой. Более 5% автомобилей с указанным 0-ым месяцем. Выявить природу появления неверного значения не представляется возможным. Заменять это значение на другое - нецелесообразно.\n",
    "\n",
    "Что стоит отметить, так это распределение стоимости в зависимости от месяца. Видим, что месяц регистрации никак не влияет на цену - у всех автомобилей одинаковое распределение цен (не берем в расчет ошибочный нулевой месяц). Это говорит нам об отсутствии взавимосвязи между этими параметрами и  неинформативности данного признака для прознозирования цены. По этим причинами удалим столбец из датасета."
   ]
  },
  {
   "cell_type": "code",
   "execution_count": 30,
   "metadata": {},
   "outputs": [
    {
     "data": {
      "text/html": [
       "<div>\n",
       "<style scoped>\n",
       "    .dataframe tbody tr th:only-of-type {\n",
       "        vertical-align: middle;\n",
       "    }\n",
       "\n",
       "    .dataframe tbody tr th {\n",
       "        vertical-align: top;\n",
       "    }\n",
       "\n",
       "    .dataframe thead th {\n",
       "        text-align: right;\n",
       "    }\n",
       "</style>\n",
       "<table border=\"1\" class=\"dataframe\">\n",
       "  <thead>\n",
       "    <tr style=\"text-align: right;\">\n",
       "      <th></th>\n",
       "      <th>price</th>\n",
       "      <th>vehicle_type</th>\n",
       "      <th>registration_year</th>\n",
       "      <th>gearbox</th>\n",
       "      <th>power</th>\n",
       "      <th>model</th>\n",
       "      <th>kilometer</th>\n",
       "      <th>fuel_type</th>\n",
       "      <th>brand</th>\n",
       "      <th>repaired</th>\n",
       "    </tr>\n",
       "  </thead>\n",
       "  <tbody>\n",
       "    <tr>\n",
       "      <th>2</th>\n",
       "      <td>9800</td>\n",
       "      <td>suv</td>\n",
       "      <td>2004</td>\n",
       "      <td>auto</td>\n",
       "      <td>163</td>\n",
       "      <td>grand</td>\n",
       "      <td>125000</td>\n",
       "      <td>gasoline</td>\n",
       "      <td>jeep</td>\n",
       "      <td>no_info</td>\n",
       "    </tr>\n",
       "    <tr>\n",
       "      <th>3</th>\n",
       "      <td>1500</td>\n",
       "      <td>small</td>\n",
       "      <td>2001</td>\n",
       "      <td>manual</td>\n",
       "      <td>75</td>\n",
       "      <td>golf</td>\n",
       "      <td>150000</td>\n",
       "      <td>gasoline</td>\n",
       "      <td>volkswagen</td>\n",
       "      <td>no</td>\n",
       "    </tr>\n",
       "  </tbody>\n",
       "</table>\n",
       "</div>"
      ],
      "text/plain": [
       "   price vehicle_type  registration_year gearbox  power  model  kilometer  \\\n",
       "2   9800          suv               2004    auto    163  grand     125000   \n",
       "3   1500        small               2001  manual     75   golf     150000   \n",
       "\n",
       "  fuel_type       brand repaired  \n",
       "2  gasoline        jeep  no_info  \n",
       "3  gasoline  volkswagen       no  "
      ]
     },
     "execution_count": 30,
     "metadata": {},
     "output_type": "execute_result"
    }
   ],
   "source": [
    "# Удаление столбца `registration_month`\n",
    "autos = autos.drop(['registration_month'], axis=1)\n",
    "\n",
    "autos.head(2)"
   ]
  },
  {
   "cell_type": "markdown",
   "metadata": {},
   "source": [
    "6) `vehicle_type` - тип автомобильного кузова."
   ]
  },
  {
   "cell_type": "code",
   "execution_count": 31,
   "metadata": {},
   "outputs": [
    {
     "data": {
      "image/png": "[encoded data removed]",
      "text/plain": [
       "<Figure size 1008x360 with 2 Axes>"
      ]
     },
     "metadata": {
      "needs_background": "light"
     },
     "output_type": "display_data"
    }
   ],
   "source": [
    "# Графики по столбцу 'vehicle_type'\n",
    "plt_bar_box('vehicle_type', xlabel='Тип кузова', \n",
    "            title='Тип кузова', display_bar_label=True)"
   ]
  },
  {
   "cell_type": "markdown",
   "metadata": {},
   "source": [
    "Самое большое количество автомобилей представлено в кузовах **sedan, small, wagon** (практически 70% всех данных). \n",
    "\n",
    "На диаграммах размаха наблюдаем, как распределение стоимости автомобиля зависит от типа кузова. Наиболее высокую среднюю цену показывает тип **suv** (~ 9000 евро). Самые же низкие цены - у автомобилей типов small, other (менее 2000 евро)."
   ]
  },
  {
   "cell_type": "markdown",
   "metadata": {},
   "source": [
    "7) `gearbox` - тип коробки передач."
   ]
  },
  {
   "cell_type": "code",
   "execution_count": 32,
   "metadata": {},
   "outputs": [
    {
     "data": {
      "image/png": "[encoded data removed]",
      "text/plain": [
       "<Figure size 1008x360 with 2 Axes>"
      ]
     },
     "metadata": {
      "needs_background": "light"
     },
     "output_type": "display_data"
    }
   ],
   "source": [
    "# Графики по столбцу 'gearbox'\n",
    "plt_bar_box('gearbox', xlabel='Коробка передач', \n",
    "            title='Тип коробки передач', display_bar_label=True)"
   ]
  },
  {
   "cell_type": "markdown",
   "metadata": {},
   "source": [
    "Свыше 78% из представленных автомобилей - с ручкой коробкой передач (**manual**). На диаграмме размаха видим, что автомобили с автоматической коробкой в среднем стоят дороже, чем с ручной (6000 и 2900 евро соответственно)."
   ]
  },
  {
   "cell_type": "markdown",
   "metadata": {},
   "source": [
    "8) `fuel_type` - тип топлива."
   ]
  },
  {
   "cell_type": "code",
   "execution_count": 33,
   "metadata": {},
   "outputs": [
    {
     "data": {
      "image/png": "[encoded data removed]",
      "text/plain": [
       "<Figure size 1008x360 with 2 Axes>"
      ]
     },
     "metadata": {
      "needs_background": "light"
     },
     "output_type": "display_data"
    }
   ],
   "source": [
    "# Графики по столбцу 'fuel_type'\n",
    "plt_bar_box('fuel_type', xlabel='Тип топлива', \n",
    "            title='Тип топлива', display_bar_label=True)"
   ]
  },
  {
   "cell_type": "markdown",
   "metadata": {},
   "source": [
    "Подавляющее большинство автомобилей используют в качестве топлива **бензин (gasoline)**. По диаграмме размаха наблюдаем, что гибридные и электрические автомобили в среднем стоят дороже (~ 10000 евро), чем использующие другие типы топлива. "
   ]
  },
  {
   "cell_type": "markdown",
   "metadata": {},
   "source": [
    "9) `repaired` - была машина в ремонте или нет."
   ]
  },
  {
   "cell_type": "code",
   "execution_count": 34,
   "metadata": {},
   "outputs": [
    {
     "data": {
      "image/png": "[encoded data removed]",
      "text/plain": [
       "<Figure size 1008x360 with 2 Axes>"
      ]
     },
     "metadata": {
      "needs_background": "light"
     },
     "output_type": "display_data"
    }
   ],
   "source": [
    "# Графики по столбцу 'repaired'\n",
    "plt_bar_box('repaired', xlabel='Ремонт', \n",
    "            title='Был ли ремонт', display_bar_label=True)"
   ]
  },
  {
   "cell_type": "markdown",
   "metadata": {},
   "source": [
    "В объявлениях около 75% автомобилей указано, что они **не были в ремонте**. На графике распределения цены видим, что такие автомобили в среднем стоят дороже (~ 4000 евро), чем побывавшие в ремонте (~ 1200 евро)."
   ]
  },
  {
   "cell_type": "markdown",
   "metadata": {},
   "source": [
    "10) `brand` - марка автомобиля."
   ]
  },
  {
   "cell_type": "code",
   "execution_count": 35,
   "metadata": {},
   "outputs": [
    {
     "data": {
      "image/png": "[encoded data removed]",
      "text/plain": [
       "<Figure size 1008x360 with 1 Axes>"
      ]
     },
     "metadata": {
      "needs_background": "light"
     },
     "output_type": "display_data"
    }
   ],
   "source": [
    "# График по столбцу 'brand'\n",
    "plt_barh('brand', ylabel='Бренд', \n",
    "         title='Марка автомобиля. ТОП-15', display_bar_label=True)"
   ]
  },
  {
   "cell_type": "markdown",
   "metadata": {},
   "source": [
    "Самым популярным брендом является **Volkswagen** - свыше 20% всех автомобилей. Второе и третье место занимают BMW, Opel."
   ]
  },
  {
   "cell_type": "markdown",
   "metadata": {},
   "source": [
    "11) `model` - модель автомобиля."
   ]
  },
  {
   "cell_type": "code",
   "execution_count": 36,
   "metadata": {},
   "outputs": [
    {
     "data": {
      "image/png": "[encoded data removed]",
      "text/plain": [
       "<Figure size 1008x360 with 1 Axes>"
      ]
     },
     "metadata": {
      "needs_background": "light"
     },
     "output_type": "display_data"
    }
   ],
   "source": [
    "# График по столбцу 'model'\n",
    "plt_barh('model', ylabel='Модель', \n",
    "         title='Модель автомобиля. ТОП-15', display_bar_label=True)"
   ]
  },
  {
   "cell_type": "markdown",
   "metadata": {},
   "source": [
    "**Выводы:**\n",
    "\n",
    "Рассмотрев основные характеристики автомобилей, мы проанализировали распределение значений по каждому параметру, выявили средние значения, а также аномальные. В результате:\n",
    "- Удалили 23,4 % от всех данных по причине ошибочности и аномальности значений.\n",
    "- Выявили неинформативный для прогнозирования цены автомобиля признак - месяц регистрации автомобиля (`registration_month`). В дальнейшем анализе не станем его использовать.\n",
    "- Средняя стоимость автомобилей составляет 5 021 евро.\n",
    "- Большая часть авто имеют мощность 86-150 лошадиных сил.\n",
    "- Средний пробег составляет 127 765 км.\n",
    "- Основная часть представленных автомобилей 2000-2008 гг. производства.\n",
    "- Практически 70 % авто имеют типы кузова sedan, small, wagon.\n",
    "- Более 78% авто с ручной коробкой передач.\n",
    "- 75% автомобилей не были в ремонте."
   ]
  },
  {
   "cell_type": "markdown",
   "metadata": {},
   "source": [
    "## Корреляционный анализ"
   ]
  },
  {
   "cell_type": "markdown",
   "metadata": {},
   "source": [
    "Изучим взаимосвязь между признаками. Для этого рассчитаем коэффициенты корреляции Фи и построим тепловую карту. Используем для расчета все количественные и качественные признаки."
   ]
  },
  {
   "cell_type": "code",
   "execution_count": 37,
   "metadata": {},
   "outputs": [],
   "source": [
    "# Расчет корреляции\n",
    "autos_phik = autos.phik_matrix(interval_cols=['price', 'power']).round(3)"
   ]
  },
  {
   "cell_type": "code",
   "execution_count": 38,
   "metadata": {},
   "outputs": [
    {
     "data": {
      "image/png": "[encoded data removed]",
      "text/plain": [
       "<Figure size 720x432 with 2 Axes>"
      ]
     },
     "metadata": {
      "needs_background": "light"
     },
     "output_type": "display_data"
    }
   ],
   "source": [
    "# Тепловая карта\n",
    "plt.figure(figsize=(10,6))\n",
    "sns.heatmap(autos_phik, annot=True, fmt='.3f', annot_kws={\"size\": 10})\n",
    "plt.title('Матрица корреляции')\n",
    "plt.show()"
   ]
  },
  {
   "cell_type": "markdown",
   "metadata": {},
   "source": [
    "**Выводы:**\n",
    "\n",
    "Проанализировав матрицу корреляции, выявили следующие взаимосвязи:\n",
    "- Целевой признак `price` показывает заметный уровень корреляции с признаками `registration_year` (коэффициент 0.644), `model` (0.562), `power` (0.453). С остальными признаками имеет умеренный и слабый уровень корреляции.\n",
    "- Наличие мультиколлениарности между признаками `brand` и `model` (коэффициент 0.998). Т.к. для обучения мы будем использовать такие модели, как случайный лес и градиентный бустинг, удалять коррелирующие признаки не станем. Такие модели менее чувствительны к мультиколлинеарности, так как не используют линейные зависимости между признаками."
   ]
  },
  {
   "cell_type": "markdown",
   "metadata": {},
   "source": [
    "## Подготовка данных "
   ]
  },
  {
   "cell_type": "markdown",
   "metadata": {},
   "source": [
    "Удалим полные дубликаты, обнаруженные на этапе предобработки данных:"
   ]
  },
  {
   "cell_type": "code",
   "execution_count": 39,
   "metadata": {},
   "outputs": [
    {
     "name": "stdout",
     "output_type": "stream",
     "text": [
      "Количество явных дубликатов: 0\n"
     ]
    }
   ],
   "source": [
    "# Удаление дубликатов\n",
    "autos.drop_duplicates(inplace=True)\n",
    "\n",
    "# Проверка результатов\n",
    "print(f'Количество явных дубликатов: {autos.duplicated().sum()}')"
   ]
  },
  {
   "cell_type": "markdown",
   "metadata": {},
   "source": [
    "Разделим данные на тренировочную и тестовую выборки."
   ]
  },
  {
   "cell_type": "code",
   "execution_count": 40,
   "metadata": {},
   "outputs": [
    {
     "name": "stdout",
     "output_type": "stream",
     "text": [
      "Размер тренировочной выборки: (165588, 9) (165588,)\n",
      "Размер тестовой выборки: (55197, 9) (55197,)\n"
     ]
    }
   ],
   "source": [
    "# Объявление констант\n",
    "RANDOM_STATE = 42\n",
    "\n",
    "# Разделение на целевой и входные признаки\n",
    "X = autos.drop(['price'], axis=1)\n",
    "y = autos['price']\n",
    "\n",
    "# Разделение данных на выборки\n",
    "X_train, X_test, y_train, y_test = train_test_split(\n",
    "    X,\n",
    "    y,\n",
    "    test_size=0.25, \n",
    "    random_state=RANDOM_STATE\n",
    ")\n",
    "\n",
    "\n",
    "# Размерность выборок\n",
    "print('Размер тренировочной выборки:', X_train.shape, y_train.shape)\n",
    "print('Размер тестовой выборки:', X_test.shape, y_test.shape)"
   ]
  },
  {
   "cell_type": "markdown",
   "metadata": {},
   "source": [
    "Выделим количественные признаки для масштабирования и категориальные - для кодирования:"
   ]
  },
  {
   "cell_type": "code",
   "execution_count": 41,
   "metadata": {},
   "outputs": [],
   "source": [
    "# Списки с названиями столбцов для кодирования и масштабирования\n",
    "num_columns = ['registration_year', 'power', 'kilometer']\n",
    "cat_columns = ['vehicle_type', 'gearbox', 'model', 'kilometer', 'fuel_type', 'brand', 'repaired']"
   ]
  },
  {
   "cell_type": "markdown",
   "metadata": {},
   "source": [
    "Создадим пайплайн для подготовки данных.  Для масштабирования числовых признаков будет использован **StandardScaler**. Для кодирования категориальных - **OneHotEncoder** или **OrdinalEncoder** (в зависимости от используемой модели)."
   ]
  },
  {
   "cell_type": "code",
   "execution_count": 42,
   "metadata": {},
   "outputs": [],
   "source": [
    "def make_pipeline(cat_columns, num_columns, cat_encoding, model):\n",
    "    '''\n",
    "    Создает пайплайн на основе предоставленных столбцов и модели.\n",
    "    \n",
    "    Args:\n",
    "        cat_columns (list): категориальные столбцы.\n",
    "        num_columns (list): числовые столбцы.\n",
    "        cat_encoding (str): тип кодирования для категориальных столбцов ('ohe', 'ordinal', None).\n",
    "        model (sklearn model): используемая модель.\n",
    "    '''\n",
    "    \n",
    "    # Определение типа кодирования\n",
    "    if cat_encoding == 'ohe':\n",
    "        cat_transformer = OneHotEncoder(drop='first', handle_unknown='ignore', sparse_output=False)\n",
    "    \n",
    "    elif cat_encoding == 'ordinal':\n",
    "        cat_transformer = Pipeline([\n",
    "            ('ordinal', OrdinalEncoder(handle_unknown='use_encoded_value', unknown_value=np.nan)),\n",
    "            ('simpleImputer_after_ord', SimpleImputer(missing_values=np.nan, strategy='most_frequent'))\n",
    "        ])\n",
    "    \n",
    "    else:\n",
    "        cat_transformer = 'passthrough'\n",
    "\n",
    "    # Список трансформеров\n",
    "    transformers = [\n",
    "        ('cat', cat_transformer, cat_columns),\n",
    "        ('num', StandardScaler(), num_columns)\n",
    "    ]\n",
    "\n",
    "    # Общий ColumnTransformer\n",
    "    data_preprocessor = ColumnTransformer(transformers)\n",
    "\n",
    "    # Итоговый пайплайн\n",
    "    pipe_final = Pipeline([\n",
    "        ('preprocessor', data_preprocessor),\n",
    "        ('model', model)\n",
    "    ])\n",
    "\n",
    "    return pipe_final"
   ]
  },
  {
   "cell_type": "markdown",
   "metadata": {},
   "source": [
    "Для подбора наилучших гиперпараметров для каждой модели будем использовать **OptunaSearchCV**. Также мы рассчитаем время обучения и прогнозирования модели. Для оценки качества моделей будет применяться метрика **RMSE**."
   ]
  },
  {
   "cell_type": "code",
   "execution_count": 43,
   "metadata": {},
   "outputs": [],
   "source": [
    "def best_model_optuna(model, param_distr, X_train, y_train,\n",
    "                      random_state=RANDOM_STATE, n_trials=50, verbose=0):\n",
    "    '''\n",
    "    Проводит подбор гиперпараметров модели с помощью OptunaSearchCV и вычисляет ключевые метрики.\n",
    "\n",
    "    Args:\n",
    "        model (sklearn model): используемая модель.\n",
    "        param_distr (dict): диапазон для поиска гиперпараметров Optuna.\n",
    "        X_train (DataFrame): Признаки обучающей выборки.\n",
    "        y_train (Series): Целевой признак обучающей выборки.\n",
    "        random_state (int, optional): Значение для фиксации случайности. По умолчанию RANDOM_STATE.\n",
    "        n_trials (int, optional): Количество итераций для OptunaSearchCV. По умолчанию 50.\n",
    "        verbose (int, optional): Уровень детализации вывода. По умолчанию 0.\n",
    "        \n",
    "    Вывод:\n",
    "        - Лучшие параметры модели.\n",
    "        - RMSE на кросс-валидации.\n",
    "        - Время на обучение модели.\n",
    "        - Время на предсказание модели.\n",
    "    '''\n",
    "    \n",
    "    # Настройка OptunaSearchCV\n",
    "    optuna_search = OptunaSearchCV(\n",
    "        estimator=model,\n",
    "        param_distributions=param_distr,\n",
    "        cv=5,\n",
    "        scoring='neg_root_mean_squared_error',\n",
    "        n_trials=n_trials,\n",
    "        random_state=RANDOM_STATE,\n",
    "        verbose=verbose\n",
    "    )\n",
    "    \n",
    "    # Подбор параметров\n",
    "    optuna_search.fit(X_train, y_train)\n",
    "\n",
    "    # Модель с лучшими параметрами\n",
    "    best_model = optuna_search.best_estimator_\n",
    "\n",
    "    # Измерение времени на обучение модели\n",
    "    start_train = time.time()\n",
    "    best_model.fit(X_train, y_train)  \n",
    "    end_train = time.time()\n",
    "    train_time = end_train - start_train\n",
    "\n",
    "    # Измерение времени прогноза модели\n",
    "    start_predict = time.time()\n",
    "    y_train_pred = best_model.predict(X_train)\n",
    "    end_predict = time.time()\n",
    "    predict_time = end_predict - start_predict\n",
    "\n",
    "    # RMSE\n",
    "    rmse_cv = -optuna_search.best_score_\n",
    "\n",
    "    # Вывод результтатов\n",
    "    print(f'Лучшие параметры: {optuna_search.best_params_}')\n",
    "    print(f'Метрика RMSE на кросс-валидации: {rmse_cv}')\n",
    "    print(f'Время на обучение модели: {train_time:.2f} секунд')\n",
    "    print(f'Время на предсказание модели: {predict_time:.2f} секунд')\n",
    " \n",
    "    return best_model, train_time, predict_time, rmse_cv"
   ]
  },
  {
   "cell_type": "markdown",
   "metadata": {},
   "source": [
    "**Выводы:**\n",
    "\n",
    "- Разделили данные на тренировочную и тестовую выборки.\n",
    "- Создали пайплайн для подготовки данных к обучению (масштабирование и кодирование признаков).\n",
    "- Написали функцию для поиска гиперпараметров модели с помощью OptunaSearchCV, а также расчета ключевых метрик."
   ]
  },
  {
   "cell_type": "markdown",
   "metadata": {},
   "source": [
    "## Обучение моделей"
   ]
  },
  {
   "cell_type": "markdown",
   "metadata": {},
   "source": [
    "Для поиска лучшей модели протестируем 3 варианта:\n",
    "- **Ridge Regression**\n",
    "- **Random Forest Regressor**\n",
    "- **LGBMRegressor**"
   ]
  },
  {
   "cell_type": "markdown",
   "metadata": {},
   "source": [
    "### Ridge Regression"
   ]
  },
  {
   "cell_type": "code",
   "execution_count": 44,
   "metadata": {},
   "outputs": [
    {
     "data": {
      "text/html": [
       "<style>#sk-container-id-1 {\n",
       "  /* Definition of color scheme common for light and dark mode */\n",
       "  --sklearn-color-text: black;\n",
       "  --sklearn-color-line: gray;\n",
       "  /* Definition of color scheme for unfitted estimators */\n",
       "  --sklearn-color-unfitted-level-0: #fff5e6;\n",
       "  --sklearn-color-unfitted-level-1: #f6e4d2;\n",
       "  --sklearn-color-unfitted-level-2: #ffe0b3;\n",
       "  --sklearn-color-unfitted-level-3: chocolate;\n",
       "  /* Definition of color scheme for fitted estimators */\n",
       "  --sklearn-color-fitted-level-0: #f0f8ff;\n",
       "  --sklearn-color-fitted-level-1: #d4ebff;\n",
       "  --sklearn-color-fitted-level-2: #b3dbfd;\n",
       "  --sklearn-color-fitted-level-3: cornflowerblue;\n",
       "\n",
       "  /* Specific color for light theme */\n",
       "  --sklearn-color-text-on-default-background: var(--sg-text-color, var(--theme-code-foreground, var(--jp-content-font-color1, black)));\n",
       "  --sklearn-color-background: var(--sg-background-color, var(--theme-background, var(--jp-layout-color0, white)));\n",
       "  --sklearn-color-border-box: var(--sg-text-color, var(--theme-code-foreground, var(--jp-content-font-color1, black)));\n",
       "  --sklearn-color-icon: #696969;\n",
       "\n",
       "  @media (prefers-color-scheme: dark) {\n",
       "    /* Redefinition of color scheme for dark theme */\n",
       "    --sklearn-color-text-on-default-background: var(--sg-text-color, var(--theme-code-foreground, var(--jp-content-font-color1, white)));\n",
       "    --sklearn-color-background: var(--sg-background-color, var(--theme-background, var(--jp-layout-color0, #111)));\n",
       "    --sklearn-color-border-box: var(--sg-text-color, var(--theme-code-foreground, var(--jp-content-font-color1, white)));\n",
       "    --sklearn-color-icon: #878787;\n",
       "  }\n",
       "}\n",
       "\n",
       "#sk-container-id-1 {\n",
       "  color: var(--sklearn-color-text);\n",
       "}\n",
       "\n",
       "#sk-container-id-1 pre {\n",
       "  padding: 0;\n",
       "}\n",
       "\n",
       "#sk-container-id-1 input.sk-hidden--visually {\n",
       "  border: 0;\n",
       "  clip: rect(1px 1px 1px 1px);\n",
       "  clip: rect(1px, 1px, 1px, 1px);\n",
       "  height: 1px;\n",
       "  margin: -1px;\n",
       "  overflow: hidden;\n",
       "  padding: 0;\n",
       "  position: absolute;\n",
       "  width: 1px;\n",
       "}\n",
       "\n",
       "#sk-container-id-1 div.sk-dashed-wrapped {\n",
       "  border: 1px dashed var(--sklearn-color-line);\n",
       "  margin: 0 0.4em 0.5em 0.4em;\n",
       "  box-sizing: border-box;\n",
       "  padding-bottom: 0.4em;\n",
       "  background-color: var(--sklearn-color-background);\n",
       "}\n",
       "\n",
       "#sk-container-id-1 div.sk-container {\n",
       "  /* jupyter's `normalize.less` sets `[hidden] { display: none; }`\n",
       "     but bootstrap.min.css set `[hidden] { display: none !important; }`\n",
       "     so we also need the `!important` here to be able to override the\n",
       "     default hidden behavior on the sphinx rendered scikit-learn.org.\n",
       "     See: https://github.com/scikit-learn/scikit-learn/issues/21755 */\n",
       "  display: inline-block !important;\n",
       "  position: relative;\n",
       "}\n",
       "\n",
       "#sk-container-id-1 div.sk-text-repr-fallback {\n",
       "  display: none;\n",
       "}\n",
       "\n",
       "div.sk-parallel-item,\n",
       "div.sk-serial,\n",
       "div.sk-item {\n",
       "  /* draw centered vertical line to link estimators */\n",
       "  background-image: linear-gradient(var(--sklearn-color-text-on-default-background), var(--sklearn-color-text-on-default-background));\n",
       "  background-size: 2px 100%;\n",
       "  background-repeat: no-repeat;\n",
       "  background-position: center center;\n",
       "}\n",
       "\n",
       "/* Parallel-specific style estimator block */\n",
       "\n",
       "#sk-container-id-1 div.sk-parallel-item::after {\n",
       "  content: \"\";\n",
       "  width: 100%;\n",
       "  border-bottom: 2px solid var(--sklearn-color-text-on-default-background);\n",
       "  flex-grow: 1;\n",
       "}\n",
       "\n",
       "#sk-container-id-1 div.sk-parallel {\n",
       "  display: flex;\n",
       "  align-items: stretch;\n",
       "  justify-content: center;\n",
       "  background-color: var(--sklearn-color-background);\n",
       "  position: relative;\n",
       "}\n",
       "\n",
       "#sk-container-id-1 div.sk-parallel-item {\n",
       "  display: flex;\n",
       "  flex-direction: column;\n",
       "}\n",
       "\n",
       "#sk-container-id-1 div.sk-parallel-item:first-child::after {\n",
       "  align-self: flex-end;\n",
       "  width: 50%;\n",
       "}\n",
       "\n",
       "#sk-container-id-1 div.sk-parallel-item:last-child::after {\n",
       "  align-self: flex-start;\n",
       "  width: 50%;\n",
       "}\n",
       "\n",
       "#sk-container-id-1 div.sk-parallel-item:only-child::after {\n",
       "  width: 0;\n",
       "}\n",
       "\n",
       "/* Serial-specific style estimator block */\n",
       "\n",
       "#sk-container-id-1 div.sk-serial {\n",
       "  display: flex;\n",
       "  flex-direction: column;\n",
       "  align-items: center;\n",
       "  background-color: var(--sklearn-color-background);\n",
       "  padding-right: 1em;\n",
       "  padding-left: 1em;\n",
       "}\n",
       "\n",
       "\n",
       "/* Toggleable style: style used for estimator/Pipeline/ColumnTransformer box that is\n",
       "clickable and can be expanded/collapsed.\n",
       "- Pipeline and ColumnTransformer use this feature and define the default style\n",
       "- Estimators will overwrite some part of the style using the `sk-estimator` class\n",
       "*/\n",
       "\n",
       "/* Pipeline and ColumnTransformer style (default) */\n",
       "\n",
       "#sk-container-id-1 div.sk-toggleable {\n",
       "  /* Default theme specific background. It is overwritten whether we have a\n",
       "  specific estimator or a Pipeline/ColumnTransformer */\n",
       "  background-color: var(--sklearn-color-background);\n",
       "}\n",
       "\n",
       "/* Toggleable label */\n",
       "#sk-container-id-1 label.sk-toggleable__label {\n",
       "  cursor: pointer;\n",
       "  display: block;\n",
       "  width: 100%;\n",
       "  margin-bottom: 0;\n",
       "  padding: 0.5em;\n",
       "  box-sizing: border-box;\n",
       "  text-align: center;\n",
       "}\n",
       "\n",
       "#sk-container-id-1 label.sk-toggleable__label-arrow:before {\n",
       "  /* Arrow on the left of the label */\n",
       "  content: \"▸\";\n",
       "  float: left;\n",
       "  margin-right: 0.25em;\n",
       "  color: var(--sklearn-color-icon);\n",
       "}\n",
       "\n",
       "#sk-container-id-1 label.sk-toggleable__label-arrow:hover:before {\n",
       "  color: var(--sklearn-color-text);\n",
       "}\n",
       "\n",
       "/* Toggleable content - dropdown */\n",
       "\n",
       "#sk-container-id-1 div.sk-toggleable__content {\n",
       "  max-height: 0;\n",
       "  max-width: 0;\n",
       "  overflow: hidden;\n",
       "  text-align: left;\n",
       "  /* unfitted */\n",
       "  background-color: var(--sklearn-color-unfitted-level-0);\n",
       "}\n",
       "\n",
       "#sk-container-id-1 div.sk-toggleable__content.fitted {\n",
       "  /* fitted */\n",
       "  background-color: var(--sklearn-color-fitted-level-0);\n",
       "}\n",
       "\n",
       "#sk-container-id-1 div.sk-toggleable__content pre {\n",
       "  margin: 0.2em;\n",
       "  border-radius: 0.25em;\n",
       "  color: var(--sklearn-color-text);\n",
       "  /* unfitted */\n",
       "  background-color: var(--sklearn-color-unfitted-level-0);\n",
       "}\n",
       "\n",
       "#sk-container-id-1 div.sk-toggleable__content.fitted pre {\n",
       "  /* unfitted */\n",
       "  background-color: var(--sklearn-color-fitted-level-0);\n",
       "}\n",
       "\n",
       "#sk-container-id-1 input.sk-toggleable__control:checked~div.sk-toggleable__content {\n",
       "  /* Expand drop-down */\n",
       "  max-height: 200px;\n",
       "  max-width: 100%;\n",
       "  overflow: auto;\n",
       "}\n",
       "\n",
       "#sk-container-id-1 input.sk-toggleable__control:checked~label.sk-toggleable__label-arrow:before {\n",
       "  content: \"▾\";\n",
       "}\n",
       "\n",
       "/* Pipeline/ColumnTransformer-specific style */\n",
       "\n",
       "#sk-container-id-1 div.sk-label input.sk-toggleable__control:checked~label.sk-toggleable__label {\n",
       "  color: var(--sklearn-color-text);\n",
       "  background-color: var(--sklearn-color-unfitted-level-2);\n",
       "}\n",
       "\n",
       "#sk-container-id-1 div.sk-label.fitted input.sk-toggleable__control:checked~label.sk-toggleable__label {\n",
       "  background-color: var(--sklearn-color-fitted-level-2);\n",
       "}\n",
       "\n",
       "/* Estimator-specific style */\n",
       "\n",
       "/* Colorize estimator box */\n",
       "#sk-container-id-1 div.sk-estimator input.sk-toggleable__control:checked~label.sk-toggleable__label {\n",
       "  /* unfitted */\n",
       "  background-color: var(--sklearn-color-unfitted-level-2);\n",
       "}\n",
       "\n",
       "#sk-container-id-1 div.sk-estimator.fitted input.sk-toggleable__control:checked~label.sk-toggleable__label {\n",
       "  /* fitted */\n",
       "  background-color: var(--sklearn-color-fitted-level-2);\n",
       "}\n",
       "\n",
       "#sk-container-id-1 div.sk-label label.sk-toggleable__label,\n",
       "#sk-container-id-1 div.sk-label label {\n",
       "  /* The background is the default theme color */\n",
       "  color: var(--sklearn-color-text-on-default-background);\n",
       "}\n",
       "\n",
       "/* On hover, darken the color of the background */\n",
       "#sk-container-id-1 div.sk-label:hover label.sk-toggleable__label {\n",
       "  color: var(--sklearn-color-text);\n",
       "  background-color: var(--sklearn-color-unfitted-level-2);\n",
       "}\n",
       "\n",
       "/* Label box, darken color on hover, fitted */\n",
       "#sk-container-id-1 div.sk-label.fitted:hover label.sk-toggleable__label.fitted {\n",
       "  color: var(--sklearn-color-text);\n",
       "  background-color: var(--sklearn-color-fitted-level-2);\n",
       "}\n",
       "\n",
       "/* Estimator label */\n",
       "\n",
       "#sk-container-id-1 div.sk-label label {\n",
       "  font-family: monospace;\n",
       "  font-weight: bold;\n",
       "  display: inline-block;\n",
       "  line-height: 1.2em;\n",
       "}\n",
       "\n",
       "#sk-container-id-1 div.sk-label-container {\n",
       "  text-align: center;\n",
       "}\n",
       "\n",
       "/* Estimator-specific */\n",
       "#sk-container-id-1 div.sk-estimator {\n",
       "  font-family: monospace;\n",
       "  border: 1px dotted var(--sklearn-color-border-box);\n",
       "  border-radius: 0.25em;\n",
       "  box-sizing: border-box;\n",
       "  margin-bottom: 0.5em;\n",
       "  /* unfitted */\n",
       "  background-color: var(--sklearn-color-unfitted-level-0);\n",
       "}\n",
       "\n",
       "#sk-container-id-1 div.sk-estimator.fitted {\n",
       "  /* fitted */\n",
       "  background-color: var(--sklearn-color-fitted-level-0);\n",
       "}\n",
       "\n",
       "/* on hover */\n",
       "#sk-container-id-1 div.sk-estimator:hover {\n",
       "  /* unfitted */\n",
       "  background-color: var(--sklearn-color-unfitted-level-2);\n",
       "}\n",
       "\n",
       "#sk-container-id-1 div.sk-estimator.fitted:hover {\n",
       "  /* fitted */\n",
       "  background-color: var(--sklearn-color-fitted-level-2);\n",
       "}\n",
       "\n",
       "/* Specification for estimator info (e.g. \"i\" and \"?\") */\n",
       "\n",
       "/* Common style for \"i\" and \"?\" */\n",
       "\n",
       ".sk-estimator-doc-link,\n",
       "a:link.sk-estimator-doc-link,\n",
       "a:visited.sk-estimator-doc-link {\n",
       "  float: right;\n",
       "  font-size: smaller;\n",
       "  line-height: 1em;\n",
       "  font-family: monospace;\n",
       "  background-color: var(--sklearn-color-background);\n",
       "  border-radius: 1em;\n",
       "  height: 1em;\n",
       "  width: 1em;\n",
       "  text-decoration: none !important;\n",
       "  margin-left: 1ex;\n",
       "  /* unfitted */\n",
       "  border: var(--sklearn-color-unfitted-level-1) 1pt solid;\n",
       "  color: var(--sklearn-color-unfitted-level-1);\n",
       "}\n",
       "\n",
       ".sk-estimator-doc-link.fitted,\n",
       "a:link.sk-estimator-doc-link.fitted,\n",
       "a:visited.sk-estimator-doc-link.fitted {\n",
       "  /* fitted */\n",
       "  border: var(--sklearn-color-fitted-level-1) 1pt solid;\n",
       "  color: var(--sklearn-color-fitted-level-1);\n",
       "}\n",
       "\n",
       "/* On hover */\n",
       "div.sk-estimator:hover .sk-estimator-doc-link:hover,\n",
       ".sk-estimator-doc-link:hover,\n",
       "div.sk-label-container:hover .sk-estimator-doc-link:hover,\n",
       ".sk-estimator-doc-link:hover {\n",
       "  /* unfitted */\n",
       "  background-color: var(--sklearn-color-unfitted-level-3);\n",
       "  color: var(--sklearn-color-background);\n",
       "  text-decoration: none;\n",
       "}\n",
       "\n",
       "div.sk-estimator.fitted:hover .sk-estimator-doc-link.fitted:hover,\n",
       ".sk-estimator-doc-link.fitted:hover,\n",
       "div.sk-label-container:hover .sk-estimator-doc-link.fitted:hover,\n",
       ".sk-estimator-doc-link.fitted:hover {\n",
       "  /* fitted */\n",
       "  background-color: var(--sklearn-color-fitted-level-3);\n",
       "  color: var(--sklearn-color-background);\n",
       "  text-decoration: none;\n",
       "}\n",
       "\n",
       "/* Span, style for the box shown on hovering the info icon */\n",
       ".sk-estimator-doc-link span {\n",
       "  display: none;\n",
       "  z-index: 9999;\n",
       "  position: relative;\n",
       "  font-weight: normal;\n",
       "  right: .2ex;\n",
       "  padding: .5ex;\n",
       "  margin: .5ex;\n",
       "  width: min-content;\n",
       "  min-width: 20ex;\n",
       "  max-width: 50ex;\n",
       "  color: var(--sklearn-color-text);\n",
       "  box-shadow: 2pt 2pt 4pt #999;\n",
       "  /* unfitted */\n",
       "  background: var(--sklearn-color-unfitted-level-0);\n",
       "  border: .5pt solid var(--sklearn-color-unfitted-level-3);\n",
       "}\n",
       "\n",
       ".sk-estimator-doc-link.fitted span {\n",
       "  /* fitted */\n",
       "  background: var(--sklearn-color-fitted-level-0);\n",
       "  border: var(--sklearn-color-fitted-level-3);\n",
       "}\n",
       "\n",
       ".sk-estimator-doc-link:hover span {\n",
       "  display: block;\n",
       "}\n",
       "\n",
       "/* \"?\"-specific style due to the `<a>` HTML tag */\n",
       "\n",
       "#sk-container-id-1 a.estimator_doc_link {\n",
       "  float: right;\n",
       "  font-size: 1rem;\n",
       "  line-height: 1em;\n",
       "  font-family: monospace;\n",
       "  background-color: var(--sklearn-color-background);\n",
       "  border-radius: 1rem;\n",
       "  height: 1rem;\n",
       "  width: 1rem;\n",
       "  text-decoration: none;\n",
       "  /* unfitted */\n",
       "  color: var(--sklearn-color-unfitted-level-1);\n",
       "  border: var(--sklearn-color-unfitted-level-1) 1pt solid;\n",
       "}\n",
       "\n",
       "#sk-container-id-1 a.estimator_doc_link.fitted {\n",
       "  /* fitted */\n",
       "  border: var(--sklearn-color-fitted-level-1) 1pt solid;\n",
       "  color: var(--sklearn-color-fitted-level-1);\n",
       "}\n",
       "\n",
       "/* On hover */\n",
       "#sk-container-id-1 a.estimator_doc_link:hover {\n",
       "  /* unfitted */\n",
       "  background-color: var(--sklearn-color-unfitted-level-3);\n",
       "  color: var(--sklearn-color-background);\n",
       "  text-decoration: none;\n",
       "}\n",
       "\n",
       "#sk-container-id-1 a.estimator_doc_link.fitted:hover {\n",
       "  /* fitted */\n",
       "  background-color: var(--sklearn-color-fitted-level-3);\n",
       "}\n",
       "</style><div id=\"sk-container-id-1\" class=\"sk-top-container\"><div class=\"sk-text-repr-fallback\"><pre>Pipeline(steps=[(&#x27;preprocessor&#x27;,\n",
       "                 ColumnTransformer(transformers=[(&#x27;cat&#x27;,\n",
       "                                                  OneHotEncoder(drop=&#x27;first&#x27;,\n",
       "                                                                handle_unknown=&#x27;ignore&#x27;,\n",
       "                                                                sparse_output=False),\n",
       "                                                  [&#x27;vehicle_type&#x27;, &#x27;gearbox&#x27;,\n",
       "                                                   &#x27;model&#x27;, &#x27;kilometer&#x27;,\n",
       "                                                   &#x27;fuel_type&#x27;, &#x27;brand&#x27;,\n",
       "                                                   &#x27;repaired&#x27;]),\n",
       "                                                 (&#x27;num&#x27;, StandardScaler(),\n",
       "                                                  [&#x27;registration_year&#x27;, &#x27;power&#x27;,\n",
       "                                                   &#x27;kilometer&#x27;])])),\n",
       "                (&#x27;model&#x27;, Ridge(random_state=42))])</pre><b>In a Jupyter environment, please rerun this cell to show the HTML representation or trust the notebook. <br />On GitHub, the HTML representation is unable to render, please try loading this page with nbviewer.org.</b></div><div class=\"sk-container\" hidden><div class=\"sk-item sk-dashed-wrapped\"><div class=\"sk-label-container\"><div class=\"sk-label  sk-toggleable\"><input class=\"sk-toggleable__control sk-hidden--visually\" id=\"sk-estimator-id-1\" type=\"checkbox\" ><label for=\"sk-estimator-id-1\" class=\"sk-toggleable__label  sk-toggleable__label-arrow \">&nbsp;&nbsp;Pipeline<a class=\"sk-estimator-doc-link \" rel=\"noreferrer\" target=\"_blank\" href=\"https://scikit-learn.org/1.5/modules/generated/sklearn.pipeline.Pipeline.html\">?<span>Documentation for Pipeline</span></a><span class=\"sk-estimator-doc-link \">i<span>Not fitted</span></span></label><div class=\"sk-toggleable__content \"><pre>Pipeline(steps=[(&#x27;preprocessor&#x27;,\n",
       "                 ColumnTransformer(transformers=[(&#x27;cat&#x27;,\n",
       "                                                  OneHotEncoder(drop=&#x27;first&#x27;,\n",
       "                                                                handle_unknown=&#x27;ignore&#x27;,\n",
       "                                                                sparse_output=False),\n",
       "                                                  [&#x27;vehicle_type&#x27;, &#x27;gearbox&#x27;,\n",
       "                                                   &#x27;model&#x27;, &#x27;kilometer&#x27;,\n",
       "                                                   &#x27;fuel_type&#x27;, &#x27;brand&#x27;,\n",
       "                                                   &#x27;repaired&#x27;]),\n",
       "                                                 (&#x27;num&#x27;, StandardScaler(),\n",
       "                                                  [&#x27;registration_year&#x27;, &#x27;power&#x27;,\n",
       "                                                   &#x27;kilometer&#x27;])])),\n",
       "                (&#x27;model&#x27;, Ridge(random_state=42))])</pre></div> </div></div><div class=\"sk-serial\"><div class=\"sk-item sk-dashed-wrapped\"><div class=\"sk-label-container\"><div class=\"sk-label  sk-toggleable\"><input class=\"sk-toggleable__control sk-hidden--visually\" id=\"sk-estimator-id-2\" type=\"checkbox\" ><label for=\"sk-estimator-id-2\" class=\"sk-toggleable__label  sk-toggleable__label-arrow \">&nbsp;preprocessor: ColumnTransformer<a class=\"sk-estimator-doc-link \" rel=\"noreferrer\" target=\"_blank\" href=\"https://scikit-learn.org/1.5/modules/generated/sklearn.compose.ColumnTransformer.html\">?<span>Documentation for preprocessor: ColumnTransformer</span></a></label><div class=\"sk-toggleable__content \"><pre>ColumnTransformer(transformers=[(&#x27;cat&#x27;,\n",
       "                                 OneHotEncoder(drop=&#x27;first&#x27;,\n",
       "                                               handle_unknown=&#x27;ignore&#x27;,\n",
       "                                               sparse_output=False),\n",
       "                                 [&#x27;vehicle_type&#x27;, &#x27;gearbox&#x27;, &#x27;model&#x27;,\n",
       "                                  &#x27;kilometer&#x27;, &#x27;fuel_type&#x27;, &#x27;brand&#x27;,\n",
       "                                  &#x27;repaired&#x27;]),\n",
       "                                (&#x27;num&#x27;, StandardScaler(),\n",
       "                                 [&#x27;registration_year&#x27;, &#x27;power&#x27;, &#x27;kilometer&#x27;])])</pre></div> </div></div><div class=\"sk-parallel\"><div class=\"sk-parallel-item\"><div class=\"sk-item\"><div class=\"sk-label-container\"><div class=\"sk-label  sk-toggleable\"><input class=\"sk-toggleable__control sk-hidden--visually\" id=\"sk-estimator-id-3\" type=\"checkbox\" ><label for=\"sk-estimator-id-3\" class=\"sk-toggleable__label  sk-toggleable__label-arrow \">cat</label><div class=\"sk-toggleable__content \"><pre>[&#x27;vehicle_type&#x27;, &#x27;gearbox&#x27;, &#x27;model&#x27;, &#x27;kilometer&#x27;, &#x27;fuel_type&#x27;, &#x27;brand&#x27;, &#x27;repaired&#x27;]</pre></div> </div></div><div class=\"sk-serial\"><div class=\"sk-item\"><div class=\"sk-estimator  sk-toggleable\"><input class=\"sk-toggleable__control sk-hidden--visually\" id=\"sk-estimator-id-4\" type=\"checkbox\" ><label for=\"sk-estimator-id-4\" class=\"sk-toggleable__label  sk-toggleable__label-arrow \">&nbsp;OneHotEncoder<a class=\"sk-estimator-doc-link \" rel=\"noreferrer\" target=\"_blank\" href=\"https://scikit-learn.org/1.5/modules/generated/sklearn.preprocessing.OneHotEncoder.html\">?<span>Documentation for OneHotEncoder</span></a></label><div class=\"sk-toggleable__content \"><pre>OneHotEncoder(drop=&#x27;first&#x27;, handle_unknown=&#x27;ignore&#x27;, sparse_output=False)</pre></div> </div></div></div></div></div><div class=\"sk-parallel-item\"><div class=\"sk-item\"><div class=\"sk-label-container\"><div class=\"sk-label  sk-toggleable\"><input class=\"sk-toggleable__control sk-hidden--visually\" id=\"sk-estimator-id-5\" type=\"checkbox\" ><label for=\"sk-estimator-id-5\" class=\"sk-toggleable__label  sk-toggleable__label-arrow \">num</label><div class=\"sk-toggleable__content \"><pre>[&#x27;registration_year&#x27;, &#x27;power&#x27;, &#x27;kilometer&#x27;]</pre></div> </div></div><div class=\"sk-serial\"><div class=\"sk-item\"><div class=\"sk-estimator  sk-toggleable\"><input class=\"sk-toggleable__control sk-hidden--visually\" id=\"sk-estimator-id-6\" type=\"checkbox\" ><label for=\"sk-estimator-id-6\" class=\"sk-toggleable__label  sk-toggleable__label-arrow \">&nbsp;StandardScaler<a class=\"sk-estimator-doc-link \" rel=\"noreferrer\" target=\"_blank\" href=\"https://scikit-learn.org/1.5/modules/generated/sklearn.preprocessing.StandardScaler.html\">?<span>Documentation for StandardScaler</span></a></label><div class=\"sk-toggleable__content \"><pre>StandardScaler()</pre></div> </div></div></div></div></div></div></div><div class=\"sk-item\"><div class=\"sk-estimator  sk-toggleable\"><input class=\"sk-toggleable__control sk-hidden--visually\" id=\"sk-estimator-id-7\" type=\"checkbox\" ><label for=\"sk-estimator-id-7\" class=\"sk-toggleable__label  sk-toggleable__label-arrow \">&nbsp;Ridge<a class=\"sk-estimator-doc-link \" rel=\"noreferrer\" target=\"_blank\" href=\"https://scikit-learn.org/1.5/modules/generated/sklearn.linear_model.Ridge.html\">?<span>Documentation for Ridge</span></a></label><div class=\"sk-toggleable__content \"><pre>Ridge(random_state=42)</pre></div> </div></div></div></div></div></div>"
      ],
      "text/plain": [
       "Pipeline(steps=[('preprocessor',\n",
       "                 ColumnTransformer(transformers=[('cat',\n",
       "                                                  OneHotEncoder(drop='first',\n",
       "                                                                handle_unknown='ignore',\n",
       "                                                                sparse_output=False),\n",
       "                                                  ['vehicle_type', 'gearbox',\n",
       "                                                   'model', 'kilometer',\n",
       "                                                   'fuel_type', 'brand',\n",
       "                                                   'repaired']),\n",
       "                                                 ('num', StandardScaler(),\n",
       "                                                  ['registration_year', 'power',\n",
       "                                                   'kilometer'])])),\n",
       "                ('model', Ridge(random_state=42))])"
      ]
     },
     "execution_count": 44,
     "metadata": {},
     "output_type": "execute_result"
    }
   ],
   "source": [
    "# Создание пайплайна для Ridge Regression\n",
    "pipeline_ridge = make_pipeline(cat_columns, num_columns, 'ohe', Ridge(random_state=RANDOM_STATE))\n",
    "pipeline_ridge"
   ]
  },
  {
   "cell_type": "code",
   "execution_count": 45,
   "metadata": {},
   "outputs": [],
   "source": [
    "# Гиперпараметры для Ridge Regression\n",
    "params_ridge = {\n",
    "    'model__alpha': optuna.distributions.FloatDistribution(0.1, 1.5, 0.2),\n",
    "}"
   ]
  },
  {
   "cell_type": "code",
   "execution_count": 46,
   "metadata": {},
   "outputs": [
    {
     "name": "stderr",
     "output_type": "stream",
     "text": [
      "[I 2024-10-15 06:07:50,958] A new study created in memory with name: no-name-867ddd0a-7a34-49ca-a99a-57d0101bf6f2\n",
      "[I 2024-10-15 06:08:05,367] Trial 0 finished with value: -2334.972633072687 and parameters: {'model__alpha': 0.34258625379596314}. Best is trial 0 with value: -2334.972633072687.\n",
      "[I 2024-10-15 06:08:19,357] Trial 1 finished with value: -2334.980942568172 and parameters: {'model__alpha': 0.9533475508777948}. Best is trial 0 with value: -2334.972633072687.\n",
      "[I 2024-10-15 06:08:33,563] Trial 2 finished with value: -2335.000293861101 and parameters: {'model__alpha': 0.12056206511512303}. Best is trial 0 with value: -2334.972633072687.\n",
      "[I 2024-10-15 06:08:47,450] Trial 3 finished with value: -2334.9813960500146 and parameters: {'model__alpha': 0.23751941759036269}. Best is trial 0 with value: -2334.972633072687.\n",
      "[I 2024-10-15 06:09:01,661] Trial 4 finished with value: -2334.9710371922624 and parameters: {'model__alpha': 0.3720697964349206}. Best is trial 4 with value: -2334.9710371922624.\n",
      "[I 2024-10-15 06:09:16,072] Trial 5 finished with value: -2334.98293546358 and parameters: {'model__alpha': 0.2242760494619183}. Best is trial 4 with value: -2334.9710371922624.\n",
      "[I 2024-10-15 06:09:30,362] Trial 6 finished with value: -2334.9893960923337 and parameters: {'model__alpha': 0.17775944434102725}. Best is trial 4 with value: -2334.9710371922624.\n",
      "[I 2024-10-15 06:09:44,870] Trial 7 finished with value: -2334.992898636418 and parameters: {'model__alpha': 0.1570758789621752}. Best is trial 4 with value: -2334.9710371922624.\n",
      "[I 2024-10-15 06:09:58,468] Trial 8 finished with value: -2334.992171919206 and parameters: {'model__alpha': 0.16115817414095013}. Best is trial 4 with value: -2334.9710371922624.\n",
      "[I 2024-10-15 06:10:12,463] Trial 9 finished with value: -2334.9814609581426 and parameters: {'model__alpha': 0.23693994110354666}. Best is trial 4 with value: -2334.9710371922624.\n"
     ]
    },
    {
     "name": "stdout",
     "output_type": "stream",
     "text": [
      "Лучшие параметры: {'model__alpha': 0.3720697964349206}\n",
      "Метрика RMSE на кросс-валидации: 2334.9710371922624\n",
      "Время на обучение модели: 3.20 секунд\n",
      "Время на предсказание модели: 1.20 секунд\n"
     ]
    }
   ],
   "source": [
    "# Подбор гиперпараметров и обучение модели\n",
    "rigde_model, ridge_train_time, ridge_pred_time, ridge_rmse = best_model_optuna(\n",
    "    pipeline_ridge, \n",
    "    params_ridge, \n",
    "    X_train, \n",
    "    y_train, \n",
    "    n_trials=10)"
   ]
  },
  {
   "cell_type": "markdown",
   "metadata": {},
   "source": [
    "### Random Forest Regressor"
   ]
  },
  {
   "cell_type": "code",
   "execution_count": 47,
   "metadata": {},
   "outputs": [
    {
     "data": {
      "text/html": [
       "<style>#sk-container-id-2 {\n",
       "  /* Definition of color scheme common for light and dark mode */\n",
       "  --sklearn-color-text: black;\n",
       "  --sklearn-color-line: gray;\n",
       "  /* Definition of color scheme for unfitted estimators */\n",
       "  --sklearn-color-unfitted-level-0: #fff5e6;\n",
       "  --sklearn-color-unfitted-level-1: #f6e4d2;\n",
       "  --sklearn-color-unfitted-level-2: #ffe0b3;\n",
       "  --sklearn-color-unfitted-level-3: chocolate;\n",
       "  /* Definition of color scheme for fitted estimators */\n",
       "  --sklearn-color-fitted-level-0: #f0f8ff;\n",
       "  --sklearn-color-fitted-level-1: #d4ebff;\n",
       "  --sklearn-color-fitted-level-2: #b3dbfd;\n",
       "  --sklearn-color-fitted-level-3: cornflowerblue;\n",
       "\n",
       "  /* Specific color for light theme */\n",
       "  --sklearn-color-text-on-default-background: var(--sg-text-color, var(--theme-code-foreground, var(--jp-content-font-color1, black)));\n",
       "  --sklearn-color-background: var(--sg-background-color, var(--theme-background, var(--jp-layout-color0, white)));\n",
       "  --sklearn-color-border-box: var(--sg-text-color, var(--theme-code-foreground, var(--jp-content-font-color1, black)));\n",
       "  --sklearn-color-icon: #696969;\n",
       "\n",
       "  @media (prefers-color-scheme: dark) {\n",
       "    /* Redefinition of color scheme for dark theme */\n",
       "    --sklearn-color-text-on-default-background: var(--sg-text-color, var(--theme-code-foreground, var(--jp-content-font-color1, white)));\n",
       "    --sklearn-color-background: var(--sg-background-color, var(--theme-background, var(--jp-layout-color0, #111)));\n",
       "    --sklearn-color-border-box: var(--sg-text-color, var(--theme-code-foreground, var(--jp-content-font-color1, white)));\n",
       "    --sklearn-color-icon: #878787;\n",
       "  }\n",
       "}\n",
       "\n",
       "#sk-container-id-2 {\n",
       "  color: var(--sklearn-color-text);\n",
       "}\n",
       "\n",
       "#sk-container-id-2 pre {\n",
       "  padding: 0;\n",
       "}\n",
       "\n",
       "#sk-container-id-2 input.sk-hidden--visually {\n",
       "  border: 0;\n",
       "  clip: rect(1px 1px 1px 1px);\n",
       "  clip: rect(1px, 1px, 1px, 1px);\n",
       "  height: 1px;\n",
       "  margin: -1px;\n",
       "  overflow: hidden;\n",
       "  padding: 0;\n",
       "  position: absolute;\n",
       "  width: 1px;\n",
       "}\n",
       "\n",
       "#sk-container-id-2 div.sk-dashed-wrapped {\n",
       "  border: 1px dashed var(--sklearn-color-line);\n",
       "  margin: 0 0.4em 0.5em 0.4em;\n",
       "  box-sizing: border-box;\n",
       "  padding-bottom: 0.4em;\n",
       "  background-color: var(--sklearn-color-background);\n",
       "}\n",
       "\n",
       "#sk-container-id-2 div.sk-container {\n",
       "  /* jupyter's `normalize.less` sets `[hidden] { display: none; }`\n",
       "     but bootstrap.min.css set `[hidden] { display: none !important; }`\n",
       "     so we also need the `!important` here to be able to override the\n",
       "     default hidden behavior on the sphinx rendered scikit-learn.org.\n",
       "     See: https://github.com/scikit-learn/scikit-learn/issues/21755 */\n",
       "  display: inline-block !important;\n",
       "  position: relative;\n",
       "}\n",
       "\n",
       "#sk-container-id-2 div.sk-text-repr-fallback {\n",
       "  display: none;\n",
       "}\n",
       "\n",
       "div.sk-parallel-item,\n",
       "div.sk-serial,\n",
       "div.sk-item {\n",
       "  /* draw centered vertical line to link estimators */\n",
       "  background-image: linear-gradient(var(--sklearn-color-text-on-default-background), var(--sklearn-color-text-on-default-background));\n",
       "  background-size: 2px 100%;\n",
       "  background-repeat: no-repeat;\n",
       "  background-position: center center;\n",
       "}\n",
       "\n",
       "/* Parallel-specific style estimator block */\n",
       "\n",
       "#sk-container-id-2 div.sk-parallel-item::after {\n",
       "  content: \"\";\n",
       "  width: 100%;\n",
       "  border-bottom: 2px solid var(--sklearn-color-text-on-default-background);\n",
       "  flex-grow: 1;\n",
       "}\n",
       "\n",
       "#sk-container-id-2 div.sk-parallel {\n",
       "  display: flex;\n",
       "  align-items: stretch;\n",
       "  justify-content: center;\n",
       "  background-color: var(--sklearn-color-background);\n",
       "  position: relative;\n",
       "}\n",
       "\n",
       "#sk-container-id-2 div.sk-parallel-item {\n",
       "  display: flex;\n",
       "  flex-direction: column;\n",
       "}\n",
       "\n",
       "#sk-container-id-2 div.sk-parallel-item:first-child::after {\n",
       "  align-self: flex-end;\n",
       "  width: 50%;\n",
       "}\n",
       "\n",
       "#sk-container-id-2 div.sk-parallel-item:last-child::after {\n",
       "  align-self: flex-start;\n",
       "  width: 50%;\n",
       "}\n",
       "\n",
       "#sk-container-id-2 div.sk-parallel-item:only-child::after {\n",
       "  width: 0;\n",
       "}\n",
       "\n",
       "/* Serial-specific style estimator block */\n",
       "\n",
       "#sk-container-id-2 div.sk-serial {\n",
       "  display: flex;\n",
       "  flex-direction: column;\n",
       "  align-items: center;\n",
       "  background-color: var(--sklearn-color-background);\n",
       "  padding-right: 1em;\n",
       "  padding-left: 1em;\n",
       "}\n",
       "\n",
       "\n",
       "/* Toggleable style: style used for estimator/Pipeline/ColumnTransformer box that is\n",
       "clickable and can be expanded/collapsed.\n",
       "- Pipeline and ColumnTransformer use this feature and define the default style\n",
       "- Estimators will overwrite some part of the style using the `sk-estimator` class\n",
       "*/\n",
       "\n",
       "/* Pipeline and ColumnTransformer style (default) */\n",
       "\n",
       "#sk-container-id-2 div.sk-toggleable {\n",
       "  /* Default theme specific background. It is overwritten whether we have a\n",
       "  specific estimator or a Pipeline/ColumnTransformer */\n",
       "  background-color: var(--sklearn-color-background);\n",
       "}\n",
       "\n",
       "/* Toggleable label */\n",
       "#sk-container-id-2 label.sk-toggleable__label {\n",
       "  cursor: pointer;\n",
       "  display: block;\n",
       "  width: 100%;\n",
       "  margin-bottom: 0;\n",
       "  padding: 0.5em;\n",
       "  box-sizing: border-box;\n",
       "  text-align: center;\n",
       "}\n",
       "\n",
       "#sk-container-id-2 label.sk-toggleable__label-arrow:before {\n",
       "  /* Arrow on the left of the label */\n",
       "  content: \"▸\";\n",
       "  float: left;\n",
       "  margin-right: 0.25em;\n",
       "  color: var(--sklearn-color-icon);\n",
       "}\n",
       "\n",
       "#sk-container-id-2 label.sk-toggleable__label-arrow:hover:before {\n",
       "  color: var(--sklearn-color-text);\n",
       "}\n",
       "\n",
       "/* Toggleable content - dropdown */\n",
       "\n",
       "#sk-container-id-2 div.sk-toggleable__content {\n",
       "  max-height: 0;\n",
       "  max-width: 0;\n",
       "  overflow: hidden;\n",
       "  text-align: left;\n",
       "  /* unfitted */\n",
       "  background-color: var(--sklearn-color-unfitted-level-0);\n",
       "}\n",
       "\n",
       "#sk-container-id-2 div.sk-toggleable__content.fitted {\n",
       "  /* fitted */\n",
       "  background-color: var(--sklearn-color-fitted-level-0);\n",
       "}\n",
       "\n",
       "#sk-container-id-2 div.sk-toggleable__content pre {\n",
       "  margin: 0.2em;\n",
       "  border-radius: 0.25em;\n",
       "  color: var(--sklearn-color-text);\n",
       "  /* unfitted */\n",
       "  background-color: var(--sklearn-color-unfitted-level-0);\n",
       "}\n",
       "\n",
       "#sk-container-id-2 div.sk-toggleable__content.fitted pre {\n",
       "  /* unfitted */\n",
       "  background-color: var(--sklearn-color-fitted-level-0);\n",
       "}\n",
       "\n",
       "#sk-container-id-2 input.sk-toggleable__control:checked~div.sk-toggleable__content {\n",
       "  /* Expand drop-down */\n",
       "  max-height: 200px;\n",
       "  max-width: 100%;\n",
       "  overflow: auto;\n",
       "}\n",
       "\n",
       "#sk-container-id-2 input.sk-toggleable__control:checked~label.sk-toggleable__label-arrow:before {\n",
       "  content: \"▾\";\n",
       "}\n",
       "\n",
       "/* Pipeline/ColumnTransformer-specific style */\n",
       "\n",
       "#sk-container-id-2 div.sk-label input.sk-toggleable__control:checked~label.sk-toggleable__label {\n",
       "  color: var(--sklearn-color-text);\n",
       "  background-color: var(--sklearn-color-unfitted-level-2);\n",
       "}\n",
       "\n",
       "#sk-container-id-2 div.sk-label.fitted input.sk-toggleable__control:checked~label.sk-toggleable__label {\n",
       "  background-color: var(--sklearn-color-fitted-level-2);\n",
       "}\n",
       "\n",
       "/* Estimator-specific style */\n",
       "\n",
       "/* Colorize estimator box */\n",
       "#sk-container-id-2 div.sk-estimator input.sk-toggleable__control:checked~label.sk-toggleable__label {\n",
       "  /* unfitted */\n",
       "  background-color: var(--sklearn-color-unfitted-level-2);\n",
       "}\n",
       "\n",
       "#sk-container-id-2 div.sk-estimator.fitted input.sk-toggleable__control:checked~label.sk-toggleable__label {\n",
       "  /* fitted */\n",
       "  background-color: var(--sklearn-color-fitted-level-2);\n",
       "}\n",
       "\n",
       "#sk-container-id-2 div.sk-label label.sk-toggleable__label,\n",
       "#sk-container-id-2 div.sk-label label {\n",
       "  /* The background is the default theme color */\n",
       "  color: var(--sklearn-color-text-on-default-background);\n",
       "}\n",
       "\n",
       "/* On hover, darken the color of the background */\n",
       "#sk-container-id-2 div.sk-label:hover label.sk-toggleable__label {\n",
       "  color: var(--sklearn-color-text);\n",
       "  background-color: var(--sklearn-color-unfitted-level-2);\n",
       "}\n",
       "\n",
       "/* Label box, darken color on hover, fitted */\n",
       "#sk-container-id-2 div.sk-label.fitted:hover label.sk-toggleable__label.fitted {\n",
       "  color: var(--sklearn-color-text);\n",
       "  background-color: var(--sklearn-color-fitted-level-2);\n",
       "}\n",
       "\n",
       "/* Estimator label */\n",
       "\n",
       "#sk-container-id-2 div.sk-label label {\n",
       "  font-family: monospace;\n",
       "  font-weight: bold;\n",
       "  display: inline-block;\n",
       "  line-height: 1.2em;\n",
       "}\n",
       "\n",
       "#sk-container-id-2 div.sk-label-container {\n",
       "  text-align: center;\n",
       "}\n",
       "\n",
       "/* Estimator-specific */\n",
       "#sk-container-id-2 div.sk-estimator {\n",
       "  font-family: monospace;\n",
       "  border: 1px dotted var(--sklearn-color-border-box);\n",
       "  border-radius: 0.25em;\n",
       "  box-sizing: border-box;\n",
       "  margin-bottom: 0.5em;\n",
       "  /* unfitted */\n",
       "  background-color: var(--sklearn-color-unfitted-level-0);\n",
       "}\n",
       "\n",
       "#sk-container-id-2 div.sk-estimator.fitted {\n",
       "  /* fitted */\n",
       "  background-color: var(--sklearn-color-fitted-level-0);\n",
       "}\n",
       "\n",
       "/* on hover */\n",
       "#sk-container-id-2 div.sk-estimator:hover {\n",
       "  /* unfitted */\n",
       "  background-color: var(--sklearn-color-unfitted-level-2);\n",
       "}\n",
       "\n",
       "#sk-container-id-2 div.sk-estimator.fitted:hover {\n",
       "  /* fitted */\n",
       "  background-color: var(--sklearn-color-fitted-level-2);\n",
       "}\n",
       "\n",
       "/* Specification for estimator info (e.g. \"i\" and \"?\") */\n",
       "\n",
       "/* Common style for \"i\" and \"?\" */\n",
       "\n",
       ".sk-estimator-doc-link,\n",
       "a:link.sk-estimator-doc-link,\n",
       "a:visited.sk-estimator-doc-link {\n",
       "  float: right;\n",
       "  font-size: smaller;\n",
       "  line-height: 1em;\n",
       "  font-family: monospace;\n",
       "  background-color: var(--sklearn-color-background);\n",
       "  border-radius: 1em;\n",
       "  height: 1em;\n",
       "  width: 1em;\n",
       "  text-decoration: none !important;\n",
       "  margin-left: 1ex;\n",
       "  /* unfitted */\n",
       "  border: var(--sklearn-color-unfitted-level-1) 1pt solid;\n",
       "  color: var(--sklearn-color-unfitted-level-1);\n",
       "}\n",
       "\n",
       ".sk-estimator-doc-link.fitted,\n",
       "a:link.sk-estimator-doc-link.fitted,\n",
       "a:visited.sk-estimator-doc-link.fitted {\n",
       "  /* fitted */\n",
       "  border: var(--sklearn-color-fitted-level-1) 1pt solid;\n",
       "  color: var(--sklearn-color-fitted-level-1);\n",
       "}\n",
       "\n",
       "/* On hover */\n",
       "div.sk-estimator:hover .sk-estimator-doc-link:hover,\n",
       ".sk-estimator-doc-link:hover,\n",
       "div.sk-label-container:hover .sk-estimator-doc-link:hover,\n",
       ".sk-estimator-doc-link:hover {\n",
       "  /* unfitted */\n",
       "  background-color: var(--sklearn-color-unfitted-level-3);\n",
       "  color: var(--sklearn-color-background);\n",
       "  text-decoration: none;\n",
       "}\n",
       "\n",
       "div.sk-estimator.fitted:hover .sk-estimator-doc-link.fitted:hover,\n",
       ".sk-estimator-doc-link.fitted:hover,\n",
       "div.sk-label-container:hover .sk-estimator-doc-link.fitted:hover,\n",
       ".sk-estimator-doc-link.fitted:hover {\n",
       "  /* fitted */\n",
       "  background-color: var(--sklearn-color-fitted-level-3);\n",
       "  color: var(--sklearn-color-background);\n",
       "  text-decoration: none;\n",
       "}\n",
       "\n",
       "/* Span, style for the box shown on hovering the info icon */\n",
       ".sk-estimator-doc-link span {\n",
       "  display: none;\n",
       "  z-index: 9999;\n",
       "  position: relative;\n",
       "  font-weight: normal;\n",
       "  right: .2ex;\n",
       "  padding: .5ex;\n",
       "  margin: .5ex;\n",
       "  width: min-content;\n",
       "  min-width: 20ex;\n",
       "  max-width: 50ex;\n",
       "  color: var(--sklearn-color-text);\n",
       "  box-shadow: 2pt 2pt 4pt #999;\n",
       "  /* unfitted */\n",
       "  background: var(--sklearn-color-unfitted-level-0);\n",
       "  border: .5pt solid var(--sklearn-color-unfitted-level-3);\n",
       "}\n",
       "\n",
       ".sk-estimator-doc-link.fitted span {\n",
       "  /* fitted */\n",
       "  background: var(--sklearn-color-fitted-level-0);\n",
       "  border: var(--sklearn-color-fitted-level-3);\n",
       "}\n",
       "\n",
       ".sk-estimator-doc-link:hover span {\n",
       "  display: block;\n",
       "}\n",
       "\n",
       "/* \"?\"-specific style due to the `<a>` HTML tag */\n",
       "\n",
       "#sk-container-id-2 a.estimator_doc_link {\n",
       "  float: right;\n",
       "  font-size: 1rem;\n",
       "  line-height: 1em;\n",
       "  font-family: monospace;\n",
       "  background-color: var(--sklearn-color-background);\n",
       "  border-radius: 1rem;\n",
       "  height: 1rem;\n",
       "  width: 1rem;\n",
       "  text-decoration: none;\n",
       "  /* unfitted */\n",
       "  color: var(--sklearn-color-unfitted-level-1);\n",
       "  border: var(--sklearn-color-unfitted-level-1) 1pt solid;\n",
       "}\n",
       "\n",
       "#sk-container-id-2 a.estimator_doc_link.fitted {\n",
       "  /* fitted */\n",
       "  border: var(--sklearn-color-fitted-level-1) 1pt solid;\n",
       "  color: var(--sklearn-color-fitted-level-1);\n",
       "}\n",
       "\n",
       "/* On hover */\n",
       "#sk-container-id-2 a.estimator_doc_link:hover {\n",
       "  /* unfitted */\n",
       "  background-color: var(--sklearn-color-unfitted-level-3);\n",
       "  color: var(--sklearn-color-background);\n",
       "  text-decoration: none;\n",
       "}\n",
       "\n",
       "#sk-container-id-2 a.estimator_doc_link.fitted:hover {\n",
       "  /* fitted */\n",
       "  background-color: var(--sklearn-color-fitted-level-3);\n",
       "}\n",
       "</style><div id=\"sk-container-id-2\" class=\"sk-top-container\"><div class=\"sk-text-repr-fallback\"><pre>Pipeline(steps=[(&#x27;preprocessor&#x27;,\n",
       "                 ColumnTransformer(transformers=[(&#x27;cat&#x27;,\n",
       "                                                  Pipeline(steps=[(&#x27;ordinal&#x27;,\n",
       "                                                                   OrdinalEncoder(handle_unknown=&#x27;use_encoded_value&#x27;,\n",
       "                                                                                  unknown_value=nan)),\n",
       "                                                                  (&#x27;simpleImputer_after_ord&#x27;,\n",
       "                                                                   SimpleImputer(strategy=&#x27;most_frequent&#x27;))]),\n",
       "                                                  [&#x27;vehicle_type&#x27;, &#x27;gearbox&#x27;,\n",
       "                                                   &#x27;model&#x27;, &#x27;kilometer&#x27;,\n",
       "                                                   &#x27;fuel_type&#x27;, &#x27;brand&#x27;,\n",
       "                                                   &#x27;repaired&#x27;]),\n",
       "                                                 (&#x27;num&#x27;, StandardScaler(),\n",
       "                                                  [&#x27;registration_year&#x27;, &#x27;power&#x27;,\n",
       "                                                   &#x27;kilometer&#x27;])])),\n",
       "                (&#x27;model&#x27;, RandomForestRegressor(random_state=42))])</pre><b>In a Jupyter environment, please rerun this cell to show the HTML representation or trust the notebook. <br />On GitHub, the HTML representation is unable to render, please try loading this page with nbviewer.org.</b></div><div class=\"sk-container\" hidden><div class=\"sk-item sk-dashed-wrapped\"><div class=\"sk-label-container\"><div class=\"sk-label  sk-toggleable\"><input class=\"sk-toggleable__control sk-hidden--visually\" id=\"sk-estimator-id-8\" type=\"checkbox\" ><label for=\"sk-estimator-id-8\" class=\"sk-toggleable__label  sk-toggleable__label-arrow \">&nbsp;&nbsp;Pipeline<a class=\"sk-estimator-doc-link \" rel=\"noreferrer\" target=\"_blank\" href=\"https://scikit-learn.org/1.5/modules/generated/sklearn.pipeline.Pipeline.html\">?<span>Documentation for Pipeline</span></a><span class=\"sk-estimator-doc-link \">i<span>Not fitted</span></span></label><div class=\"sk-toggleable__content \"><pre>Pipeline(steps=[(&#x27;preprocessor&#x27;,\n",
       "                 ColumnTransformer(transformers=[(&#x27;cat&#x27;,\n",
       "                                                  Pipeline(steps=[(&#x27;ordinal&#x27;,\n",
       "                                                                   OrdinalEncoder(handle_unknown=&#x27;use_encoded_value&#x27;,\n",
       "                                                                                  unknown_value=nan)),\n",
       "                                                                  (&#x27;simpleImputer_after_ord&#x27;,\n",
       "                                                                   SimpleImputer(strategy=&#x27;most_frequent&#x27;))]),\n",
       "                                                  [&#x27;vehicle_type&#x27;, &#x27;gearbox&#x27;,\n",
       "                                                   &#x27;model&#x27;, &#x27;kilometer&#x27;,\n",
       "                                                   &#x27;fuel_type&#x27;, &#x27;brand&#x27;,\n",
       "                                                   &#x27;repaired&#x27;]),\n",
       "                                                 (&#x27;num&#x27;, StandardScaler(),\n",
       "                                                  [&#x27;registration_year&#x27;, &#x27;power&#x27;,\n",
       "                                                   &#x27;kilometer&#x27;])])),\n",
       "                (&#x27;model&#x27;, RandomForestRegressor(random_state=42))])</pre></div> </div></div><div class=\"sk-serial\"><div class=\"sk-item sk-dashed-wrapped\"><div class=\"sk-label-container\"><div class=\"sk-label  sk-toggleable\"><input class=\"sk-toggleable__control sk-hidden--visually\" id=\"sk-estimator-id-9\" type=\"checkbox\" ><label for=\"sk-estimator-id-9\" class=\"sk-toggleable__label  sk-toggleable__label-arrow \">&nbsp;preprocessor: ColumnTransformer<a class=\"sk-estimator-doc-link \" rel=\"noreferrer\" target=\"_blank\" href=\"https://scikit-learn.org/1.5/modules/generated/sklearn.compose.ColumnTransformer.html\">?<span>Documentation for preprocessor: ColumnTransformer</span></a></label><div class=\"sk-toggleable__content \"><pre>ColumnTransformer(transformers=[(&#x27;cat&#x27;,\n",
       "                                 Pipeline(steps=[(&#x27;ordinal&#x27;,\n",
       "                                                  OrdinalEncoder(handle_unknown=&#x27;use_encoded_value&#x27;,\n",
       "                                                                 unknown_value=nan)),\n",
       "                                                 (&#x27;simpleImputer_after_ord&#x27;,\n",
       "                                                  SimpleImputer(strategy=&#x27;most_frequent&#x27;))]),\n",
       "                                 [&#x27;vehicle_type&#x27;, &#x27;gearbox&#x27;, &#x27;model&#x27;,\n",
       "                                  &#x27;kilometer&#x27;, &#x27;fuel_type&#x27;, &#x27;brand&#x27;,\n",
       "                                  &#x27;repaired&#x27;]),\n",
       "                                (&#x27;num&#x27;, StandardScaler(),\n",
       "                                 [&#x27;registration_year&#x27;, &#x27;power&#x27;, &#x27;kilometer&#x27;])])</pre></div> </div></div><div class=\"sk-parallel\"><div class=\"sk-parallel-item\"><div class=\"sk-item\"><div class=\"sk-label-container\"><div class=\"sk-label  sk-toggleable\"><input class=\"sk-toggleable__control sk-hidden--visually\" id=\"sk-estimator-id-10\" type=\"checkbox\" ><label for=\"sk-estimator-id-10\" class=\"sk-toggleable__label  sk-toggleable__label-arrow \">cat</label><div class=\"sk-toggleable__content \"><pre>[&#x27;vehicle_type&#x27;, &#x27;gearbox&#x27;, &#x27;model&#x27;, &#x27;kilometer&#x27;, &#x27;fuel_type&#x27;, &#x27;brand&#x27;, &#x27;repaired&#x27;]</pre></div> </div></div><div class=\"sk-serial\"><div class=\"sk-item\"><div class=\"sk-serial\"><div class=\"sk-item\"><div class=\"sk-estimator  sk-toggleable\"><input class=\"sk-toggleable__control sk-hidden--visually\" id=\"sk-estimator-id-11\" type=\"checkbox\" ><label for=\"sk-estimator-id-11\" class=\"sk-toggleable__label  sk-toggleable__label-arrow \">&nbsp;OrdinalEncoder<a class=\"sk-estimator-doc-link \" rel=\"noreferrer\" target=\"_blank\" href=\"https://scikit-learn.org/1.5/modules/generated/sklearn.preprocessing.OrdinalEncoder.html\">?<span>Documentation for OrdinalEncoder</span></a></label><div class=\"sk-toggleable__content \"><pre>OrdinalEncoder(handle_unknown=&#x27;use_encoded_value&#x27;, unknown_value=nan)</pre></div> </div></div><div class=\"sk-item\"><div class=\"sk-estimator  sk-toggleable\"><input class=\"sk-toggleable__control sk-hidden--visually\" id=\"sk-estimator-id-12\" type=\"checkbox\" ><label for=\"sk-estimator-id-12\" class=\"sk-toggleable__label  sk-toggleable__label-arrow \">&nbsp;SimpleImputer<a class=\"sk-estimator-doc-link \" rel=\"noreferrer\" target=\"_blank\" href=\"https://scikit-learn.org/1.5/modules/generated/sklearn.impute.SimpleImputer.html\">?<span>Documentation for SimpleImputer</span></a></label><div class=\"sk-toggleable__content \"><pre>SimpleImputer(strategy=&#x27;most_frequent&#x27;)</pre></div> </div></div></div></div></div></div></div><div class=\"sk-parallel-item\"><div class=\"sk-item\"><div class=\"sk-label-container\"><div class=\"sk-label  sk-toggleable\"><input class=\"sk-toggleable__control sk-hidden--visually\" id=\"sk-estimator-id-13\" type=\"checkbox\" ><label for=\"sk-estimator-id-13\" class=\"sk-toggleable__label  sk-toggleable__label-arrow \">num</label><div class=\"sk-toggleable__content \"><pre>[&#x27;registration_year&#x27;, &#x27;power&#x27;, &#x27;kilometer&#x27;]</pre></div> </div></div><div class=\"sk-serial\"><div class=\"sk-item\"><div class=\"sk-estimator  sk-toggleable\"><input class=\"sk-toggleable__control sk-hidden--visually\" id=\"sk-estimator-id-14\" type=\"checkbox\" ><label for=\"sk-estimator-id-14\" class=\"sk-toggleable__label  sk-toggleable__label-arrow \">&nbsp;StandardScaler<a class=\"sk-estimator-doc-link \" rel=\"noreferrer\" target=\"_blank\" href=\"https://scikit-learn.org/1.5/modules/generated/sklearn.preprocessing.StandardScaler.html\">?<span>Documentation for StandardScaler</span></a></label><div class=\"sk-toggleable__content \"><pre>StandardScaler()</pre></div> </div></div></div></div></div></div></div><div class=\"sk-item\"><div class=\"sk-estimator  sk-toggleable\"><input class=\"sk-toggleable__control sk-hidden--visually\" id=\"sk-estimator-id-15\" type=\"checkbox\" ><label for=\"sk-estimator-id-15\" class=\"sk-toggleable__label  sk-toggleable__label-arrow \">&nbsp;RandomForestRegressor<a class=\"sk-estimator-doc-link \" rel=\"noreferrer\" target=\"_blank\" href=\"https://scikit-learn.org/1.5/modules/generated/sklearn.ensemble.RandomForestRegressor.html\">?<span>Documentation for RandomForestRegressor</span></a></label><div class=\"sk-toggleable__content \"><pre>RandomForestRegressor(random_state=42)</pre></div> </div></div></div></div></div></div>"
      ],
      "text/plain": [
       "Pipeline(steps=[('preprocessor',\n",
       "                 ColumnTransformer(transformers=[('cat',\n",
       "                                                  Pipeline(steps=[('ordinal',\n",
       "                                                                   OrdinalEncoder(handle_unknown='use_encoded_value',\n",
       "                                                                                  unknown_value=nan)),\n",
       "                                                                  ('simpleImputer_after_ord',\n",
       "                                                                   SimpleImputer(strategy='most_frequent'))]),\n",
       "                                                  ['vehicle_type', 'gearbox',\n",
       "                                                   'model', 'kilometer',\n",
       "                                                   'fuel_type', 'brand',\n",
       "                                                   'repaired']),\n",
       "                                                 ('num', StandardScaler(),\n",
       "                                                  ['registration_year', 'power',\n",
       "                                                   'kilometer'])])),\n",
       "                ('model', RandomForestRegressor(random_state=42))])"
      ]
     },
     "execution_count": 47,
     "metadata": {},
     "output_type": "execute_result"
    }
   ],
   "source": [
    "# Создание пайплайна для Random Forest\n",
    "pipeline_random_forest = make_pipeline(cat_columns, num_columns, 'ordinal', \n",
    "                                       RandomForestRegressor(random_state=RANDOM_STATE))\n",
    "pipeline_random_forest"
   ]
  },
  {
   "cell_type": "code",
   "execution_count": 48,
   "metadata": {},
   "outputs": [],
   "source": [
    "# Гиперпараметры для RandomForestRegressor\n",
    "params_rf = {\n",
    "    'model__n_estimators': optuna.distributions.IntDistribution(50, 150),\n",
    "    'model__min_samples_split': optuna.distributions.IntDistribution(2, 5)\n",
    "}"
   ]
  },
  {
   "cell_type": "code",
   "execution_count": 49,
   "metadata": {},
   "outputs": [
    {
     "name": "stderr",
     "output_type": "stream",
     "text": [
      "[I 2024-10-15 06:10:20,135] A new study created in memory with name: no-name-e0cffc6a-587a-4f9f-bcbc-c9ed79c4fa8a\n",
      "[I 2024-10-15 06:12:58,919] Trial 0 finished with value: -1628.2006636077524 and parameters: {'model__n_estimators': 95, 'model__min_samples_split': 5}. Best is trial 0 with value: -1628.2006636077524.\n",
      "[I 2024-10-15 06:14:37,670] Trial 1 finished with value: -1644.7938764757007 and parameters: {'model__n_estimators': 56, 'model__min_samples_split': 3}. Best is trial 0 with value: -1628.2006636077524.\n",
      "[I 2024-10-15 06:17:32,180] Trial 2 finished with value: -1641.4243393904555 and parameters: {'model__n_estimators': 99, 'model__min_samples_split': 3}. Best is trial 0 with value: -1628.2006636077524.\n",
      "[I 2024-10-15 06:19:44,820] Trial 3 finished with value: -1652.1857719539148 and parameters: {'model__n_estimators': 71, 'model__min_samples_split': 2}. Best is trial 0 with value: -1628.2006636077524.\n",
      "[I 2024-10-15 06:21:43,591] Trial 4 finished with value: -1643.5641842275813 and parameters: {'model__n_estimators': 67, 'model__min_samples_split': 3}. Best is trial 0 with value: -1628.2006636077524.\n",
      "[I 2024-10-15 06:24:03,808] Trial 5 finished with value: -1628.0787085025208 and parameters: {'model__n_estimators': 85, 'model__min_samples_split': 5}. Best is trial 5 with value: -1628.0787085025208.\n",
      "[I 2024-10-15 06:27:09,432] Trial 6 finished with value: -1650.198260351559 and parameters: {'model__n_estimators': 101, 'model__min_samples_split': 2}. Best is trial 5 with value: -1628.0787085025208.\n",
      "[I 2024-10-15 06:29:45,685] Trial 7 finished with value: -1641.474448896733 and parameters: {'model__n_estimators': 89, 'model__min_samples_split': 3}. Best is trial 5 with value: -1628.0787085025208.\n",
      "[I 2024-10-15 06:33:26,576] Trial 8 finished with value: -1627.251119994348 and parameters: {'model__n_estimators': 136, 'model__min_samples_split': 5}. Best is trial 8 with value: -1627.251119994348.\n",
      "[I 2024-10-15 06:36:01,993] Trial 9 finished with value: -1628.3150893055038 and parameters: {'model__n_estimators': 96, 'model__min_samples_split': 5}. Best is trial 8 with value: -1627.251119994348.\n"
     ]
    },
    {
     "name": "stdout",
     "output_type": "stream",
     "text": [
      "Лучшие параметры: {'model__n_estimators': 136, 'model__min_samples_split': 5}\n",
      "Метрика RMSE на кросс-валидации: 1627.251119994348\n",
      "Время на обучение модели: 52.10 секунд\n",
      "Время на предсказание модели: 7.89 секунд\n"
     ]
    }
   ],
   "source": [
    "# Подбор гиперпараметров и обучение модели\n",
    "random_forest_model, random_forest_train_time, random_forest_pred_time, random_forest_rmse = best_model_optuna(\n",
    "    pipeline_random_forest, \n",
    "    params_rf, \n",
    "    X_train, \n",
    "    y_train,\n",
    "    n_trials=10,\n",
    "    verbose=1)"
   ]
  },
  {
   "cell_type": "markdown",
   "metadata": {},
   "source": [
    "### LGBMRegressor"
   ]
  },
  {
   "cell_type": "code",
   "execution_count": 50,
   "metadata": {},
   "outputs": [
    {
     "data": {
      "text/html": [
       "<style>#sk-container-id-3 {\n",
       "  /* Definition of color scheme common for light and dark mode */\n",
       "  --sklearn-color-text: black;\n",
       "  --sklearn-color-line: gray;\n",
       "  /* Definition of color scheme for unfitted estimators */\n",
       "  --sklearn-color-unfitted-level-0: #fff5e6;\n",
       "  --sklearn-color-unfitted-level-1: #f6e4d2;\n",
       "  --sklearn-color-unfitted-level-2: #ffe0b3;\n",
       "  --sklearn-color-unfitted-level-3: chocolate;\n",
       "  /* Definition of color scheme for fitted estimators */\n",
       "  --sklearn-color-fitted-level-0: #f0f8ff;\n",
       "  --sklearn-color-fitted-level-1: #d4ebff;\n",
       "  --sklearn-color-fitted-level-2: #b3dbfd;\n",
       "  --sklearn-color-fitted-level-3: cornflowerblue;\n",
       "\n",
       "  /* Specific color for light theme */\n",
       "  --sklearn-color-text-on-default-background: var(--sg-text-color, var(--theme-code-foreground, var(--jp-content-font-color1, black)));\n",
       "  --sklearn-color-background: var(--sg-background-color, var(--theme-background, var(--jp-layout-color0, white)));\n",
       "  --sklearn-color-border-box: var(--sg-text-color, var(--theme-code-foreground, var(--jp-content-font-color1, black)));\n",
       "  --sklearn-color-icon: #696969;\n",
       "\n",
       "  @media (prefers-color-scheme: dark) {\n",
       "    /* Redefinition of color scheme for dark theme */\n",
       "    --sklearn-color-text-on-default-background: var(--sg-text-color, var(--theme-code-foreground, var(--jp-content-font-color1, white)));\n",
       "    --sklearn-color-background: var(--sg-background-color, var(--theme-background, var(--jp-layout-color0, #111)));\n",
       "    --sklearn-color-border-box: var(--sg-text-color, var(--theme-code-foreground, var(--jp-content-font-color1, white)));\n",
       "    --sklearn-color-icon: #878787;\n",
       "  }\n",
       "}\n",
       "\n",
       "#sk-container-id-3 {\n",
       "  color: var(--sklearn-color-text);\n",
       "}\n",
       "\n",
       "#sk-container-id-3 pre {\n",
       "  padding: 0;\n",
       "}\n",
       "\n",
       "#sk-container-id-3 input.sk-hidden--visually {\n",
       "  border: 0;\n",
       "  clip: rect(1px 1px 1px 1px);\n",
       "  clip: rect(1px, 1px, 1px, 1px);\n",
       "  height: 1px;\n",
       "  margin: -1px;\n",
       "  overflow: hidden;\n",
       "  padding: 0;\n",
       "  position: absolute;\n",
       "  width: 1px;\n",
       "}\n",
       "\n",
       "#sk-container-id-3 div.sk-dashed-wrapped {\n",
       "  border: 1px dashed var(--sklearn-color-line);\n",
       "  margin: 0 0.4em 0.5em 0.4em;\n",
       "  box-sizing: border-box;\n",
       "  padding-bottom: 0.4em;\n",
       "  background-color: var(--sklearn-color-background);\n",
       "}\n",
       "\n",
       "#sk-container-id-3 div.sk-container {\n",
       "  /* jupyter's `normalize.less` sets `[hidden] { display: none; }`\n",
       "     but bootstrap.min.css set `[hidden] { display: none !important; }`\n",
       "     so we also need the `!important` here to be able to override the\n",
       "     default hidden behavior on the sphinx rendered scikit-learn.org.\n",
       "     See: https://github.com/scikit-learn/scikit-learn/issues/21755 */\n",
       "  display: inline-block !important;\n",
       "  position: relative;\n",
       "}\n",
       "\n",
       "#sk-container-id-3 div.sk-text-repr-fallback {\n",
       "  display: none;\n",
       "}\n",
       "\n",
       "div.sk-parallel-item,\n",
       "div.sk-serial,\n",
       "div.sk-item {\n",
       "  /* draw centered vertical line to link estimators */\n",
       "  background-image: linear-gradient(var(--sklearn-color-text-on-default-background), var(--sklearn-color-text-on-default-background));\n",
       "  background-size: 2px 100%;\n",
       "  background-repeat: no-repeat;\n",
       "  background-position: center center;\n",
       "}\n",
       "\n",
       "/* Parallel-specific style estimator block */\n",
       "\n",
       "#sk-container-id-3 div.sk-parallel-item::after {\n",
       "  content: \"\";\n",
       "  width: 100%;\n",
       "  border-bottom: 2px solid var(--sklearn-color-text-on-default-background);\n",
       "  flex-grow: 1;\n",
       "}\n",
       "\n",
       "#sk-container-id-3 div.sk-parallel {\n",
       "  display: flex;\n",
       "  align-items: stretch;\n",
       "  justify-content: center;\n",
       "  background-color: var(--sklearn-color-background);\n",
       "  position: relative;\n",
       "}\n",
       "\n",
       "#sk-container-id-3 div.sk-parallel-item {\n",
       "  display: flex;\n",
       "  flex-direction: column;\n",
       "}\n",
       "\n",
       "#sk-container-id-3 div.sk-parallel-item:first-child::after {\n",
       "  align-self: flex-end;\n",
       "  width: 50%;\n",
       "}\n",
       "\n",
       "#sk-container-id-3 div.sk-parallel-item:last-child::after {\n",
       "  align-self: flex-start;\n",
       "  width: 50%;\n",
       "}\n",
       "\n",
       "#sk-container-id-3 div.sk-parallel-item:only-child::after {\n",
       "  width: 0;\n",
       "}\n",
       "\n",
       "/* Serial-specific style estimator block */\n",
       "\n",
       "#sk-container-id-3 div.sk-serial {\n",
       "  display: flex;\n",
       "  flex-direction: column;\n",
       "  align-items: center;\n",
       "  background-color: var(--sklearn-color-background);\n",
       "  padding-right: 1em;\n",
       "  padding-left: 1em;\n",
       "}\n",
       "\n",
       "\n",
       "/* Toggleable style: style used for estimator/Pipeline/ColumnTransformer box that is\n",
       "clickable and can be expanded/collapsed.\n",
       "- Pipeline and ColumnTransformer use this feature and define the default style\n",
       "- Estimators will overwrite some part of the style using the `sk-estimator` class\n",
       "*/\n",
       "\n",
       "/* Pipeline and ColumnTransformer style (default) */\n",
       "\n",
       "#sk-container-id-3 div.sk-toggleable {\n",
       "  /* Default theme specific background. It is overwritten whether we have a\n",
       "  specific estimator or a Pipeline/ColumnTransformer */\n",
       "  background-color: var(--sklearn-color-background);\n",
       "}\n",
       "\n",
       "/* Toggleable label */\n",
       "#sk-container-id-3 label.sk-toggleable__label {\n",
       "  cursor: pointer;\n",
       "  display: block;\n",
       "  width: 100%;\n",
       "  margin-bottom: 0;\n",
       "  padding: 0.5em;\n",
       "  box-sizing: border-box;\n",
       "  text-align: center;\n",
       "}\n",
       "\n",
       "#sk-container-id-3 label.sk-toggleable__label-arrow:before {\n",
       "  /* Arrow on the left of the label */\n",
       "  content: \"▸\";\n",
       "  float: left;\n",
       "  margin-right: 0.25em;\n",
       "  color: var(--sklearn-color-icon);\n",
       "}\n",
       "\n",
       "#sk-container-id-3 label.sk-toggleable__label-arrow:hover:before {\n",
       "  color: var(--sklearn-color-text);\n",
       "}\n",
       "\n",
       "/* Toggleable content - dropdown */\n",
       "\n",
       "#sk-container-id-3 div.sk-toggleable__content {\n",
       "  max-height: 0;\n",
       "  max-width: 0;\n",
       "  overflow: hidden;\n",
       "  text-align: left;\n",
       "  /* unfitted */\n",
       "  background-color: var(--sklearn-color-unfitted-level-0);\n",
       "}\n",
       "\n",
       "#sk-container-id-3 div.sk-toggleable__content.fitted {\n",
       "  /* fitted */\n",
       "  background-color: var(--sklearn-color-fitted-level-0);\n",
       "}\n",
       "\n",
       "#sk-container-id-3 div.sk-toggleable__content pre {\n",
       "  margin: 0.2em;\n",
       "  border-radius: 0.25em;\n",
       "  color: var(--sklearn-color-text);\n",
       "  /* unfitted */\n",
       "  background-color: var(--sklearn-color-unfitted-level-0);\n",
       "}\n",
       "\n",
       "#sk-container-id-3 div.sk-toggleable__content.fitted pre {\n",
       "  /* unfitted */\n",
       "  background-color: var(--sklearn-color-fitted-level-0);\n",
       "}\n",
       "\n",
       "#sk-container-id-3 input.sk-toggleable__control:checked~div.sk-toggleable__content {\n",
       "  /* Expand drop-down */\n",
       "  max-height: 200px;\n",
       "  max-width: 100%;\n",
       "  overflow: auto;\n",
       "}\n",
       "\n",
       "#sk-container-id-3 input.sk-toggleable__control:checked~label.sk-toggleable__label-arrow:before {\n",
       "  content: \"▾\";\n",
       "}\n",
       "\n",
       "/* Pipeline/ColumnTransformer-specific style */\n",
       "\n",
       "#sk-container-id-3 div.sk-label input.sk-toggleable__control:checked~label.sk-toggleable__label {\n",
       "  color: var(--sklearn-color-text);\n",
       "  background-color: var(--sklearn-color-unfitted-level-2);\n",
       "}\n",
       "\n",
       "#sk-container-id-3 div.sk-label.fitted input.sk-toggleable__control:checked~label.sk-toggleable__label {\n",
       "  background-color: var(--sklearn-color-fitted-level-2);\n",
       "}\n",
       "\n",
       "/* Estimator-specific style */\n",
       "\n",
       "/* Colorize estimator box */\n",
       "#sk-container-id-3 div.sk-estimator input.sk-toggleable__control:checked~label.sk-toggleable__label {\n",
       "  /* unfitted */\n",
       "  background-color: var(--sklearn-color-unfitted-level-2);\n",
       "}\n",
       "\n",
       "#sk-container-id-3 div.sk-estimator.fitted input.sk-toggleable__control:checked~label.sk-toggleable__label {\n",
       "  /* fitted */\n",
       "  background-color: var(--sklearn-color-fitted-level-2);\n",
       "}\n",
       "\n",
       "#sk-container-id-3 div.sk-label label.sk-toggleable__label,\n",
       "#sk-container-id-3 div.sk-label label {\n",
       "  /* The background is the default theme color */\n",
       "  color: var(--sklearn-color-text-on-default-background);\n",
       "}\n",
       "\n",
       "/* On hover, darken the color of the background */\n",
       "#sk-container-id-3 div.sk-label:hover label.sk-toggleable__label {\n",
       "  color: var(--sklearn-color-text);\n",
       "  background-color: var(--sklearn-color-unfitted-level-2);\n",
       "}\n",
       "\n",
       "/* Label box, darken color on hover, fitted */\n",
       "#sk-container-id-3 div.sk-label.fitted:hover label.sk-toggleable__label.fitted {\n",
       "  color: var(--sklearn-color-text);\n",
       "  background-color: var(--sklearn-color-fitted-level-2);\n",
       "}\n",
       "\n",
       "/* Estimator label */\n",
       "\n",
       "#sk-container-id-3 div.sk-label label {\n",
       "  font-family: monospace;\n",
       "  font-weight: bold;\n",
       "  display: inline-block;\n",
       "  line-height: 1.2em;\n",
       "}\n",
       "\n",
       "#sk-container-id-3 div.sk-label-container {\n",
       "  text-align: center;\n",
       "}\n",
       "\n",
       "/* Estimator-specific */\n",
       "#sk-container-id-3 div.sk-estimator {\n",
       "  font-family: monospace;\n",
       "  border: 1px dotted var(--sklearn-color-border-box);\n",
       "  border-radius: 0.25em;\n",
       "  box-sizing: border-box;\n",
       "  margin-bottom: 0.5em;\n",
       "  /* unfitted */\n",
       "  background-color: var(--sklearn-color-unfitted-level-0);\n",
       "}\n",
       "\n",
       "#sk-container-id-3 div.sk-estimator.fitted {\n",
       "  /* fitted */\n",
       "  background-color: var(--sklearn-color-fitted-level-0);\n",
       "}\n",
       "\n",
       "/* on hover */\n",
       "#sk-container-id-3 div.sk-estimator:hover {\n",
       "  /* unfitted */\n",
       "  background-color: var(--sklearn-color-unfitted-level-2);\n",
       "}\n",
       "\n",
       "#sk-container-id-3 div.sk-estimator.fitted:hover {\n",
       "  /* fitted */\n",
       "  background-color: var(--sklearn-color-fitted-level-2);\n",
       "}\n",
       "\n",
       "/* Specification for estimator info (e.g. \"i\" and \"?\") */\n",
       "\n",
       "/* Common style for \"i\" and \"?\" */\n",
       "\n",
       ".sk-estimator-doc-link,\n",
       "a:link.sk-estimator-doc-link,\n",
       "a:visited.sk-estimator-doc-link {\n",
       "  float: right;\n",
       "  font-size: smaller;\n",
       "  line-height: 1em;\n",
       "  font-family: monospace;\n",
       "  background-color: var(--sklearn-color-background);\n",
       "  border-radius: 1em;\n",
       "  height: 1em;\n",
       "  width: 1em;\n",
       "  text-decoration: none !important;\n",
       "  margin-left: 1ex;\n",
       "  /* unfitted */\n",
       "  border: var(--sklearn-color-unfitted-level-1) 1pt solid;\n",
       "  color: var(--sklearn-color-unfitted-level-1);\n",
       "}\n",
       "\n",
       ".sk-estimator-doc-link.fitted,\n",
       "a:link.sk-estimator-doc-link.fitted,\n",
       "a:visited.sk-estimator-doc-link.fitted {\n",
       "  /* fitted */\n",
       "  border: var(--sklearn-color-fitted-level-1) 1pt solid;\n",
       "  color: var(--sklearn-color-fitted-level-1);\n",
       "}\n",
       "\n",
       "/* On hover */\n",
       "div.sk-estimator:hover .sk-estimator-doc-link:hover,\n",
       ".sk-estimator-doc-link:hover,\n",
       "div.sk-label-container:hover .sk-estimator-doc-link:hover,\n",
       ".sk-estimator-doc-link:hover {\n",
       "  /* unfitted */\n",
       "  background-color: var(--sklearn-color-unfitted-level-3);\n",
       "  color: var(--sklearn-color-background);\n",
       "  text-decoration: none;\n",
       "}\n",
       "\n",
       "div.sk-estimator.fitted:hover .sk-estimator-doc-link.fitted:hover,\n",
       ".sk-estimator-doc-link.fitted:hover,\n",
       "div.sk-label-container:hover .sk-estimator-doc-link.fitted:hover,\n",
       ".sk-estimator-doc-link.fitted:hover {\n",
       "  /* fitted */\n",
       "  background-color: var(--sklearn-color-fitted-level-3);\n",
       "  color: var(--sklearn-color-background);\n",
       "  text-decoration: none;\n",
       "}\n",
       "\n",
       "/* Span, style for the box shown on hovering the info icon */\n",
       ".sk-estimator-doc-link span {\n",
       "  display: none;\n",
       "  z-index: 9999;\n",
       "  position: relative;\n",
       "  font-weight: normal;\n",
       "  right: .2ex;\n",
       "  padding: .5ex;\n",
       "  margin: .5ex;\n",
       "  width: min-content;\n",
       "  min-width: 20ex;\n",
       "  max-width: 50ex;\n",
       "  color: var(--sklearn-color-text);\n",
       "  box-shadow: 2pt 2pt 4pt #999;\n",
       "  /* unfitted */\n",
       "  background: var(--sklearn-color-unfitted-level-0);\n",
       "  border: .5pt solid var(--sklearn-color-unfitted-level-3);\n",
       "}\n",
       "\n",
       ".sk-estimator-doc-link.fitted span {\n",
       "  /* fitted */\n",
       "  background: var(--sklearn-color-fitted-level-0);\n",
       "  border: var(--sklearn-color-fitted-level-3);\n",
       "}\n",
       "\n",
       ".sk-estimator-doc-link:hover span {\n",
       "  display: block;\n",
       "}\n",
       "\n",
       "/* \"?\"-specific style due to the `<a>` HTML tag */\n",
       "\n",
       "#sk-container-id-3 a.estimator_doc_link {\n",
       "  float: right;\n",
       "  font-size: 1rem;\n",
       "  line-height: 1em;\n",
       "  font-family: monospace;\n",
       "  background-color: var(--sklearn-color-background);\n",
       "  border-radius: 1rem;\n",
       "  height: 1rem;\n",
       "  width: 1rem;\n",
       "  text-decoration: none;\n",
       "  /* unfitted */\n",
       "  color: var(--sklearn-color-unfitted-level-1);\n",
       "  border: var(--sklearn-color-unfitted-level-1) 1pt solid;\n",
       "}\n",
       "\n",
       "#sk-container-id-3 a.estimator_doc_link.fitted {\n",
       "  /* fitted */\n",
       "  border: var(--sklearn-color-fitted-level-1) 1pt solid;\n",
       "  color: var(--sklearn-color-fitted-level-1);\n",
       "}\n",
       "\n",
       "/* On hover */\n",
       "#sk-container-id-3 a.estimator_doc_link:hover {\n",
       "  /* unfitted */\n",
       "  background-color: var(--sklearn-color-unfitted-level-3);\n",
       "  color: var(--sklearn-color-background);\n",
       "  text-decoration: none;\n",
       "}\n",
       "\n",
       "#sk-container-id-3 a.estimator_doc_link.fitted:hover {\n",
       "  /* fitted */\n",
       "  background-color: var(--sklearn-color-fitted-level-3);\n",
       "}\n",
       "</style><div id=\"sk-container-id-3\" class=\"sk-top-container\"><div class=\"sk-text-repr-fallback\"><pre>Pipeline(steps=[(&#x27;preprocessor&#x27;,\n",
       "                 ColumnTransformer(transformers=[(&#x27;cat&#x27;,\n",
       "                                                  Pipeline(steps=[(&#x27;ordinal&#x27;,\n",
       "                                                                   OrdinalEncoder(handle_unknown=&#x27;use_encoded_value&#x27;,\n",
       "                                                                                  unknown_value=nan)),\n",
       "                                                                  (&#x27;simpleImputer_after_ord&#x27;,\n",
       "                                                                   SimpleImputer(strategy=&#x27;most_frequent&#x27;))]),\n",
       "                                                  [&#x27;vehicle_type&#x27;, &#x27;gearbox&#x27;,\n",
       "                                                   &#x27;model&#x27;, &#x27;kilometer&#x27;,\n",
       "                                                   &#x27;fuel_type&#x27;, &#x27;brand&#x27;,\n",
       "                                                   &#x27;repaired&#x27;]),\n",
       "                                                 (&#x27;num&#x27;, StandardScaler(),\n",
       "                                                  [&#x27;registration_year&#x27;, &#x27;power&#x27;,\n",
       "                                                   &#x27;kilometer&#x27;])])),\n",
       "                (&#x27;model&#x27;, LGBMRegressor(random_state=42, verbose=-1))])</pre><b>In a Jupyter environment, please rerun this cell to show the HTML representation or trust the notebook. <br />On GitHub, the HTML representation is unable to render, please try loading this page with nbviewer.org.</b></div><div class=\"sk-container\" hidden><div class=\"sk-item sk-dashed-wrapped\"><div class=\"sk-label-container\"><div class=\"sk-label  sk-toggleable\"><input class=\"sk-toggleable__control sk-hidden--visually\" id=\"sk-estimator-id-16\" type=\"checkbox\" ><label for=\"sk-estimator-id-16\" class=\"sk-toggleable__label  sk-toggleable__label-arrow \">&nbsp;&nbsp;Pipeline<a class=\"sk-estimator-doc-link \" rel=\"noreferrer\" target=\"_blank\" href=\"https://scikit-learn.org/1.5/modules/generated/sklearn.pipeline.Pipeline.html\">?<span>Documentation for Pipeline</span></a><span class=\"sk-estimator-doc-link \">i<span>Not fitted</span></span></label><div class=\"sk-toggleable__content \"><pre>Pipeline(steps=[(&#x27;preprocessor&#x27;,\n",
       "                 ColumnTransformer(transformers=[(&#x27;cat&#x27;,\n",
       "                                                  Pipeline(steps=[(&#x27;ordinal&#x27;,\n",
       "                                                                   OrdinalEncoder(handle_unknown=&#x27;use_encoded_value&#x27;,\n",
       "                                                                                  unknown_value=nan)),\n",
       "                                                                  (&#x27;simpleImputer_after_ord&#x27;,\n",
       "                                                                   SimpleImputer(strategy=&#x27;most_frequent&#x27;))]),\n",
       "                                                  [&#x27;vehicle_type&#x27;, &#x27;gearbox&#x27;,\n",
       "                                                   &#x27;model&#x27;, &#x27;kilometer&#x27;,\n",
       "                                                   &#x27;fuel_type&#x27;, &#x27;brand&#x27;,\n",
       "                                                   &#x27;repaired&#x27;]),\n",
       "                                                 (&#x27;num&#x27;, StandardScaler(),\n",
       "                                                  [&#x27;registration_year&#x27;, &#x27;power&#x27;,\n",
       "                                                   &#x27;kilometer&#x27;])])),\n",
       "                (&#x27;model&#x27;, LGBMRegressor(random_state=42, verbose=-1))])</pre></div> </div></div><div class=\"sk-serial\"><div class=\"sk-item sk-dashed-wrapped\"><div class=\"sk-label-container\"><div class=\"sk-label  sk-toggleable\"><input class=\"sk-toggleable__control sk-hidden--visually\" id=\"sk-estimator-id-17\" type=\"checkbox\" ><label for=\"sk-estimator-id-17\" class=\"sk-toggleable__label  sk-toggleable__label-arrow \">&nbsp;preprocessor: ColumnTransformer<a class=\"sk-estimator-doc-link \" rel=\"noreferrer\" target=\"_blank\" href=\"https://scikit-learn.org/1.5/modules/generated/sklearn.compose.ColumnTransformer.html\">?<span>Documentation for preprocessor: ColumnTransformer</span></a></label><div class=\"sk-toggleable__content \"><pre>ColumnTransformer(transformers=[(&#x27;cat&#x27;,\n",
       "                                 Pipeline(steps=[(&#x27;ordinal&#x27;,\n",
       "                                                  OrdinalEncoder(handle_unknown=&#x27;use_encoded_value&#x27;,\n",
       "                                                                 unknown_value=nan)),\n",
       "                                                 (&#x27;simpleImputer_after_ord&#x27;,\n",
       "                                                  SimpleImputer(strategy=&#x27;most_frequent&#x27;))]),\n",
       "                                 [&#x27;vehicle_type&#x27;, &#x27;gearbox&#x27;, &#x27;model&#x27;,\n",
       "                                  &#x27;kilometer&#x27;, &#x27;fuel_type&#x27;, &#x27;brand&#x27;,\n",
       "                                  &#x27;repaired&#x27;]),\n",
       "                                (&#x27;num&#x27;, StandardScaler(),\n",
       "                                 [&#x27;registration_year&#x27;, &#x27;power&#x27;, &#x27;kilometer&#x27;])])</pre></div> </div></div><div class=\"sk-parallel\"><div class=\"sk-parallel-item\"><div class=\"sk-item\"><div class=\"sk-label-container\"><div class=\"sk-label  sk-toggleable\"><input class=\"sk-toggleable__control sk-hidden--visually\" id=\"sk-estimator-id-18\" type=\"checkbox\" ><label for=\"sk-estimator-id-18\" class=\"sk-toggleable__label  sk-toggleable__label-arrow \">cat</label><div class=\"sk-toggleable__content \"><pre>[&#x27;vehicle_type&#x27;, &#x27;gearbox&#x27;, &#x27;model&#x27;, &#x27;kilometer&#x27;, &#x27;fuel_type&#x27;, &#x27;brand&#x27;, &#x27;repaired&#x27;]</pre></div> </div></div><div class=\"sk-serial\"><div class=\"sk-item\"><div class=\"sk-serial\"><div class=\"sk-item\"><div class=\"sk-estimator  sk-toggleable\"><input class=\"sk-toggleable__control sk-hidden--visually\" id=\"sk-estimator-id-19\" type=\"checkbox\" ><label for=\"sk-estimator-id-19\" class=\"sk-toggleable__label  sk-toggleable__label-arrow \">&nbsp;OrdinalEncoder<a class=\"sk-estimator-doc-link \" rel=\"noreferrer\" target=\"_blank\" href=\"https://scikit-learn.org/1.5/modules/generated/sklearn.preprocessing.OrdinalEncoder.html\">?<span>Documentation for OrdinalEncoder</span></a></label><div class=\"sk-toggleable__content \"><pre>OrdinalEncoder(handle_unknown=&#x27;use_encoded_value&#x27;, unknown_value=nan)</pre></div> </div></div><div class=\"sk-item\"><div class=\"sk-estimator  sk-toggleable\"><input class=\"sk-toggleable__control sk-hidden--visually\" id=\"sk-estimator-id-20\" type=\"checkbox\" ><label for=\"sk-estimator-id-20\" class=\"sk-toggleable__label  sk-toggleable__label-arrow \">&nbsp;SimpleImputer<a class=\"sk-estimator-doc-link \" rel=\"noreferrer\" target=\"_blank\" href=\"https://scikit-learn.org/1.5/modules/generated/sklearn.impute.SimpleImputer.html\">?<span>Documentation for SimpleImputer</span></a></label><div class=\"sk-toggleable__content \"><pre>SimpleImputer(strategy=&#x27;most_frequent&#x27;)</pre></div> </div></div></div></div></div></div></div><div class=\"sk-parallel-item\"><div class=\"sk-item\"><div class=\"sk-label-container\"><div class=\"sk-label  sk-toggleable\"><input class=\"sk-toggleable__control sk-hidden--visually\" id=\"sk-estimator-id-21\" type=\"checkbox\" ><label for=\"sk-estimator-id-21\" class=\"sk-toggleable__label  sk-toggleable__label-arrow \">num</label><div class=\"sk-toggleable__content \"><pre>[&#x27;registration_year&#x27;, &#x27;power&#x27;, &#x27;kilometer&#x27;]</pre></div> </div></div><div class=\"sk-serial\"><div class=\"sk-item\"><div class=\"sk-estimator  sk-toggleable\"><input class=\"sk-toggleable__control sk-hidden--visually\" id=\"sk-estimator-id-22\" type=\"checkbox\" ><label for=\"sk-estimator-id-22\" class=\"sk-toggleable__label  sk-toggleable__label-arrow \">&nbsp;StandardScaler<a class=\"sk-estimator-doc-link \" rel=\"noreferrer\" target=\"_blank\" href=\"https://scikit-learn.org/1.5/modules/generated/sklearn.preprocessing.StandardScaler.html\">?<span>Documentation for StandardScaler</span></a></label><div class=\"sk-toggleable__content \"><pre>StandardScaler()</pre></div> </div></div></div></div></div></div></div><div class=\"sk-item\"><div class=\"sk-estimator  sk-toggleable\"><input class=\"sk-toggleable__control sk-hidden--visually\" id=\"sk-estimator-id-23\" type=\"checkbox\" ><label for=\"sk-estimator-id-23\" class=\"sk-toggleable__label  sk-toggleable__label-arrow \">LGBMRegressor</label><div class=\"sk-toggleable__content \"><pre>LGBMRegressor(random_state=42, verbose=-1)</pre></div> </div></div></div></div></div></div>"
      ],
      "text/plain": [
       "Pipeline(steps=[('preprocessor',\n",
       "                 ColumnTransformer(transformers=[('cat',\n",
       "                                                  Pipeline(steps=[('ordinal',\n",
       "                                                                   OrdinalEncoder(handle_unknown='use_encoded_value',\n",
       "                                                                                  unknown_value=nan)),\n",
       "                                                                  ('simpleImputer_after_ord',\n",
       "                                                                   SimpleImputer(strategy='most_frequent'))]),\n",
       "                                                  ['vehicle_type', 'gearbox',\n",
       "                                                   'model', 'kilometer',\n",
       "                                                   'fuel_type', 'brand',\n",
       "                                                   'repaired']),\n",
       "                                                 ('num', StandardScaler(),\n",
       "                                                  ['registration_year', 'power',\n",
       "                                                   'kilometer'])])),\n",
       "                ('model', LGBMRegressor(random_state=42, verbose=-1))])"
      ]
     },
     "execution_count": 50,
     "metadata": {},
     "output_type": "execute_result"
    }
   ],
   "source": [
    "# Создание пайплайна для LGBMRegressor\n",
    "pipeline_lgbr = make_pipeline(cat_columns, num_columns, 'ordinal', \n",
    "                              LGBMRegressor(random_state=RANDOM_STATE, verbose=-1))\n",
    "pipeline_lgbr"
   ]
  },
  {
   "cell_type": "code",
   "execution_count": 51,
   "metadata": {},
   "outputs": [],
   "source": [
    "# Гиперпараметры для LGBMRegressor\n",
    "params_lgbr = {\n",
    "    'model__n_estimators': optuna.distributions.IntDistribution(50, 200),\n",
    "    'model__learning_rate': optuna.distributions.FloatDistribution(0.01, 0.3),\n",
    "    'model__max_depth': optuna.distributions.IntDistribution(3, 10),\n",
    "    'model__num_leaves': optuna.distributions.IntDistribution(20, 50)\n",
    "}"
   ]
  },
  {
   "cell_type": "code",
   "execution_count": 52,
   "metadata": {},
   "outputs": [
    {
     "name": "stderr",
     "output_type": "stream",
     "text": [
      "[I 2024-10-15 06:37:56,109] A new study created in memory with name: no-name-3b122e90-10d0-468d-bbff-9ce0cbbfc7c5\n",
      "[I 2024-10-15 06:38:09,965] Trial 0 finished with value: -1746.1985522410487 and parameters: {'model__n_estimators': 118, 'model__learning_rate': 0.2514632893713383, 'model__max_depth': 3, 'model__num_leaves': 29}. Best is trial 0 with value: -1746.1985522410487.\n",
      "[I 2024-10-15 06:38:26,655] Trial 1 finished with value: -1757.757245081594 and parameters: {'model__n_estimators': 123, 'model__learning_rate': 0.0964958730958879, 'model__max_depth': 4, 'model__num_leaves': 25}. Best is trial 0 with value: -1746.1985522410487.\n",
      "[I 2024-10-15 06:38:40,061] Trial 2 finished with value: -1735.1999049413862 and parameters: {'model__n_estimators': 76, 'model__learning_rate': 0.10237812053436175, 'model__max_depth': 5, 'model__num_leaves': 50}. Best is trial 2 with value: -1735.1999049413862.\n",
      "[I 2024-10-15 06:39:20,561] Trial 3 finished with value: -1675.6449438710872 and parameters: {'model__n_estimators': 126, 'model__learning_rate': 0.0787472520910885, 'model__max_depth': 6, 'model__num_leaves': 34}. Best is trial 3 with value: -1675.6449438710872.\n",
      "[I 2024-10-15 06:39:49,367] Trial 4 finished with value: -1572.5227313818912 and parameters: {'model__n_estimators': 179, 'model__learning_rate': 0.29238538591217034, 'model__max_depth': 6, 'model__num_leaves': 49}. Best is trial 4 with value: -1572.5227313818912.\n",
      "[I 2024-10-15 06:40:07,861] Trial 5 finished with value: -1612.9864170316816 and parameters: {'model__n_estimators': 119, 'model__learning_rate': 0.2780983836801143, 'model__max_depth': 10, 'model__num_leaves': 22}. Best is trial 4 with value: -1572.5227313818912.\n",
      "[I 2024-10-15 06:40:27,465] Trial 6 finished with value: -1592.620613216918 and parameters: {'model__n_estimators': 118, 'model__learning_rate': 0.2444965142409548, 'model__max_depth': 9, 'model__num_leaves': 36}. Best is trial 4 with value: -1572.5227313818912.\n",
      "[I 2024-10-15 06:40:40,362] Trial 7 finished with value: -1650.6456689083134 and parameters: {'model__n_estimators': 65, 'model__learning_rate': 0.21323975087612926, 'model__max_depth': 6, 'model__num_leaves': 36}. Best is trial 4 with value: -1572.5227313818912.\n",
      "[I 2024-10-15 06:40:54,555] Trial 8 finished with value: -1703.7818366259678 and parameters: {'model__n_estimators': 82, 'model__learning_rate': 0.12025787553453414, 'model__max_depth': 9, 'model__num_leaves': 20}. Best is trial 4 with value: -1572.5227313818912.\n",
      "[I 2024-10-15 06:41:32,051] Trial 9 finished with value: -1597.4797412834603 and parameters: {'model__n_estimators': 160, 'model__learning_rate': 0.2616009293348329, 'model__max_depth': 6, 'model__num_leaves': 27}. Best is trial 4 with value: -1572.5227313818912.\n"
     ]
    },
    {
     "name": "stdout",
     "output_type": "stream",
     "text": [
      "Лучшие параметры: {'model__n_estimators': 179, 'model__learning_rate': 0.29238538591217034, 'model__max_depth': 6, 'model__num_leaves': 49}\n",
      "Метрика RMSE на кросс-валидации: 1572.5227313818912\n",
      "Время на обучение модели: 5.70 секунд\n",
      "Время на предсказание модели: 2.40 секунд\n"
     ]
    }
   ],
   "source": [
    "# Подбор гиперпараметров и обучение модели\n",
    "lgbr_model, lgbr_train_time, lgbrt_pred_time, lgbr_rmse = best_model_optuna(\n",
    "    pipeline_lgbr, \n",
    "    params_lgbr, \n",
    "    X_train, \n",
    "    y_train, \n",
    "    n_trials=10)"
   ]
  },
  {
   "cell_type": "markdown",
   "metadata": {},
   "source": [
    "**Выводы:**\n",
    "\n",
    "В результате было обучено 3 модели. Для каждой модели с помощью OptunaSearchCV были подобраны гиперпараметры, с которыми модель показывает наилучшую метрику RMSE. Гиперпараметры моделей:\n",
    "- **Ridge Regression** - 'model__alpha': 0.3720697964349206\n",
    "- **Random Forest Regressor** - 'model__n_estimators': 136, 'model__min_samples_split': 5\n",
    "- **LGBMRegressor** - 'model__n_estimators': 179, 'model__learning_rate': 0.29238538591217034, 'model__max_depth': 6, 'model__num_leaves': 49\n",
    "\n",
    "Также для каждой модели было рассчитано время, необходимое для обучения и предсказания модели."
   ]
  },
  {
   "cell_type": "markdown",
   "metadata": {},
   "source": [
    "## Анализ результатов. Выбор лучшей модели"
   ]
  },
  {
   "cell_type": "markdown",
   "metadata": {},
   "source": [
    "Добавим результаты всех моделей в датафрейм и сравним их:"
   ]
  },
  {
   "cell_type": "code",
   "execution_count": 53,
   "metadata": {},
   "outputs": [
    {
     "data": {
      "text/html": [
       "<div>\n",
       "<style scoped>\n",
       "    .dataframe tbody tr th:only-of-type {\n",
       "        vertical-align: middle;\n",
       "    }\n",
       "\n",
       "    .dataframe tbody tr th {\n",
       "        vertical-align: top;\n",
       "    }\n",
       "\n",
       "    .dataframe thead th {\n",
       "        text-align: right;\n",
       "    }\n",
       "</style>\n",
       "<table border=\"1\" class=\"dataframe\">\n",
       "  <thead>\n",
       "    <tr style=\"text-align: right;\">\n",
       "      <th></th>\n",
       "      <th>model</th>\n",
       "      <th>RMSE</th>\n",
       "      <th>train_time</th>\n",
       "      <th>predict_time</th>\n",
       "    </tr>\n",
       "  </thead>\n",
       "  <tbody>\n",
       "    <tr>\n",
       "      <th>0</th>\n",
       "      <td>Ridge Regression</td>\n",
       "      <td>2334.971037</td>\n",
       "      <td>3.196311</td>\n",
       "      <td>1.203904</td>\n",
       "    </tr>\n",
       "    <tr>\n",
       "      <th>1</th>\n",
       "      <td>Random Forest Regressor</td>\n",
       "      <td>1627.251120</td>\n",
       "      <td>52.104376</td>\n",
       "      <td>7.892619</td>\n",
       "    </tr>\n",
       "    <tr>\n",
       "      <th>2</th>\n",
       "      <td>LGBMRegressor</td>\n",
       "      <td>1572.522731</td>\n",
       "      <td>5.698036</td>\n",
       "      <td>2.404336</td>\n",
       "    </tr>\n",
       "  </tbody>\n",
       "</table>\n",
       "</div>"
      ],
      "text/plain": [
       "                     model         RMSE  train_time  predict_time\n",
       "0         Ridge Regression  2334.971037    3.196311      1.203904\n",
       "1  Random Forest Regressor  1627.251120   52.104376      7.892619\n",
       "2            LGBMRegressor  1572.522731    5.698036      2.404336"
      ]
     },
     "metadata": {},
     "output_type": "display_data"
    },
    {
     "data": {
      "image/png": "[encoded data removed]",
      "text/plain": [
       "<Figure size 1296x360 with 3 Axes>"
      ]
     },
     "metadata": {
      "needs_background": "light"
     },
     "output_type": "display_data"
    }
   ],
   "source": [
    "# Создание датафрейма с результатами моделей\n",
    "models_results = pd.DataFrame({\n",
    "    'model': ['Ridge Regression', 'Random Forest Regressor', 'LGBMRegressor'],\n",
    "    'RMSE' : [ridge_rmse, random_forest_rmse, lgbr_rmse],\n",
    "    'train_time': [ridge_train_time, random_forest_train_time, lgbr_train_time],\n",
    "    'predict_time' : [ridge_pred_time, random_forest_pred_time, lgbrt_pred_time]\n",
    "})\n",
    "\n",
    "display(models_results)\n",
    "\n",
    "\n",
    "# Построение графиков\n",
    "fig, axes = plt.subplots(1, 3, figsize=(18, 5))\n",
    "\n",
    "# RMSE\n",
    "sns.barplot(x='model', y='RMSE', data=models_results, ax=axes[0], palette='muted')\n",
    "axes[0].set_title('RMSE')\n",
    "axes[0].set_ylabel('евро')\n",
    "\n",
    "# Время обучения модели\n",
    "sns.barplot(x='model', y='train_time', data=models_results, ax=axes[1], palette='muted')\n",
    "axes[1].set_title('Время обучения модели')\n",
    "axes[1].set_ylabel('секунды')\n",
    "\n",
    "# Время предсказания модели\n",
    "sns.barplot(x='model', y='predict_time', data=models_results, ax=axes[2], palette='muted')\n",
    "axes[2].set_title('Время предсказания модели')\n",
    "axes[2].set_ylabel('секунды')\n",
    "\n",
    "plt.tight_layout()\n",
    "plt.show()"
   ]
  },
  {
   "cell_type": "markdown",
   "metadata": {},
   "source": [
    "- **LGBMRegressor** показывает наилучшее качество предсказаний с наименьшим значением RMSE (1572.52), что указывает на более точное определение рыночной стоимости автомобилей.\n",
    "- **Ridge Regression** обучается быстрее всех (3.2 сек) и имеет минимальное время предсказания (1.2 сек), но её точность значительно ниже (RMSE 2334.97).\n",
    "- **Random Forest Regressor** также имеет хорошую точность (RMSE 1627.25), но значительно дольше обучается (52.1 сек) и делает предсказания медленнее (7.89 сек).\n",
    "\n",
    "Таким образом, модель **LGBMRegressor** является наилучшей по соотношению качества предсказания и времени, требуемого на обучение и предсказание. Проверим качество выбранной модели на тестовой выборке:"
   ]
  },
  {
   "cell_type": "code",
   "execution_count": 54,
   "metadata": {},
   "outputs": [
    {
     "name": "stdout",
     "output_type": "stream",
     "text": [
      "Метрика RMSE на тестовой выборке: 1565.784\n"
     ]
    }
   ],
   "source": [
    "# Прогноз на тестовой выборке\n",
    "y_test_pred = lgbr_model.predict(X_test)\n",
    "\n",
    "# RMSE на тестовой выборке\n",
    "rmse_test = mean_squared_error(y_test, y_test_pred, squared=False)\n",
    "print(f'Метрика RMSE на тестовой выборке: {rmse_test:.3f}')"
   ]
  },
  {
   "cell_type": "markdown",
   "metadata": {},
   "source": [
    "Метрика составила 1565.784 евро, т.е. отвечает запросу заказчика (*Значение метрики RMSE должно быть меньше 2500*)."
   ]
  },
  {
   "cell_type": "markdown",
   "metadata": {},
   "source": [
    "#### Проверка адекватности модели"
   ]
  },
  {
   "cell_type": "markdown",
   "metadata": {},
   "source": [
    "После выбора лучшей модели, важно оценить её адекватность. Для этого сравним результаты лучшей модели с базовой моделью — DummyRegressor, которая предсказывает константу. Это позволит понять, насколько предсказания сложной модели лучше базового решения."
   ]
  },
  {
   "cell_type": "code",
   "execution_count": 55,
   "metadata": {},
   "outputs": [
    {
     "name": "stdout",
     "output_type": "stream",
     "text": [
      "RMSE DummyRegressor: 4667.558\n",
      "Разница между LGBMRegressor и DummyRegressor: -3101.774\n"
     ]
    }
   ],
   "source": [
    "# Обучение модели DummyRegressor\n",
    "dummy_regr = DummyRegressor(strategy = 'mean')\n",
    "dummy_regr.fit(X_train, y_train)\n",
    "\n",
    "# Получение предсказаний\n",
    "y_dummy_pred = dummy_regr.predict(X_test)\n",
    "rmse_dummy = mean_squared_error(y_test, y_dummy_pred, squared=False)\n",
    "\n",
    "# Вывод результатов\n",
    "print(f'RMSE DummyRegressor: {rmse_dummy:.3f}')\n",
    "print(f'Разница между LGBMRegressor и DummyRegressor: {rmse_test - rmse_dummy:.3f}')"
   ]
  },
  {
   "cell_type": "markdown",
   "metadata": {},
   "source": [
    "Проверка адекватности показала, что RMSE для базовой модели, предсказывающей среднее, составил 4667.56. Разница между лучшей моделью (LGBMRegressor) и DummyRegressor составила -3101.77, что свидетельствует о значительном улучшении качества предсказаний. Это подтверждает, что использование более сложной модели, такой как LGBMRegressor, оправдано, и она значительно лучше базового предсказания константы."
   ]
  },
  {
   "cell_type": "markdown",
   "metadata": {},
   "source": [
    "## Общий вывод"
   ]
  },
  {
   "cell_type": "markdown",
   "metadata": {},
   "source": [
    "В ходе проведенного исследования были выполнены следующие этапы и получены следующие основные результаты.\n",
    "\n",
    "1) **Предобработка данных**\n",
    "- Было удалено 5 неинформативных признака.\n",
    "- Обработаны пропущенные значения. 19 705 строк (5,56 % всех данных) было удалено. Оставшиеся пропуски были заменены на значение 'no_info'.\n",
    "- Было удалено 26 370 полных дубликатов или 7.88 % от всех данных. Также были обработаны неявные дубликаты.\n",
    "***\n",
    "\n",
    "2) **Исследовательский анализ данных**\n",
    "- Проанализировали распределение значений по каждому параметру, выявили средние значения, а также аномальные.\n",
    "- Удалили 23,4 % от всех данных по причине ошибочности и аномальности значений.\n",
    "- Выявили и удалили неинформативный для прогнозирования цены автомобиля признак - месяц регистрации автомобиля.\n",
    "- Средняя стоимость автомобилей составляет 5 021 евро.\n",
    "***\n",
    "3) **Корреляционный анализ данных**\n",
    "- Целевой признак price показал заметный уровень корреляции с признаками registration_year (коэффициент 0.644), model (0.562), power (0.453). С остальными признаками имеет умеренный и слабый уровень корреляции.\n",
    "- Наличие мультиколлениарности между признаками brand и model (коэффициент 0.998). Удалять коррелирующие признаки не стали, т.к для обучения использовали модели менее чувствительные к мультиколлинеарности (не используют линейные зависимости между признаками).\n",
    "***\n",
    "4) **Обучение модели**\n",
    "\n",
    "Для масштабирования числовых признаков был использован StandardScaler, для кодирования категориальных признаков - OneHotEncoder и OrdinalEncoder (в завимисоти от модели). Для подбора наилучших гиперпараметров для каждой модели был использован OptunaSearchCV.\n",
    "\n",
    "В результате было обучено 3 модели: **Ridge Regression,  Random Forest Regresso, LGBMRegressor**. Для каждой модели рассчитана метрика RMSE, а также время, необходимое для обучения и предсказания модели.\n",
    "***\n",
    "5) **Анализ результатов**\n",
    "- Наилучшее качество предсказаний с наименьшим значением RMSE (1572.52) показала **LGBMRegressor**.\n",
    "- **Ridge Regression** обучается быстрее всех (3.2 сек) и имеет минимальное время предсказания (1.2 сек), но её точность значительно ниже (RMSE 2334.97).\n",
    "- **Random Forest** Regressor также имеет хорошую точность (RMSE 1627.25), но значительно дольше обучается (52.1 сек) и делает предсказания медленнее (7.89 сек).\n",
    "\n",
    "Исходя из полученных результатов, наилучшей  моделью была выбрана **LGBMRegressor**. На тестовой выборке показатель RMSE составил 1565.78 евро, т.е. удовлетворяющий критерию заказчика. \n",
    "***\n",
    "6) **Итоги исследования**\n",
    "- В ходе исследования была построена модель для предсказания рыночной стоимости автомобилей на основе технических характеристик, что позволит компании привлекать новых клиентов.\n",
    "- Наилучшие результаты по качеству предсказания продемонстрировала модель **LGBMRegressor** с показателем RMSE 1565.78 на тестовой выборке. Эта модель соответствует критериям заказчика и показывает удовлетворительный уровень точности.\n",
    "\n",
    "Результаты исследования помогут сервису принять обоснованные решения при разработке приложения, обеспечивая высокую точность оценок рыночной стоимости автомобилей. Это, в свою очередь, улучшит клиентский опыт и повысит конкурентоспособность компании на рынке."
   ]
  }
 ],
 "metadata": {
  "ExecuteTimeLog": [
   {
    "duration": 6408,
    "start_time": "2024-10-14T08:55:57.712Z"
   },
   {
    "duration": 1440,
    "start_time": "2024-10-14T08:56:16.954Z"
   },
   {
    "duration": 9448,
    "start_time": "2024-10-14T08:57:02.051Z"
   },
   {
    "duration": 763,
    "start_time": "2024-10-14T08:57:13.884Z"
   },
   {
    "duration": 10831,
    "start_time": "2024-10-14T08:57:42.777Z"
   },
   {
    "duration": 15,
    "start_time": "2024-10-14T08:57:59.784Z"
   },
   {
    "duration": 4,
    "start_time": "2024-10-14T08:58:06.473Z"
   },
   {
    "duration": 6,
    "start_time": "2024-10-14T08:58:29.141Z"
   },
   {
    "duration": 7,
    "start_time": "2024-10-14T09:00:02.652Z"
   },
   {
    "duration": 7,
    "start_time": "2024-10-14T09:00:05.200Z"
   },
   {
    "duration": 5,
    "start_time": "2024-10-14T09:00:19.579Z"
   },
   {
    "duration": 3080,
    "start_time": "2024-10-14T09:00:42.215Z"
   },
   {
    "duration": 225,
    "start_time": "2024-10-14T09:00:53.430Z"
   },
   {
    "duration": 7,
    "start_time": "2024-10-14T09:01:32.924Z"
   },
   {
    "duration": 36,
    "start_time": "2024-10-14T09:01:39.547Z"
   },
   {
    "duration": 5,
    "start_time": "2024-10-14T09:01:57.041Z"
   },
   {
    "duration": 221,
    "start_time": "2024-10-14T09:02:24.933Z"
   },
   {
    "duration": 105,
    "start_time": "2024-10-14T09:02:38.144Z"
   },
   {
    "duration": 236,
    "start_time": "2024-10-14T09:02:52.566Z"
   },
   {
    "duration": 236,
    "start_time": "2024-10-14T09:03:01.769Z"
   },
   {
    "duration": 240,
    "start_time": "2024-10-14T09:03:18.115Z"
   },
   {
    "duration": 297,
    "start_time": "2024-10-14T09:03:40.572Z"
   },
   {
    "duration": 337,
    "start_time": "2024-10-14T09:03:56.059Z"
   },
   {
    "duration": 112,
    "start_time": "2024-10-14T09:04:14.037Z"
   },
   {
    "duration": 38,
    "start_time": "2024-10-14T09:04:28.058Z"
   },
   {
    "duration": 14,
    "start_time": "2024-10-14T09:05:03.938Z"
   },
   {
    "duration": 6,
    "start_time": "2024-10-14T09:05:30.451Z"
   },
   {
    "duration": 668,
    "start_time": "2024-10-14T09:05:34.545Z"
   },
   {
    "duration": 25,
    "start_time": "2024-10-14T09:05:47.483Z"
   },
   {
    "duration": 541,
    "start_time": "2024-10-14T09:05:52.835Z"
   },
   {
    "duration": 502,
    "start_time": "2024-10-14T09:06:36.632Z"
   },
   {
    "duration": 30,
    "start_time": "2024-10-14T09:06:52.027Z"
   },
   {
    "duration": 450,
    "start_time": "2024-10-14T09:06:57.065Z"
   },
   {
    "duration": 504,
    "start_time": "2024-10-14T09:07:19.004Z"
   },
   {
    "duration": 458,
    "start_time": "2024-10-14T09:07:43.567Z"
   },
   {
    "duration": 27,
    "start_time": "2024-10-14T09:08:00.998Z"
   },
   {
    "duration": 461,
    "start_time": "2024-10-14T09:08:06.099Z"
   },
   {
    "duration": 352,
    "start_time": "2024-10-14T09:08:41.124Z"
   },
   {
    "duration": 17164,
    "start_time": "2024-10-14T09:09:44.048Z"
   },
   {
    "duration": 475,
    "start_time": "2024-10-14T09:10:01.214Z"
   },
   {
    "duration": 31054,
    "start_time": "2024-10-14T09:12:30.211Z"
   },
   {
    "duration": 403,
    "start_time": "2024-10-14T09:13:06.626Z"
   },
   {
    "duration": 31592,
    "start_time": "2024-10-14T09:13:14.086Z"
   },
   {
    "duration": 1504,
    "start_time": "2024-10-14T09:13:45.680Z"
   },
   {
    "duration": 3,
    "start_time": "2024-10-14T09:13:47.186Z"
   },
   {
    "duration": 38,
    "start_time": "2024-10-14T09:13:47.194Z"
   },
   {
    "duration": 10,
    "start_time": "2024-10-14T09:13:47.235Z"
   },
   {
    "duration": 10,
    "start_time": "2024-10-14T09:13:47.246Z"
   },
   {
    "duration": 1042,
    "start_time": "2024-10-14T09:13:47.258Z"
   },
   {
    "duration": 208,
    "start_time": "2024-10-14T09:13:48.302Z"
   },
   {
    "duration": 8,
    "start_time": "2024-10-14T09:13:48.512Z"
   },
   {
    "duration": 53,
    "start_time": "2024-10-14T09:13:48.522Z"
   },
   {
    "duration": 14,
    "start_time": "2024-10-14T09:13:48.577Z"
   },
   {
    "duration": 237,
    "start_time": "2024-10-14T09:13:48.592Z"
   },
   {
    "duration": 142,
    "start_time": "2024-10-14T09:13:48.831Z"
   },
   {
    "duration": 212,
    "start_time": "2024-10-14T09:13:48.976Z"
   },
   {
    "duration": 219,
    "start_time": "2024-10-14T09:13:49.190Z"
   },
   {
    "duration": 284,
    "start_time": "2024-10-14T09:13:49.411Z"
   },
   {
    "duration": 314,
    "start_time": "2024-10-14T09:13:49.697Z"
   },
   {
    "duration": 104,
    "start_time": "2024-10-14T09:13:50.013Z"
   },
   {
    "duration": 40,
    "start_time": "2024-10-14T09:13:50.119Z"
   },
   {
    "duration": 1418,
    "start_time": "2024-10-14T09:13:50.161Z"
   },
   {
    "duration": 25,
    "start_time": "2024-10-14T09:13:51.581Z"
   },
   {
    "duration": 1274,
    "start_time": "2024-10-14T09:13:51.607Z"
   },
   {
    "duration": 1239,
    "start_time": "2024-10-14T09:13:52.882Z"
   },
   {
    "duration": 32,
    "start_time": "2024-10-14T09:13:54.122Z"
   },
   {
    "duration": 1033,
    "start_time": "2024-10-14T09:13:54.156Z"
   },
   {
    "duration": 1136,
    "start_time": "2024-10-14T09:13:55.191Z"
   },
   {
    "duration": 1130,
    "start_time": "2024-10-14T09:13:56.328Z"
   },
   {
    "duration": 27,
    "start_time": "2024-10-14T09:13:57.459Z"
   },
   {
    "duration": 1136,
    "start_time": "2024-10-14T09:13:57.488Z"
   },
   {
    "duration": 1676,
    "start_time": "2024-10-14T09:13:58.626Z"
   },
   {
    "duration": 22,
    "start_time": "2024-10-14T09:14:25.973Z"
   },
   {
    "duration": 1583,
    "start_time": "2024-10-14T09:14:38.847Z"
   },
   {
    "duration": 1168,
    "start_time": "2024-10-14T09:15:09.854Z"
   },
   {
    "duration": 1338,
    "start_time": "2024-10-14T09:15:30.061Z"
   },
   {
    "duration": 1194,
    "start_time": "2024-10-14T09:15:49.814Z"
   },
   {
    "duration": 601,
    "start_time": "2024-10-14T09:16:13.203Z"
   },
   {
    "duration": 562,
    "start_time": "2024-10-14T09:16:39.547Z"
   },
   {
    "duration": 589,
    "start_time": "2024-10-14T09:16:47.197Z"
   },
   {
    "duration": 4629,
    "start_time": "2024-10-14T09:17:18.446Z"
   },
   {
    "duration": 4616,
    "start_time": "2024-10-14T09:17:30.795Z"
   },
   {
    "duration": 82,
    "start_time": "2024-10-14T09:22:05.922Z"
   },
   {
    "duration": 3,
    "start_time": "2024-10-14T09:22:17.523Z"
   },
   {
    "duration": 5,
    "start_time": "2024-10-14T09:22:30.132Z"
   },
   {
    "duration": 7,
    "start_time": "2024-10-14T09:22:41.849Z"
   },
   {
    "duration": 19,
    "start_time": "2024-10-14T09:23:42.110Z"
   },
   {
    "duration": 2,
    "start_time": "2024-10-14T09:23:46.717Z"
   },
   {
    "duration": 138254,
    "start_time": "2024-10-14T09:23:51.208Z"
   },
   {
    "duration": 210,
    "start_time": "2024-10-14T09:26:09.464Z"
   },
   {
    "duration": 8,
    "start_time": "2024-10-14T09:26:09.676Z"
   },
   {
    "duration": 1406120,
    "start_time": "2024-10-14T09:26:09.686Z"
   },
   {
    "duration": 43,
    "start_time": "2024-10-14T09:49:35.809Z"
   },
   {
    "duration": 18,
    "start_time": "2024-10-14T09:49:35.854Z"
   },
   {
    "duration": 1407607,
    "start_time": "2024-10-14T09:49:35.873Z"
   },
   {
    "duration": 79,
    "start_time": "2024-10-14T10:13:03.482Z"
   },
   {
    "duration": 59,
    "start_time": "2024-10-14T10:13:03.563Z"
   },
   {
    "duration": 22,
    "start_time": "2024-10-14T10:13:03.624Z"
   },
   {
    "duration": 137228,
    "start_time": "2024-10-14T10:13:03.648Z"
   },
   {
    "duration": 991,
    "start_time": "2024-10-14T10:15:20.958Z"
   },
   {
    "duration": 801,
    "start_time": "2024-10-14T10:16:03.282Z"
   },
   {
    "duration": 936,
    "start_time": "2024-10-14T10:16:10.079Z"
   },
   {
    "duration": 731,
    "start_time": "2024-10-14T10:16:58.624Z"
   },
   {
    "duration": 242418,
    "start_time": "2024-10-14T10:18:27.956Z"
   },
   {
    "duration": 83,
    "start_time": "2024-10-14T10:22:30.376Z"
   },
   {
    "duration": 830,
    "start_time": "2024-10-14T10:22:30.461Z"
   },
   {
    "duration": 676,
    "start_time": "2024-10-14T10:22:31.293Z"
   },
   {
    "duration": 10,
    "start_time": "2024-10-14T10:29:33.199Z"
   },
   {
    "duration": 812,
    "start_time": "2024-10-14T10:32:07.310Z"
   },
   {
    "duration": 807,
    "start_time": "2024-10-14T10:32:15.708Z"
   },
   {
    "duration": 714,
    "start_time": "2024-10-14T10:41:38.639Z"
   },
   {
    "duration": 3,
    "start_time": "2024-10-14T11:07:14.785Z"
   },
   {
    "duration": 1557,
    "start_time": "2024-10-14T11:07:14.790Z"
   },
   {
    "duration": 6,
    "start_time": "2024-10-14T11:07:16.349Z"
   },
   {
    "duration": 22,
    "start_time": "2024-10-14T11:07:16.358Z"
   },
   {
    "duration": 31,
    "start_time": "2024-10-14T11:07:16.382Z"
   },
   {
    "duration": 6,
    "start_time": "2024-10-14T11:07:16.415Z"
   },
   {
    "duration": 1112,
    "start_time": "2024-10-14T11:07:16.422Z"
   },
   {
    "duration": 214,
    "start_time": "2024-10-14T11:07:17.536Z"
   },
   {
    "duration": 7,
    "start_time": "2024-10-14T11:07:17.752Z"
   },
   {
    "duration": 55,
    "start_time": "2024-10-14T11:07:17.760Z"
   },
   {
    "duration": 5,
    "start_time": "2024-10-14T11:07:17.817Z"
   },
   {
    "duration": 217,
    "start_time": "2024-10-14T11:07:17.823Z"
   },
   {
    "duration": 111,
    "start_time": "2024-10-14T11:07:18.042Z"
   },
   {
    "duration": 230,
    "start_time": "2024-10-14T11:07:18.154Z"
   },
   {
    "duration": 225,
    "start_time": "2024-10-14T11:07:18.386Z"
   },
   {
    "duration": 285,
    "start_time": "2024-10-14T11:07:18.612Z"
   },
   {
    "duration": 315,
    "start_time": "2024-10-14T11:07:18.898Z"
   },
   {
    "duration": 103,
    "start_time": "2024-10-14T11:07:19.215Z"
   },
   {
    "duration": 36,
    "start_time": "2024-10-14T11:07:19.320Z"
   },
   {
    "duration": 1288,
    "start_time": "2024-10-14T11:07:19.357Z"
   },
   {
    "duration": 29,
    "start_time": "2024-10-14T11:07:20.647Z"
   },
   {
    "duration": 1360,
    "start_time": "2024-10-14T11:07:20.677Z"
   },
   {
    "duration": 1195,
    "start_time": "2024-10-14T11:07:22.039Z"
   },
   {
    "duration": 35,
    "start_time": "2024-10-14T11:07:23.238Z"
   },
   {
    "duration": 1134,
    "start_time": "2024-10-14T11:07:23.275Z"
   },
   {
    "duration": 1160,
    "start_time": "2024-10-14T11:07:24.411Z"
   },
   {
    "duration": 1076,
    "start_time": "2024-10-14T11:07:25.572Z"
   },
   {
    "duration": 27,
    "start_time": "2024-10-14T11:07:26.652Z"
   },
   {
    "duration": 1155,
    "start_time": "2024-10-14T11:07:26.680Z"
   },
   {
    "duration": 1676,
    "start_time": "2024-10-14T11:07:27.837Z"
   },
   {
    "duration": 21,
    "start_time": "2024-10-14T11:07:29.514Z"
   },
   {
    "duration": 1597,
    "start_time": "2024-10-14T11:07:29.536Z"
   },
   {
    "duration": 1232,
    "start_time": "2024-10-14T11:07:31.135Z"
   },
   {
    "duration": 1362,
    "start_time": "2024-10-14T11:07:32.369Z"
   },
   {
    "duration": 1239,
    "start_time": "2024-10-14T11:07:33.733Z"
   },
   {
    "duration": 634,
    "start_time": "2024-10-14T11:07:34.974Z"
   },
   {
    "duration": 564,
    "start_time": "2024-10-14T11:07:35.609Z"
   },
   {
    "duration": 4652,
    "start_time": "2024-10-14T11:07:36.175Z"
   },
   {
    "duration": 81,
    "start_time": "2024-10-14T11:07:40.829Z"
   },
   {
    "duration": 3,
    "start_time": "2024-10-14T11:07:40.911Z"
   },
   {
    "duration": 5,
    "start_time": "2024-10-14T11:07:40.915Z"
   },
   {
    "duration": 16,
    "start_time": "2024-10-14T11:07:40.921Z"
   },
   {
    "duration": 28,
    "start_time": "2024-10-14T11:07:40.938Z"
   },
   {
    "duration": 3,
    "start_time": "2024-10-14T11:07:40.968Z"
   },
   {
    "duration": 138183,
    "start_time": "2024-10-14T11:07:40.972Z"
   },
   {
    "duration": 127,
    "start_time": "2024-10-14T11:09:59.157Z"
   },
   {
    "duration": 3,
    "start_time": "2024-10-14T11:09:59.286Z"
   },
   {
    "duration": 1425847,
    "start_time": "2024-10-14T11:09:59.290Z"
   },
   {
    "duration": 42,
    "start_time": "2024-10-14T11:33:45.139Z"
   },
   {
    "duration": 18,
    "start_time": "2024-10-14T11:33:45.183Z"
   },
   {
    "duration": 353572,
    "start_time": "2024-10-14T11:33:45.202Z"
   },
   {
    "duration": 955,
    "start_time": "2024-10-14T11:39:38.776Z"
   },
   {
    "duration": 722,
    "start_time": "2024-10-14T11:39:39.733Z"
   },
   {
    "duration": 4,
    "start_time": "2024-10-14T11:54:46.032Z"
   },
   {
    "duration": 1595,
    "start_time": "2024-10-14T11:54:46.039Z"
   },
   {
    "duration": 4,
    "start_time": "2024-10-14T11:54:47.637Z"
   },
   {
    "duration": 21,
    "start_time": "2024-10-14T11:54:47.643Z"
   },
   {
    "duration": 9,
    "start_time": "2024-10-14T11:54:47.666Z"
   },
   {
    "duration": 7,
    "start_time": "2024-10-14T11:54:47.677Z"
   },
   {
    "duration": 1113,
    "start_time": "2024-10-14T11:54:47.686Z"
   },
   {
    "duration": 264,
    "start_time": "2024-10-14T11:54:48.800Z"
   },
   {
    "duration": 10,
    "start_time": "2024-10-14T11:54:49.066Z"
   },
   {
    "duration": 75,
    "start_time": "2024-10-14T11:54:49.080Z"
   },
   {
    "duration": 7,
    "start_time": "2024-10-14T11:54:49.158Z"
   },
   {
    "duration": 327,
    "start_time": "2024-10-14T11:54:49.167Z"
   },
   {
    "duration": 117,
    "start_time": "2024-10-14T11:54:49.496Z"
   },
   {
    "duration": 231,
    "start_time": "2024-10-14T11:54:49.615Z"
   },
   {
    "duration": 226,
    "start_time": "2024-10-14T11:54:49.847Z"
   },
   {
    "duration": 296,
    "start_time": "2024-10-14T11:54:50.075Z"
   },
   {
    "duration": 336,
    "start_time": "2024-10-14T11:54:50.373Z"
   },
   {
    "duration": 130,
    "start_time": "2024-10-14T11:54:50.711Z"
   },
   {
    "duration": 36,
    "start_time": "2024-10-14T11:54:50.842Z"
   },
   {
    "duration": 1383,
    "start_time": "2024-10-14T11:54:50.879Z"
   },
   {
    "duration": 27,
    "start_time": "2024-10-14T11:54:52.264Z"
   },
   {
    "duration": 1251,
    "start_time": "2024-10-14T11:54:52.293Z"
   },
   {
    "duration": 1252,
    "start_time": "2024-10-14T11:54:53.545Z"
   },
   {
    "duration": 27,
    "start_time": "2024-10-14T11:54:54.799Z"
   },
   {
    "duration": 1183,
    "start_time": "2024-10-14T11:54:54.828Z"
   },
   {
    "duration": 1212,
    "start_time": "2024-10-14T11:54:56.012Z"
   },
   {
    "duration": 1096,
    "start_time": "2024-10-14T11:54:57.227Z"
   },
   {
    "duration": 40,
    "start_time": "2024-10-14T11:54:58.328Z"
   },
   {
    "duration": 1151,
    "start_time": "2024-10-14T11:54:58.370Z"
   },
   {
    "duration": 1775,
    "start_time": "2024-10-14T11:54:59.523Z"
   },
   {
    "duration": 29,
    "start_time": "2024-10-14T11:55:01.299Z"
   },
   {
    "duration": 1653,
    "start_time": "2024-10-14T11:55:01.330Z"
   },
   {
    "duration": 1285,
    "start_time": "2024-10-14T11:55:02.985Z"
   },
   {
    "duration": 1342,
    "start_time": "2024-10-14T11:55:04.272Z"
   },
   {
    "duration": 1221,
    "start_time": "2024-10-14T11:55:05.616Z"
   },
   {
    "duration": 625,
    "start_time": "2024-10-14T11:55:06.839Z"
   },
   {
    "duration": 624,
    "start_time": "2024-10-14T11:55:07.466Z"
   },
   {
    "duration": 4748,
    "start_time": "2024-10-14T11:55:08.092Z"
   },
   {
    "duration": 92,
    "start_time": "2024-10-14T11:55:12.841Z"
   },
   {
    "duration": 3,
    "start_time": "2024-10-14T11:55:12.935Z"
   },
   {
    "duration": 29,
    "start_time": "2024-10-14T11:55:12.940Z"
   },
   {
    "duration": 24,
    "start_time": "2024-10-14T11:55:12.971Z"
   },
   {
    "duration": 32,
    "start_time": "2024-10-14T11:55:12.997Z"
   },
   {
    "duration": 14,
    "start_time": "2024-10-14T11:55:13.031Z"
   },
   {
    "duration": 144829,
    "start_time": "2024-10-14T11:55:13.046Z"
   },
   {
    "duration": 129,
    "start_time": "2024-10-14T11:57:37.954Z"
   },
   {
    "duration": 4,
    "start_time": "2024-10-14T11:57:38.085Z"
   },
   {
    "duration": 1409054,
    "start_time": "2024-10-14T11:57:38.090Z"
   },
   {
    "duration": 43,
    "start_time": "2024-10-14T12:21:07.146Z"
   },
   {
    "duration": 5,
    "start_time": "2024-10-14T12:21:07.191Z"
   },
   {
    "duration": 258878,
    "start_time": "2024-10-14T12:21:07.197Z"
   },
   {
    "duration": 985,
    "start_time": "2024-10-14T12:25:26.076Z"
   },
   {
    "duration": 716,
    "start_time": "2024-10-14T12:25:27.063Z"
   },
   {
    "duration": 3,
    "start_time": "2024-10-14T15:19:48.013Z"
   },
   {
    "duration": 1625,
    "start_time": "2024-10-14T15:19:48.429Z"
   },
   {
    "duration": 3,
    "start_time": "2024-10-14T15:19:50.226Z"
   },
   {
    "duration": 6,
    "start_time": "2024-10-14T15:19:50.655Z"
   },
   {
    "duration": 7,
    "start_time": "2024-10-14T15:19:51.055Z"
   },
   {
    "duration": 5,
    "start_time": "2024-10-14T15:19:57.105Z"
   },
   {
    "duration": 1084,
    "start_time": "2024-10-14T15:19:59.255Z"
   },
   {
    "duration": 259,
    "start_time": "2024-10-14T15:20:32.044Z"
   },
   {
    "duration": 7,
    "start_time": "2024-10-14T15:20:36.685Z"
   },
   {
    "duration": 37,
    "start_time": "2024-10-14T15:20:36.896Z"
   },
   {
    "duration": 5,
    "start_time": "2024-10-14T15:20:39.639Z"
   },
   {
    "duration": 223,
    "start_time": "2024-10-14T15:20:41.526Z"
   },
   {
    "duration": 121,
    "start_time": "2024-10-14T15:20:43.658Z"
   },
   {
    "duration": 206,
    "start_time": "2024-10-14T15:20:45.483Z"
   },
   {
    "duration": 251,
    "start_time": "2024-10-14T15:20:47.987Z"
   },
   {
    "duration": 295,
    "start_time": "2024-10-14T15:20:52.217Z"
   },
   {
    "duration": 102,
    "start_time": "2024-10-14T15:22:30.080Z"
   },
   {
    "duration": 33,
    "start_time": "2024-10-14T15:22:33.459Z"
   },
   {
    "duration": 56,
    "start_time": "2024-10-14T15:25:06.328Z"
   },
   {
    "duration": 53,
    "start_time": "2024-10-14T15:25:37.261Z"
   },
   {
    "duration": 1396,
    "start_time": "2024-10-14T15:26:16.246Z"
   },
   {
    "duration": 28,
    "start_time": "2024-10-14T15:26:43.669Z"
   },
   {
    "duration": 1225,
    "start_time": "2024-10-14T15:26:47.029Z"
   },
   {
    "duration": 1204,
    "start_time": "2024-10-14T15:27:44.123Z"
   },
   {
    "duration": 28,
    "start_time": "2024-10-14T15:35:02.991Z"
   },
   {
    "duration": 1147,
    "start_time": "2024-10-14T15:35:07.682Z"
   },
   {
    "duration": 1056,
    "start_time": "2024-10-14T15:36:09.184Z"
   },
   {
    "duration": 1049,
    "start_time": "2024-10-14T15:36:44.801Z"
   },
   {
    "duration": 23,
    "start_time": "2024-10-14T15:36:50.043Z"
   },
   {
    "duration": 1117,
    "start_time": "2024-10-14T15:36:52.667Z"
   },
   {
    "duration": 1820,
    "start_time": "2024-10-14T15:37:07.653Z"
   },
   {
    "duration": 24,
    "start_time": "2024-10-14T15:37:11.379Z"
   },
   {
    "duration": 1571,
    "start_time": "2024-10-14T15:37:13.859Z"
   },
   {
    "duration": 1194,
    "start_time": "2024-10-14T15:37:18.919Z"
   },
   {
    "duration": 1359,
    "start_time": "2024-10-14T15:37:23.047Z"
   },
   {
    "duration": 1180,
    "start_time": "2024-10-14T15:37:30.082Z"
   },
   {
    "duration": 577,
    "start_time": "2024-10-14T15:37:35.425Z"
   },
   {
    "duration": 568,
    "start_time": "2024-10-14T15:37:37.450Z"
   },
   {
    "duration": 4,
    "start_time": "2024-10-14T15:38:29.627Z"
   },
   {
    "duration": 3891,
    "start_time": "2024-10-14T15:39:46.524Z"
   },
   {
    "duration": 679,
    "start_time": "2024-10-14T15:39:55.859Z"
   },
   {
    "duration": 231,
    "start_time": "2024-10-14T15:41:56.361Z"
   },
   {
    "duration": 3,
    "start_time": "2024-10-14T15:42:41.393Z"
   },
   {
    "duration": 1574,
    "start_time": "2024-10-14T15:42:41.637Z"
   },
   {
    "duration": 3,
    "start_time": "2024-10-14T15:42:43.213Z"
   },
   {
    "duration": 12,
    "start_time": "2024-10-14T15:42:43.218Z"
   },
   {
    "duration": 28,
    "start_time": "2024-10-14T15:42:43.232Z"
   },
   {
    "duration": 28,
    "start_time": "2024-10-14T15:42:43.262Z"
   },
   {
    "duration": 1115,
    "start_time": "2024-10-14T15:42:44.076Z"
   },
   {
    "duration": 214,
    "start_time": "2024-10-14T15:42:46.749Z"
   },
   {
    "duration": 7,
    "start_time": "2024-10-14T15:42:48.440Z"
   },
   {
    "duration": 37,
    "start_time": "2024-10-14T15:42:48.683Z"
   },
   {
    "duration": 5,
    "start_time": "2024-10-14T15:42:49.478Z"
   },
   {
    "duration": 214,
    "start_time": "2024-10-14T15:42:49.809Z"
   },
   {
    "duration": 101,
    "start_time": "2024-10-14T15:42:50.142Z"
   },
   {
    "duration": 204,
    "start_time": "2024-10-14T15:42:50.485Z"
   },
   {
    "duration": 218,
    "start_time": "2024-10-14T15:42:50.830Z"
   },
   {
    "duration": 292,
    "start_time": "2024-10-14T15:42:53.267Z"
   },
   {
    "duration": 97,
    "start_time": "2024-10-14T15:42:59.014Z"
   },
   {
    "duration": 57,
    "start_time": "2024-10-14T15:42:59.865Z"
   },
   {
    "duration": 1351,
    "start_time": "2024-10-14T15:43:11.033Z"
   },
   {
    "duration": 26,
    "start_time": "2024-10-14T15:43:14.086Z"
   },
   {
    "duration": 1213,
    "start_time": "2024-10-14T15:43:15.628Z"
   },
   {
    "duration": 1153,
    "start_time": "2024-10-14T15:43:20.229Z"
   },
   {
    "duration": 33,
    "start_time": "2024-10-14T15:43:21.385Z"
   },
   {
    "duration": 1106,
    "start_time": "2024-10-14T15:43:21.420Z"
   },
   {
    "duration": 1177,
    "start_time": "2024-10-14T15:43:22.528Z"
   },
   {
    "duration": 1154,
    "start_time": "2024-10-14T15:43:23.706Z"
   },
   {
    "duration": 25,
    "start_time": "2024-10-14T15:43:24.862Z"
   },
   {
    "duration": 1124,
    "start_time": "2024-10-14T15:43:24.888Z"
   },
   {
    "duration": 1703,
    "start_time": "2024-10-14T15:43:26.013Z"
   },
   {
    "duration": 22,
    "start_time": "2024-10-14T15:43:27.718Z"
   },
   {
    "duration": 1578,
    "start_time": "2024-10-14T15:43:35.169Z"
   },
   {
    "duration": 1255,
    "start_time": "2024-10-14T15:43:36.749Z"
   },
   {
    "duration": 1343,
    "start_time": "2024-10-14T15:43:38.005Z"
   },
   {
    "duration": 1174,
    "start_time": "2024-10-14T15:43:39.349Z"
   },
   {
    "duration": 572,
    "start_time": "2024-10-14T15:43:40.524Z"
   },
   {
    "duration": 582,
    "start_time": "2024-10-14T15:43:41.097Z"
   },
   {
    "duration": 5,
    "start_time": "2024-10-14T15:43:41.680Z"
   },
   {
    "duration": 3844,
    "start_time": "2024-10-14T15:43:52.269Z"
   },
   {
    "duration": 772,
    "start_time": "2024-10-14T15:43:56.115Z"
   },
   {
    "duration": 238,
    "start_time": "2024-10-14T15:44:05.639Z"
   },
   {
    "duration": 55,
    "start_time": "2024-10-14T15:47:33.119Z"
   },
   {
    "duration": 3,
    "start_time": "2024-10-14T15:48:21.998Z"
   },
   {
    "duration": 5,
    "start_time": "2024-10-14T15:48:50.030Z"
   },
   {
    "duration": 7,
    "start_time": "2024-10-14T16:01:00.457Z"
   },
   {
    "duration": 29,
    "start_time": "2024-10-14T16:01:30.915Z"
   },
   {
    "duration": 2,
    "start_time": "2024-10-14T16:01:31.337Z"
   },
   {
    "duration": 7,
    "start_time": "2024-10-14T16:01:58.799Z"
   },
   {
    "duration": 37739,
    "start_time": "2024-10-14T16:02:09.326Z"
   },
   {
    "duration": 146591,
    "start_time": "2024-10-14T16:02:48.963Z"
   },
   {
    "duration": 37,
    "start_time": "2024-10-14T16:05:30.469Z"
   },
   {
    "duration": 2,
    "start_time": "2024-10-14T16:05:32.203Z"
   },
   {
    "duration": 1599171,
    "start_time": "2024-10-14T16:05:35.176Z"
   },
   {
    "duration": 70,
    "start_time": "2024-10-14T16:32:14.349Z"
   },
   {
    "duration": 4,
    "start_time": "2024-10-14T16:32:14.420Z"
   },
   {
    "duration": 886953,
    "start_time": "2024-10-14T16:32:14.426Z"
   },
   {
    "duration": 844,
    "start_time": "2024-10-14T16:48:25.235Z"
   },
   {
    "duration": 718,
    "start_time": "2024-10-14T16:49:46.055Z"
   },
   {
    "duration": 5,
    "start_time": "2024-10-14T17:00:25.978Z"
   },
   {
    "duration": 7,
    "start_time": "2024-10-14T17:01:47.023Z"
   },
   {
    "duration": 7,
    "start_time": "2024-10-14T17:02:17.295Z"
   },
   {
    "duration": 3,
    "start_time": "2024-10-14T17:04:52.761Z"
   },
   {
    "duration": 2150,
    "start_time": "2024-10-14T17:04:52.766Z"
   },
   {
    "duration": 3,
    "start_time": "2024-10-14T17:04:54.918Z"
   },
   {
    "duration": 34,
    "start_time": "2024-10-14T17:04:54.923Z"
   },
   {
    "duration": 33,
    "start_time": "2024-10-14T17:04:54.959Z"
   },
   {
    "duration": 11,
    "start_time": "2024-10-14T17:04:54.995Z"
   },
   {
    "duration": 2289,
    "start_time": "2024-10-14T17:04:55.008Z"
   },
   {
    "duration": 474,
    "start_time": "2024-10-14T17:04:57.299Z"
   },
   {
    "duration": 6,
    "start_time": "2024-10-14T17:04:57.775Z"
   },
   {
    "duration": 94,
    "start_time": "2024-10-14T17:04:57.783Z"
   },
   {
    "duration": 5,
    "start_time": "2024-10-14T17:04:57.880Z"
   },
   {
    "duration": 411,
    "start_time": "2024-10-14T17:04:57.886Z"
   },
   {
    "duration": 217,
    "start_time": "2024-10-14T17:04:58.299Z"
   },
   {
    "duration": 436,
    "start_time": "2024-10-14T17:04:58.518Z"
   },
   {
    "duration": 418,
    "start_time": "2024-10-14T17:04:58.956Z"
   },
   {
    "duration": 678,
    "start_time": "2024-10-14T17:04:59.376Z"
   },
   {
    "duration": 298,
    "start_time": "2024-10-14T17:05:00.056Z"
   },
   {
    "duration": 121,
    "start_time": "2024-10-14T17:05:00.356Z"
   },
   {
    "duration": 1693,
    "start_time": "2024-10-14T17:05:00.479Z"
   },
   {
    "duration": 26,
    "start_time": "2024-10-14T17:05:02.174Z"
   },
   {
    "duration": 1305,
    "start_time": "2024-10-14T17:05:02.202Z"
   },
   {
    "duration": 1295,
    "start_time": "2024-10-14T17:05:03.508Z"
   },
   {
    "duration": 24,
    "start_time": "2024-10-14T17:05:04.805Z"
   },
   {
    "duration": 1207,
    "start_time": "2024-10-14T17:05:04.831Z"
   },
   {
    "duration": 1248,
    "start_time": "2024-10-14T17:05:06.040Z"
   },
   {
    "duration": 1144,
    "start_time": "2024-10-14T17:05:07.290Z"
   },
   {
    "duration": 26,
    "start_time": "2024-10-14T17:05:08.435Z"
   },
   {
    "duration": 1134,
    "start_time": "2024-10-14T17:05:08.463Z"
   },
   {
    "duration": 1807,
    "start_time": "2024-10-14T17:05:09.601Z"
   },
   {
    "duration": 45,
    "start_time": "2024-10-14T17:05:11.410Z"
   },
   {
    "duration": 1710,
    "start_time": "2024-10-14T17:05:11.456Z"
   },
   {
    "duration": 1307,
    "start_time": "2024-10-14T17:05:13.168Z"
   },
   {
    "duration": 1443,
    "start_time": "2024-10-14T17:05:14.476Z"
   },
   {
    "duration": 1253,
    "start_time": "2024-10-14T17:05:15.921Z"
   },
   {
    "duration": 663,
    "start_time": "2024-10-14T17:05:17.176Z"
   },
   {
    "duration": 585,
    "start_time": "2024-10-14T17:05:17.840Z"
   },
   {
    "duration": 8338,
    "start_time": "2024-10-14T17:05:18.426Z"
   },
   {
    "duration": 1588,
    "start_time": "2024-10-14T17:05:26.766Z"
   },
   {
    "duration": 423,
    "start_time": "2024-10-14T17:05:28.356Z"
   },
   {
    "duration": 111,
    "start_time": "2024-10-14T17:05:28.781Z"
   },
   {
    "duration": 61,
    "start_time": "2024-10-14T17:05:28.894Z"
   },
   {
    "duration": 5,
    "start_time": "2024-10-14T17:05:28.958Z"
   },
   {
    "duration": 13,
    "start_time": "2024-10-14T17:05:28.965Z"
   },
   {
    "duration": 77,
    "start_time": "2024-10-14T17:05:28.979Z"
   },
   {
    "duration": 3,
    "start_time": "2024-10-14T17:05:29.057Z"
   },
   {
    "duration": 4,
    "start_time": "2024-10-14T17:14:03.705Z"
   },
   {
    "duration": 2955,
    "start_time": "2024-10-14T17:14:03.712Z"
   },
   {
    "duration": 3,
    "start_time": "2024-10-14T17:14:06.669Z"
   },
   {
    "duration": 15,
    "start_time": "2024-10-14T17:14:06.674Z"
   },
   {
    "duration": 62,
    "start_time": "2024-10-14T17:14:06.691Z"
   },
   {
    "duration": 49,
    "start_time": "2024-10-14T17:14:06.755Z"
   },
   {
    "duration": 2647,
    "start_time": "2024-10-14T17:14:06.806Z"
   },
   {
    "duration": 411,
    "start_time": "2024-10-14T17:14:09.455Z"
   },
   {
    "duration": 7,
    "start_time": "2024-10-14T17:14:09.867Z"
   },
   {
    "duration": 94,
    "start_time": "2024-10-14T17:14:09.876Z"
   },
   {
    "duration": 5,
    "start_time": "2024-10-14T17:14:09.971Z"
   },
   {
    "duration": 477,
    "start_time": "2024-10-14T17:14:09.977Z"
   },
   {
    "duration": 219,
    "start_time": "2024-10-14T17:14:10.456Z"
   },
   {
    "duration": 477,
    "start_time": "2024-10-14T17:14:10.677Z"
   },
   {
    "duration": 413,
    "start_time": "2024-10-14T17:14:11.156Z"
   },
   {
    "duration": 596,
    "start_time": "2024-10-14T17:14:11.571Z"
   },
   {
    "duration": 214,
    "start_time": "2024-10-14T17:14:12.168Z"
   },
   {
    "duration": 111,
    "start_time": "2024-10-14T17:14:12.384Z"
   },
   {
    "duration": 2757,
    "start_time": "2024-10-14T17:14:12.497Z"
   },
   {
    "duration": 27,
    "start_time": "2024-10-14T17:14:15.256Z"
   },
   {
    "duration": 2389,
    "start_time": "2024-10-14T17:14:15.284Z"
   },
   {
    "duration": 2314,
    "start_time": "2024-10-14T17:14:17.674Z"
   },
   {
    "duration": 76,
    "start_time": "2024-10-14T17:14:19.990Z"
   },
   {
    "duration": 2117,
    "start_time": "2024-10-14T17:14:20.068Z"
   },
   {
    "duration": 3186,
    "start_time": "2024-10-14T17:14:22.187Z"
   },
   {
    "duration": 2007,
    "start_time": "2024-10-14T17:14:25.375Z"
   },
   {
    "duration": 85,
    "start_time": "2024-10-14T17:14:27.384Z"
   },
   {
    "duration": 1983,
    "start_time": "2024-10-14T17:14:27.471Z"
   },
   {
    "duration": 3212,
    "start_time": "2024-10-14T17:14:29.456Z"
   },
   {
    "duration": 23,
    "start_time": "2024-10-14T17:14:32.670Z"
   },
   {
    "duration": 3104,
    "start_time": "2024-10-14T17:14:32.694Z"
   },
   {
    "duration": 2233,
    "start_time": "2024-10-14T17:14:35.854Z"
   },
   {
    "duration": 2685,
    "start_time": "2024-10-14T17:14:38.089Z"
   },
   {
    "duration": 2303,
    "start_time": "2024-10-14T17:14:40.775Z"
   },
   {
    "duration": 1292,
    "start_time": "2024-10-14T17:14:43.079Z"
   },
   {
    "duration": 1211,
    "start_time": "2024-10-14T17:14:44.373Z"
   },
   {
    "duration": 8774,
    "start_time": "2024-10-14T17:14:45.586Z"
   },
   {
    "duration": 1199,
    "start_time": "2024-10-14T17:14:54.361Z"
   },
   {
    "duration": 496,
    "start_time": "2024-10-14T17:14:55.562Z"
   },
   {
    "duration": 110,
    "start_time": "2024-10-14T17:14:56.060Z"
   },
   {
    "duration": 3,
    "start_time": "2024-10-14T17:14:56.174Z"
   },
   {
    "duration": 80,
    "start_time": "2024-10-14T17:14:56.179Z"
   },
   {
    "duration": 63,
    "start_time": "2024-10-14T17:14:56.261Z"
   },
   {
    "duration": 94,
    "start_time": "2024-10-14T17:14:56.325Z"
   },
   {
    "duration": 4,
    "start_time": "2024-10-14T17:14:56.453Z"
   },
   {
    "duration": 245898,
    "start_time": "2024-10-14T17:14:56.458Z"
   },
   {
    "duration": 125,
    "start_time": "2024-10-14T17:19:02.358Z"
   },
   {
    "duration": 68,
    "start_time": "2024-10-14T17:19:02.485Z"
   },
   {
    "duration": 4234905,
    "start_time": "2024-10-14T17:19:02.555Z"
   },
   {
    "duration": 295,
    "start_time": "2024-10-14T18:29:37.468Z"
   },
   {
    "duration": 92,
    "start_time": "2024-10-14T18:29:37.768Z"
   },
   {
    "duration": 76702,
    "start_time": "2024-10-14T18:29:37.865Z"
   },
   {
    "duration": 0,
    "start_time": "2024-10-14T18:30:54.570Z"
   },
   {
    "duration": 0,
    "start_time": "2024-10-14T18:30:54.573Z"
   },
   {
    "duration": 0,
    "start_time": "2024-10-14T18:30:54.575Z"
   },
   {
    "duration": 4,
    "start_time": "2024-10-14T18:38:20.283Z"
   },
   {
    "duration": 1889,
    "start_time": "2024-10-14T18:38:20.811Z"
   },
   {
    "duration": 45441,
    "start_time": "2024-10-14T18:38:30.900Z"
   },
   {
    "duration": 321,
    "start_time": "2024-10-14T18:39:16.343Z"
   },
   {
    "duration": 5,
    "start_time": "2024-10-14T18:39:47.222Z"
   },
   {
    "duration": 2002,
    "start_time": "2024-10-14T18:39:47.232Z"
   },
   {
    "duration": 21,
    "start_time": "2024-10-14T18:39:49.240Z"
   },
   {
    "duration": 48,
    "start_time": "2024-10-14T18:39:49.263Z"
   },
   {
    "duration": 26,
    "start_time": "2024-10-14T18:39:49.315Z"
   },
   {
    "duration": 7,
    "start_time": "2024-10-14T18:39:49.343Z"
   },
   {
    "duration": 1692,
    "start_time": "2024-10-14T18:39:49.353Z"
   },
   {
    "duration": 581,
    "start_time": "2024-10-14T18:39:51.046Z"
   },
   {
    "duration": 63,
    "start_time": "2024-10-14T18:39:51.641Z"
   },
   {
    "duration": 114,
    "start_time": "2024-10-14T18:39:51.707Z"
   },
   {
    "duration": 11,
    "start_time": "2024-10-14T18:39:51.836Z"
   },
   {
    "duration": 692,
    "start_time": "2024-10-14T18:39:51.849Z"
   },
   {
    "duration": 363,
    "start_time": "2024-10-14T18:39:52.543Z"
   },
   {
    "duration": 651,
    "start_time": "2024-10-14T18:39:52.917Z"
   },
   {
    "duration": 305,
    "start_time": "2024-10-14T18:39:53.570Z"
   },
   {
    "duration": 374,
    "start_time": "2024-10-14T18:39:53.877Z"
   },
   {
    "duration": 141,
    "start_time": "2024-10-14T18:39:54.253Z"
   },
   {
    "duration": 79,
    "start_time": "2024-10-14T18:39:54.396Z"
   },
   {
    "duration": 1713,
    "start_time": "2024-10-14T18:39:54.477Z"
   },
   {
    "duration": 45,
    "start_time": "2024-10-14T18:39:56.191Z"
   },
   {
    "duration": 1443,
    "start_time": "2024-10-14T18:39:56.238Z"
   },
   {
    "duration": 1633,
    "start_time": "2024-10-14T18:39:57.683Z"
   },
   {
    "duration": 31,
    "start_time": "2024-10-14T18:39:59.319Z"
   },
   {
    "duration": 1400,
    "start_time": "2024-10-14T18:39:59.352Z"
   },
   {
    "duration": 1342,
    "start_time": "2024-10-14T18:40:00.754Z"
   },
   {
    "duration": 1311,
    "start_time": "2024-10-14T18:40:02.103Z"
   },
   {
    "duration": 29,
    "start_time": "2024-10-14T18:40:03.424Z"
   },
   {
    "duration": 1289,
    "start_time": "2024-10-14T18:40:03.454Z"
   },
   {
    "duration": 1947,
    "start_time": "2024-10-14T18:40:04.745Z"
   },
   {
    "duration": 32,
    "start_time": "2024-10-14T18:40:06.694Z"
   },
   {
    "duration": 2108,
    "start_time": "2024-10-14T18:40:06.729Z"
   },
   {
    "duration": 1516,
    "start_time": "2024-10-14T18:40:08.839Z"
   },
   {
    "duration": 1694,
    "start_time": "2024-10-14T18:40:10.357Z"
   },
   {
    "duration": 1504,
    "start_time": "2024-10-14T18:40:12.054Z"
   },
   {
    "duration": 732,
    "start_time": "2024-10-14T18:40:13.560Z"
   },
   {
    "duration": 689,
    "start_time": "2024-10-14T18:40:14.302Z"
   },
   {
    "duration": 5193,
    "start_time": "2024-10-14T18:40:14.997Z"
   },
   {
    "duration": 940,
    "start_time": "2024-10-14T18:40:20.191Z"
   },
   {
    "duration": 296,
    "start_time": "2024-10-14T18:40:21.133Z"
   },
   {
    "duration": 58,
    "start_time": "2024-10-14T18:40:21.435Z"
   },
   {
    "duration": 10,
    "start_time": "2024-10-14T18:40:21.497Z"
   },
   {
    "duration": 17,
    "start_time": "2024-10-14T18:40:21.515Z"
   },
   {
    "duration": 12,
    "start_time": "2024-10-14T18:40:21.538Z"
   },
   {
    "duration": 27,
    "start_time": "2024-10-14T18:40:21.553Z"
   },
   {
    "duration": 89,
    "start_time": "2024-10-14T18:40:21.583Z"
   },
   {
    "duration": 286036,
    "start_time": "2024-10-14T18:40:21.675Z"
   },
   {
    "duration": 126,
    "start_time": "2024-10-14T18:45:07.720Z"
   },
   {
    "duration": 4,
    "start_time": "2024-10-14T18:45:07.848Z"
   },
   {
    "duration": 1842548,
    "start_time": "2024-10-14T18:45:07.854Z"
   },
   {
    "duration": 40,
    "start_time": "2024-10-14T19:15:50.404Z"
   },
   {
    "duration": 25,
    "start_time": "2024-10-14T19:15:50.446Z"
   },
   {
    "duration": 3312160,
    "start_time": "2024-10-14T19:15:50.473Z"
   },
   {
    "duration": 956,
    "start_time": "2024-10-14T20:11:02.635Z"
   },
   {
    "duration": 840,
    "start_time": "2024-10-14T20:11:03.593Z"
   },
   {
    "duration": 13,
    "start_time": "2024-10-14T20:11:04.497Z"
   },
   {
    "duration": 3,
    "start_time": "2024-10-14T20:13:14.989Z"
   },
   {
    "duration": 1649,
    "start_time": "2024-10-14T20:13:14.994Z"
   },
   {
    "duration": 4,
    "start_time": "2024-10-14T20:13:16.646Z"
   },
   {
    "duration": 9,
    "start_time": "2024-10-14T20:13:16.652Z"
   },
   {
    "duration": 7,
    "start_time": "2024-10-14T20:13:16.663Z"
   },
   {
    "duration": 32,
    "start_time": "2024-10-14T20:13:16.672Z"
   },
   {
    "duration": 1221,
    "start_time": "2024-10-14T20:13:16.706Z"
   },
   {
    "duration": 242,
    "start_time": "2024-10-14T20:13:17.928Z"
   },
   {
    "duration": 7,
    "start_time": "2024-10-14T20:13:18.171Z"
   },
   {
    "duration": 69,
    "start_time": "2024-10-14T20:13:18.180Z"
   },
   {
    "duration": 6,
    "start_time": "2024-10-14T20:13:18.251Z"
   },
   {
    "duration": 281,
    "start_time": "2024-10-14T20:13:18.258Z"
   },
   {
    "duration": 128,
    "start_time": "2024-10-14T20:13:18.541Z"
   },
   {
    "duration": 241,
    "start_time": "2024-10-14T20:13:18.671Z"
   },
   {
    "duration": 224,
    "start_time": "2024-10-14T20:13:18.914Z"
   },
   {
    "duration": 322,
    "start_time": "2024-10-14T20:13:19.140Z"
   },
   {
    "duration": 119,
    "start_time": "2024-10-14T20:13:19.464Z"
   },
   {
    "duration": 73,
    "start_time": "2024-10-14T20:13:19.585Z"
   },
   {
    "duration": 1562,
    "start_time": "2024-10-14T20:13:19.659Z"
   },
   {
    "duration": 28,
    "start_time": "2024-10-14T20:13:21.222Z"
   },
   {
    "duration": 1391,
    "start_time": "2024-10-14T20:13:21.252Z"
   },
   {
    "duration": 1280,
    "start_time": "2024-10-14T20:13:22.645Z"
   },
   {
    "duration": 24,
    "start_time": "2024-10-14T20:13:23.926Z"
   },
   {
    "duration": 1223,
    "start_time": "2024-10-14T20:13:23.952Z"
   },
   {
    "duration": 1188,
    "start_time": "2024-10-14T20:13:25.177Z"
   },
   {
    "duration": 1549,
    "start_time": "2024-10-14T20:13:26.367Z"
   },
   {
    "duration": 25,
    "start_time": "2024-10-14T20:13:27.918Z"
   },
   {
    "duration": 1842,
    "start_time": "2024-10-14T20:13:27.944Z"
   },
   {
    "duration": 1719,
    "start_time": "2024-10-14T20:13:29.790Z"
   },
   {
    "duration": 24,
    "start_time": "2024-10-14T20:13:31.511Z"
   },
   {
    "duration": 1783,
    "start_time": "2024-10-14T20:13:31.537Z"
   },
   {
    "duration": 1267,
    "start_time": "2024-10-14T20:13:33.322Z"
   },
   {
    "duration": 1458,
    "start_time": "2024-10-14T20:13:34.591Z"
   },
   {
    "duration": 1281,
    "start_time": "2024-10-14T20:13:36.050Z"
   },
   {
    "duration": 632,
    "start_time": "2024-10-14T20:13:37.333Z"
   },
   {
    "duration": 938,
    "start_time": "2024-10-14T20:13:37.966Z"
   },
   {
    "duration": 4856,
    "start_time": "2024-10-14T20:13:38.906Z"
   },
   {
    "duration": 783,
    "start_time": "2024-10-14T20:13:43.763Z"
   },
   {
    "duration": 235,
    "start_time": "2024-10-14T20:13:44.548Z"
   },
   {
    "duration": 65,
    "start_time": "2024-10-14T20:13:44.784Z"
   },
   {
    "duration": 2,
    "start_time": "2024-10-14T20:13:44.851Z"
   },
   {
    "duration": 28,
    "start_time": "2024-10-14T20:13:44.855Z"
   },
   {
    "duration": 38,
    "start_time": "2024-10-14T20:13:44.885Z"
   },
   {
    "duration": 46,
    "start_time": "2024-10-14T20:13:44.924Z"
   },
   {
    "duration": 7,
    "start_time": "2024-10-14T20:13:44.971Z"
   },
   {
    "duration": 159618,
    "start_time": "2024-10-14T20:13:44.980Z"
   },
   {
    "duration": 41,
    "start_time": "2024-10-14T20:16:24.599Z"
   },
   {
    "duration": 5,
    "start_time": "2024-10-14T20:16:24.641Z"
   },
   {
    "duration": 1725803,
    "start_time": "2024-10-14T20:16:24.648Z"
   },
   {
    "duration": 48,
    "start_time": "2024-10-14T20:45:10.453Z"
   },
   {
    "duration": 3,
    "start_time": "2024-10-14T20:45:10.503Z"
   },
   {
    "duration": 2768379,
    "start_time": "2024-10-14T20:45:10.508Z"
   },
   {
    "duration": 0,
    "start_time": "2024-10-14T21:31:18.889Z"
   },
   {
    "duration": 0,
    "start_time": "2024-10-14T21:31:18.898Z"
   },
   {
    "duration": 0,
    "start_time": "2024-10-14T21:31:18.899Z"
   },
   {
    "duration": 3,
    "start_time": "2024-10-15T06:06:25.893Z"
   },
   {
    "duration": 1356,
    "start_time": "2024-10-15T06:06:25.897Z"
   },
   {
    "duration": 0,
    "start_time": "2024-10-15T06:06:27.256Z"
   },
   {
    "duration": 0,
    "start_time": "2024-10-15T06:06:27.257Z"
   },
   {
    "duration": 0,
    "start_time": "2024-10-15T06:06:27.258Z"
   },
   {
    "duration": 0,
    "start_time": "2024-10-15T06:06:27.258Z"
   },
   {
    "duration": 0,
    "start_time": "2024-10-15T06:06:27.259Z"
   },
   {
    "duration": 0,
    "start_time": "2024-10-15T06:06:27.260Z"
   },
   {
    "duration": 0,
    "start_time": "2024-10-15T06:06:27.261Z"
   },
   {
    "duration": 0,
    "start_time": "2024-10-15T06:06:27.262Z"
   },
   {
    "duration": 0,
    "start_time": "2024-10-15T06:06:27.263Z"
   },
   {
    "duration": 0,
    "start_time": "2024-10-15T06:06:27.264Z"
   },
   {
    "duration": 0,
    "start_time": "2024-10-15T06:06:27.265Z"
   },
   {
    "duration": 0,
    "start_time": "2024-10-15T06:06:27.266Z"
   },
   {
    "duration": 0,
    "start_time": "2024-10-15T06:06:27.267Z"
   },
   {
    "duration": 0,
    "start_time": "2024-10-15T06:06:27.267Z"
   },
   {
    "duration": 0,
    "start_time": "2024-10-15T06:06:27.268Z"
   },
   {
    "duration": 0,
    "start_time": "2024-10-15T06:06:27.269Z"
   },
   {
    "duration": 0,
    "start_time": "2024-10-15T06:06:27.270Z"
   },
   {
    "duration": 0,
    "start_time": "2024-10-15T06:06:27.271Z"
   },
   {
    "duration": 0,
    "start_time": "2024-10-15T06:06:27.272Z"
   },
   {
    "duration": 0,
    "start_time": "2024-10-15T06:06:27.273Z"
   },
   {
    "duration": 0,
    "start_time": "2024-10-15T06:06:27.274Z"
   },
   {
    "duration": 0,
    "start_time": "2024-10-15T06:06:27.275Z"
   },
   {
    "duration": 0,
    "start_time": "2024-10-15T06:06:27.276Z"
   },
   {
    "duration": 0,
    "start_time": "2024-10-15T06:06:27.277Z"
   },
   {
    "duration": 0,
    "start_time": "2024-10-15T06:06:27.277Z"
   },
   {
    "duration": 0,
    "start_time": "2024-10-15T06:06:27.278Z"
   },
   {
    "duration": 0,
    "start_time": "2024-10-15T06:06:27.279Z"
   },
   {
    "duration": 0,
    "start_time": "2024-10-15T06:06:27.280Z"
   },
   {
    "duration": 0,
    "start_time": "2024-10-15T06:06:27.281Z"
   },
   {
    "duration": 0,
    "start_time": "2024-10-15T06:06:27.282Z"
   },
   {
    "duration": 0,
    "start_time": "2024-10-15T06:06:27.283Z"
   },
   {
    "duration": 0,
    "start_time": "2024-10-15T06:06:27.284Z"
   },
   {
    "duration": 0,
    "start_time": "2024-10-15T06:06:27.285Z"
   },
   {
    "duration": 0,
    "start_time": "2024-10-15T06:06:27.285Z"
   },
   {
    "duration": 0,
    "start_time": "2024-10-15T06:06:27.286Z"
   },
   {
    "duration": 0,
    "start_time": "2024-10-15T06:06:27.287Z"
   },
   {
    "duration": 0,
    "start_time": "2024-10-15T06:06:27.288Z"
   },
   {
    "duration": 0,
    "start_time": "2024-10-15T06:06:27.289Z"
   },
   {
    "duration": 0,
    "start_time": "2024-10-15T06:06:27.290Z"
   },
   {
    "duration": 0,
    "start_time": "2024-10-15T06:06:27.352Z"
   },
   {
    "duration": 0,
    "start_time": "2024-10-15T06:06:27.353Z"
   },
   {
    "duration": 0,
    "start_time": "2024-10-15T06:06:27.354Z"
   },
   {
    "duration": 0,
    "start_time": "2024-10-15T06:06:27.355Z"
   },
   {
    "duration": 0,
    "start_time": "2024-10-15T06:06:27.356Z"
   },
   {
    "duration": 0,
    "start_time": "2024-10-15T06:06:27.357Z"
   },
   {
    "duration": 0,
    "start_time": "2024-10-15T06:06:27.358Z"
   },
   {
    "duration": 0,
    "start_time": "2024-10-15T06:06:27.359Z"
   },
   {
    "duration": 0,
    "start_time": "2024-10-15T06:06:27.360Z"
   },
   {
    "duration": 0,
    "start_time": "2024-10-15T06:06:27.361Z"
   },
   {
    "duration": 0,
    "start_time": "2024-10-15T06:06:27.362Z"
   },
   {
    "duration": 0,
    "start_time": "2024-10-15T06:06:27.362Z"
   },
   {
    "duration": 0,
    "start_time": "2024-10-15T06:06:27.364Z"
   },
   {
    "duration": 0,
    "start_time": "2024-10-15T06:06:27.364Z"
   },
   {
    "duration": 42441,
    "start_time": "2024-10-15T06:06:41.100Z"
   },
   {
    "duration": 1709,
    "start_time": "2024-10-15T06:07:23.544Z"
   },
   {
    "duration": 3,
    "start_time": "2024-10-15T06:07:25.255Z"
   },
   {
    "duration": 17,
    "start_time": "2024-10-15T06:07:25.260Z"
   },
   {
    "duration": 8,
    "start_time": "2024-10-15T06:07:25.279Z"
   },
   {
    "duration": 16,
    "start_time": "2024-10-15T06:07:25.289Z"
   },
   {
    "duration": 1453,
    "start_time": "2024-10-15T06:07:25.307Z"
   },
   {
    "duration": 256,
    "start_time": "2024-10-15T06:07:26.762Z"
   },
   {
    "duration": 7,
    "start_time": "2024-10-15T06:07:27.020Z"
   },
   {
    "duration": 48,
    "start_time": "2024-10-15T06:07:27.030Z"
   },
   {
    "duration": 28,
    "start_time": "2024-10-15T06:07:27.080Z"
   },
   {
    "duration": 219,
    "start_time": "2024-10-15T06:07:27.110Z"
   },
   {
    "duration": 108,
    "start_time": "2024-10-15T06:07:27.331Z"
   },
   {
    "duration": 215,
    "start_time": "2024-10-15T06:07:27.441Z"
   },
   {
    "duration": 225,
    "start_time": "2024-10-15T06:07:27.658Z"
   },
   {
    "duration": 291,
    "start_time": "2024-10-15T06:07:27.885Z"
   },
   {
    "duration": 118,
    "start_time": "2024-10-15T06:07:28.178Z"
   },
   {
    "duration": 75,
    "start_time": "2024-10-15T06:07:28.297Z"
   },
   {
    "duration": 1450,
    "start_time": "2024-10-15T06:07:28.374Z"
   },
   {
    "duration": 36,
    "start_time": "2024-10-15T06:07:29.826Z"
   },
   {
    "duration": 1254,
    "start_time": "2024-10-15T06:07:29.864Z"
   },
   {
    "duration": 1214,
    "start_time": "2024-10-15T06:07:31.120Z"
   },
   {
    "duration": 39,
    "start_time": "2024-10-15T06:07:32.336Z"
   },
   {
    "duration": 1175,
    "start_time": "2024-10-15T06:07:32.377Z"
   },
   {
    "duration": 1230,
    "start_time": "2024-10-15T06:07:33.554Z"
   },
   {
    "duration": 1128,
    "start_time": "2024-10-15T06:07:34.786Z"
   },
   {
    "duration": 25,
    "start_time": "2024-10-15T06:07:35.915Z"
   },
   {
    "duration": 1177,
    "start_time": "2024-10-15T06:07:35.955Z"
   },
   {
    "duration": 1628,
    "start_time": "2024-10-15T06:07:37.134Z"
   },
   {
    "duration": 23,
    "start_time": "2024-10-15T06:07:38.764Z"
   },
   {
    "duration": 1681,
    "start_time": "2024-10-15T06:07:38.788Z"
   },
   {
    "duration": 1272,
    "start_time": "2024-10-15T06:07:40.470Z"
   },
   {
    "duration": 1369,
    "start_time": "2024-10-15T06:07:41.751Z"
   },
   {
    "duration": 1279,
    "start_time": "2024-10-15T06:07:43.122Z"
   },
   {
    "duration": 620,
    "start_time": "2024-10-15T06:07:44.403Z"
   },
   {
    "duration": 616,
    "start_time": "2024-10-15T06:07:45.025Z"
   },
   {
    "duration": 4105,
    "start_time": "2024-10-15T06:07:45.643Z"
   },
   {
    "duration": 721,
    "start_time": "2024-10-15T06:07:49.751Z"
   },
   {
    "duration": 334,
    "start_time": "2024-10-15T06:07:50.474Z"
   },
   {
    "duration": 59,
    "start_time": "2024-10-15T06:07:50.810Z"
   },
   {
    "duration": 3,
    "start_time": "2024-10-15T06:07:50.871Z"
   },
   {
    "duration": 15,
    "start_time": "2024-10-15T06:07:50.875Z"
   },
   {
    "duration": 11,
    "start_time": "2024-10-15T06:07:50.891Z"
   },
   {
    "duration": 23,
    "start_time": "2024-10-15T06:07:50.904Z"
   },
   {
    "duration": 3,
    "start_time": "2024-10-15T06:07:50.928Z"
   },
   {
    "duration": 149021,
    "start_time": "2024-10-15T06:07:50.932Z"
   },
   {
    "duration": 132,
    "start_time": "2024-10-15T06:10:19.955Z"
   },
   {
    "duration": 20,
    "start_time": "2024-10-15T06:10:20.089Z"
   },
   {
    "duration": 1655918,
    "start_time": "2024-10-15T06:10:20.110Z"
   },
   {
    "duration": 46,
    "start_time": "2024-10-15T06:37:56.029Z"
   },
   {
    "duration": 3,
    "start_time": "2024-10-15T06:37:56.077Z"
   },
   {
    "duration": 231487,
    "start_time": "2024-10-15T06:37:56.082Z"
   },
   {
    "duration": 920,
    "start_time": "2024-10-15T06:41:47.571Z"
   },
   {
    "duration": 863,
    "start_time": "2024-10-15T06:41:48.493Z"
   },
   {
    "duration": 6,
    "start_time": "2024-10-15T06:41:49.358Z"
   }
  ],
  "kernelspec": {
   "display_name": "Python 3 (ipykernel)",
   "language": "python",
   "name": "python3"
  },
  "language_info": {
   "codemirror_mode": {
    "name": "ipython",
    "version": 3
   },
   "file_extension": ".py",
   "mimetype": "text/x-python",
   "name": "python",
   "nbconvert_exporter": "python",
   "pygments_lexer": "ipython3",
   "version": "3.11.7"
  },
  "toc": {
   "base_numbering": 1,
   "nav_menu": {},
   "number_sections": true,
   "sideBar": true,
   "skip_h1_title": true,
   "title_cell": "Table of Contents",
   "title_sidebar": "Contents",
   "toc_cell": false,
   "toc_position": {
    "height": "calc(100% - 180px)",
    "left": "10px",
    "top": "150px",
    "width": "384px"
   },
   "toc_section_display": true,
   "toc_window_display": true
  }
 },
 "nbformat": 4,
 "nbformat_minor": 4
}
