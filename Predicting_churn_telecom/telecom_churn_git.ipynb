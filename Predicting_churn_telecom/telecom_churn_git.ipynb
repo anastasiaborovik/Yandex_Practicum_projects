{
 "cells": [
  {
   "cell_type": "markdown",
   "id": "86864ffd-3ec3-436e-b35f-114360c1097f",
   "metadata": {},
   "source": [
    "## Содержание:\n",
    "* [Загрузка и импорт библиотек](#импорт)\n",
    "* [Загрузка и обзор данных](#загрузка)\n",
    "* [Предобработка данных](#предобработка)\n",
    "* * [Переименование столбцов](#столбцы)\n",
    "  * [Изменение типов данных](#типы_данных)\n",
    "  * [Обработка дубликатов](#дубликаты)\n",
    "  * [Удаление неинформативных признаков](#удаление_признаков)\n",
    "* [Объединение данных](#объединение)\n",
    "* [Исследовательский анализ данных](#eda)\n",
    "* * [Целевой признак](#целевой)\n",
    "  * [Количественные признаки](#количественные)\n",
    "  * [Категориальные признаки](#категориальные)\n",
    "* [Корреляционный анализ](#корреляция)\n",
    "* [Подготовка данных к обучению](#подготовка)\n",
    "* * [Создание признаков](#создание_признаков)\n",
    "  * [Разделение на выборки](#разделение)\n",
    "* [Обучение моделей](#обучение)\n",
    "* * [LogisticRegression](#logreg)\n",
    "  * [KNeighborsClassifier](#knn)\n",
    "  * [RandomForestClassifier](#rf)\n",
    "  * [LGBMClassifier](#lgbm)\n",
    "  * [CatBoostClassifier](#catboost)\n",
    "* [Анализ результатов](#анализ)\n",
    "* * [Выбор лучшей модели](#выбор)\n",
    "  * [Проверка адекватности модели](#адекватность)\n",
    "  * [Важность признаков](#важность)\n",
    "  * [Доработка лучшей модели](#доработка)\n",
    "* [Общий вывод](#вывод)"
   ]
  },
  {
   "cell_type": "markdown",
   "id": "4498967f-3713-49ff-88f0-207010452810",
   "metadata": {},
   "source": [
    "# Прогнозирование оттока клиентов оператора связи"
   ]
  },
  {
   "cell_type": "markdown",
   "id": "be071d29-f472-4949-8659-ff69eef51abe",
   "metadata": {},
   "source": [
    "Оператор связи запускает инициативу по снижению оттока клиентов. Чтобы удерживать пользователей, планирующих разорвать договор, компания предлагает им специальные условия и промокоды. Для реализации этой стратегии оператору необходим инструмент, который позволит заранее выявлять таких клиентов.\n",
    "\n",
    "**Цель исследования:** Построить модель машинного обучения для предсказания вероятности расторжения договора клиентом.\n",
    "\n",
    "Таким образом, исследование пройдёт в **семь этапов**:\n",
    "1) Обзор данных\n",
    "2) Предобработка данных\n",
    "3) Исследовательный анализ данных\n",
    "4) Корреляционный анализ данных\n",
    "5) Подготовка данных к обучению\n",
    "6) Обучение моделей\n",
    "7) Анализ результатов\n",
    "\n",
    " **Условия проекта**:\n",
    "- Значение метрики ROC-AUC не менее 0.85 на тестовой выборке. "
   ]
  },
  {
   "cell_type": "markdown",
   "id": "0a6ca9b6-29c0-436a-a653-555bef436f35",
   "metadata": {},
   "source": [
    "## Загрузка и импорт библиотек <a class=\"anchor\" id=\"импорт\"></a>"
   ]
  },
  {
   "cell_type": "code",
   "execution_count": 1,
   "id": "8ddd0002-287f-476d-8fbd-6e817a8d2c2b",
   "metadata": {},
   "outputs": [
    {
     "name": "stdout",
     "output_type": "stream",
     "text": [
      "Requirement already satisfied: lightgbm in /opt/conda/lib/python3.9/site-packages (3.3.1)\n",
      "Requirement already satisfied: scipy in /opt/conda/lib/python3.9/site-packages (from lightgbm) (1.9.1)\n",
      "Requirement already satisfied: scikit-learn!=0.22.0 in /opt/conda/lib/python3.9/site-packages (from lightgbm) (0.24.1)\n",
      "Requirement already satisfied: numpy in /opt/conda/lib/python3.9/site-packages (from lightgbm) (1.21.1)\n",
      "Requirement already satisfied: wheel in /opt/conda/lib/python3.9/site-packages (from lightgbm) (0.36.2)\n",
      "Requirement already satisfied: joblib>=0.11 in /opt/conda/lib/python3.9/site-packages (from scikit-learn!=0.22.0->lightgbm) (1.1.0)\n",
      "Requirement already satisfied: threadpoolctl>=2.0.0 in /opt/conda/lib/python3.9/site-packages (from scikit-learn!=0.22.0->lightgbm) (3.1.0)\n",
      "Collecting shap\n",
      "  Downloading shap-0.46.0-cp39-cp39-manylinux_2_12_x86_64.manylinux2010_x86_64.manylinux_2_17_x86_64.manylinux2014_x86_64.whl (539 kB)\n",
      "\u001b[K     |████████████████████████████████| 539 kB 2.3 MB/s eta 0:00:01\n",
      "\u001b[?25hCollecting phik\n",
      "  Downloading phik-0.12.4-cp39-cp39-manylinux_2_17_x86_64.manylinux2014_x86_64.whl (686 kB)\n",
      "\u001b[K     |████████████████████████████████| 686 kB 87.7 MB/s eta 0:00:01\n",
      "\u001b[?25hRequirement already satisfied: numpy in /opt/conda/lib/python3.9/site-packages (from shap) (1.21.1)\n",
      "Requirement already satisfied: scikit-learn in /opt/conda/lib/python3.9/site-packages (from shap) (0.24.1)\n",
      "Requirement already satisfied: pandas in /opt/conda/lib/python3.9/site-packages (from shap) (1.2.4)\n",
      "Requirement already satisfied: tqdm>=4.27.0 in /opt/conda/lib/python3.9/site-packages (from shap) (4.61.2)\n",
      "Collecting cloudpickle\n",
      "  Downloading cloudpickle-3.1.0-py3-none-any.whl (22 kB)\n",
      "Requirement already satisfied: numba in /opt/conda/lib/python3.9/site-packages (from shap) (0.56.0)\n",
      "Requirement already satisfied: scipy in /opt/conda/lib/python3.9/site-packages (from shap) (1.9.1)\n",
      "Requirement already satisfied: packaging>20.9 in /opt/conda/lib/python3.9/site-packages (from shap) (21.3)\n",
      "Collecting slicer==0.0.8\n",
      "  Downloading slicer-0.0.8-py3-none-any.whl (15 kB)\n",
      "Requirement already satisfied: pyparsing!=3.0.5,>=2.0.2 in /opt/conda/lib/python3.9/site-packages (from packaging>20.9->shap) (2.4.7)\n",
      "Requirement already satisfied: matplotlib>=2.2.3 in /opt/conda/lib/python3.9/site-packages (from phik) (3.3.4)\n",
      "Requirement already satisfied: joblib>=0.14.1 in /opt/conda/lib/python3.9/site-packages (from phik) (1.1.0)\n",
      "Requirement already satisfied: cycler>=0.10 in /opt/conda/lib/python3.9/site-packages (from matplotlib>=2.2.3->phik) (0.11.0)\n",
      "Requirement already satisfied: kiwisolver>=1.0.1 in /opt/conda/lib/python3.9/site-packages (from matplotlib>=2.2.3->phik) (1.4.4)\n",
      "Requirement already satisfied: pillow>=6.2.0 in /opt/conda/lib/python3.9/site-packages (from matplotlib>=2.2.3->phik) (8.4.0)\n",
      "Requirement already satisfied: python-dateutil>=2.1 in /opt/conda/lib/python3.9/site-packages (from matplotlib>=2.2.3->phik) (2.8.1)\n",
      "Requirement already satisfied: pytz>=2017.3 in /opt/conda/lib/python3.9/site-packages (from pandas->shap) (2021.1)\n",
      "Requirement already satisfied: six>=1.5 in /opt/conda/lib/python3.9/site-packages (from python-dateutil>=2.1->matplotlib>=2.2.3->phik) (1.16.0)\n",
      "Requirement already satisfied: llvmlite<0.40,>=0.39.0dev0 in /opt/conda/lib/python3.9/site-packages (from numba->shap) (0.39.0)\n",
      "Requirement already satisfied: setuptools in /opt/conda/lib/python3.9/site-packages (from numba->shap) (49.6.0.post20210108)\n",
      "Requirement already satisfied: threadpoolctl>=2.0.0 in /opt/conda/lib/python3.9/site-packages (from scikit-learn->shap) (3.1.0)\n",
      "Installing collected packages: slicer, cloudpickle, shap, phik\n",
      "Successfully installed cloudpickle-3.1.0 phik-0.12.4 shap-0.46.0 slicer-0.0.8\n",
      "Requirement already satisfied: scikit-learn in /opt/conda/lib/python3.9/site-packages (0.24.1)\n",
      "Collecting scikit-learn\n",
      "  Downloading scikit_learn-1.6.0-cp39-cp39-manylinux_2_17_x86_64.manylinux2014_x86_64.whl (13.5 MB)\n",
      "\u001b[K     |████████████████████████████████| 13.5 MB 2.4 MB/s eta 0:00:01\n",
      "\u001b[?25hCollecting joblib>=1.2.0\n",
      "  Downloading joblib-1.4.2-py3-none-any.whl (301 kB)\n",
      "\u001b[K     |████████████████████████████████| 301 kB 117.5 MB/s eta 0:00:01\n",
      "\u001b[?25hRequirement already satisfied: threadpoolctl>=3.1.0 in /opt/conda/lib/python3.9/site-packages (from scikit-learn) (3.1.0)\n",
      "Requirement already satisfied: scipy>=1.6.0 in /opt/conda/lib/python3.9/site-packages (from scikit-learn) (1.9.1)\n",
      "Requirement already satisfied: numpy>=1.19.5 in /opt/conda/lib/python3.9/site-packages (from scikit-learn) (1.21.1)\n",
      "Installing collected packages: joblib, scikit-learn\n",
      "  Attempting uninstall: joblib\n",
      "    Found existing installation: joblib 1.1.0\n",
      "    Uninstalling joblib-1.1.0:\n",
      "      Successfully uninstalled joblib-1.1.0\n",
      "  Attempting uninstall: scikit-learn\n",
      "    Found existing installation: scikit-learn 0.24.1\n",
      "    Uninstalling scikit-learn-0.24.1:\n",
      "      Successfully uninstalled scikit-learn-0.24.1\n",
      "Successfully installed joblib-1.4.2 scikit-learn-1.6.0\n",
      "Collecting matplotlib==3.8.0\n",
      "  Downloading matplotlib-3.8.0-cp39-cp39-manylinux_2_17_x86_64.manylinux2014_x86_64.whl (11.6 MB)\n",
      "\u001b[K     |████████████████████████████████| 11.6 MB 1.1 MB/s eta 0:00:01\n",
      "\u001b[?25hCollecting fonttools>=4.22.0\n",
      "  Downloading fonttools-4.55.3-cp39-cp39-manylinux_2_17_x86_64.manylinux2014_x86_64.whl (4.6 MB)\n",
      "\u001b[K     |████████████████████████████████| 4.6 MB 69.9 MB/s eta 0:00:01\n",
      "\u001b[?25hRequirement already satisfied: kiwisolver>=1.0.1 in /opt/conda/lib/python3.9/site-packages (from matplotlib==3.8.0) (1.4.4)\n",
      "Requirement already satisfied: packaging>=20.0 in /opt/conda/lib/python3.9/site-packages (from matplotlib==3.8.0) (21.3)\n",
      "Requirement already satisfied: python-dateutil>=2.7 in /opt/conda/lib/python3.9/site-packages (from matplotlib==3.8.0) (2.8.1)\n",
      "Collecting contourpy>=1.0.1\n",
      "  Downloading contourpy-1.3.0-cp39-cp39-manylinux_2_17_x86_64.manylinux2014_x86_64.whl (321 kB)\n",
      "\u001b[K     |████████████████████████████████| 321 kB 96.7 MB/s eta 0:00:01\n",
      "\u001b[?25hRequirement already satisfied: pillow>=6.2.0 in /opt/conda/lib/python3.9/site-packages (from matplotlib==3.8.0) (8.4.0)\n",
      "Requirement already satisfied: pyparsing>=2.3.1 in /opt/conda/lib/python3.9/site-packages (from matplotlib==3.8.0) (2.4.7)\n",
      "Collecting importlib-resources>=3.2.0\n",
      "  Downloading importlib_resources-6.4.5-py3-none-any.whl (36 kB)\n",
      "Requirement already satisfied: numpy<2,>=1.21 in /opt/conda/lib/python3.9/site-packages (from matplotlib==3.8.0) (1.21.1)\n",
      "Requirement already satisfied: cycler>=0.10 in /opt/conda/lib/python3.9/site-packages (from matplotlib==3.8.0) (0.11.0)\n",
      "Collecting numpy<2,>=1.21\n",
      "  Downloading numpy-1.26.4-cp39-cp39-manylinux_2_17_x86_64.manylinux2014_x86_64.whl (18.2 MB)\n",
      "\u001b[K     |████████████████████████████████| 18.2 MB 100.5 MB/s eta 0:00:01\n",
      "\u001b[?25hRequirement already satisfied: zipp>=3.1.0 in /opt/conda/lib/python3.9/site-packages (from importlib-resources>=3.2.0->matplotlib==3.8.0) (3.5.0)\n",
      "Requirement already satisfied: six>=1.5 in /opt/conda/lib/python3.9/site-packages (from python-dateutil>=2.7->matplotlib==3.8.0) (1.16.0)\n",
      "Installing collected packages: numpy, importlib-resources, fonttools, contourpy, matplotlib\n",
      "  Attempting uninstall: numpy\n",
      "    Found existing installation: numpy 1.21.1\n",
      "    Uninstalling numpy-1.21.1:\n",
      "      Successfully uninstalled numpy-1.21.1\n",
      "  Attempting uninstall: matplotlib\n",
      "    Found existing installation: matplotlib 3.3.4\n",
      "    Uninstalling matplotlib-3.3.4:\n",
      "      Successfully uninstalled matplotlib-3.3.4\n",
      "\u001b[31mERROR: pip's dependency resolver does not currently take into account all the packages that are installed. This behaviour is the source of the following dependency conflicts.\n",
      "scipy 1.9.1 requires numpy<1.25.0,>=1.18.5, but you have numpy 1.26.4 which is incompatible.\n",
      "numba 0.56.0 requires numpy<1.23,>=1.18, but you have numpy 1.26.4 which is incompatible.\u001b[0m\n",
      "Successfully installed contourpy-1.3.0 fonttools-4.55.3 importlib-resources-6.4.5 matplotlib-3.8.0 numpy-1.26.4\n",
      "Requirement already satisfied: seaborn in /opt/conda/lib/python3.9/site-packages (0.11.1)\n",
      "Collecting seaborn\n",
      "  Downloading seaborn-0.13.2-py3-none-any.whl (294 kB)\n",
      "\u001b[K     |████████████████████████████████| 294 kB 1.1 MB/s eta 0:00:01\n",
      "\u001b[?25hRequirement already satisfied: matplotlib!=3.6.1,>=3.4 in /opt/conda/lib/python3.9/site-packages (from seaborn) (3.8.0)\n",
      "Requirement already satisfied: pandas>=1.2 in /opt/conda/lib/python3.9/site-packages (from seaborn) (1.2.4)\n",
      "Requirement already satisfied: numpy!=1.24.0,>=1.20 in /opt/conda/lib/python3.9/site-packages (from seaborn) (1.26.4)\n",
      "Requirement already satisfied: pyparsing>=2.3.1 in /opt/conda/lib/python3.9/site-packages (from matplotlib!=3.6.1,>=3.4->seaborn) (2.4.7)\n",
      "Requirement already satisfied: fonttools>=4.22.0 in /opt/conda/lib/python3.9/site-packages (from matplotlib!=3.6.1,>=3.4->seaborn) (4.55.3)\n",
      "Requirement already satisfied: contourpy>=1.0.1 in /opt/conda/lib/python3.9/site-packages (from matplotlib!=3.6.1,>=3.4->seaborn) (1.3.0)\n",
      "Requirement already satisfied: pillow>=6.2.0 in /opt/conda/lib/python3.9/site-packages (from matplotlib!=3.6.1,>=3.4->seaborn) (8.4.0)\n",
      "Requirement already satisfied: kiwisolver>=1.0.1 in /opt/conda/lib/python3.9/site-packages (from matplotlib!=3.6.1,>=3.4->seaborn) (1.4.4)\n",
      "Requirement already satisfied: importlib-resources>=3.2.0 in /opt/conda/lib/python3.9/site-packages (from matplotlib!=3.6.1,>=3.4->seaborn) (6.4.5)\n",
      "Requirement already satisfied: cycler>=0.10 in /opt/conda/lib/python3.9/site-packages (from matplotlib!=3.6.1,>=3.4->seaborn) (0.11.0)\n",
      "Requirement already satisfied: python-dateutil>=2.7 in /opt/conda/lib/python3.9/site-packages (from matplotlib!=3.6.1,>=3.4->seaborn) (2.8.1)\n",
      "Requirement already satisfied: packaging>=20.0 in /opt/conda/lib/python3.9/site-packages (from matplotlib!=3.6.1,>=3.4->seaborn) (21.3)\n",
      "Requirement already satisfied: zipp>=3.1.0 in /opt/conda/lib/python3.9/site-packages (from importlib-resources>=3.2.0->matplotlib!=3.6.1,>=3.4->seaborn) (3.5.0)\n",
      "Requirement already satisfied: pytz>=2017.3 in /opt/conda/lib/python3.9/site-packages (from pandas>=1.2->seaborn) (2021.1)\n",
      "Requirement already satisfied: six>=1.5 in /opt/conda/lib/python3.9/site-packages (from python-dateutil>=2.7->matplotlib!=3.6.1,>=3.4->seaborn) (1.16.0)\n",
      "Installing collected packages: seaborn\n",
      "  Attempting uninstall: seaborn\n",
      "    Found existing installation: seaborn 0.11.1\n",
      "    Uninstalling seaborn-0.11.1:\n",
      "      Successfully uninstalled seaborn-0.11.1\n",
      "Successfully installed seaborn-0.13.2\n"
     ]
    }
   ],
   "source": [
    "# Загрузка необходимых библиотек\n",
    "!pip install lightgbm\n",
    "!pip install shap phik\n",
    "!pip install -U scikit-learn\n",
    "!pip install matplotlib==3.8.0\n",
    "!pip install seaborn --upgrade"
   ]
  },
  {
   "cell_type": "code",
   "execution_count": 2,
   "id": "a85585a6-d6be-4f13-beea-18b0b0726749",
   "metadata": {},
   "outputs": [
    {
     "name": "stderr",
     "output_type": "stream",
     "text": [
      "/opt/conda/lib/python3.9/site-packages/scipy/__init__.py:155: UserWarning: A NumPy version >=1.18.5 and <1.25.0 is required for this version of SciPy (detected version 1.26.4\n",
      "  warnings.warn(f\"A NumPy version >={np_minversion} and <{np_maxversion}\"\n"
     ]
    }
   ],
   "source": [
    "# Импорт необходимых библиотек\n",
    "import pandas as pd\n",
    "import os\n",
    "import matplotlib.pyplot as plt\n",
    "import numpy as np\n",
    "import seaborn as sns\n",
    "import phik\n",
    "import re\n",
    "from matplotlib import pyplot as plt\n",
    "from sklearn.model_selection import train_test_split\n",
    "from sklearn.impute import SimpleImputer\n",
    "from sklearn.pipeline import Pipeline\n",
    "from sklearn.compose import ColumnTransformer\n",
    "from sklearn.preprocessing import StandardScaler, OneHotEncoder, OrdinalEncoder\n",
    "from sklearn.model_selection import GridSearchCV\n",
    "from sklearn.utils.class_weight import compute_class_weight\n",
    "from sklearn.linear_model import LogisticRegression\n",
    "from sklearn.neighbors import KNeighborsClassifier\n",
    "from sklearn.ensemble import RandomForestClassifier\n",
    "from sklearn.dummy import DummyClassifier\n",
    "from sklearn.metrics import (\n",
    "    roc_auc_score,\n",
    "    accuracy_score,\n",
    "    confusion_matrix,\n",
    "    recall_score,\n",
    "    precision_score\n",
    ")\n",
    "\n",
    "import lightgbm as lgb\n",
    "from lightgbm import LGBMClassifier\n",
    "\n",
    "from catboost import CatBoostClassifier\n",
    "\n",
    "import warnings\n",
    "warnings.filterwarnings('ignore')\n",
    "\n",
    "sns.set_theme(style='whitegrid', palette='muted')\n",
    "pd.set_option('display.max_colwidth', None)\n",
    "pd.set_option('display.max_rows', None)\n",
    "pd.set_option('display.max_columns', None) "
   ]
  },
  {
   "cell_type": "code",
   "execution_count": 3,
   "id": "30090280-b903-4be6-8ac8-065f1dc62bec",
   "metadata": {},
   "outputs": [],
   "source": [
    "def load_file(file_name, *args, **kwargs):\n",
    "    '''\n",
    "    Проверка пути файла и загрузка файла\n",
    "    '''\n",
    "    if os.path.exists(file_name):\n",
    "        return pd.read_csv(file_name, *args, **kwargs)\n",
    "    elif os.path.exists(f'/datasets/{file_name}'):\n",
    "        return pd.read_csv(f'/datasets/{file_name}', *args, **kwargs)\n",
    "    else:\n",
    "        raise FileNotFoundError(f\"Файл {file_name} не найден.\")"
   ]
  },
  {
   "cell_type": "code",
   "execution_count": 4,
   "id": "b7b8bc23-aa1d-4d31-99e0-3de09baedcfd",
   "metadata": {},
   "outputs": [],
   "source": [
    "def data_info(df):\n",
    "    '''\n",
    "    Отображает первые 5 строк, общую информацию и описательную статистику DataFrame,\n",
    "    количество пропущенных значений и явных дубликатов.\n",
    "    '''\n",
    "    display(df.head())\n",
    "    df.info()\n",
    "    display(df.describe().round(3))\n",
    "    print('Количество пропусков:',\n",
    "          df.isna().sum(), sep='\\n', end='\\n\\n')\n",
    "    print('Количество дубликатов:', \n",
    "          df.duplicated().sum())"
   ]
  },
  {
   "cell_type": "code",
   "execution_count": 5,
   "id": "8634a368-e830-4984-b784-81917e82fbac",
   "metadata": {},
   "outputs": [],
   "source": [
    "def to_snake_case(name):\n",
    "    '''\n",
    "    Преобразование заголовка в snake_case и приведение к нижнему регистру\n",
    "    '''\n",
    "    name = re.sub(r'([a-z0-9])([A-Z])', r'\\1_\\2', name).lower()\n",
    "    return name"
   ]
  },
  {
   "cell_type": "code",
   "execution_count": 6,
   "id": "168dac02-ee9f-4443-bd23-bdf41ebd228b",
   "metadata": {},
   "outputs": [],
   "source": [
    "def category_col_unique(df):\n",
    "    '''\n",
    "    Вывод уникальных значений в столбце типа 'object'\n",
    "    '''\n",
    "    for column in df.columns:\n",
    "        if column != 'customer_id':\n",
    "            if df[column].dtypes == 'object':\n",
    "                print(f'Уникальные значения в столбце {column}:', df[column].unique())"
   ]
  },
  {
   "cell_type": "code",
   "execution_count": 7,
   "id": "312d5422-325a-41b2-bcb1-f4808fd1bf43",
   "metadata": {},
   "outputs": [],
   "source": [
    "def plt_pie_pivot (df, column, title, figsize=(5, 5)):\n",
    "    '''\n",
    "    Создает сводную таблицу и круговую диаграмму для указанного столбца DataFrame.\n",
    "    \n",
    "    Args:\n",
    "        df (pandas.DataFrame): DataFrame.\n",
    "        column (str): Столбец, по которому будет строиться сводная таблица и диаграмма.\n",
    "        title (str): Заголовок для диаграммы.\n",
    "    '''\n",
    "    \n",
    "    # Сводная таблица\n",
    "    column_pivot = (\n",
    "        df\n",
    "        .pivot_table(index=column,values='customer_id', aggfunc='count')\n",
    "        .sort_values(by='customer_id', ascending=False)\n",
    "        )\n",
    "    column_pivot.columns = ['Количество']\n",
    "    display(column_pivot)\n",
    "\n",
    "    # Круговая диаграмма\n",
    "    column_pivot.plot(kind='pie', figsize=figsize, subplots=True, autopct='%1.2f%%', ylabel='', \n",
    "                      colormap='tab10', fontsize=12, legend=False)\n",
    "    plt.title(title, fontsize=14)\n",
    "    plt.show()"
   ]
  },
  {
   "cell_type": "code",
   "execution_count": 8,
   "id": "18220355-1fd6-4b7e-a79e-595af2ac7630",
   "metadata": {},
   "outputs": [],
   "source": [
    "def plt_hist_boxplt(df, column, title, label, bins=30, \n",
    "                     hue=None, xlim=None, color=None):\n",
    "    '''\n",
    "    Строит гистограмму и диаграмму размаха для указанного столбца DataFrame.\n",
    "    \n",
    "    Args:\n",
    "        df (pandas.DataFrame): DataFrame.\n",
    "        column (str): Столбец, для которого будут строиться графики.\n",
    "        title (str): Заголовок для графиков.\n",
    "        label (str): Название оси x для обоих графиков.\n",
    "        hue (str): Кательгориальный столбец для разбивки. По умолчанию None\n",
    "        bins (int, optional): Количество бинов для гистограммы. По умолчанию 30.\n",
    "        xlim (tuple, optional): Пределы для оси x. По умолчанию None.\n",
    "        color (str, optional): Цвет графиков. По умолчанию None.\n",
    "    '''\n",
    "    \n",
    "    # Описательные статистики\n",
    "    print(f'Описательные статистики параметра {title}')\n",
    "    display(pd.DataFrame(df[column].describe()))\n",
    "    \n",
    "    # Построение графиков\n",
    "    fig, (ax1, ax2) = plt.subplots(1, 2, figsize=(12, 4.5))\n",
    "    \n",
    "    # Гистограмма\n",
    "    sns.histplot(data=df, x=column, hue=hue, bins=bins, ax=ax1, color=color)\n",
    "    ax1.set_title(f'1 - {title}', fontsize=14)\n",
    "    ax1.set_xlabel(label)\n",
    "    ax1.set_ylabel('Частота')\n",
    "    ax1.set_xlim(xlim)\n",
    "\n",
    "    # Диаграмма размаха\n",
    "    sns.boxplot(data=df, x=hue, y=column, ax=ax2, palette='tab10', width=.5)\n",
    "    ax2.set_title(f'2 - {title}', fontsize=14)\n",
    "    ax2.set_ylabel(label)\n",
    "    ax2.set_xlabel('Ушел ли клиент')\n",
    "    ax2.set_xlim(xlim)\n",
    "\n",
    "    plt.tight_layout()\n",
    "    plt.show()"
   ]
  },
  {
   "cell_type": "code",
   "execution_count": 9,
   "id": "2921764c-e239-4b5c-b48b-865995793a9c",
   "metadata": {},
   "outputs": [],
   "source": [
    "def plt_bar_hue(df, column, xlabel, title, values='customer_id', aggfunc='count', ylabel='Количество', \n",
    "             hue=None, figsize=(6, 5), display_pivot=False, display_bar_label=False):\n",
    "    '''\n",
    "    Создает вертикальную столбчатую диаграмму в разрезе категории для указанного столбца DataFrame.\n",
    "    \n",
    "    Args:\n",
    "        df (pandas.DataFrame): DataFrame.\n",
    "        column (str): Столбец, по которому будет строиться сводная таблица и диаграмма.\n",
    "        xlabel (str): Название оси x для диаграммы.\n",
    "        title (str): Заголовок диаграммы.\n",
    "        hue (str): Столбец для разбивки. По умолчанию None\n",
    "        values (str, optional): Столбец для агрегации в сводной таблице. По умолчанию 'id'.\n",
    "        aggfunc (str or function, optional): Функция агрегации для сводной таблицы. По умолчанию 'count'.\n",
    "        ylabel (str, optional): Название оси y для диаграммы. По умолчанию 'Количество'.\n",
    "        figsize (tuple, optional): Размеры фигуры (ширина, высота). По умолчанию (6, 5).\n",
    "        display_pivot (bool, optional): Отображать сводную таблицу перед построением диаграммы. По умолчанию False.\n",
    "    '''\n",
    "    \n",
    "    # Сводная таблица\n",
    "    column_pivot_bar = (\n",
    "        df\n",
    "        .pivot_table(index=[column, hue], values=values, aggfunc=aggfunc)\n",
    "        .reset_index()\n",
    "        .sort_values(by=values, ascending=False)\n",
    "    )\n",
    "    \n",
    "    if display_pivot:\n",
    "        display(column_pivot_bar)\n",
    "\n",
    "    # Столбчатая диаграмма\n",
    "    plt.figure(figsize=figsize)\n",
    "    ax = sns.barplot(data=column_pivot_bar, x=column, y=values, hue=hue, palette='tab10')\n",
    "    plt.ylabel(ylabel)\n",
    "    plt.xlabel(xlabel)\n",
    "    plt.title(title, fontsize=14)\n",
    "\n",
    "     # Добавление меток с абсолютными значениями на столбики\n",
    "    if display_bar_label:\n",
    "        for container in ax.containers:\n",
    "            ax.bar_label(container, fontsize=11)\n",
    "            \n",
    "    plt.show()"
   ]
  },
  {
   "cell_type": "markdown",
   "id": "bc6f838b-64bf-4420-90a0-b27e26f11cb1",
   "metadata": {},
   "source": [
    "## Загрузка и обзор данных <a class=\"anchor\" id=\"загрузка\"></a>"
   ]
  },
  {
   "cell_type": "code",
   "execution_count": 10,
   "id": "1af7eac4-973c-4594-994b-950c87271a94",
   "metadata": {},
   "outputs": [
    {
     "name": "stdout",
     "output_type": "stream",
     "text": [
      "Данные успешно загружены\n"
     ]
    }
   ],
   "source": [
    "# Загрузка данных\n",
    "try:\n",
    "    contract = load_file('contract_new.csv', parse_dates=['BeginDate', 'EndDate'])\n",
    "    internet = load_file('internet_new.csv')\n",
    "    personal = load_file('personal_new.csv')\n",
    "    phone = load_file('phone_new.csv')\n",
    "    print('Данные успешно загружены')\n",
    "except:\n",
    "    print('Ошибка при загрузке')"
   ]
  },
  {
   "cell_type": "code",
   "execution_count": 11,
   "id": "c9f77630-ec3d-4605-9328-54a70199954e",
   "metadata": {},
   "outputs": [
    {
     "data": {
      "text/html": [
       "<div>\n",
       "<style scoped>\n",
       "    .dataframe tbody tr th:only-of-type {\n",
       "        vertical-align: middle;\n",
       "    }\n",
       "\n",
       "    .dataframe tbody tr th {\n",
       "        vertical-align: top;\n",
       "    }\n",
       "\n",
       "    .dataframe thead th {\n",
       "        text-align: right;\n",
       "    }\n",
       "</style>\n",
       "<table border=\"1\" class=\"dataframe\">\n",
       "  <thead>\n",
       "    <tr style=\"text-align: right;\">\n",
       "      <th></th>\n",
       "      <th>customerID</th>\n",
       "      <th>BeginDate</th>\n",
       "      <th>EndDate</th>\n",
       "      <th>Type</th>\n",
       "      <th>PaperlessBilling</th>\n",
       "      <th>PaymentMethod</th>\n",
       "      <th>MonthlyCharges</th>\n",
       "      <th>TotalCharges</th>\n",
       "    </tr>\n",
       "  </thead>\n",
       "  <tbody>\n",
       "    <tr>\n",
       "      <th>0</th>\n",
       "      <td>7590-VHVEG</td>\n",
       "      <td>2020-01-01</td>\n",
       "      <td>No</td>\n",
       "      <td>Month-to-month</td>\n",
       "      <td>Yes</td>\n",
       "      <td>Electronic check</td>\n",
       "      <td>29.85</td>\n",
       "      <td>31.04</td>\n",
       "    </tr>\n",
       "    <tr>\n",
       "      <th>1</th>\n",
       "      <td>5575-GNVDE</td>\n",
       "      <td>2017-04-01</td>\n",
       "      <td>No</td>\n",
       "      <td>One year</td>\n",
       "      <td>No</td>\n",
       "      <td>Mailed check</td>\n",
       "      <td>56.95</td>\n",
       "      <td>2071.84</td>\n",
       "    </tr>\n",
       "    <tr>\n",
       "      <th>2</th>\n",
       "      <td>3668-QPYBK</td>\n",
       "      <td>2019-10-01</td>\n",
       "      <td>No</td>\n",
       "      <td>Month-to-month</td>\n",
       "      <td>Yes</td>\n",
       "      <td>Mailed check</td>\n",
       "      <td>53.85</td>\n",
       "      <td>226.17</td>\n",
       "    </tr>\n",
       "    <tr>\n",
       "      <th>3</th>\n",
       "      <td>7795-CFOCW</td>\n",
       "      <td>2016-05-01</td>\n",
       "      <td>No</td>\n",
       "      <td>One year</td>\n",
       "      <td>No</td>\n",
       "      <td>Bank transfer (automatic)</td>\n",
       "      <td>42.30</td>\n",
       "      <td>1960.6</td>\n",
       "    </tr>\n",
       "    <tr>\n",
       "      <th>4</th>\n",
       "      <td>9237-HQITU</td>\n",
       "      <td>2019-09-01</td>\n",
       "      <td>No</td>\n",
       "      <td>Month-to-month</td>\n",
       "      <td>Yes</td>\n",
       "      <td>Electronic check</td>\n",
       "      <td>70.70</td>\n",
       "      <td>353.5</td>\n",
       "    </tr>\n",
       "  </tbody>\n",
       "</table>\n",
       "</div>"
      ],
      "text/plain": [
       "   customerID  BeginDate EndDate            Type PaperlessBilling  \\\n",
       "0  7590-VHVEG 2020-01-01      No  Month-to-month              Yes   \n",
       "1  5575-GNVDE 2017-04-01      No        One year               No   \n",
       "2  3668-QPYBK 2019-10-01      No  Month-to-month              Yes   \n",
       "3  7795-CFOCW 2016-05-01      No        One year               No   \n",
       "4  9237-HQITU 2019-09-01      No  Month-to-month              Yes   \n",
       "\n",
       "               PaymentMethod  MonthlyCharges TotalCharges  \n",
       "0           Electronic check           29.85        31.04  \n",
       "1               Mailed check           56.95      2071.84  \n",
       "2               Mailed check           53.85       226.17  \n",
       "3  Bank transfer (automatic)           42.30       1960.6  \n",
       "4           Electronic check           70.70        353.5  "
      ]
     },
     "metadata": {},
     "output_type": "display_data"
    },
    {
     "name": "stdout",
     "output_type": "stream",
     "text": [
      "<class 'pandas.core.frame.DataFrame'>\n",
      "RangeIndex: 7043 entries, 0 to 7042\n",
      "Data columns (total 8 columns):\n",
      " #   Column            Non-Null Count  Dtype         \n",
      "---  ------            --------------  -----         \n",
      " 0   customerID        7043 non-null   object        \n",
      " 1   BeginDate         7043 non-null   datetime64[ns]\n",
      " 2   EndDate           7043 non-null   object        \n",
      " 3   Type              7043 non-null   object        \n",
      " 4   PaperlessBilling  7043 non-null   object        \n",
      " 5   PaymentMethod     7043 non-null   object        \n",
      " 6   MonthlyCharges    7043 non-null   float64       \n",
      " 7   TotalCharges      7043 non-null   object        \n",
      "dtypes: datetime64[ns](1), float64(1), object(6)\n",
      "memory usage: 440.3+ KB\n"
     ]
    },
    {
     "data": {
      "text/html": [
       "<div>\n",
       "<style scoped>\n",
       "    .dataframe tbody tr th:only-of-type {\n",
       "        vertical-align: middle;\n",
       "    }\n",
       "\n",
       "    .dataframe tbody tr th {\n",
       "        vertical-align: top;\n",
       "    }\n",
       "\n",
       "    .dataframe thead th {\n",
       "        text-align: right;\n",
       "    }\n",
       "</style>\n",
       "<table border=\"1\" class=\"dataframe\">\n",
       "  <thead>\n",
       "    <tr style=\"text-align: right;\">\n",
       "      <th></th>\n",
       "      <th>MonthlyCharges</th>\n",
       "    </tr>\n",
       "  </thead>\n",
       "  <tbody>\n",
       "    <tr>\n",
       "      <th>count</th>\n",
       "      <td>7043.000</td>\n",
       "    </tr>\n",
       "    <tr>\n",
       "      <th>mean</th>\n",
       "      <td>64.762</td>\n",
       "    </tr>\n",
       "    <tr>\n",
       "      <th>std</th>\n",
       "      <td>30.090</td>\n",
       "    </tr>\n",
       "    <tr>\n",
       "      <th>min</th>\n",
       "      <td>18.250</td>\n",
       "    </tr>\n",
       "    <tr>\n",
       "      <th>25%</th>\n",
       "      <td>35.500</td>\n",
       "    </tr>\n",
       "    <tr>\n",
       "      <th>50%</th>\n",
       "      <td>70.350</td>\n",
       "    </tr>\n",
       "    <tr>\n",
       "      <th>75%</th>\n",
       "      <td>89.850</td>\n",
       "    </tr>\n",
       "    <tr>\n",
       "      <th>max</th>\n",
       "      <td>118.750</td>\n",
       "    </tr>\n",
       "  </tbody>\n",
       "</table>\n",
       "</div>"
      ],
      "text/plain": [
       "       MonthlyCharges\n",
       "count        7043.000\n",
       "mean           64.762\n",
       "std            30.090\n",
       "min            18.250\n",
       "25%            35.500\n",
       "50%            70.350\n",
       "75%            89.850\n",
       "max           118.750"
      ]
     },
     "metadata": {},
     "output_type": "display_data"
    },
    {
     "name": "stdout",
     "output_type": "stream",
     "text": [
      "Количество пропусков:\n",
      "customerID          0\n",
      "BeginDate           0\n",
      "EndDate             0\n",
      "Type                0\n",
      "PaperlessBilling    0\n",
      "PaymentMethod       0\n",
      "MonthlyCharges      0\n",
      "TotalCharges        0\n",
      "dtype: int64\n",
      "\n",
      "Количество дубликатов: 0\n"
     ]
    }
   ],
   "source": [
    "# Вывод общей информации о датафрейме 'contract'\n",
    "data_info(contract)"
   ]
  },
  {
   "cell_type": "code",
   "execution_count": 12,
   "id": "a8e94c50-f5ad-462b-9257-20c8a6651a79",
   "metadata": {},
   "outputs": [
    {
     "data": {
      "text/html": [
       "<div>\n",
       "<style scoped>\n",
       "    .dataframe tbody tr th:only-of-type {\n",
       "        vertical-align: middle;\n",
       "    }\n",
       "\n",
       "    .dataframe tbody tr th {\n",
       "        vertical-align: top;\n",
       "    }\n",
       "\n",
       "    .dataframe thead th {\n",
       "        text-align: right;\n",
       "    }\n",
       "</style>\n",
       "<table border=\"1\" class=\"dataframe\">\n",
       "  <thead>\n",
       "    <tr style=\"text-align: right;\">\n",
       "      <th></th>\n",
       "      <th>customerID</th>\n",
       "      <th>InternetService</th>\n",
       "      <th>OnlineSecurity</th>\n",
       "      <th>OnlineBackup</th>\n",
       "      <th>DeviceProtection</th>\n",
       "      <th>TechSupport</th>\n",
       "      <th>StreamingTV</th>\n",
       "      <th>StreamingMovies</th>\n",
       "    </tr>\n",
       "  </thead>\n",
       "  <tbody>\n",
       "    <tr>\n",
       "      <th>0</th>\n",
       "      <td>7590-VHVEG</td>\n",
       "      <td>DSL</td>\n",
       "      <td>No</td>\n",
       "      <td>Yes</td>\n",
       "      <td>No</td>\n",
       "      <td>No</td>\n",
       "      <td>No</td>\n",
       "      <td>No</td>\n",
       "    </tr>\n",
       "    <tr>\n",
       "      <th>1</th>\n",
       "      <td>5575-GNVDE</td>\n",
       "      <td>DSL</td>\n",
       "      <td>Yes</td>\n",
       "      <td>No</td>\n",
       "      <td>Yes</td>\n",
       "      <td>No</td>\n",
       "      <td>No</td>\n",
       "      <td>No</td>\n",
       "    </tr>\n",
       "    <tr>\n",
       "      <th>2</th>\n",
       "      <td>3668-QPYBK</td>\n",
       "      <td>DSL</td>\n",
       "      <td>Yes</td>\n",
       "      <td>Yes</td>\n",
       "      <td>No</td>\n",
       "      <td>No</td>\n",
       "      <td>No</td>\n",
       "      <td>No</td>\n",
       "    </tr>\n",
       "    <tr>\n",
       "      <th>3</th>\n",
       "      <td>7795-CFOCW</td>\n",
       "      <td>DSL</td>\n",
       "      <td>Yes</td>\n",
       "      <td>No</td>\n",
       "      <td>Yes</td>\n",
       "      <td>Yes</td>\n",
       "      <td>No</td>\n",
       "      <td>No</td>\n",
       "    </tr>\n",
       "    <tr>\n",
       "      <th>4</th>\n",
       "      <td>9237-HQITU</td>\n",
       "      <td>Fiber optic</td>\n",
       "      <td>No</td>\n",
       "      <td>No</td>\n",
       "      <td>No</td>\n",
       "      <td>No</td>\n",
       "      <td>No</td>\n",
       "      <td>No</td>\n",
       "    </tr>\n",
       "  </tbody>\n",
       "</table>\n",
       "</div>"
      ],
      "text/plain": [
       "   customerID InternetService OnlineSecurity OnlineBackup DeviceProtection  \\\n",
       "0  7590-VHVEG             DSL             No          Yes               No   \n",
       "1  5575-GNVDE             DSL            Yes           No              Yes   \n",
       "2  3668-QPYBK             DSL            Yes          Yes               No   \n",
       "3  7795-CFOCW             DSL            Yes           No              Yes   \n",
       "4  9237-HQITU     Fiber optic             No           No               No   \n",
       "\n",
       "  TechSupport StreamingTV StreamingMovies  \n",
       "0          No          No              No  \n",
       "1          No          No              No  \n",
       "2          No          No              No  \n",
       "3         Yes          No              No  \n",
       "4          No          No              No  "
      ]
     },
     "metadata": {},
     "output_type": "display_data"
    },
    {
     "name": "stdout",
     "output_type": "stream",
     "text": [
      "<class 'pandas.core.frame.DataFrame'>\n",
      "RangeIndex: 5517 entries, 0 to 5516\n",
      "Data columns (total 8 columns):\n",
      " #   Column            Non-Null Count  Dtype \n",
      "---  ------            --------------  ----- \n",
      " 0   customerID        5517 non-null   object\n",
      " 1   InternetService   5517 non-null   object\n",
      " 2   OnlineSecurity    5517 non-null   object\n",
      " 3   OnlineBackup      5517 non-null   object\n",
      " 4   DeviceProtection  5517 non-null   object\n",
      " 5   TechSupport       5517 non-null   object\n",
      " 6   StreamingTV       5517 non-null   object\n",
      " 7   StreamingMovies   5517 non-null   object\n",
      "dtypes: object(8)\n",
      "memory usage: 344.9+ KB\n"
     ]
    },
    {
     "data": {
      "text/html": [
       "<div>\n",
       "<style scoped>\n",
       "    .dataframe tbody tr th:only-of-type {\n",
       "        vertical-align: middle;\n",
       "    }\n",
       "\n",
       "    .dataframe tbody tr th {\n",
       "        vertical-align: top;\n",
       "    }\n",
       "\n",
       "    .dataframe thead th {\n",
       "        text-align: right;\n",
       "    }\n",
       "</style>\n",
       "<table border=\"1\" class=\"dataframe\">\n",
       "  <thead>\n",
       "    <tr style=\"text-align: right;\">\n",
       "      <th></th>\n",
       "      <th>customerID</th>\n",
       "      <th>InternetService</th>\n",
       "      <th>OnlineSecurity</th>\n",
       "      <th>OnlineBackup</th>\n",
       "      <th>DeviceProtection</th>\n",
       "      <th>TechSupport</th>\n",
       "      <th>StreamingTV</th>\n",
       "      <th>StreamingMovies</th>\n",
       "    </tr>\n",
       "  </thead>\n",
       "  <tbody>\n",
       "    <tr>\n",
       "      <th>count</th>\n",
       "      <td>5517</td>\n",
       "      <td>5517</td>\n",
       "      <td>5517</td>\n",
       "      <td>5517</td>\n",
       "      <td>5517</td>\n",
       "      <td>5517</td>\n",
       "      <td>5517</td>\n",
       "      <td>5517</td>\n",
       "    </tr>\n",
       "    <tr>\n",
       "      <th>unique</th>\n",
       "      <td>5517</td>\n",
       "      <td>2</td>\n",
       "      <td>2</td>\n",
       "      <td>2</td>\n",
       "      <td>2</td>\n",
       "      <td>2</td>\n",
       "      <td>2</td>\n",
       "      <td>2</td>\n",
       "    </tr>\n",
       "    <tr>\n",
       "      <th>top</th>\n",
       "      <td>5155-AZQPB</td>\n",
       "      <td>Fiber optic</td>\n",
       "      <td>No</td>\n",
       "      <td>No</td>\n",
       "      <td>No</td>\n",
       "      <td>No</td>\n",
       "      <td>No</td>\n",
       "      <td>No</td>\n",
       "    </tr>\n",
       "    <tr>\n",
       "      <th>freq</th>\n",
       "      <td>1</td>\n",
       "      <td>3096</td>\n",
       "      <td>3498</td>\n",
       "      <td>3088</td>\n",
       "      <td>3095</td>\n",
       "      <td>3473</td>\n",
       "      <td>2810</td>\n",
       "      <td>2785</td>\n",
       "    </tr>\n",
       "  </tbody>\n",
       "</table>\n",
       "</div>"
      ],
      "text/plain": [
       "        customerID InternetService OnlineSecurity OnlineBackup  \\\n",
       "count         5517            5517           5517         5517   \n",
       "unique        5517               2              2            2   \n",
       "top     5155-AZQPB     Fiber optic             No           No   \n",
       "freq             1            3096           3498         3088   \n",
       "\n",
       "       DeviceProtection TechSupport StreamingTV StreamingMovies  \n",
       "count              5517        5517        5517            5517  \n",
       "unique                2           2           2               2  \n",
       "top                  No          No          No              No  \n",
       "freq               3095        3473        2810            2785  "
      ]
     },
     "metadata": {},
     "output_type": "display_data"
    },
    {
     "name": "stdout",
     "output_type": "stream",
     "text": [
      "Количество пропусков:\n",
      "customerID          0\n",
      "InternetService     0\n",
      "OnlineSecurity      0\n",
      "OnlineBackup        0\n",
      "DeviceProtection    0\n",
      "TechSupport         0\n",
      "StreamingTV         0\n",
      "StreamingMovies     0\n",
      "dtype: int64\n",
      "\n",
      "Количество дубликатов: 0\n"
     ]
    }
   ],
   "source": [
    "# Вывод общей информации о датафрейме 'internet'\n",
    "data_info(internet)"
   ]
  },
  {
   "cell_type": "code",
   "execution_count": 13,
   "id": "19793c9a-56bf-490a-8d47-71dd7c70f4db",
   "metadata": {},
   "outputs": [
    {
     "data": {
      "text/html": [
       "<div>\n",
       "<style scoped>\n",
       "    .dataframe tbody tr th:only-of-type {\n",
       "        vertical-align: middle;\n",
       "    }\n",
       "\n",
       "    .dataframe tbody tr th {\n",
       "        vertical-align: top;\n",
       "    }\n",
       "\n",
       "    .dataframe thead th {\n",
       "        text-align: right;\n",
       "    }\n",
       "</style>\n",
       "<table border=\"1\" class=\"dataframe\">\n",
       "  <thead>\n",
       "    <tr style=\"text-align: right;\">\n",
       "      <th></th>\n",
       "      <th>customerID</th>\n",
       "      <th>gender</th>\n",
       "      <th>SeniorCitizen</th>\n",
       "      <th>Partner</th>\n",
       "      <th>Dependents</th>\n",
       "    </tr>\n",
       "  </thead>\n",
       "  <tbody>\n",
       "    <tr>\n",
       "      <th>0</th>\n",
       "      <td>7590-VHVEG</td>\n",
       "      <td>Female</td>\n",
       "      <td>0</td>\n",
       "      <td>Yes</td>\n",
       "      <td>No</td>\n",
       "    </tr>\n",
       "    <tr>\n",
       "      <th>1</th>\n",
       "      <td>5575-GNVDE</td>\n",
       "      <td>Male</td>\n",
       "      <td>0</td>\n",
       "      <td>No</td>\n",
       "      <td>No</td>\n",
       "    </tr>\n",
       "    <tr>\n",
       "      <th>2</th>\n",
       "      <td>3668-QPYBK</td>\n",
       "      <td>Male</td>\n",
       "      <td>0</td>\n",
       "      <td>No</td>\n",
       "      <td>No</td>\n",
       "    </tr>\n",
       "    <tr>\n",
       "      <th>3</th>\n",
       "      <td>7795-CFOCW</td>\n",
       "      <td>Male</td>\n",
       "      <td>0</td>\n",
       "      <td>No</td>\n",
       "      <td>No</td>\n",
       "    </tr>\n",
       "    <tr>\n",
       "      <th>4</th>\n",
       "      <td>9237-HQITU</td>\n",
       "      <td>Female</td>\n",
       "      <td>0</td>\n",
       "      <td>No</td>\n",
       "      <td>No</td>\n",
       "    </tr>\n",
       "  </tbody>\n",
       "</table>\n",
       "</div>"
      ],
      "text/plain": [
       "   customerID  gender  SeniorCitizen Partner Dependents\n",
       "0  7590-VHVEG  Female              0     Yes         No\n",
       "1  5575-GNVDE    Male              0      No         No\n",
       "2  3668-QPYBK    Male              0      No         No\n",
       "3  7795-CFOCW    Male              0      No         No\n",
       "4  9237-HQITU  Female              0      No         No"
      ]
     },
     "metadata": {},
     "output_type": "display_data"
    },
    {
     "name": "stdout",
     "output_type": "stream",
     "text": [
      "<class 'pandas.core.frame.DataFrame'>\n",
      "RangeIndex: 7043 entries, 0 to 7042\n",
      "Data columns (total 5 columns):\n",
      " #   Column         Non-Null Count  Dtype \n",
      "---  ------         --------------  ----- \n",
      " 0   customerID     7043 non-null   object\n",
      " 1   gender         7043 non-null   object\n",
      " 2   SeniorCitizen  7043 non-null   int64 \n",
      " 3   Partner        7043 non-null   object\n",
      " 4   Dependents     7043 non-null   object\n",
      "dtypes: int64(1), object(4)\n",
      "memory usage: 275.2+ KB\n"
     ]
    },
    {
     "data": {
      "text/html": [
       "<div>\n",
       "<style scoped>\n",
       "    .dataframe tbody tr th:only-of-type {\n",
       "        vertical-align: middle;\n",
       "    }\n",
       "\n",
       "    .dataframe tbody tr th {\n",
       "        vertical-align: top;\n",
       "    }\n",
       "\n",
       "    .dataframe thead th {\n",
       "        text-align: right;\n",
       "    }\n",
       "</style>\n",
       "<table border=\"1\" class=\"dataframe\">\n",
       "  <thead>\n",
       "    <tr style=\"text-align: right;\">\n",
       "      <th></th>\n",
       "      <th>SeniorCitizen</th>\n",
       "    </tr>\n",
       "  </thead>\n",
       "  <tbody>\n",
       "    <tr>\n",
       "      <th>count</th>\n",
       "      <td>7043.000</td>\n",
       "    </tr>\n",
       "    <tr>\n",
       "      <th>mean</th>\n",
       "      <td>0.162</td>\n",
       "    </tr>\n",
       "    <tr>\n",
       "      <th>std</th>\n",
       "      <td>0.369</td>\n",
       "    </tr>\n",
       "    <tr>\n",
       "      <th>min</th>\n",
       "      <td>0.000</td>\n",
       "    </tr>\n",
       "    <tr>\n",
       "      <th>25%</th>\n",
       "      <td>0.000</td>\n",
       "    </tr>\n",
       "    <tr>\n",
       "      <th>50%</th>\n",
       "      <td>0.000</td>\n",
       "    </tr>\n",
       "    <tr>\n",
       "      <th>75%</th>\n",
       "      <td>0.000</td>\n",
       "    </tr>\n",
       "    <tr>\n",
       "      <th>max</th>\n",
       "      <td>1.000</td>\n",
       "    </tr>\n",
       "  </tbody>\n",
       "</table>\n",
       "</div>"
      ],
      "text/plain": [
       "       SeniorCitizen\n",
       "count       7043.000\n",
       "mean           0.162\n",
       "std            0.369\n",
       "min            0.000\n",
       "25%            0.000\n",
       "50%            0.000\n",
       "75%            0.000\n",
       "max            1.000"
      ]
     },
     "metadata": {},
     "output_type": "display_data"
    },
    {
     "name": "stdout",
     "output_type": "stream",
     "text": [
      "Количество пропусков:\n",
      "customerID       0\n",
      "gender           0\n",
      "SeniorCitizen    0\n",
      "Partner          0\n",
      "Dependents       0\n",
      "dtype: int64\n",
      "\n",
      "Количество дубликатов: 0\n"
     ]
    }
   ],
   "source": [
    "# Вывод общей информации о датафрейме 'personal'\n",
    "data_info(personal)"
   ]
  },
  {
   "cell_type": "code",
   "execution_count": 14,
   "id": "0b27a3e8-4562-4151-a9d4-466e858fe706",
   "metadata": {},
   "outputs": [
    {
     "data": {
      "text/html": [
       "<div>\n",
       "<style scoped>\n",
       "    .dataframe tbody tr th:only-of-type {\n",
       "        vertical-align: middle;\n",
       "    }\n",
       "\n",
       "    .dataframe tbody tr th {\n",
       "        vertical-align: top;\n",
       "    }\n",
       "\n",
       "    .dataframe thead th {\n",
       "        text-align: right;\n",
       "    }\n",
       "</style>\n",
       "<table border=\"1\" class=\"dataframe\">\n",
       "  <thead>\n",
       "    <tr style=\"text-align: right;\">\n",
       "      <th></th>\n",
       "      <th>customerID</th>\n",
       "      <th>MultipleLines</th>\n",
       "    </tr>\n",
       "  </thead>\n",
       "  <tbody>\n",
       "    <tr>\n",
       "      <th>0</th>\n",
       "      <td>5575-GNVDE</td>\n",
       "      <td>No</td>\n",
       "    </tr>\n",
       "    <tr>\n",
       "      <th>1</th>\n",
       "      <td>3668-QPYBK</td>\n",
       "      <td>No</td>\n",
       "    </tr>\n",
       "    <tr>\n",
       "      <th>2</th>\n",
       "      <td>9237-HQITU</td>\n",
       "      <td>No</td>\n",
       "    </tr>\n",
       "    <tr>\n",
       "      <th>3</th>\n",
       "      <td>9305-CDSKC</td>\n",
       "      <td>Yes</td>\n",
       "    </tr>\n",
       "    <tr>\n",
       "      <th>4</th>\n",
       "      <td>1452-KIOVK</td>\n",
       "      <td>Yes</td>\n",
       "    </tr>\n",
       "  </tbody>\n",
       "</table>\n",
       "</div>"
      ],
      "text/plain": [
       "   customerID MultipleLines\n",
       "0  5575-GNVDE            No\n",
       "1  3668-QPYBK            No\n",
       "2  9237-HQITU            No\n",
       "3  9305-CDSKC           Yes\n",
       "4  1452-KIOVK           Yes"
      ]
     },
     "metadata": {},
     "output_type": "display_data"
    },
    {
     "name": "stdout",
     "output_type": "stream",
     "text": [
      "<class 'pandas.core.frame.DataFrame'>\n",
      "RangeIndex: 6361 entries, 0 to 6360\n",
      "Data columns (total 2 columns):\n",
      " #   Column         Non-Null Count  Dtype \n",
      "---  ------         --------------  ----- \n",
      " 0   customerID     6361 non-null   object\n",
      " 1   MultipleLines  6361 non-null   object\n",
      "dtypes: object(2)\n",
      "memory usage: 99.5+ KB\n"
     ]
    },
    {
     "data": {
      "text/html": [
       "<div>\n",
       "<style scoped>\n",
       "    .dataframe tbody tr th:only-of-type {\n",
       "        vertical-align: middle;\n",
       "    }\n",
       "\n",
       "    .dataframe tbody tr th {\n",
       "        vertical-align: top;\n",
       "    }\n",
       "\n",
       "    .dataframe thead th {\n",
       "        text-align: right;\n",
       "    }\n",
       "</style>\n",
       "<table border=\"1\" class=\"dataframe\">\n",
       "  <thead>\n",
       "    <tr style=\"text-align: right;\">\n",
       "      <th></th>\n",
       "      <th>customerID</th>\n",
       "      <th>MultipleLines</th>\n",
       "    </tr>\n",
       "  </thead>\n",
       "  <tbody>\n",
       "    <tr>\n",
       "      <th>count</th>\n",
       "      <td>6361</td>\n",
       "      <td>6361</td>\n",
       "    </tr>\n",
       "    <tr>\n",
       "      <th>unique</th>\n",
       "      <td>6361</td>\n",
       "      <td>2</td>\n",
       "    </tr>\n",
       "    <tr>\n",
       "      <th>top</th>\n",
       "      <td>6994-ORCWG</td>\n",
       "      <td>No</td>\n",
       "    </tr>\n",
       "    <tr>\n",
       "      <th>freq</th>\n",
       "      <td>1</td>\n",
       "      <td>3390</td>\n",
       "    </tr>\n",
       "  </tbody>\n",
       "</table>\n",
       "</div>"
      ],
      "text/plain": [
       "        customerID MultipleLines\n",
       "count         6361          6361\n",
       "unique        6361             2\n",
       "top     6994-ORCWG            No\n",
       "freq             1          3390"
      ]
     },
     "metadata": {},
     "output_type": "display_data"
    },
    {
     "name": "stdout",
     "output_type": "stream",
     "text": [
      "Количество пропусков:\n",
      "customerID       0\n",
      "MultipleLines    0\n",
      "dtype: int64\n",
      "\n",
      "Количество дубликатов: 0\n"
     ]
    }
   ],
   "source": [
    "# Вывод общей информации о датафрейме 'phone'\n",
    "data_info(phone)"
   ]
  },
  {
   "cell_type": "markdown",
   "id": "03af6c4f-138a-4cdf-b65d-823bd68ffa08",
   "metadata": {},
   "source": [
    "**Общая предварительная оценка данных:**\n",
    "- Данные представляют собой информацию о клиентах, их тарифах и услугах. Статистика по заключенным договорам с 2013-10-01 по 2020-02-01 включительно.\n",
    "- Данные разделены на 4 датафрейма: `contract` содержит 7043 строк с информацией о договорах клиентов; `personal` содержит 7043 строк с персональными данными клиентов; `internet` содержит 5517 строк с информацией об интернет-услугах, подключенных у клиента; `phone` содержит 6361 строк с данными об услугах телефонии.\n",
    "- Часть признаков имеет неверно определенный тип данных.\n",
    "- В данных отсутствуют пропущенные значения, а также явные дубликаты. Однако необходимо проверить данные на наличие неявных дубликатов и пропусков.\n",
    "- Данные не размечены, т.е. не указан целевой признак. Необходимо, исходя из предоставленных параметров, выделить целевой признак и разметить данные.\n",
    "\n",
    "Для дальнейшей работы с данными выполним их предобработку."
   ]
  },
  {
   "cell_type": "markdown",
   "id": "15352981-ee77-4a3c-b0de-d05bc3d0d59f",
   "metadata": {},
   "source": [
    "## Предобработка данных <a class=\"anchor\" id=\"предобработка\"></a>"
   ]
  },
  {
   "cell_type": "markdown",
   "id": "dbe9bb5c-f8d4-4ef1-92e3-465cd516aa48",
   "metadata": {},
   "source": [
    "### Переименование столбцов <a class=\"anchor\" id=\"столбцы\"></a>"
   ]
  },
  {
   "cell_type": "markdown",
   "id": "158c04d3-0927-4ea2-977c-37659344e3bb",
   "metadata": {},
   "source": [
    "Для удобства работы с признаками, изменим все названия столбцов в соответствии со стандартами оформления: приведем к нижнему регистру и к стилю snake_case."
   ]
  },
  {
   "cell_type": "code",
   "execution_count": 15,
   "id": "b48349f9-2240-4ebf-bc71-2df41ae1dff5",
   "metadata": {},
   "outputs": [
    {
     "name": "stdout",
     "output_type": "stream",
     "text": [
      "Названия столбцов contract: Index(['customerID', 'BeginDate', 'EndDate', 'Type', 'PaperlessBilling',\n",
      "       'PaymentMethod', 'MonthlyCharges', 'TotalCharges'],\n",
      "      dtype='object')\n",
      "Названия столбцов personal: Index(['customerID', 'gender', 'SeniorCitizen', 'Partner', 'Dependents'], dtype='object')\n",
      "Названия столбцов internet: Index(['customerID', 'InternetService', 'OnlineSecurity', 'OnlineBackup',\n",
      "       'DeviceProtection', 'TechSupport', 'StreamingTV', 'StreamingMovies'],\n",
      "      dtype='object')\n",
      "Названия столбцов phone: Index(['customerID', 'MultipleLines'], dtype='object')\n"
     ]
    }
   ],
   "source": [
    "# Словарь со всеми датафреймами\n",
    "all_df = {\n",
    "    'contract': contract,\n",
    "    'personal': personal,\n",
    "    'internet': internet,\n",
    "    'phone': phone\n",
    "}\n",
    "\n",
    "# Названия столбцов каждого датафрейма\n",
    "for name, df in all_df.items():\n",
    "    print(f'Названия столбцов {name}:', df.columns)"
   ]
  },
  {
   "cell_type": "code",
   "execution_count": 16,
   "id": "7531f41a-ea4b-404c-86a7-b94f43525130",
   "metadata": {},
   "outputs": [
    {
     "name": "stdout",
     "output_type": "stream",
     "text": [
      "Названия столбцов contract: Index(['customer_id', 'begin_date', 'end_date', 'type', 'paperless_billing',\n",
      "       'payment_method', 'monthly_charges', 'total_charges'],\n",
      "      dtype='object')\n",
      "Названия столбцов personal: Index(['customer_id', 'gender', 'senior_citizen', 'partner', 'dependents'], dtype='object')\n",
      "Названия столбцов internet: Index(['customer_id', 'internet_service', 'online_security', 'online_backup',\n",
      "       'device_protection', 'tech_support', 'streaming_tv',\n",
      "       'streaming_movies'],\n",
      "      dtype='object')\n",
      "Названия столбцов phone: Index(['customer_id', 'multiple_lines'], dtype='object')\n"
     ]
    }
   ],
   "source": [
    "# Приведение названий столбцов к snake_case\n",
    "for name, df in all_df.items():\n",
    "    df.columns = [to_snake_case(col) for col in df.columns]\n",
    "\n",
    "# Просмотр результатов\n",
    "for name, df in all_df.items():\n",
    "    print(f'Названия столбцов {name}:', df.columns)"
   ]
  },
  {
   "cell_type": "markdown",
   "id": "9c9febb4-9539-4d16-b91a-d930b863020b",
   "metadata": {},
   "source": [
    "### Изменение типов данных <a class=\"anchor\" id=\"типы_данных\"></a>"
   ]
  },
  {
   "cell_type": "markdown",
   "id": "9336a026-d1e7-4662-8343-9d77dfb40ffe",
   "metadata": {},
   "source": [
    "Для дальнейшей работы с датафреймом `contract` приведем данные к корректным типам (в остальных датафреймах все типы верные)."
   ]
  },
  {
   "cell_type": "code",
   "execution_count": 17,
   "id": "20c695f7-083c-4442-a033-440b27e9bec2",
   "metadata": {},
   "outputs": [
    {
     "data": {
      "text/plain": [
       "customer_id                  object\n",
       "begin_date           datetime64[ns]\n",
       "end_date                     object\n",
       "type                         object\n",
       "paperless_billing            object\n",
       "payment_method               object\n",
       "monthly_charges             float64\n",
       "total_charges                object\n",
       "dtype: object"
      ]
     },
     "execution_count": 17,
     "metadata": {},
     "output_type": "execute_result"
    }
   ],
   "source": [
    "# Проверка типов данных \n",
    "contract.dtypes"
   ]
  },
  {
   "cell_type": "markdown",
   "id": "51bae824-db35-4ad6-8a2a-b150682f2a34",
   "metadata": {},
   "source": [
    "Изменим типы в следующих столбцах:\n",
    "* `end_date`  - переведем в *'datetime64'*, т.к. столбец содержит дату окончания действия договора.\n",
    "* `total_charges` - заменим *'float64'*, чтобы была возможность проводить с данными математические операции.\n",
    "\n",
    "Перед этим проверим какие значения встречаются в указанных столбцах, чтобы понять, почему при загрузке файла тип данных был определен неверно."
   ]
  },
  {
   "cell_type": "code",
   "execution_count": 18,
   "id": "2beb8eda-ad87-4cae-adbe-04586faee646",
   "metadata": {},
   "outputs": [
    {
     "data": {
      "text/plain": [
       "array(['No', '2017-05-01', '2016-03-01', '2018-09-01', '2018-11-01',\n",
       "       '2018-12-01', '2019-08-01', '2018-07-01', '2017-09-01',\n",
       "       '2015-09-01', '2016-07-01', '2016-06-01', '2018-03-01',\n",
       "       '2019-02-01', '2018-06-01', '2019-06-01', '2020-01-01',\n",
       "       '2019-11-01', '2016-09-01', '2015-06-01', '2016-12-01',\n",
       "       '2019-05-01', '2019-04-01', '2017-06-01', '2017-08-01',\n",
       "       '2018-04-01', '2018-08-01', '2018-02-01', '2019-07-01',\n",
       "       '2015-12-01', '2014-06-01', '2018-10-01', '2019-01-01',\n",
       "       '2017-07-01', '2017-12-01', '2018-05-01', '2015-11-01',\n",
       "       '2019-10-01', '2019-03-01', '2016-02-01', '2016-10-01',\n",
       "       '2018-01-01', '2017-11-01', '2015-10-01', '2019-12-01',\n",
       "       '2015-07-01', '2017-04-01', '2015-02-01', '2017-03-01',\n",
       "       '2016-05-01', '2016-11-01', '2015-08-01', '2019-09-01',\n",
       "       '2017-10-01', '2017-02-01', '2016-08-01', '2016-04-01',\n",
       "       '2015-05-01', '2014-09-01', '2014-10-01', '2017-01-01',\n",
       "       '2015-03-01', '2015-01-01', '2016-01-01', '2015-04-01',\n",
       "       '2014-12-01', '2014-11-01'], dtype=object)"
      ]
     },
     "execution_count": 18,
     "metadata": {},
     "output_type": "execute_result"
    }
   ],
   "source": [
    "# Уникальные значения в столбце 'end_date'\n",
    "contract['end_date'].unique()"
   ]
  },
  {
   "cell_type": "markdown",
   "id": "ec7a8cb0-e200-413b-854c-a2d03f1c5378",
   "metadata": {},
   "source": [
    "В столбце помимо дат встречается значение **'No'**, т.е. показатель того, что клиент не разорвал договор и он активный. Приведем значения к корректному формату: даты останутся датами. 'No' заменим на NaT (Not a Time), чтобы указать, что договор активен.\n",
    "\n",
    "На основе столбца `end_date` создадим **целевой признак `churn` (отток)**: 1 - если договор разорван и 0 - договор активен."
   ]
  },
  {
   "cell_type": "code",
   "execution_count": 19,
   "id": "76012a97-b91c-4074-b44c-3129fc46a74e",
   "metadata": {},
   "outputs": [
    {
     "data": {
      "text/plain": [
       "customer_id                  object\n",
       "begin_date           datetime64[ns]\n",
       "end_date             datetime64[ns]\n",
       "type                         object\n",
       "paperless_billing            object\n",
       "payment_method               object\n",
       "monthly_charges             float64\n",
       "total_charges                object\n",
       "dtype: object"
      ]
     },
     "execution_count": 19,
     "metadata": {},
     "output_type": "execute_result"
    }
   ],
   "source": [
    "# Замена типа данных в 'end_date'\n",
    "contract['end_date'] = pd.to_datetime(contract['end_date'].replace('No', pd.NaT), errors='coerce')\n",
    "contract.dtypes"
   ]
  },
  {
   "cell_type": "code",
   "execution_count": 20,
   "id": "2bba69d3-7444-48d1-8fb5-90e45a7a972f",
   "metadata": {},
   "outputs": [
    {
     "data": {
      "text/plain": [
       "0    5942\n",
       "1    1101\n",
       "Name: churn, dtype: int64"
      ]
     },
     "execution_count": 20,
     "metadata": {},
     "output_type": "execute_result"
    }
   ],
   "source": [
    "# Создание целевого признка 'churn'\n",
    "contract['churn'] = contract['end_date'].notna().astype(int)\n",
    "contract['churn'].value_counts()"
   ]
  },
  {
   "cell_type": "markdown",
   "id": "be156f1f-c129-4485-996d-dc5ed65489d6",
   "metadata": {},
   "source": [
    "Далее проверим, какие нечисловые значения встречаются в столбце `total_charges`:"
   ]
  },
  {
   "cell_type": "code",
   "execution_count": 21,
   "id": "85366cc5-040a-43ed-98ff-41c712b84539",
   "metadata": {},
   "outputs": [
    {
     "data": {
      "text/html": [
       "<div>\n",
       "<style scoped>\n",
       "    .dataframe tbody tr th:only-of-type {\n",
       "        vertical-align: middle;\n",
       "    }\n",
       "\n",
       "    .dataframe tbody tr th {\n",
       "        vertical-align: top;\n",
       "    }\n",
       "\n",
       "    .dataframe thead th {\n",
       "        text-align: right;\n",
       "    }\n",
       "</style>\n",
       "<table border=\"1\" class=\"dataframe\">\n",
       "  <thead>\n",
       "    <tr style=\"text-align: right;\">\n",
       "      <th></th>\n",
       "      <th>customer_id</th>\n",
       "      <th>begin_date</th>\n",
       "      <th>end_date</th>\n",
       "      <th>type</th>\n",
       "      <th>paperless_billing</th>\n",
       "      <th>payment_method</th>\n",
       "      <th>monthly_charges</th>\n",
       "      <th>total_charges</th>\n",
       "      <th>churn</th>\n",
       "    </tr>\n",
       "  </thead>\n",
       "  <tbody>\n",
       "    <tr>\n",
       "      <th>488</th>\n",
       "      <td>4472-LVYGI</td>\n",
       "      <td>2020-02-01</td>\n",
       "      <td>NaT</td>\n",
       "      <td>Two year</td>\n",
       "      <td>Yes</td>\n",
       "      <td>Bank transfer (automatic)</td>\n",
       "      <td>52.55</td>\n",
       "      <td></td>\n",
       "      <td>0</td>\n",
       "    </tr>\n",
       "    <tr>\n",
       "      <th>753</th>\n",
       "      <td>3115-CZMZD</td>\n",
       "      <td>2020-02-01</td>\n",
       "      <td>NaT</td>\n",
       "      <td>Two year</td>\n",
       "      <td>No</td>\n",
       "      <td>Mailed check</td>\n",
       "      <td>20.25</td>\n",
       "      <td></td>\n",
       "      <td>0</td>\n",
       "    </tr>\n",
       "    <tr>\n",
       "      <th>936</th>\n",
       "      <td>5709-LVOEQ</td>\n",
       "      <td>2020-02-01</td>\n",
       "      <td>NaT</td>\n",
       "      <td>Two year</td>\n",
       "      <td>No</td>\n",
       "      <td>Mailed check</td>\n",
       "      <td>80.85</td>\n",
       "      <td></td>\n",
       "      <td>0</td>\n",
       "    </tr>\n",
       "    <tr>\n",
       "      <th>1082</th>\n",
       "      <td>4367-NUYAO</td>\n",
       "      <td>2020-02-01</td>\n",
       "      <td>NaT</td>\n",
       "      <td>Two year</td>\n",
       "      <td>No</td>\n",
       "      <td>Mailed check</td>\n",
       "      <td>25.75</td>\n",
       "      <td></td>\n",
       "      <td>0</td>\n",
       "    </tr>\n",
       "    <tr>\n",
       "      <th>1340</th>\n",
       "      <td>1371-DWPAZ</td>\n",
       "      <td>2020-02-01</td>\n",
       "      <td>NaT</td>\n",
       "      <td>Two year</td>\n",
       "      <td>No</td>\n",
       "      <td>Credit card (automatic)</td>\n",
       "      <td>56.05</td>\n",
       "      <td></td>\n",
       "      <td>0</td>\n",
       "    </tr>\n",
       "    <tr>\n",
       "      <th>3331</th>\n",
       "      <td>7644-OMVMY</td>\n",
       "      <td>2020-02-01</td>\n",
       "      <td>NaT</td>\n",
       "      <td>Two year</td>\n",
       "      <td>No</td>\n",
       "      <td>Mailed check</td>\n",
       "      <td>19.85</td>\n",
       "      <td></td>\n",
       "      <td>0</td>\n",
       "    </tr>\n",
       "    <tr>\n",
       "      <th>3826</th>\n",
       "      <td>3213-VVOLG</td>\n",
       "      <td>2020-02-01</td>\n",
       "      <td>NaT</td>\n",
       "      <td>Two year</td>\n",
       "      <td>No</td>\n",
       "      <td>Mailed check</td>\n",
       "      <td>25.35</td>\n",
       "      <td></td>\n",
       "      <td>0</td>\n",
       "    </tr>\n",
       "    <tr>\n",
       "      <th>4380</th>\n",
       "      <td>2520-SGTTA</td>\n",
       "      <td>2020-02-01</td>\n",
       "      <td>NaT</td>\n",
       "      <td>Two year</td>\n",
       "      <td>No</td>\n",
       "      <td>Mailed check</td>\n",
       "      <td>20.00</td>\n",
       "      <td></td>\n",
       "      <td>0</td>\n",
       "    </tr>\n",
       "    <tr>\n",
       "      <th>5218</th>\n",
       "      <td>2923-ARZLG</td>\n",
       "      <td>2020-02-01</td>\n",
       "      <td>NaT</td>\n",
       "      <td>One year</td>\n",
       "      <td>Yes</td>\n",
       "      <td>Mailed check</td>\n",
       "      <td>19.70</td>\n",
       "      <td></td>\n",
       "      <td>0</td>\n",
       "    </tr>\n",
       "    <tr>\n",
       "      <th>6670</th>\n",
       "      <td>4075-WKNIU</td>\n",
       "      <td>2020-02-01</td>\n",
       "      <td>NaT</td>\n",
       "      <td>Two year</td>\n",
       "      <td>No</td>\n",
       "      <td>Mailed check</td>\n",
       "      <td>73.35</td>\n",
       "      <td></td>\n",
       "      <td>0</td>\n",
       "    </tr>\n",
       "    <tr>\n",
       "      <th>6754</th>\n",
       "      <td>2775-SEFEE</td>\n",
       "      <td>2020-02-01</td>\n",
       "      <td>NaT</td>\n",
       "      <td>Two year</td>\n",
       "      <td>Yes</td>\n",
       "      <td>Bank transfer (automatic)</td>\n",
       "      <td>61.90</td>\n",
       "      <td></td>\n",
       "      <td>0</td>\n",
       "    </tr>\n",
       "  </tbody>\n",
       "</table>\n",
       "</div>"
      ],
      "text/plain": [
       "     customer_id begin_date end_date      type paperless_billing  \\\n",
       "488   4472-LVYGI 2020-02-01      NaT  Two year               Yes   \n",
       "753   3115-CZMZD 2020-02-01      NaT  Two year                No   \n",
       "936   5709-LVOEQ 2020-02-01      NaT  Two year                No   \n",
       "1082  4367-NUYAO 2020-02-01      NaT  Two year                No   \n",
       "1340  1371-DWPAZ 2020-02-01      NaT  Two year                No   \n",
       "3331  7644-OMVMY 2020-02-01      NaT  Two year                No   \n",
       "3826  3213-VVOLG 2020-02-01      NaT  Two year                No   \n",
       "4380  2520-SGTTA 2020-02-01      NaT  Two year                No   \n",
       "5218  2923-ARZLG 2020-02-01      NaT  One year               Yes   \n",
       "6670  4075-WKNIU 2020-02-01      NaT  Two year                No   \n",
       "6754  2775-SEFEE 2020-02-01      NaT  Two year               Yes   \n",
       "\n",
       "                 payment_method  monthly_charges total_charges  churn  \n",
       "488   Bank transfer (automatic)            52.55                    0  \n",
       "753                Mailed check            20.25                    0  \n",
       "936                Mailed check            80.85                    0  \n",
       "1082               Mailed check            25.75                    0  \n",
       "1340    Credit card (automatic)            56.05                    0  \n",
       "3331               Mailed check            19.85                    0  \n",
       "3826               Mailed check            25.35                    0  \n",
       "4380               Mailed check            20.00                    0  \n",
       "5218               Mailed check            19.70                    0  \n",
       "6670               Mailed check            73.35                    0  \n",
       "6754  Bank transfer (automatic)            61.90                    0  "
      ]
     },
     "execution_count": 21,
     "metadata": {},
     "output_type": "execute_result"
    }
   ],
   "source": [
    "# Нечисловые значения в 'total_charges'\n",
    "contract[~pd.to_numeric(contract['total_charges'], errors='coerce').notna()]"
   ]
  },
  {
   "cell_type": "markdown",
   "id": "af563b58-1d0c-4b8b-941f-4199cfe61334",
   "metadata": {},
   "source": [
    "Обнаружили неявные пропуски, а именно пробелы. Все пропуски у клиентов с датой заключения договора '2020-02-01', т.е. датой выгрузки данных. Это самые новые клиенты, именно поэтому общие расходы равны 0. Заменим пробелы в указанных строках на 0 и изменим тип данных."
   ]
  },
  {
   "cell_type": "code",
   "execution_count": 22,
   "id": "f5b52e84-9266-4676-b81e-198ce4a487d2",
   "metadata": {},
   "outputs": [
    {
     "data": {
      "text/plain": [
       "customer_id                  object\n",
       "begin_date           datetime64[ns]\n",
       "end_date             datetime64[ns]\n",
       "type                         object\n",
       "paperless_billing            object\n",
       "payment_method               object\n",
       "monthly_charges             float64\n",
       "total_charges               float64\n",
       "churn                         int64\n",
       "dtype: object"
      ]
     },
     "execution_count": 22,
     "metadata": {},
     "output_type": "execute_result"
    }
   ],
   "source": [
    "# Замена пропусков в 'total_charges'\n",
    "contract['total_charges'].replace(' ', 0, inplace=True)\n",
    "\n",
    "# Перевод в численный тип данных\n",
    "contract['total_charges'] = pd.to_numeric(contract['total_charges'])\n",
    "contract.dtypes"
   ]
  },
  {
   "cell_type": "markdown",
   "id": "e9eacb9d-d090-43d0-a5ea-1a2c8e1bdbd5",
   "metadata": {},
   "source": [
    "### Обработка дубликатов <a class=\"anchor\" id=\"дубликаты\"></a>"
   ]
  },
  {
   "cell_type": "markdown",
   "id": "ff02958d-24df-4d3f-8b4a-058ca807d797",
   "metadata": {},
   "source": [
    "Явных дубликатов мы не обнаружили. Проверим наличие неявных и неполных дубликатов. Рассмотрим, содержатся ли дубликаты **ID клиентов** в каждом из датафреймов:"
   ]
  },
  {
   "cell_type": "code",
   "execution_count": 23,
   "id": "34aa4fbc-7d4e-4f9b-8d87-bdf913839206",
   "metadata": {},
   "outputs": [
    {
     "name": "stdout",
     "output_type": "stream",
     "text": [
      "Дубликатов в ID клиентов в contract не обнаружено\n",
      "Дубликатов в ID клиентов в personal не обнаружено\n",
      "Дубликатов в ID клиентов в internet не обнаружено\n",
      "Дубликатов в ID клиентов в phone не обнаружено\n"
     ]
    }
   ],
   "source": [
    "# Проверка дубликатов в столбце 'customer_id'\n",
    "for name, df in all_df.items():\n",
    "    if df['customer_id'].nunique() == len(df):\n",
    "        print(f'Дубликатов в ID клиентов в {name} не обнаружено')\n",
    "    else:\n",
    "        print(f\"Количество дубликатов ID клиентов в {name} = \\\n",
    "        {len(df) - df['customer_id'].nunique()}\")"
   ]
  },
  {
   "cell_type": "markdown",
   "id": "6e4588b5-e540-4072-aa46-84e7b1677ee9",
   "metadata": {},
   "source": [
    "Далее проверим наличие дублирующихся значений в категориальных столбцах. Для этого рассмотрим уникальные значения в признаках по каждому датафрейму."
   ]
  },
  {
   "cell_type": "code",
   "execution_count": 24,
   "id": "090d443f-88ba-4d30-925b-09eb77268170",
   "metadata": {},
   "outputs": [
    {
     "name": "stdout",
     "output_type": "stream",
     "text": [
      "Датафрейм contract:\n",
      "Уникальные значения в столбце type: ['Month-to-month' 'One year' 'Two year']\n",
      "Уникальные значения в столбце paperless_billing: ['Yes' 'No']\n",
      "Уникальные значения в столбце payment_method: ['Electronic check' 'Mailed check' 'Bank transfer (automatic)'\n",
      " 'Credit card (automatic)']\n",
      "\n",
      "Датафрейм personal:\n",
      "Уникальные значения в столбце gender: ['Female' 'Male']\n",
      "Уникальные значения в столбце partner: ['Yes' 'No']\n",
      "Уникальные значения в столбце dependents: ['No' 'Yes']\n",
      "\n",
      "Датафрейм internet:\n",
      "Уникальные значения в столбце internet_service: ['DSL' 'Fiber optic']\n",
      "Уникальные значения в столбце online_security: ['No' 'Yes']\n",
      "Уникальные значения в столбце online_backup: ['Yes' 'No']\n",
      "Уникальные значения в столбце device_protection: ['No' 'Yes']\n",
      "Уникальные значения в столбце tech_support: ['No' 'Yes']\n",
      "Уникальные значения в столбце streaming_tv: ['No' 'Yes']\n",
      "Уникальные значения в столбце streaming_movies: ['No' 'Yes']\n",
      "\n",
      "Датафрейм phone:\n",
      "Уникальные значения в столбце multiple_lines: ['No' 'Yes']\n",
      "\n"
     ]
    }
   ],
   "source": [
    "# Уникальные значения категориальных столбцов\n",
    "for name, df in all_df.items():\n",
    "    print(f'Датафрейм {name}:')\n",
    "    category_col_unique(df)\n",
    "    print()"
   ]
  },
  {
   "cell_type": "markdown",
   "id": "06596a6f-cd29-4f80-8e89-630b684caaac",
   "metadata": {},
   "source": [
    "Дубликатов или некорректных значений не обнаружили."
   ]
  },
  {
   "cell_type": "markdown",
   "id": "1d1a188c-8429-429d-84e2-c8b96bfaecdf",
   "metadata": {},
   "source": [
    "### Удаление неинформативных признаков <a class=\"anchor\" id=\"удаление_признаков\"></a>"
   ]
  },
  {
   "cell_type": "markdown",
   "id": "f4063859-0166-441b-801a-b92f656cbb36",
   "metadata": {},
   "source": [
    "Такие признаки как `begin_date` и `end_date` в дальнейшей работе избыточны. Использование дат в обучении моделей может привести к утечке данных и снижению универсальности модели. Поэтому **удалим данные признаки**. \n",
    "\n",
    "Однако перед этим на их основе **создадим признак `contract_duration`** (длительность договора в днях), который даст важную информацию о клиентах. В случае, когда дата окончания не указана, используем в качестве `end_date` дату выгрузки данных '2020-01-01'."
   ]
  },
  {
   "cell_type": "code",
   "execution_count": 25,
   "id": "473bbeb3-d97d-4c0b-ad76-dc6df3cf37e1",
   "metadata": {},
   "outputs": [
    {
     "data": {
      "text/html": [
       "<div>\n",
       "<style scoped>\n",
       "    .dataframe tbody tr th:only-of-type {\n",
       "        vertical-align: middle;\n",
       "    }\n",
       "\n",
       "    .dataframe tbody tr th {\n",
       "        vertical-align: top;\n",
       "    }\n",
       "\n",
       "    .dataframe thead th {\n",
       "        text-align: right;\n",
       "    }\n",
       "</style>\n",
       "<table border=\"1\" class=\"dataframe\">\n",
       "  <thead>\n",
       "    <tr style=\"text-align: right;\">\n",
       "      <th></th>\n",
       "      <th>customer_id</th>\n",
       "      <th>begin_date</th>\n",
       "      <th>end_date</th>\n",
       "      <th>type</th>\n",
       "      <th>paperless_billing</th>\n",
       "      <th>payment_method</th>\n",
       "      <th>monthly_charges</th>\n",
       "      <th>total_charges</th>\n",
       "      <th>churn</th>\n",
       "      <th>contract_duration</th>\n",
       "    </tr>\n",
       "  </thead>\n",
       "  <tbody>\n",
       "    <tr>\n",
       "      <th>0</th>\n",
       "      <td>7590-VHVEG</td>\n",
       "      <td>2020-01-01</td>\n",
       "      <td>2020-01-01</td>\n",
       "      <td>Month-to-month</td>\n",
       "      <td>Yes</td>\n",
       "      <td>Electronic check</td>\n",
       "      <td>29.85</td>\n",
       "      <td>31.04</td>\n",
       "      <td>0</td>\n",
       "      <td>0</td>\n",
       "    </tr>\n",
       "    <tr>\n",
       "      <th>1</th>\n",
       "      <td>5575-GNVDE</td>\n",
       "      <td>2017-04-01</td>\n",
       "      <td>2020-01-01</td>\n",
       "      <td>One year</td>\n",
       "      <td>No</td>\n",
       "      <td>Mailed check</td>\n",
       "      <td>56.95</td>\n",
       "      <td>2071.84</td>\n",
       "      <td>0</td>\n",
       "      <td>1005</td>\n",
       "    </tr>\n",
       "    <tr>\n",
       "      <th>2</th>\n",
       "      <td>3668-QPYBK</td>\n",
       "      <td>2019-10-01</td>\n",
       "      <td>2020-01-01</td>\n",
       "      <td>Month-to-month</td>\n",
       "      <td>Yes</td>\n",
       "      <td>Mailed check</td>\n",
       "      <td>53.85</td>\n",
       "      <td>226.17</td>\n",
       "      <td>0</td>\n",
       "      <td>92</td>\n",
       "    </tr>\n",
       "    <tr>\n",
       "      <th>3</th>\n",
       "      <td>7795-CFOCW</td>\n",
       "      <td>2016-05-01</td>\n",
       "      <td>2020-01-01</td>\n",
       "      <td>One year</td>\n",
       "      <td>No</td>\n",
       "      <td>Bank transfer (automatic)</td>\n",
       "      <td>42.30</td>\n",
       "      <td>1960.60</td>\n",
       "      <td>0</td>\n",
       "      <td>1340</td>\n",
       "    </tr>\n",
       "    <tr>\n",
       "      <th>4</th>\n",
       "      <td>9237-HQITU</td>\n",
       "      <td>2019-09-01</td>\n",
       "      <td>2020-01-01</td>\n",
       "      <td>Month-to-month</td>\n",
       "      <td>Yes</td>\n",
       "      <td>Electronic check</td>\n",
       "      <td>70.70</td>\n",
       "      <td>353.50</td>\n",
       "      <td>0</td>\n",
       "      <td>122</td>\n",
       "    </tr>\n",
       "  </tbody>\n",
       "</table>\n",
       "</div>"
      ],
      "text/plain": [
       "  customer_id begin_date   end_date            type paperless_billing  \\\n",
       "0  7590-VHVEG 2020-01-01 2020-01-01  Month-to-month               Yes   \n",
       "1  5575-GNVDE 2017-04-01 2020-01-01        One year                No   \n",
       "2  3668-QPYBK 2019-10-01 2020-01-01  Month-to-month               Yes   \n",
       "3  7795-CFOCW 2016-05-01 2020-01-01        One year                No   \n",
       "4  9237-HQITU 2019-09-01 2020-01-01  Month-to-month               Yes   \n",
       "\n",
       "              payment_method  monthly_charges  total_charges  churn  \\\n",
       "0           Electronic check            29.85          31.04      0   \n",
       "1               Mailed check            56.95        2071.84      0   \n",
       "2               Mailed check            53.85         226.17      0   \n",
       "3  Bank transfer (automatic)            42.30        1960.60      0   \n",
       "4           Electronic check            70.70         353.50      0   \n",
       "\n",
       "   contract_duration  \n",
       "0                  0  \n",
       "1               1005  \n",
       "2                 92  \n",
       "3               1340  \n",
       "4                122  "
      ]
     },
     "metadata": {},
     "output_type": "display_data"
    },
    {
     "name": "stdout",
     "output_type": "stream",
     "text": [
      "Количество пропусков в contract_duration 0\n"
     ]
    }
   ],
   "source": [
    "# Замена NaT на дату выгрузки\n",
    "contract['end_date'].fillna(pd.Timestamp('2020-01-01'), inplace=True)\n",
    "\n",
    "# Расчет 'contract_duration'\n",
    "contract['contract_duration'] = ((contract['end_date'] - contract['begin_date']).dt.days).astype(int)\n",
    "\n",
    "# Проверка результатов\n",
    "display(contract.head())\n",
    "print(f\"Количество пропусков в contract_duration {contract['contract_duration'].isna().sum()}\")"
   ]
  },
  {
   "cell_type": "code",
   "execution_count": 26,
   "id": "0285d9cc-5ed1-4025-8775-94131660b0b1",
   "metadata": {},
   "outputs": [
    {
     "data": {
      "text/html": [
       "<div>\n",
       "<style scoped>\n",
       "    .dataframe tbody tr th:only-of-type {\n",
       "        vertical-align: middle;\n",
       "    }\n",
       "\n",
       "    .dataframe tbody tr th {\n",
       "        vertical-align: top;\n",
       "    }\n",
       "\n",
       "    .dataframe thead th {\n",
       "        text-align: right;\n",
       "    }\n",
       "</style>\n",
       "<table border=\"1\" class=\"dataframe\">\n",
       "  <thead>\n",
       "    <tr style=\"text-align: right;\">\n",
       "      <th></th>\n",
       "      <th>customer_id</th>\n",
       "      <th>type</th>\n",
       "      <th>paperless_billing</th>\n",
       "      <th>payment_method</th>\n",
       "      <th>monthly_charges</th>\n",
       "      <th>total_charges</th>\n",
       "      <th>churn</th>\n",
       "      <th>contract_duration</th>\n",
       "    </tr>\n",
       "  </thead>\n",
       "  <tbody>\n",
       "    <tr>\n",
       "      <th>0</th>\n",
       "      <td>7590-VHVEG</td>\n",
       "      <td>Month-to-month</td>\n",
       "      <td>Yes</td>\n",
       "      <td>Electronic check</td>\n",
       "      <td>29.85</td>\n",
       "      <td>31.04</td>\n",
       "      <td>0</td>\n",
       "      <td>0</td>\n",
       "    </tr>\n",
       "    <tr>\n",
       "      <th>1</th>\n",
       "      <td>5575-GNVDE</td>\n",
       "      <td>One year</td>\n",
       "      <td>No</td>\n",
       "      <td>Mailed check</td>\n",
       "      <td>56.95</td>\n",
       "      <td>2071.84</td>\n",
       "      <td>0</td>\n",
       "      <td>1005</td>\n",
       "    </tr>\n",
       "    <tr>\n",
       "      <th>2</th>\n",
       "      <td>3668-QPYBK</td>\n",
       "      <td>Month-to-month</td>\n",
       "      <td>Yes</td>\n",
       "      <td>Mailed check</td>\n",
       "      <td>53.85</td>\n",
       "      <td>226.17</td>\n",
       "      <td>0</td>\n",
       "      <td>92</td>\n",
       "    </tr>\n",
       "    <tr>\n",
       "      <th>3</th>\n",
       "      <td>7795-CFOCW</td>\n",
       "      <td>One year</td>\n",
       "      <td>No</td>\n",
       "      <td>Bank transfer (automatic)</td>\n",
       "      <td>42.30</td>\n",
       "      <td>1960.60</td>\n",
       "      <td>0</td>\n",
       "      <td>1340</td>\n",
       "    </tr>\n",
       "    <tr>\n",
       "      <th>4</th>\n",
       "      <td>9237-HQITU</td>\n",
       "      <td>Month-to-month</td>\n",
       "      <td>Yes</td>\n",
       "      <td>Electronic check</td>\n",
       "      <td>70.70</td>\n",
       "      <td>353.50</td>\n",
       "      <td>0</td>\n",
       "      <td>122</td>\n",
       "    </tr>\n",
       "  </tbody>\n",
       "</table>\n",
       "</div>"
      ],
      "text/plain": [
       "  customer_id            type paperless_billing             payment_method  \\\n",
       "0  7590-VHVEG  Month-to-month               Yes           Electronic check   \n",
       "1  5575-GNVDE        One year                No               Mailed check   \n",
       "2  3668-QPYBK  Month-to-month               Yes               Mailed check   \n",
       "3  7795-CFOCW        One year                No  Bank transfer (automatic)   \n",
       "4  9237-HQITU  Month-to-month               Yes           Electronic check   \n",
       "\n",
       "   monthly_charges  total_charges  churn  contract_duration  \n",
       "0            29.85          31.04      0                  0  \n",
       "1            56.95        2071.84      0               1005  \n",
       "2            53.85         226.17      0                 92  \n",
       "3            42.30        1960.60      0               1340  \n",
       "4            70.70         353.50      0                122  "
      ]
     },
     "execution_count": 26,
     "metadata": {},
     "output_type": "execute_result"
    }
   ],
   "source": [
    "# Удаление дат\n",
    "contract.drop(['begin_date', 'end_date'], axis=1, inplace=True)\n",
    "contract.head()"
   ]
  },
  {
   "cell_type": "markdown",
   "id": "d9725150-bd3d-4242-8503-3f6d191048d2",
   "metadata": {},
   "source": [
    "**В результате предобработки данных**:\n",
    "- Все данные были приведены к корректным типам.\n",
    "- На основе столбца `end_date` был создан целевой признак `churn` (отток): 1 - если договор разорван и 0 - договор активен.\n",
    "- Также на основе признаков `begin_date` и `end_date` был создан признак `contract_duration` (длительность договора в днях)\n",
    "- Были удалены неинформативные признаки, а именно признаки с датами (`begin_date` и `end_date`).\n",
    "- Были проверены явные и неявные дубликаты, их не обнаружили.\n",
    "- Обработаны неявные пропуски (0,15% от всех данных)."
   ]
  },
  {
   "cell_type": "markdown",
   "id": "15a8267a-4679-4060-a7c3-4c6323566ec3",
   "metadata": {},
   "source": [
    "## Объединение данных <a class=\"anchor\" id=\"объединение\"></a>"
   ]
  },
  {
   "cell_type": "markdown",
   "id": "30e35028-faf2-44a0-8700-d5f3ee28d457",
   "metadata": {},
   "source": [
    "Для дальнейшей работы с данными, объединим все датафреймы в один - **teledom** по ключу `customer_id`."
   ]
  },
  {
   "cell_type": "code",
   "execution_count": 27,
   "id": "3608c437-7da5-47ca-ba6a-fc03865c4174",
   "metadata": {},
   "outputs": [
    {
     "name": "stdout",
     "output_type": "stream",
     "text": [
      "Количество строк в contract: 7043\n",
      "Количество строк в personal: 7043\n",
      "Количество строк в internet: 5517\n",
      "Количество строк в phone: 6361\n"
     ]
    }
   ],
   "source": [
    "# Размер датафреймов до объединения\n",
    "for name, df in all_df.items():\n",
    "    print(f'Количество строк в {name}:', len(df))"
   ]
  },
  {
   "cell_type": "code",
   "execution_count": 28,
   "id": "304f5352-2c7a-48da-9932-c5b7de1aeef4",
   "metadata": {},
   "outputs": [
    {
     "name": "stdout",
     "output_type": "stream",
     "text": [
      "Количество строк после объединения 7043\n",
      "\n"
     ]
    },
    {
     "data": {
      "text/html": [
       "<div>\n",
       "<style scoped>\n",
       "    .dataframe tbody tr th:only-of-type {\n",
       "        vertical-align: middle;\n",
       "    }\n",
       "\n",
       "    .dataframe tbody tr th {\n",
       "        vertical-align: top;\n",
       "    }\n",
       "\n",
       "    .dataframe thead th {\n",
       "        text-align: right;\n",
       "    }\n",
       "</style>\n",
       "<table border=\"1\" class=\"dataframe\">\n",
       "  <thead>\n",
       "    <tr style=\"text-align: right;\">\n",
       "      <th></th>\n",
       "      <th>customer_id</th>\n",
       "      <th>type</th>\n",
       "      <th>paperless_billing</th>\n",
       "      <th>payment_method</th>\n",
       "      <th>monthly_charges</th>\n",
       "      <th>total_charges</th>\n",
       "      <th>churn</th>\n",
       "      <th>contract_duration</th>\n",
       "      <th>gender</th>\n",
       "      <th>senior_citizen</th>\n",
       "      <th>partner</th>\n",
       "      <th>dependents</th>\n",
       "      <th>internet_service</th>\n",
       "      <th>online_security</th>\n",
       "      <th>online_backup</th>\n",
       "      <th>device_protection</th>\n",
       "      <th>tech_support</th>\n",
       "      <th>streaming_tv</th>\n",
       "      <th>streaming_movies</th>\n",
       "      <th>multiple_lines</th>\n",
       "    </tr>\n",
       "  </thead>\n",
       "  <tbody>\n",
       "    <tr>\n",
       "      <th>0</th>\n",
       "      <td>7590-VHVEG</td>\n",
       "      <td>Month-to-month</td>\n",
       "      <td>Yes</td>\n",
       "      <td>Electronic check</td>\n",
       "      <td>29.85</td>\n",
       "      <td>31.04</td>\n",
       "      <td>0</td>\n",
       "      <td>0</td>\n",
       "      <td>Female</td>\n",
       "      <td>0</td>\n",
       "      <td>Yes</td>\n",
       "      <td>No</td>\n",
       "      <td>DSL</td>\n",
       "      <td>No</td>\n",
       "      <td>Yes</td>\n",
       "      <td>No</td>\n",
       "      <td>No</td>\n",
       "      <td>No</td>\n",
       "      <td>No</td>\n",
       "      <td>NaN</td>\n",
       "    </tr>\n",
       "    <tr>\n",
       "      <th>1</th>\n",
       "      <td>5575-GNVDE</td>\n",
       "      <td>One year</td>\n",
       "      <td>No</td>\n",
       "      <td>Mailed check</td>\n",
       "      <td>56.95</td>\n",
       "      <td>2071.84</td>\n",
       "      <td>0</td>\n",
       "      <td>1005</td>\n",
       "      <td>Male</td>\n",
       "      <td>0</td>\n",
       "      <td>No</td>\n",
       "      <td>No</td>\n",
       "      <td>DSL</td>\n",
       "      <td>Yes</td>\n",
       "      <td>No</td>\n",
       "      <td>Yes</td>\n",
       "      <td>No</td>\n",
       "      <td>No</td>\n",
       "      <td>No</td>\n",
       "      <td>No</td>\n",
       "    </tr>\n",
       "    <tr>\n",
       "      <th>2</th>\n",
       "      <td>3668-QPYBK</td>\n",
       "      <td>Month-to-month</td>\n",
       "      <td>Yes</td>\n",
       "      <td>Mailed check</td>\n",
       "      <td>53.85</td>\n",
       "      <td>226.17</td>\n",
       "      <td>0</td>\n",
       "      <td>92</td>\n",
       "      <td>Male</td>\n",
       "      <td>0</td>\n",
       "      <td>No</td>\n",
       "      <td>No</td>\n",
       "      <td>DSL</td>\n",
       "      <td>Yes</td>\n",
       "      <td>Yes</td>\n",
       "      <td>No</td>\n",
       "      <td>No</td>\n",
       "      <td>No</td>\n",
       "      <td>No</td>\n",
       "      <td>No</td>\n",
       "    </tr>\n",
       "    <tr>\n",
       "      <th>3</th>\n",
       "      <td>7795-CFOCW</td>\n",
       "      <td>One year</td>\n",
       "      <td>No</td>\n",
       "      <td>Bank transfer (automatic)</td>\n",
       "      <td>42.30</td>\n",
       "      <td>1960.60</td>\n",
       "      <td>0</td>\n",
       "      <td>1340</td>\n",
       "      <td>Male</td>\n",
       "      <td>0</td>\n",
       "      <td>No</td>\n",
       "      <td>No</td>\n",
       "      <td>DSL</td>\n",
       "      <td>Yes</td>\n",
       "      <td>No</td>\n",
       "      <td>Yes</td>\n",
       "      <td>Yes</td>\n",
       "      <td>No</td>\n",
       "      <td>No</td>\n",
       "      <td>NaN</td>\n",
       "    </tr>\n",
       "    <tr>\n",
       "      <th>4</th>\n",
       "      <td>9237-HQITU</td>\n",
       "      <td>Month-to-month</td>\n",
       "      <td>Yes</td>\n",
       "      <td>Electronic check</td>\n",
       "      <td>70.70</td>\n",
       "      <td>353.50</td>\n",
       "      <td>0</td>\n",
       "      <td>122</td>\n",
       "      <td>Female</td>\n",
       "      <td>0</td>\n",
       "      <td>No</td>\n",
       "      <td>No</td>\n",
       "      <td>Fiber optic</td>\n",
       "      <td>No</td>\n",
       "      <td>No</td>\n",
       "      <td>No</td>\n",
       "      <td>No</td>\n",
       "      <td>No</td>\n",
       "      <td>No</td>\n",
       "      <td>No</td>\n",
       "    </tr>\n",
       "  </tbody>\n",
       "</table>\n",
       "</div>"
      ],
      "text/plain": [
       "  customer_id            type paperless_billing             payment_method  \\\n",
       "0  7590-VHVEG  Month-to-month               Yes           Electronic check   \n",
       "1  5575-GNVDE        One year                No               Mailed check   \n",
       "2  3668-QPYBK  Month-to-month               Yes               Mailed check   \n",
       "3  7795-CFOCW        One year                No  Bank transfer (automatic)   \n",
       "4  9237-HQITU  Month-to-month               Yes           Electronic check   \n",
       "\n",
       "   monthly_charges  total_charges  churn  contract_duration  gender  \\\n",
       "0            29.85          31.04      0                  0  Female   \n",
       "1            56.95        2071.84      0               1005    Male   \n",
       "2            53.85         226.17      0                 92    Male   \n",
       "3            42.30        1960.60      0               1340    Male   \n",
       "4            70.70         353.50      0                122  Female   \n",
       "\n",
       "   senior_citizen partner dependents internet_service online_security  \\\n",
       "0               0     Yes         No              DSL              No   \n",
       "1               0      No         No              DSL             Yes   \n",
       "2               0      No         No              DSL             Yes   \n",
       "3               0      No         No              DSL             Yes   \n",
       "4               0      No         No      Fiber optic              No   \n",
       "\n",
       "  online_backup device_protection tech_support streaming_tv streaming_movies  \\\n",
       "0           Yes                No           No           No               No   \n",
       "1            No               Yes           No           No               No   \n",
       "2           Yes                No           No           No               No   \n",
       "3            No               Yes          Yes           No               No   \n",
       "4            No                No           No           No               No   \n",
       "\n",
       "  multiple_lines  \n",
       "0            NaN  \n",
       "1             No  \n",
       "2             No  \n",
       "3            NaN  \n",
       "4             No  "
      ]
     },
     "metadata": {},
     "output_type": "display_data"
    },
    {
     "name": "stdout",
     "output_type": "stream",
     "text": [
      "Количество пропусков:\n",
      "customer_id             0\n",
      "type                    0\n",
      "paperless_billing       0\n",
      "payment_method          0\n",
      "monthly_charges         0\n",
      "total_charges           0\n",
      "churn                   0\n",
      "contract_duration       0\n",
      "gender                  0\n",
      "senior_citizen          0\n",
      "partner                 0\n",
      "dependents              0\n",
      "internet_service     1526\n",
      "online_security      1526\n",
      "online_backup        1526\n",
      "device_protection    1526\n",
      "tech_support         1526\n",
      "streaming_tv         1526\n",
      "streaming_movies     1526\n",
      "multiple_lines        682\n",
      "dtype: int64\n"
     ]
    }
   ],
   "source": [
    "# Объединение датафреймов в один\n",
    "teledom = (\n",
    "    contract\n",
    "    .merge(personal, on='customer_id', how='outer')\n",
    "    .merge(internet, on='customer_id', how='outer')\n",
    "    .merge(phone, on='customer_id', how='outer')\n",
    ")\n",
    "\n",
    "# Проверка результатов\n",
    "print(f'Количество строк после объединения {len(teledom)}', end='\\n\\n')\n",
    "display(teledom.head())\n",
    "print('Количество пропусков:', teledom.isna().sum(), sep='\\n')"
   ]
  },
  {
   "cell_type": "markdown",
   "id": "2919f8ea-7025-4004-bd0e-fe50c0459583",
   "metadata": {},
   "source": [
    "После объединения данных появились пропуски в параметрах с информацией об интернет-услугах и услугах телефонии, т.к. не все клиенты подключали данные услуги. Пропущенные значения заменим на значения *'unknown'*."
   ]
  },
  {
   "cell_type": "code",
   "execution_count": 29,
   "id": "854f7007-2fc8-4df5-9acd-51c5c30ecbb5",
   "metadata": {},
   "outputs": [
    {
     "name": "stdout",
     "output_type": "stream",
     "text": [
      "Количество пропусков:\n",
      "customer_id          0\n",
      "type                 0\n",
      "paperless_billing    0\n",
      "payment_method       0\n",
      "monthly_charges      0\n",
      "total_charges        0\n",
      "churn                0\n",
      "contract_duration    0\n",
      "gender               0\n",
      "senior_citizen       0\n",
      "partner              0\n",
      "dependents           0\n",
      "internet_service     0\n",
      "online_security      0\n",
      "online_backup        0\n",
      "device_protection    0\n",
      "tech_support         0\n",
      "streaming_tv         0\n",
      "streaming_movies     0\n",
      "multiple_lines       0\n",
      "dtype: int64\n"
     ]
    }
   ],
   "source": [
    "# Заполнение пропусков\n",
    "teledom.fillna('unknown', inplace=True)\n",
    "print('Количество пропусков:', teledom.isna().sum(), sep='\\n')"
   ]
  },
  {
   "cell_type": "markdown",
   "id": "30b22712-df80-46ae-90a9-02534f1dce89",
   "metadata": {},
   "source": [
    "**Вывод**\n",
    "- Все данные были объеденены в один датафрейм - **teledom** (по ключу customer_id). Он включает в себя 7043 уникальных клиентов.\n",
    "- Пропущенные значения в параметрах с информацией об интернет-услугах и услугах телефонии, появившиеся после объединения данных, были заполнены на значение 'unknown'. Это поможет избежать искажения распределения данных, а также позволит модели учитывать влияние подобных ропусков."
   ]
  },
  {
   "cell_type": "markdown",
   "id": "b7087c76-b271-4f43-9aaa-99a36ec39e31",
   "metadata": {},
   "source": [
    "## Исследовательский анализ данных <a class=\"anchor\" id=\"eda\"></a>"
   ]
  },
  {
   "cell_type": "markdown",
   "id": "048b1ffc-58a1-47f0-9be8-11a156ca41b3",
   "metadata": {},
   "source": [
    "### Целевой признак <a class=\"anchor\" id=\"целевой\"></a>"
   ]
  },
  {
   "cell_type": "code",
   "execution_count": 30,
   "id": "27559105-fb04-450e-a2a5-5fdb149bdeed",
   "metadata": {},
   "outputs": [
    {
     "data": {
      "text/html": [
       "<div>\n",
       "<style scoped>\n",
       "    .dataframe tbody tr th:only-of-type {\n",
       "        vertical-align: middle;\n",
       "    }\n",
       "\n",
       "    .dataframe tbody tr th {\n",
       "        vertical-align: top;\n",
       "    }\n",
       "\n",
       "    .dataframe thead th {\n",
       "        text-align: right;\n",
       "    }\n",
       "</style>\n",
       "<table border=\"1\" class=\"dataframe\">\n",
       "  <thead>\n",
       "    <tr style=\"text-align: right;\">\n",
       "      <th></th>\n",
       "      <th>Количество</th>\n",
       "    </tr>\n",
       "    <tr>\n",
       "      <th>churn</th>\n",
       "      <th></th>\n",
       "    </tr>\n",
       "  </thead>\n",
       "  <tbody>\n",
       "    <tr>\n",
       "      <th>0</th>\n",
       "      <td>5942</td>\n",
       "    </tr>\n",
       "    <tr>\n",
       "      <th>1</th>\n",
       "      <td>1101</td>\n",
       "    </tr>\n",
       "  </tbody>\n",
       "</table>\n",
       "</div>"
      ],
      "text/plain": [
       "       Количество\n",
       "churn            \n",
       "0            5942\n",
       "1            1101"
      ]
     },
     "metadata": {},
     "output_type": "display_data"
    },
    {
     "data": {
      "image/png": "[encoded data removed]",
      "text/plain": [
       "<Figure size 288x288 with 1 Axes>"
      ]
     },
     "metadata": {},
     "output_type": "display_data"
    }
   ],
   "source": [
    "# График по столбцу 'churn'\n",
    "plt_pie_pivot(teledom, 'churn', 'Ушел ли клиент', figsize=(4,4))"
   ]
  },
  {
   "cell_type": "markdown",
   "id": "bf1e4fd9-daaf-4824-8c81-339d46d08800",
   "metadata": {},
   "source": [
    "Клиенты, разорвавшие договор, составляют всего **15,63%** от всех данных. Таким образом, наблюдаем дисбаланс классов. Учтем его при моделировании и выборе метрики оценки качества."
   ]
  },
  {
   "cell_type": "markdown",
   "id": "92732aff-c917-41c9-a79d-f346463063db",
   "metadata": {},
   "source": [
    "### Количественные признаки <a class=\"anchor\" id=\"количественные\"></a>"
   ]
  },
  {
   "cell_type": "markdown",
   "id": "474e2ae4-b46c-4ab7-b620-e3d91c6f8f14",
   "metadata": {},
   "source": [
    "1) `monthly_charges` - расходы за месяц."
   ]
  },
  {
   "cell_type": "code",
   "execution_count": 31,
   "id": "d1264d73-a328-4a7a-a6e9-30bdc212f30f",
   "metadata": {},
   "outputs": [
    {
     "name": "stdout",
     "output_type": "stream",
     "text": [
      "Описательные статистики параметра Ежемесячные расходы\n"
     ]
    },
    {
     "data": {
      "text/html": [
       "<div>\n",
       "<style scoped>\n",
       "    .dataframe tbody tr th:only-of-type {\n",
       "        vertical-align: middle;\n",
       "    }\n",
       "\n",
       "    .dataframe tbody tr th {\n",
       "        vertical-align: top;\n",
       "    }\n",
       "\n",
       "    .dataframe thead th {\n",
       "        text-align: right;\n",
       "    }\n",
       "</style>\n",
       "<table border=\"1\" class=\"dataframe\">\n",
       "  <thead>\n",
       "    <tr style=\"text-align: right;\">\n",
       "      <th></th>\n",
       "      <th>monthly_charges</th>\n",
       "    </tr>\n",
       "  </thead>\n",
       "  <tbody>\n",
       "    <tr>\n",
       "      <th>count</th>\n",
       "      <td>7043.000000</td>\n",
       "    </tr>\n",
       "    <tr>\n",
       "      <th>mean</th>\n",
       "      <td>64.761692</td>\n",
       "    </tr>\n",
       "    <tr>\n",
       "      <th>std</th>\n",
       "      <td>30.090047</td>\n",
       "    </tr>\n",
       "    <tr>\n",
       "      <th>min</th>\n",
       "      <td>18.250000</td>\n",
       "    </tr>\n",
       "    <tr>\n",
       "      <th>25%</th>\n",
       "      <td>35.500000</td>\n",
       "    </tr>\n",
       "    <tr>\n",
       "      <th>50%</th>\n",
       "      <td>70.350000</td>\n",
       "    </tr>\n",
       "    <tr>\n",
       "      <th>75%</th>\n",
       "      <td>89.850000</td>\n",
       "    </tr>\n",
       "    <tr>\n",
       "      <th>max</th>\n",
       "      <td>118.750000</td>\n",
       "    </tr>\n",
       "  </tbody>\n",
       "</table>\n",
       "</div>"
      ],
      "text/plain": [
       "       monthly_charges\n",
       "count      7043.000000\n",
       "mean         64.761692\n",
       "std          30.090047\n",
       "min          18.250000\n",
       "25%          35.500000\n",
       "50%          70.350000\n",
       "75%          89.850000\n",
       "max         118.750000"
      ]
     },
     "metadata": {},
     "output_type": "display_data"
    },
    {
     "data": {
      "image/png": "[encoded data removed]",
      "text/plain": [
       "<Figure size 864x324 with 2 Axes>"
      ]
     },
     "metadata": {
      "needs_background": "light"
     },
     "output_type": "display_data"
    }
   ],
   "source": [
    "# Графики по столбцу 'monthly_charges'\n",
    "plt_hist_boxplt(teledom, 'monthly_charges', title='Ежемесячные расходы', \n",
    "                hue='churn', label='Расходы', bins=20)"
   ]
  },
  {
   "cell_type": "markdown",
   "id": "f9abc276-9365-43b8-8d50-87639a074baf",
   "metadata": {},
   "source": [
    "- *Общее распределение*. На гистограмме наблюдаем **бимодальное** распределение. Первый пик - около **20**, где сосредоточено большинство клиентов с низкими расходами. Это может соответствовать базовому тарифу или минимальному ежемесячному платежу. Второй пик — около **70-80**, что может указывать на группу клиентов с более высокими тарифами или доп. услугами.\n",
    "- *В разрезе целевого признака.* Клиенты, которые ушли, чаще встречаются в диапазоне более высоких расходов (80–120) и медиана их расходов выше (более 70). Клиенты, которые остались, имеют более широкое распределение и медиана их расходов ниже (около 70). Таким образом, можно сделать предположение, что высокие ежемесячные расходы связаны с повышенным оттоком клиентов."
   ]
  },
  {
   "cell_type": "markdown",
   "id": "ea37c6a0-b2d8-47db-b5a0-554cb6cf92e5",
   "metadata": {},
   "source": [
    "2) `total_charges` - общие расходы абонента."
   ]
  },
  {
   "cell_type": "code",
   "execution_count": 32,
   "id": "c678d2ac-e7d8-4ebc-a534-3af87d5608b7",
   "metadata": {},
   "outputs": [
    {
     "name": "stdout",
     "output_type": "stream",
     "text": [
      "Описательные статистики параметра Общие расходы\n"
     ]
    },
    {
     "data": {
      "text/html": [
       "<div>\n",
       "<style scoped>\n",
       "    .dataframe tbody tr th:only-of-type {\n",
       "        vertical-align: middle;\n",
       "    }\n",
       "\n",
       "    .dataframe tbody tr th {\n",
       "        vertical-align: top;\n",
       "    }\n",
       "\n",
       "    .dataframe thead th {\n",
       "        text-align: right;\n",
       "    }\n",
       "</style>\n",
       "<table border=\"1\" class=\"dataframe\">\n",
       "  <thead>\n",
       "    <tr style=\"text-align: right;\">\n",
       "      <th></th>\n",
       "      <th>total_charges</th>\n",
       "    </tr>\n",
       "  </thead>\n",
       "  <tbody>\n",
       "    <tr>\n",
       "      <th>count</th>\n",
       "      <td>7043.000000</td>\n",
       "    </tr>\n",
       "    <tr>\n",
       "      <th>mean</th>\n",
       "      <td>2115.312885</td>\n",
       "    </tr>\n",
       "    <tr>\n",
       "      <th>std</th>\n",
       "      <td>2112.742814</td>\n",
       "    </tr>\n",
       "    <tr>\n",
       "      <th>min</th>\n",
       "      <td>0.000000</td>\n",
       "    </tr>\n",
       "    <tr>\n",
       "      <th>25%</th>\n",
       "      <td>436.750000</td>\n",
       "    </tr>\n",
       "    <tr>\n",
       "      <th>50%</th>\n",
       "      <td>1343.350000</td>\n",
       "    </tr>\n",
       "    <tr>\n",
       "      <th>75%</th>\n",
       "      <td>3236.690000</td>\n",
       "    </tr>\n",
       "    <tr>\n",
       "      <th>max</th>\n",
       "      <td>9221.380000</td>\n",
       "    </tr>\n",
       "  </tbody>\n",
       "</table>\n",
       "</div>"
      ],
      "text/plain": [
       "       total_charges\n",
       "count    7043.000000\n",
       "mean     2115.312885\n",
       "std      2112.742814\n",
       "min         0.000000\n",
       "25%       436.750000\n",
       "50%      1343.350000\n",
       "75%      3236.690000\n",
       "max      9221.380000"
      ]
     },
     "metadata": {},
     "output_type": "display_data"
    },
    {
     "data": {
      "image/png": "[encoded data removed]",
      "text/plain": [
       "<Figure size 864x324 with 2 Axes>"
      ]
     },
     "metadata": {
      "needs_background": "light"
     },
     "output_type": "display_data"
    }
   ],
   "source": [
    "# Графики по столбцу 'total_charges'\n",
    "plt_hist_boxplt(teledom, 'total_charges', title='Общие расходы', \n",
    "                hue='churn', label='Расходы', bins=20)"
   ]
  },
  {
   "cell_type": "markdown",
   "id": "e12b98e0-5934-4e66-8af8-5b65cfc2d74b",
   "metadata": {},
   "source": [
    "- *Общее распределение*. На гистограмме наблюдаем явный пик в диапазоне **от 0 до 1000**, т.е. большинство клиентов с низким общим расходом. Это могут быть как новые клиенты, так и довольно длительные договоры, но с минимальными тарифами. Медианное значение составляет 1343.\n",
    "На диаграммах размаха значения выше 7500 обозначены как выбросы, однако это не ошибочные или аномальные данные.\n",
    "- *В разрезе целевого признака.* По аналогии с ежемесячными расходами, медиана расходов ушедших клиентов выше (около 2000), чем оставшихся."
   ]
  },
  {
   "cell_type": "markdown",
   "id": "13d61819-c237-4fb2-a081-90973987e5bf",
   "metadata": {},
   "source": [
    "3) `contract_duration` - длительность договора в днях."
   ]
  },
  {
   "cell_type": "code",
   "execution_count": 33,
   "id": "25180257-91d7-44cd-8517-cad2ea098524",
   "metadata": {},
   "outputs": [
    {
     "name": "stdout",
     "output_type": "stream",
     "text": [
      "Описательные статистики параметра Длительность договора\n"
     ]
    },
    {
     "data": {
      "text/html": [
       "<div>\n",
       "<style scoped>\n",
       "    .dataframe tbody tr th:only-of-type {\n",
       "        vertical-align: middle;\n",
       "    }\n",
       "\n",
       "    .dataframe tbody tr th {\n",
       "        vertical-align: top;\n",
       "    }\n",
       "\n",
       "    .dataframe thead th {\n",
       "        text-align: right;\n",
       "    }\n",
       "</style>\n",
       "<table border=\"1\" class=\"dataframe\">\n",
       "  <thead>\n",
       "    <tr style=\"text-align: right;\">\n",
       "      <th></th>\n",
       "      <th>contract_duration</th>\n",
       "    </tr>\n",
       "  </thead>\n",
       "  <tbody>\n",
       "    <tr>\n",
       "      <th>count</th>\n",
       "      <td>7043.000000</td>\n",
       "    </tr>\n",
       "    <tr>\n",
       "      <th>mean</th>\n",
       "      <td>872.401817</td>\n",
       "    </tr>\n",
       "    <tr>\n",
       "      <th>std</th>\n",
       "      <td>683.409887</td>\n",
       "    </tr>\n",
       "    <tr>\n",
       "      <th>min</th>\n",
       "      <td>-31.000000</td>\n",
       "    </tr>\n",
       "    <tr>\n",
       "      <th>25%</th>\n",
       "      <td>245.000000</td>\n",
       "    </tr>\n",
       "    <tr>\n",
       "      <th>50%</th>\n",
       "      <td>730.000000</td>\n",
       "    </tr>\n",
       "    <tr>\n",
       "      <th>75%</th>\n",
       "      <td>1430.000000</td>\n",
       "    </tr>\n",
       "    <tr>\n",
       "      <th>max</th>\n",
       "      <td>2283.000000</td>\n",
       "    </tr>\n",
       "  </tbody>\n",
       "</table>\n",
       "</div>"
      ],
      "text/plain": [
       "       contract_duration\n",
       "count        7043.000000\n",
       "mean          872.401817\n",
       "std           683.409887\n",
       "min           -31.000000\n",
       "25%           245.000000\n",
       "50%           730.000000\n",
       "75%          1430.000000\n",
       "max          2283.000000"
      ]
     },
     "metadata": {},
     "output_type": "display_data"
    },
    {
     "data": {
      "image/png": "[encoded data removed]",
      "text/plain": [
       "<Figure size 864x324 with 2 Axes>"
      ]
     },
     "metadata": {
      "needs_background": "light"
     },
     "output_type": "display_data"
    }
   ],
   "source": [
    "# Графики по столбцу 'contract_duration'\n",
    "plt_hist_boxplt(teledom, 'contract_duration', title='Длительность договора', \n",
    "                hue='churn', label='Количество дней', bins=20)"
   ]
  },
  {
   "cell_type": "markdown",
   "id": "29e847e1-aea4-4435-bb9d-8b753b4992d1",
   "metadata": {},
   "source": [
    "- *Общее распределение*. На гистограмме видим **бимодальное** распределение. Первый пик - около **50-200**, где сосредоточено большинство клиентов. Это самые новые клиенты, с которыми договор был заключен за последние 6 месяцев. Второй пик — около **2200**, что указывает на группу самых лояльных клиентов (длительность договора свыше 5 лет).\n",
    "- *В разрезе целевого признака.* В основном длительность договоров ушедших клиентов составляет **500-1200 дней (1,5 - 3,2 года)**. Возможно, компания уделяет больше внимания новым клиентам, игнорируя более \"зрелых\" клиентов. Отсутствие различного рода поощрений, выгод для лояльных клиентов может послужить причиной их ухода."
   ]
  },
  {
   "cell_type": "markdown",
   "id": "79d19954-efd5-4ebe-bfc6-a64b9c02cb4a",
   "metadata": {},
   "source": [
    "### Категориальные признаки <a class=\"anchor\" id=\"категориальные\"></a>"
   ]
  },
  {
   "cell_type": "code",
   "execution_count": 34,
   "id": "b2d4310b-acef-4a4c-ac0b-243171b0a01f",
   "metadata": {},
   "outputs": [
    {
     "data": {
      "image/png": "[encoded data removed]",
      "text/plain": [
       "<Figure size 1080x2520 with 15 Axes>"
      ]
     },
     "metadata": {
      "needs_background": "light"
     },
     "output_type": "display_data"
    }
   ],
   "source": [
    "# Список категориальных признаков\n",
    "columns_barplot = [\n",
    "    ('Тип оплаты', 'type'), \n",
    "    ('Тип платежа', 'payment_method'), \n",
    "    ('Электронный расчётный лист', 'paperless_billing'),\n",
    "    ('Пол клиента', 'gender'),\n",
    "    ('Является ли пенсионером', 'senior_citizen'),\n",
    "    ('Есть ли супруг/супруга', 'partner'),\n",
    "    ('Есть ли дети', 'dependents'),\n",
    "    ('Тип подключения интернета', 'internet_service'),\n",
    "    ('Блокировка опасных сайтов', 'online_security'),\n",
    "    ('Облачное хранилище', 'online_backup'),\n",
    "    ('Антивирус', 'device_protection'),\n",
    "    ('Техническая поддержка', 'tech_support'),\n",
    "    ('Стриминговое ТВ', 'streaming_tv'),\n",
    "    ('Каталог фильмов', 'streaming_movies'),\n",
    "    ('Несколько линий для телефона', 'multiple_lines')    \n",
    "]\n",
    "\n",
    "# Построение графиков\n",
    "fig, axes = plt.subplots(8, 2, figsize=(15, 35))\n",
    "axes = axes.flatten()\n",
    "\n",
    "for i, (title, col) in enumerate(columns_barplot):\n",
    "    column_pivot_bar = (\n",
    "        teledom\n",
    "        .pivot_table(index=[col, 'churn'], values='customer_id', aggfunc='count')\n",
    "        .reset_index()\n",
    "        .sort_values(by='customer_id', ascending=False)\n",
    "    ) \n",
    "\n",
    "    # Столбчатая диаграмма\n",
    "    sns.barplot(data=column_pivot_bar, x=col, y='customer_id', hue='churn', ax=axes[i], palette='tab10')\n",
    "    axes[i].set_title(title, fontsize=14)\n",
    "    axes[i].set_xlabel(title)\n",
    "    axes[i].set_ylabel('Процент')\n",
    "\n",
    "    # Добавление меток на столбики\n",
    "    for container in axes[i].containers:\n",
    "        axes[i].bar_label(container, fontsize=11)\n",
    "\n",
    "fig.delaxes(axes[15])\n",
    "plt.tight_layout()\n",
    "plt.show()"
   ]
  },
  {
   "cell_type": "markdown",
   "id": "4f1c41d1-5adc-454f-9359-8e8c758910c6",
   "metadata": {},
   "source": [
    "- **Тип оплаты**. Большинство клиентов оплачивают услуги помесячно. Клиенты, *платившие за услуги раз в год/2 года, чаще других расторгали договор* (в 22% случаев). Причинами этому могут быть большая финансовая нагрузка (высокая разовая оплата воспринимается клиентом тяжелее, чем небольшая, но ежемесячная), а также низкая гибкость и уровень вовлеченности клиента.\n",
    "- **Тип платежа**. Наибольшее количество клиентов совершают платеж электронным чеком. В разрезе целевого признака выделяются *автоматические платежи* (перевод и кредитной картой): используя их, клиенты чаще расторгают договор (около 20%). Причиной этому может быть низкий уровень контроля клиента.  Автоматизация снижает контакт с компанией, и клиент может реже замечать ценность услуги, а также все изменения в ценообразовании.\n",
    "- **Электронный расчетный лист**. Большинству клиентов отправляется электронный расчетный лист. На отток клиента данный параметр существенно *не влияет*, взаимосвязь на графике не прослеживается.\n",
    "- **Пол клиента**. Распределение равномерное. В разрезе целевого признака *различий не наблюдается*.\n",
    "- **Является ли пенсионером**. Подавляющее большинство клиентов не являются пенсионерами. Клиенты-пенсионеры чуть *чаще других расторгают договор* (отток более 20%). Возможно, данная категория имеет более ограниченные финансовые возможности, и высокая стоимость услуг или отсутствие персонализированного обслуживания может стать причиной расторжения договора.\n",
    "- **Есть ли супруг/супруга**. Количество клиентов разного семейного положения распределено достаточно равномерно. При этом клиенты *состоящие в браке в 2 раза чаще расторгают договор*, чем неженатые. Это может указывать на сверхвысокие финансовые обязательства или сложности в удовлетворении потребностей более чем одного человека в семье.\n",
    "- **Есть ли дети**. Большинство клиентов не имеют детей. Их наличие на отток клиента существенно *не влияет.*\n",
    "- **Тип подключения интернета**. Наибольшей части клиентов интернет подключен через оптоволокно. В разрезе целевого признака существенных *различий в распределении не наблюдается.*\n",
    "- **Блокировка опасных сайтов**. Большинство клиентов не пользуются данной услугой. Клиенты, *использующие ее, чаще других расторгают договор* (свыше 20%). Возможно, клиентов не устраивает качество услуги либо ее стоимость.\n",
    "- **Облачное хранилище файлов**. Большинство клиентов не пользуются данной услугой. Клиенты, *подключившие ее, в 2 раза чаще расторгают договор.*\n",
    "- **Антивирус**. Большинство клиентов не пользуются данной услугой. Здесь также, клиенты, *подключившие ее, в 2 раза чаще расторгают договор.*\n",
    "- **Выделенная линия технической поддержки**. Большинство клиентов не пользуются данной услугой. Клиенты, *использующие ее, чуть чаще других расторгают договор* (19%). Это может быть показателем низкого качества оказываемой техподдержки или высокой стоимости услуги для клиента.\n",
    "- **Стриминговое ТВ**. Распределение клиентов, использующих и не использующих услугу, достачно равномерное. При этом клиенты, *подключившие ее, уходят в 23% случаев*, т.е. в 2 раза чаще, чем не подключившие ее. Это может указывать на недостаточную ценность услуги или её несоответствие ожиданиям (низкое качество контента, высокая стоимость и др).\n",
    "- **Каталог фильмов**. Распределение клиентов, использующих и не использующих услугу, достачно равномерное. Клиенты, *использующие ее, в 2 раза чаще расторгают договор.* Причиной этому может служить недостаточное наполнение каталога, низкое качество или высокая стоимость услуги.\n",
    "- **Подключение телефона к нескольким линиям**. Большинство клиентов не пользуются данной услугой. Клиенты, подключившие ее, *чаще других расторгают договор* (отток более 22%). Это может указывать на низкий спрос на услугу и её ограниченную полезность для большинства пользователей."
   ]
  },
  {
   "cell_type": "markdown",
   "id": "6e7452dd-fcbe-4afb-9401-d6e204f185cf",
   "metadata": {},
   "source": [
    "**Выводы**\n",
    "\n",
    "Рассмотрев основные данные о клиентах, мы проанализировали распределение значений по каждому параметру в целом и в разрезе целевого признака. В результате:\n",
    "\n",
    "- Ушедшие клиенты составляют 15,63% данных, что указывает на дисбаланс классов.  \n",
    "- Клиенты с высокими ежемесячными расходами (80–120) чаще разрывают договор.  \n",
    "- Ушедшие клиенты имеют более высокие общие расходы (медиана ~2000 против ~1343).  \n",
    "- Договоры длительностью 1,5–3,2 года связаны с повышенным оттоком.  \n",
    "- Клиенты, использующие годовую/двухгодовую оплату и автоматические платежи чаще расторгают договор (~20-22%).  \n",
    "- Пенсионеры и клиенты в браке чаще расторгают договор.  \n",
    "- Использование доплнительных интернет-услуг (стриминговое ТВ, антивирус, каталог фильмов) связано с оттоком клиентов (~22-23%).  \n",
    "- Подключение телефона к нескольким линиям одновременно повышает вероятность оттока (~22%).\n",
    "- Пол клиента, наличие у него детей, а также тип подключения интернета не оказывают существенного влияния на вероятность оттока клиента."
   ]
  },
  {
   "cell_type": "markdown",
   "id": "03f00771-e117-43fa-8490-6c536683a81e",
   "metadata": {},
   "source": [
    "## Корреляционный анализ <a class=\"anchor\" id=\"корреляция\"></a>"
   ]
  },
  {
   "cell_type": "markdown",
   "id": "07e5008a-a56d-4d65-b5d9-2c92cecb9263",
   "metadata": {},
   "source": [
    "Изучим взаимосвязь между признаками. Для этого рассчитаем коэффициенты корреляции Фи и построим тепловую карту. Используем для расчета все количественные и качественные признаки, кроме `customer_id` (его удалим из расчета)."
   ]
  },
  {
   "cell_type": "code",
   "execution_count": 35,
   "id": "b3b257ca-a73a-4306-90c0-bd6c80707194",
   "metadata": {},
   "outputs": [],
   "source": [
    "# Установка 'customer_id' в качестве индекса\n",
    "teledom.set_index('customer_id', inplace=True)"
   ]
  },
  {
   "cell_type": "code",
   "execution_count": 36,
   "id": "95700b90-d826-4419-ac19-00f3aef3ce19",
   "metadata": {},
   "outputs": [
    {
     "data": {
      "image/png": "[encoded data removed]",
      "text/plain": [
       "<Figure size 1008x576 with 2 Axes>"
      ]
     },
     "metadata": {
      "needs_background": "light"
     },
     "output_type": "display_data"
    }
   ],
   "source": [
    "# Расчет корреляции Фи\n",
    "teledom_phik = (teledom\n",
    "                .phik_matrix(interval_cols=[\n",
    "                    'monthly_charges', \n",
    "                    'total_charges', \n",
    "                    'contract_duration']\n",
    "                            )\n",
    "                .round(3)\n",
    "               )\n",
    "\n",
    "# Тепловая карта\n",
    "plt.figure(figsize=(14,8))\n",
    "sns.heatmap(teledom_phik, annot=True, fmt='.3f', annot_kws={'size': 10}, cmap='crest')\n",
    "plt.title('Матрица корреляции')\n",
    "plt.show()"
   ]
  },
  {
   "cell_type": "markdown",
   "id": "e9e30bdf-8a16-42b5-8d14-74652f46f015",
   "metadata": {},
   "source": [
    "**Выводы:**\n",
    "\n",
    "Проанализировав матрицу корреляции, выявили следующие взаимосвязи:\n",
    "- Целевой признак `churn` имеет умеренный уровень корреляции с признаками `contract_duration` (коэфф. 0.385) и  `total_charges` (коэфф. 0.303). С остальными признаками видим слабую корреляцию.\n",
    "- Наличие мультиколлениарности между признаками с дополнительными интернет-услугами (`online_security`, `online_backup`, `device_protection`, `tech_support`, `streaming_tv`, `streaming_movies`) - коэффициенты свыше 0.94. По этой причине, а также потому что данные признаки имеют низкую корреляцию с целевым признаком, *в обучении моделей их использовать не будем*. На их основе созадим новый признак - `internet_extra_service` (количество подключенных доп услуг). Таким образом, мы не потеряем важную информацию по услугам клиентов, но избавимся от мультиколлениарности.\n",
    "- Признак `gender` показывает практически нулевую корреляцию как с целевым признаком, так и с другими. На этапе EDA мы также выяснили, что пол клиента не взаимосвязан с оттоком клиента. По этим причинам *не будем использовать его* при обучении моделей."
   ]
  },
  {
   "cell_type": "markdown",
   "id": "e3cedea7-f92f-4fd6-b42b-00423a279916",
   "metadata": {},
   "source": [
    "## Подготовка данных к обучению <a class=\"anchor\" id=\"подготовка\"></a>"
   ]
  },
  {
   "cell_type": "markdown",
   "id": "66b3e0c9-26bc-47b8-95fd-fcb083e281bd",
   "metadata": {},
   "source": [
    "### Создание признаков <a class=\"anchor\" id=\"создание_признаков\"></a>"
   ]
  },
  {
   "cell_type": "markdown",
   "id": "be31045c-04a8-469d-8fc3-241877f3c756",
   "metadata": {},
   "source": [
    "Создадим 3 новых признака:\n",
    "1) **`internet_extra_service`** (количество подключенных доп услуг) - сумма из используемых услуг `online_security`, `online_backup`, `device_protection`, `tech_support`, `streaming_tv`, `streaming_movies`.\n",
    "\n",
    "2) **`avg_monthly_charges`** (среднемесячные расходы) - общие расходы (`total_charges`), деленные на длительность контракта в месяцах (`contract_duration` / 30 дней). Данный признак позволит увидеть поведение клиентов в долгосрочной перспективе и возможно некоторые закономерности в расходах.\n",
    "\n",
    "3) **`monthly_charges_deviation`** (отклонение ежемесячных расходов) - разница между `monthly_charges` (текущие ежемесчные расходы) и `avg_monthly_charges` (ежемесячные расходы за весь период договора). Таким образом, это поможет выявить клиентов с нестабильными платежами; клиентов, менявших тарифы, список услуг и т.д."
   ]
  },
  {
   "cell_type": "code",
   "execution_count": 37,
   "id": "6fc59dcb-2098-4f0e-ba6b-39c26f3691ae",
   "metadata": {},
   "outputs": [
    {
     "data": {
      "text/html": [
       "<div>\n",
       "<style scoped>\n",
       "    .dataframe tbody tr th:only-of-type {\n",
       "        vertical-align: middle;\n",
       "    }\n",
       "\n",
       "    .dataframe tbody tr th {\n",
       "        vertical-align: top;\n",
       "    }\n",
       "\n",
       "    .dataframe thead th {\n",
       "        text-align: right;\n",
       "    }\n",
       "</style>\n",
       "<table border=\"1\" class=\"dataframe\">\n",
       "  <thead>\n",
       "    <tr style=\"text-align: right;\">\n",
       "      <th></th>\n",
       "      <th>type</th>\n",
       "      <th>paperless_billing</th>\n",
       "      <th>payment_method</th>\n",
       "      <th>monthly_charges</th>\n",
       "      <th>total_charges</th>\n",
       "      <th>churn</th>\n",
       "      <th>contract_duration</th>\n",
       "      <th>gender</th>\n",
       "      <th>senior_citizen</th>\n",
       "      <th>partner</th>\n",
       "      <th>dependents</th>\n",
       "      <th>internet_service</th>\n",
       "      <th>online_security</th>\n",
       "      <th>online_backup</th>\n",
       "      <th>device_protection</th>\n",
       "      <th>tech_support</th>\n",
       "      <th>streaming_tv</th>\n",
       "      <th>streaming_movies</th>\n",
       "      <th>multiple_lines</th>\n",
       "      <th>internet_extra_service</th>\n",
       "      <th>avg_monthly_charges</th>\n",
       "      <th>monthly_charges_deviation</th>\n",
       "    </tr>\n",
       "    <tr>\n",
       "      <th>customer_id</th>\n",
       "      <th></th>\n",
       "      <th></th>\n",
       "      <th></th>\n",
       "      <th></th>\n",
       "      <th></th>\n",
       "      <th></th>\n",
       "      <th></th>\n",
       "      <th></th>\n",
       "      <th></th>\n",
       "      <th></th>\n",
       "      <th></th>\n",
       "      <th></th>\n",
       "      <th></th>\n",
       "      <th></th>\n",
       "      <th></th>\n",
       "      <th></th>\n",
       "      <th></th>\n",
       "      <th></th>\n",
       "      <th></th>\n",
       "      <th></th>\n",
       "      <th></th>\n",
       "      <th></th>\n",
       "    </tr>\n",
       "  </thead>\n",
       "  <tbody>\n",
       "    <tr>\n",
       "      <th>7590-VHVEG</th>\n",
       "      <td>Month-to-month</td>\n",
       "      <td>Yes</td>\n",
       "      <td>Electronic check</td>\n",
       "      <td>29.85</td>\n",
       "      <td>31.04</td>\n",
       "      <td>0</td>\n",
       "      <td>0</td>\n",
       "      <td>Female</td>\n",
       "      <td>0</td>\n",
       "      <td>Yes</td>\n",
       "      <td>No</td>\n",
       "      <td>DSL</td>\n",
       "      <td>No</td>\n",
       "      <td>Yes</td>\n",
       "      <td>No</td>\n",
       "      <td>No</td>\n",
       "      <td>No</td>\n",
       "      <td>No</td>\n",
       "      <td>unknown</td>\n",
       "      <td>1</td>\n",
       "      <td>31.04</td>\n",
       "      <td>1.19</td>\n",
       "    </tr>\n",
       "    <tr>\n",
       "      <th>5575-GNVDE</th>\n",
       "      <td>One year</td>\n",
       "      <td>No</td>\n",
       "      <td>Mailed check</td>\n",
       "      <td>56.95</td>\n",
       "      <td>2071.84</td>\n",
       "      <td>0</td>\n",
       "      <td>1005</td>\n",
       "      <td>Male</td>\n",
       "      <td>0</td>\n",
       "      <td>No</td>\n",
       "      <td>No</td>\n",
       "      <td>DSL</td>\n",
       "      <td>Yes</td>\n",
       "      <td>No</td>\n",
       "      <td>Yes</td>\n",
       "      <td>No</td>\n",
       "      <td>No</td>\n",
       "      <td>No</td>\n",
       "      <td>No</td>\n",
       "      <td>2</td>\n",
       "      <td>61.85</td>\n",
       "      <td>4.90</td>\n",
       "    </tr>\n",
       "    <tr>\n",
       "      <th>3668-QPYBK</th>\n",
       "      <td>Month-to-month</td>\n",
       "      <td>Yes</td>\n",
       "      <td>Mailed check</td>\n",
       "      <td>53.85</td>\n",
       "      <td>226.17</td>\n",
       "      <td>0</td>\n",
       "      <td>92</td>\n",
       "      <td>Male</td>\n",
       "      <td>0</td>\n",
       "      <td>No</td>\n",
       "      <td>No</td>\n",
       "      <td>DSL</td>\n",
       "      <td>Yes</td>\n",
       "      <td>Yes</td>\n",
       "      <td>No</td>\n",
       "      <td>No</td>\n",
       "      <td>No</td>\n",
       "      <td>No</td>\n",
       "      <td>No</td>\n",
       "      <td>2</td>\n",
       "      <td>73.75</td>\n",
       "      <td>19.90</td>\n",
       "    </tr>\n",
       "    <tr>\n",
       "      <th>7795-CFOCW</th>\n",
       "      <td>One year</td>\n",
       "      <td>No</td>\n",
       "      <td>Bank transfer (automatic)</td>\n",
       "      <td>42.30</td>\n",
       "      <td>1960.60</td>\n",
       "      <td>0</td>\n",
       "      <td>1340</td>\n",
       "      <td>Male</td>\n",
       "      <td>0</td>\n",
       "      <td>No</td>\n",
       "      <td>No</td>\n",
       "      <td>DSL</td>\n",
       "      <td>Yes</td>\n",
       "      <td>No</td>\n",
       "      <td>Yes</td>\n",
       "      <td>Yes</td>\n",
       "      <td>No</td>\n",
       "      <td>No</td>\n",
       "      <td>unknown</td>\n",
       "      <td>3</td>\n",
       "      <td>43.89</td>\n",
       "      <td>1.59</td>\n",
       "    </tr>\n",
       "    <tr>\n",
       "      <th>9237-HQITU</th>\n",
       "      <td>Month-to-month</td>\n",
       "      <td>Yes</td>\n",
       "      <td>Electronic check</td>\n",
       "      <td>70.70</td>\n",
       "      <td>353.50</td>\n",
       "      <td>0</td>\n",
       "      <td>122</td>\n",
       "      <td>Female</td>\n",
       "      <td>0</td>\n",
       "      <td>No</td>\n",
       "      <td>No</td>\n",
       "      <td>Fiber optic</td>\n",
       "      <td>No</td>\n",
       "      <td>No</td>\n",
       "      <td>No</td>\n",
       "      <td>No</td>\n",
       "      <td>No</td>\n",
       "      <td>No</td>\n",
       "      <td>No</td>\n",
       "      <td>0</td>\n",
       "      <td>86.93</td>\n",
       "      <td>16.23</td>\n",
       "    </tr>\n",
       "  </tbody>\n",
       "</table>\n",
       "</div>"
      ],
      "text/plain": [
       "                       type paperless_billing             payment_method  \\\n",
       "customer_id                                                                \n",
       "7590-VHVEG   Month-to-month               Yes           Electronic check   \n",
       "5575-GNVDE         One year                No               Mailed check   \n",
       "3668-QPYBK   Month-to-month               Yes               Mailed check   \n",
       "7795-CFOCW         One year                No  Bank transfer (automatic)   \n",
       "9237-HQITU   Month-to-month               Yes           Electronic check   \n",
       "\n",
       "             monthly_charges  total_charges  churn  contract_duration  gender  \\\n",
       "customer_id                                                                     \n",
       "7590-VHVEG             29.85          31.04      0                  0  Female   \n",
       "5575-GNVDE             56.95        2071.84      0               1005    Male   \n",
       "3668-QPYBK             53.85         226.17      0                 92    Male   \n",
       "7795-CFOCW             42.30        1960.60      0               1340    Male   \n",
       "9237-HQITU             70.70         353.50      0                122  Female   \n",
       "\n",
       "             senior_citizen partner dependents internet_service  \\\n",
       "customer_id                                                       \n",
       "7590-VHVEG                0     Yes         No              DSL   \n",
       "5575-GNVDE                0      No         No              DSL   \n",
       "3668-QPYBK                0      No         No              DSL   \n",
       "7795-CFOCW                0      No         No              DSL   \n",
       "9237-HQITU                0      No         No      Fiber optic   \n",
       "\n",
       "            online_security online_backup device_protection tech_support  \\\n",
       "customer_id                                                                \n",
       "7590-VHVEG               No           Yes                No           No   \n",
       "5575-GNVDE              Yes            No               Yes           No   \n",
       "3668-QPYBK              Yes           Yes                No           No   \n",
       "7795-CFOCW              Yes            No               Yes          Yes   \n",
       "9237-HQITU               No            No                No           No   \n",
       "\n",
       "            streaming_tv streaming_movies multiple_lines  \\\n",
       "customer_id                                                \n",
       "7590-VHVEG            No               No        unknown   \n",
       "5575-GNVDE            No               No             No   \n",
       "3668-QPYBK            No               No             No   \n",
       "7795-CFOCW            No               No        unknown   \n",
       "9237-HQITU            No               No             No   \n",
       "\n",
       "             internet_extra_service  avg_monthly_charges  \\\n",
       "customer_id                                                \n",
       "7590-VHVEG                        1                31.04   \n",
       "5575-GNVDE                        2                61.85   \n",
       "3668-QPYBK                        2                73.75   \n",
       "7795-CFOCW                        3                43.89   \n",
       "9237-HQITU                        0                86.93   \n",
       "\n",
       "             monthly_charges_deviation  \n",
       "customer_id                             \n",
       "7590-VHVEG                        1.19  \n",
       "5575-GNVDE                        4.90  \n",
       "3668-QPYBK                       19.90  \n",
       "7795-CFOCW                        1.59  \n",
       "9237-HQITU                       16.23  "
      ]
     },
     "execution_count": 37,
     "metadata": {},
     "output_type": "execute_result"
    }
   ],
   "source": [
    "# Список доп интернет-услуг для 'internet_extra_service'\n",
    "internet_extra_col = [\n",
    "    'online_security', \n",
    "    'online_backup', \n",
    "    'device_protection', \n",
    "    'tech_support', \n",
    "    'streaming_tv', \n",
    "    'streaming_movies'\n",
    "]\n",
    "\n",
    "# Добавление 'internet_extra_service'\n",
    "teledom['internet_extra_service'] = teledom[internet_extra_col].applymap(lambda x: 1 if x == 'Yes' else 0).sum(axis=1)\n",
    "\n",
    "# Добавление 'avg_monthly_charges'\n",
    "teledom['avg_monthly_charges'] = np.where(\n",
    "    teledom['contract_duration'] == 0,\n",
    "    teledom['total_charges'],\n",
    "    teledom['total_charges'] / (teledom['contract_duration'] / 30)\n",
    ")\n",
    "teledom['avg_monthly_charges'] = teledom['avg_monthly_charges'].round(2)\n",
    "\n",
    "# Добавление 'monthly_charges_deviation'\n",
    "teledom['monthly_charges_deviation'] = (teledom['monthly_charges'] - teledom['avg_monthly_charges']).abs()\n",
    "\n",
    "# Проверка результата\n",
    "teledom.head()"
   ]
  },
  {
   "cell_type": "code",
   "execution_count": 38,
   "id": "293b042a-1c5e-4fcf-9c8c-47a42b67da91",
   "metadata": {},
   "outputs": [
    {
     "data": {
      "text/html": [
       "<div>\n",
       "<style scoped>\n",
       "    .dataframe tbody tr th:only-of-type {\n",
       "        vertical-align: middle;\n",
       "    }\n",
       "\n",
       "    .dataframe tbody tr th {\n",
       "        vertical-align: top;\n",
       "    }\n",
       "\n",
       "    .dataframe thead th {\n",
       "        text-align: right;\n",
       "    }\n",
       "</style>\n",
       "<table border=\"1\" class=\"dataframe\">\n",
       "  <thead>\n",
       "    <tr style=\"text-align: right;\">\n",
       "      <th></th>\n",
       "      <th>type</th>\n",
       "      <th>paperless_billing</th>\n",
       "      <th>payment_method</th>\n",
       "      <th>monthly_charges</th>\n",
       "      <th>total_charges</th>\n",
       "      <th>churn</th>\n",
       "      <th>contract_duration</th>\n",
       "      <th>senior_citizen</th>\n",
       "      <th>partner</th>\n",
       "      <th>dependents</th>\n",
       "      <th>internet_service</th>\n",
       "      <th>multiple_lines</th>\n",
       "      <th>internet_extra_service</th>\n",
       "      <th>avg_monthly_charges</th>\n",
       "      <th>monthly_charges_deviation</th>\n",
       "    </tr>\n",
       "    <tr>\n",
       "      <th>customer_id</th>\n",
       "      <th></th>\n",
       "      <th></th>\n",
       "      <th></th>\n",
       "      <th></th>\n",
       "      <th></th>\n",
       "      <th></th>\n",
       "      <th></th>\n",
       "      <th></th>\n",
       "      <th></th>\n",
       "      <th></th>\n",
       "      <th></th>\n",
       "      <th></th>\n",
       "      <th></th>\n",
       "      <th></th>\n",
       "      <th></th>\n",
       "    </tr>\n",
       "  </thead>\n",
       "  <tbody>\n",
       "    <tr>\n",
       "      <th>7590-VHVEG</th>\n",
       "      <td>Month-to-month</td>\n",
       "      <td>Yes</td>\n",
       "      <td>Electronic check</td>\n",
       "      <td>29.85</td>\n",
       "      <td>31.04</td>\n",
       "      <td>0</td>\n",
       "      <td>0</td>\n",
       "      <td>0</td>\n",
       "      <td>Yes</td>\n",
       "      <td>No</td>\n",
       "      <td>DSL</td>\n",
       "      <td>unknown</td>\n",
       "      <td>1</td>\n",
       "      <td>31.04</td>\n",
       "      <td>1.19</td>\n",
       "    </tr>\n",
       "    <tr>\n",
       "      <th>5575-GNVDE</th>\n",
       "      <td>One year</td>\n",
       "      <td>No</td>\n",
       "      <td>Mailed check</td>\n",
       "      <td>56.95</td>\n",
       "      <td>2071.84</td>\n",
       "      <td>0</td>\n",
       "      <td>1005</td>\n",
       "      <td>0</td>\n",
       "      <td>No</td>\n",
       "      <td>No</td>\n",
       "      <td>DSL</td>\n",
       "      <td>No</td>\n",
       "      <td>2</td>\n",
       "      <td>61.85</td>\n",
       "      <td>4.90</td>\n",
       "    </tr>\n",
       "    <tr>\n",
       "      <th>3668-QPYBK</th>\n",
       "      <td>Month-to-month</td>\n",
       "      <td>Yes</td>\n",
       "      <td>Mailed check</td>\n",
       "      <td>53.85</td>\n",
       "      <td>226.17</td>\n",
       "      <td>0</td>\n",
       "      <td>92</td>\n",
       "      <td>0</td>\n",
       "      <td>No</td>\n",
       "      <td>No</td>\n",
       "      <td>DSL</td>\n",
       "      <td>No</td>\n",
       "      <td>2</td>\n",
       "      <td>73.75</td>\n",
       "      <td>19.90</td>\n",
       "    </tr>\n",
       "    <tr>\n",
       "      <th>7795-CFOCW</th>\n",
       "      <td>One year</td>\n",
       "      <td>No</td>\n",
       "      <td>Bank transfer (automatic)</td>\n",
       "      <td>42.30</td>\n",
       "      <td>1960.60</td>\n",
       "      <td>0</td>\n",
       "      <td>1340</td>\n",
       "      <td>0</td>\n",
       "      <td>No</td>\n",
       "      <td>No</td>\n",
       "      <td>DSL</td>\n",
       "      <td>unknown</td>\n",
       "      <td>3</td>\n",
       "      <td>43.89</td>\n",
       "      <td>1.59</td>\n",
       "    </tr>\n",
       "    <tr>\n",
       "      <th>9237-HQITU</th>\n",
       "      <td>Month-to-month</td>\n",
       "      <td>Yes</td>\n",
       "      <td>Electronic check</td>\n",
       "      <td>70.70</td>\n",
       "      <td>353.50</td>\n",
       "      <td>0</td>\n",
       "      <td>122</td>\n",
       "      <td>0</td>\n",
       "      <td>No</td>\n",
       "      <td>No</td>\n",
       "      <td>Fiber optic</td>\n",
       "      <td>No</td>\n",
       "      <td>0</td>\n",
       "      <td>86.93</td>\n",
       "      <td>16.23</td>\n",
       "    </tr>\n",
       "  </tbody>\n",
       "</table>\n",
       "</div>"
      ],
      "text/plain": [
       "                       type paperless_billing             payment_method  \\\n",
       "customer_id                                                                \n",
       "7590-VHVEG   Month-to-month               Yes           Electronic check   \n",
       "5575-GNVDE         One year                No               Mailed check   \n",
       "3668-QPYBK   Month-to-month               Yes               Mailed check   \n",
       "7795-CFOCW         One year                No  Bank transfer (automatic)   \n",
       "9237-HQITU   Month-to-month               Yes           Electronic check   \n",
       "\n",
       "             monthly_charges  total_charges  churn  contract_duration  \\\n",
       "customer_id                                                             \n",
       "7590-VHVEG             29.85          31.04      0                  0   \n",
       "5575-GNVDE             56.95        2071.84      0               1005   \n",
       "3668-QPYBK             53.85         226.17      0                 92   \n",
       "7795-CFOCW             42.30        1960.60      0               1340   \n",
       "9237-HQITU             70.70         353.50      0                122   \n",
       "\n",
       "             senior_citizen partner dependents internet_service  \\\n",
       "customer_id                                                       \n",
       "7590-VHVEG                0     Yes         No              DSL   \n",
       "5575-GNVDE                0      No         No              DSL   \n",
       "3668-QPYBK                0      No         No              DSL   \n",
       "7795-CFOCW                0      No         No              DSL   \n",
       "9237-HQITU                0      No         No      Fiber optic   \n",
       "\n",
       "            multiple_lines  internet_extra_service  avg_monthly_charges  \\\n",
       "customer_id                                                               \n",
       "7590-VHVEG         unknown                       1                31.04   \n",
       "5575-GNVDE              No                       2                61.85   \n",
       "3668-QPYBK              No                       2                73.75   \n",
       "7795-CFOCW         unknown                       3                43.89   \n",
       "9237-HQITU              No                       0                86.93   \n",
       "\n",
       "             monthly_charges_deviation  \n",
       "customer_id                             \n",
       "7590-VHVEG                        1.19  \n",
       "5575-GNVDE                        4.90  \n",
       "3668-QPYBK                       19.90  \n",
       "7795-CFOCW                        1.59  \n",
       "9237-HQITU                       16.23  "
      ]
     },
     "execution_count": 38,
     "metadata": {},
     "output_type": "execute_result"
    }
   ],
   "source": [
    "# Удаление списка доп интернет-услуг и пола клиента\n",
    "teledom.drop(internet_extra_col, axis=1, inplace=True)\n",
    "teledom.drop(['gender'], axis=1, inplace=True)\n",
    "teledom.head()"
   ]
  },
  {
   "cell_type": "markdown",
   "id": "62f47991-d459-437b-8c17-ae19ba176acd",
   "metadata": {},
   "source": [
    "Проанализируем матрицу корреляцию с новыми признаками:"
   ]
  },
  {
   "cell_type": "code",
   "execution_count": 39,
   "id": "810e01e3-997f-4b83-86f2-d6fba610bd1a",
   "metadata": {},
   "outputs": [
    {
     "data": {
      "image/png": "[encoded data removed]",
      "text/plain": [
       "<Figure size 864x432 with 2 Axes>"
      ]
     },
     "metadata": {
      "needs_background": "light"
     },
     "output_type": "display_data"
    }
   ],
   "source": [
    "# Расчет корреляции Фи\n",
    "teledom_phik_new = (teledom\n",
    "                .phik_matrix(interval_cols=[\n",
    "                    'monthly_charges',\n",
    "                    'total_charges', \n",
    "                    'contract_duration', \n",
    "                    'avg_monthly_charges', \n",
    "                    'monthly_charges_deviation']\n",
    "                            )\n",
    "                .round(3)\n",
    "                   )\n",
    "\n",
    "# Тепловая карта\n",
    "plt.figure(figsize=(12,6))\n",
    "sns.heatmap(teledom_phik_new, annot=True, fmt='.3f', annot_kws={\"size\": 10}, cmap='crest')\n",
    "plt.title('Матрица корреляции с новыми признаками')\n",
    "plt.show()"
   ]
  },
  {
   "cell_type": "markdown",
   "id": "abea1ea8-c28b-4bea-9e26-f8cac398879a",
   "metadata": {},
   "source": [
    "- Посредством удаления списка доп. интернет-услуг мы избавились от мультиколлениарности среди этих признаков. А созданный на их основе `internet_extra_service` показывает более высокий уровень корреляции с целевыми признаком (коэфф. 0.183), чем каждый из отдельных.\n",
    "- Новые признаки `avg_monthly_charges` и `monthly_charges_deviation` имеют умеренный уровень взаимосвизи с целевым признаком (коэфф. 0.172 и 0.255 соответственно).\n",
    "- Появились признакми мультиколлениарности между признаками `monthly_charges`-`internet_service`(коэфф.0.919) и `avg_monthly_charges`-`monthly_charges` (0.92). Их взаимосвязь логична. Удалять признаки не станем, т.к. в качестве моделей мы будем использовать те, которые мало или нечувствительны к мультиколлениарности (деревья решений, ансамбли и нелинейные методы)."
   ]
  },
  {
   "cell_type": "markdown",
   "id": "0922bf41-9eb7-4df1-84c5-506531599404",
   "metadata": {},
   "source": [
    "### Разделение на выборки <a class=\"anchor\" id=\"разделение\"></a>"
   ]
  },
  {
   "cell_type": "markdown",
   "id": "fb489c4c-402d-40f8-b457-7981ff8b2e56",
   "metadata": {},
   "source": [
    "Разделим данные на тренировочную и тестовую выборки (75/25) с использованием стратификации по целевому признаку для учета дисбаланса классов. А также выделим количественные признаки для масштабирования и категориальные - для кодирования"
   ]
  },
  {
   "cell_type": "code",
   "execution_count": 40,
   "id": "339d8bb0-4392-4b03-87bf-aba6d45fbb04",
   "metadata": {},
   "outputs": [
    {
     "name": "stdout",
     "output_type": "stream",
     "text": [
      "Размер тренировочной выборки: (5282, 14) (5282,)\n",
      "Размер тестовой выборки: (1761, 14) (1761,)\n"
     ]
    }
   ],
   "source": [
    "# Объявление констант\n",
    "RANDOM_STATE = 91224\n",
    "\n",
    "# Разделение на целевой и входные признаки\n",
    "X = teledom.drop(['churn'], axis=1)\n",
    "y = teledom['churn']\n",
    "\n",
    "# Разделение данных на выборки\n",
    "X_train, X_test, y_train, y_test = train_test_split(\n",
    "    X,\n",
    "    y,\n",
    "    test_size=0.25, \n",
    "    random_state=RANDOM_STATE,\n",
    "    stratify=y\n",
    ")\n",
    "\n",
    "\n",
    "# Размерность выборок\n",
    "print('Размер тренировочной выборки:', X_train.shape, y_train.shape)\n",
    "print('Размер тестовой выборки:', X_test.shape, y_test.shape)"
   ]
  },
  {
   "cell_type": "code",
   "execution_count": 41,
   "id": "965a28c2-e4a9-4b98-a86b-9f45bb27fe57",
   "metadata": {},
   "outputs": [],
   "source": [
    "# Списки с названиями столбцов для кодирования и масштабирования\n",
    "num_columns = ['monthly_charges', 'total_charges', 'contract_duration', \n",
    "               'avg_monthly_charges', 'monthly_charges_deviation', 'internet_extra_service']\n",
    "cat_columns = ['type', 'payment_method', 'paperless_billing', \n",
    "               'partner', 'dependents', 'internet_service', 'multiple_lines']"
   ]
  },
  {
   "cell_type": "markdown",
   "id": "7fe4a93b-666c-4288-8c78-9060fbc01d30",
   "metadata": {},
   "source": [
    "Создадим пайплайн для подготовки данных.  Для масштабирования числовых признаков будет использован **StandardScaler**. Для кодирования категориальных - **OneHotEncoder** или **OrdinalEncoder** (в зависимости от используемой модели)."
   ]
  },
  {
   "cell_type": "code",
   "execution_count": 42,
   "id": "9fa2944c-b265-4dbb-b14b-53f39878e2ad",
   "metadata": {},
   "outputs": [],
   "source": [
    "def create_pipeline(cat_columns, num_columns, cat_encoding, model):\n",
    "    '''\n",
    "    Создает пайплайн на основе предоставленных столбцов и модели.\n",
    "    \n",
    "    Args:\n",
    "        cat_columns (list): категориальные столбцы.\n",
    "        num_columns (list): числовые столбцы.\n",
    "        cat_encoding (str): тип кодирования для категориальных столбцов ('ohe', 'ordinal', None).\n",
    "        model (sklearn model): используемая модель.\n",
    "    '''\n",
    "    \n",
    "    # Определение типа кодирования\n",
    "    if cat_encoding == 'ohe':\n",
    "        cat_transformer = OneHotEncoder(drop='first', handle_unknown='ignore', sparse_output=False)\n",
    "    \n",
    "    elif cat_encoding == 'ordinal':\n",
    "        cat_transformer = Pipeline([\n",
    "            ('ordinal', OrdinalEncoder(handle_unknown='use_encoded_value', unknown_value=np.nan)),\n",
    "            ('simpleImputer_after_ord', SimpleImputer(missing_values=np.nan, strategy='most_frequent'))\n",
    "        ])\n",
    "    \n",
    "    else:\n",
    "        cat_transformer = 'passthrough'\n",
    "\n",
    "    # Список трансформеров\n",
    "    transformers = [\n",
    "        ('cat', cat_transformer, cat_columns),\n",
    "        ('num', StandardScaler(), num_columns)\n",
    "    ]\n",
    "\n",
    "    # Общий ColumnTransformer\n",
    "    data_preprocessor = ColumnTransformer(transformers)\n",
    "\n",
    "    # Итоговый пайплайн\n",
    "    pipe_final = Pipeline([\n",
    "        ('preprocessor', data_preprocessor),\n",
    "        ('model', model)\n",
    "    ])\n",
    "\n",
    "    return pipe_final"
   ]
  },
  {
   "cell_type": "markdown",
   "id": "e94eba8e-9a81-4f35-8713-e76bcc8bb7e6",
   "metadata": {},
   "source": [
    "Для подбора наилучших гиперпараметров для каждой модели будем использовать **GridSearchCV**. Для оценки качества моделей будет применяться метрика **ROC-AUC**, т.к. она не чувствительна к дисбалансу классов."
   ]
  },
  {
   "cell_type": "code",
   "execution_count": 43,
   "id": "b6580d6b-81f7-4f7e-adf7-229544809224",
   "metadata": {},
   "outputs": [],
   "source": [
    "def best_model_grid(pipeline, param_distr, X_train, y_train, verbose=1):\n",
    "    '''\n",
    "    Проводит подбор гиперпараметров модели с помощью GridSearchCV и вычисляет ключевые метрики.\n",
    "\n",
    "    Args:\n",
    "        pipeline (Pipeline): Итоговый пайлайн для подготовки данных.\n",
    "        param_distr (dict): Диапазон для поиска гиперпараметров GridSearchCV.\n",
    "        X_train(pd.DataFrame): Входные признаки тренировочной выборки.\n",
    "        y_train(pd.Series): Целевой признак тренировочной выборки.\n",
    "        \n",
    "    Вывод:\n",
    "        - Лучшие параметры модели.\n",
    "        - ROC-AUC на кросс-валидации.\n",
    "    '''\n",
    "\n",
    "    # Настройка GridSearchCV\n",
    "    grid_search = GridSearchCV(\n",
    "        estimator=pipeline,\n",
    "        param_grid=param_distr,\n",
    "        cv=5,\n",
    "        scoring='roc_auc',\n",
    "        verbose=verbose\n",
    "    )\n",
    "    \n",
    "   # Подбор параметров\n",
    "    grid_search.fit(X_train, y_train)\n",
    "\n",
    "    # Модель с лучшими параметрами\n",
    "    best_model = grid_search.best_estimator_\n",
    "\n",
    "    # Расчет ROC-AUC\n",
    "    roc_auc_cv = grid_search.best_score_\n",
    "\n",
    "    # Вывод результатов\n",
    "    print(f'Лучшие параметры: {grid_search.best_params_}')\n",
    "    print(f'Метрика ROC-AUC на кросс-валидации: {roc_auc_cv}')\n",
    " \n",
    "    return best_model, roc_auc_cv"
   ]
  },
  {
   "cell_type": "markdown",
   "id": "8b0acb85-2613-423c-99a6-76f7d75bd3f8",
   "metadata": {},
   "source": [
    "**Выводы:**\n",
    "- Создали 3 новых признака для дальнейшего моделирования - `avg_monthly_charges`, `monthly_charges_deviation`, `internet_extra_service`.\n",
    "- Удалили из данных малоинформативные признаки (пол клиента и признаки с доп. интернет-услугами).\n",
    "- Разделили данные на выборки.\n",
    "- Для подготовки данных к последующему обучению модели создали пайплайн. Для заполнения пропущенных значений будет использоваться SimpleImputer, для кодирования категориальных признаков - OneHotEncoder и OrdinalEncoder; для масштабирования количественных признаков - StandardScaler."
   ]
  },
  {
   "cell_type": "markdown",
   "id": "d02a7406-c1c8-48de-9d18-daa17b93d2e5",
   "metadata": {},
   "source": [
    "## Обучение моделей <a class=\"anchor\" id=\"обучение\"></a>"
   ]
  },
  {
   "cell_type": "markdown",
   "id": "a24af9fe-d4e5-4211-9a2d-48f29786e156",
   "metadata": {},
   "source": [
    "Для поиска лучшей модели протестируем 5 вариантов:\n",
    "- **LogisticRegression**\n",
    "- **KNeighborsClassifier**\n",
    "- **RandomForestClassifier**\n",
    "- **LGBMClassifier**\n",
    "- **CatBoostClassifier**"
   ]
  },
  {
   "cell_type": "markdown",
   "id": "202c15a5-52b1-44ba-940b-56715f240384",
   "metadata": {},
   "source": [
    "Т.к. в целевом признаке имеется существенный дисбаланс классов, при обучении моделей будем использовать **балансировку классов**. Это поможет моделям уделять больше внимания редкому классу (ушедшие клиенты), что для задачи оттока клиентов крайне важно. Рассчитаем веса на основе количества классов:"
   ]
  },
  {
   "cell_type": "code",
   "execution_count": 44,
   "id": "26ab3ab3-bb81-47c2-a5f1-f96b825316d7",
   "metadata": {},
   "outputs": [
    {
     "name": "stdout",
     "output_type": "stream",
     "text": [
      "{0: 0.5926840215439856, 1: 3.1973365617433416}\n"
     ]
    }
   ],
   "source": [
    "# Расчет весов классов\n",
    "class_weights = compute_class_weight(\n",
    "    class_weight='balanced', \n",
    "    classes=np.array([0, 1]), \n",
    "    y=y_train\n",
    ")\n",
    "class_weights_dict = dict(enumerate(class_weights))\n",
    "print(class_weights_dict)"
   ]
  },
  {
   "cell_type": "markdown",
   "id": "25ec271a-a5e3-4e43-9bcd-170339eb899f",
   "metadata": {},
   "source": [
    "### LogisticRegression <a class=\"anchor\" id=\"logreg\"></a>"
   ]
  },
  {
   "cell_type": "code",
   "execution_count": 45,
   "id": "ba5dbe48-35ba-4e0f-b644-295028c85404",
   "metadata": {},
   "outputs": [
    {
     "name": "stdout",
     "output_type": "stream",
     "text": [
      "Fitting 5 folds for each of 100 candidates, totalling 500 fits\n",
      "Лучшие параметры: {'model__C': 99.5}\n",
      "Метрика ROC-AUC на кросс-валидации: 0.8713162373724558\n"
     ]
    }
   ],
   "source": [
    "# Создание пайплайна\n",
    "pipeline_log_reg = create_pipeline(\n",
    "    cat_columns, \n",
    "    num_columns, \n",
    "    'ohe',\n",
    "    model=LogisticRegression(\n",
    "        random_state=RANDOM_STATE, \n",
    "        class_weight=class_weights_dict)\n",
    ")\n",
    "\n",
    "# Гиперпараметры LogisticRegression\n",
    "params_log_reg = {\n",
    "    'model__C': np.arange(50, 100, 0.5)\n",
    "}\n",
    "\n",
    "# Подбор гиперпараметров и обучение модели\n",
    "log_reg_model, log_reg_roc_auc = best_model_grid(\n",
    "    pipeline_log_reg, \n",
    "    params_log_reg, \n",
    "    X_train, \n",
    "    y_train,\n",
    "    verbose=1\n",
    ")"
   ]
  },
  {
   "cell_type": "markdown",
   "id": "e1c5be7e-3ec0-4333-b98a-0afd01b978c6",
   "metadata": {},
   "source": [
    "### KNeighborsClassifier <a class=\"anchor\" id=\"knn\"></a>"
   ]
  },
  {
   "cell_type": "code",
   "execution_count": 46,
   "id": "51b816c2-94da-421f-ac2e-f5be14c58ec7",
   "metadata": {},
   "outputs": [
    {
     "name": "stdout",
     "output_type": "stream",
     "text": [
      "Fitting 5 folds for each of 90 candidates, totalling 450 fits\n",
      "Лучшие параметры: {'model__metric': 'cityblock', 'model__n_neighbors': 70, 'model__weights': 'distance'}\n",
      "Метрика ROC-AUC на кросс-валидации: 0.8524479042650327\n"
     ]
    }
   ],
   "source": [
    "# Создание пайплайна \n",
    "pipeline_knn = create_pipeline(\n",
    "    cat_columns, \n",
    "    num_columns, \n",
    "    'ohe', \n",
    "    KNeighborsClassifier()\n",
    ")\n",
    "\n",
    "# Гиперпараметры для KNeighborsClassifier\n",
    "params_knn = {\n",
    "    'model__n_neighbors': np.arange(5, 80, 5),\n",
    "    'model__metric': ['cityblock', 'minkowski', 'euclidean'],\n",
    "    'model__weights': ['uniform', 'distance']\n",
    "}\n",
    "\n",
    "# Подбор гиперпараметров и обучение модели\n",
    "knn_model, knn_roc_auc = best_model_grid(\n",
    "    pipeline_knn, \n",
    "    params_knn, \n",
    "    X_train, \n",
    "    y_train,\n",
    "    verbose=1\n",
    ")"
   ]
  },
  {
   "cell_type": "markdown",
   "id": "2d3c01f0-a7af-4376-a5f2-58f400a18194",
   "metadata": {},
   "source": [
    "### RandomForestClassifier <a class=\"anchor\" id=\"rf\"></a>"
   ]
  },
  {
   "cell_type": "code",
   "execution_count": 47,
   "id": "e0734482-ea1e-4d1b-ab2a-c01def22ea41",
   "metadata": {},
   "outputs": [
    {
     "name": "stdout",
     "output_type": "stream",
     "text": [
      "Fitting 5 folds for each of 24 candidates, totalling 120 fits\n",
      "Лучшие параметры: {'model__min_samples_split': 2, 'model__n_estimators': 300}\n",
      "Метрика ROC-AUC на кросс-валидации: 0.9278884910755973\n"
     ]
    }
   ],
   "source": [
    "# Создание пайплайна \n",
    "pipeline_rf = create_pipeline(\n",
    "    cat_columns, \n",
    "    num_columns, \n",
    "    'ordinal', \n",
    "    RandomForestClassifier(\n",
    "        random_state=RANDOM_STATE, \n",
    "        class_weight=class_weights_dict)\n",
    ")\n",
    "\n",
    "# Гиперпараметры для RandomForestClassifier\n",
    "params_rf = {\n",
    "    'model__n_estimators': np.arange(100, 500, 50),\n",
    "    'model__min_samples_split': range(2, 5)\n",
    "}\n",
    "\n",
    "# Подбор гиперпараметров и обучение модели\n",
    "rf_model, rf_roc_auc = best_model_grid(\n",
    "    pipeline_rf, \n",
    "    params_rf, \n",
    "    X_train, \n",
    "    y_train,\n",
    "    verbose=1\n",
    ")"
   ]
  },
  {
   "cell_type": "markdown",
   "id": "9270d236-d77f-4e23-8864-6eb5f12f1961",
   "metadata": {},
   "source": [
    "### LGBMClassifier <a class=\"anchor\" id=\"lgbm\"></a>"
   ]
  },
  {
   "cell_type": "code",
   "execution_count": 48,
   "id": "2b7add1f-c662-498d-843b-e1d6d34bbca5",
   "metadata": {},
   "outputs": [
    {
     "name": "stdout",
     "output_type": "stream",
     "text": [
      "Fitting 5 folds for each of 75 candidates, totalling 375 fits\n",
      "Лучшие параметры: {'model__learning_rate': 0.3, 'model__n_estimators': 220}\n",
      "Метрика ROC-AUC на кросс-валидации: 0.9533957150945283\n"
     ]
    }
   ],
   "source": [
    "# Создание пайплайна для LGBMRegressor\n",
    "pipeline_lgbr = create_pipeline(\n",
    "    cat_columns, \n",
    "    num_columns, \n",
    "    'ordinal',\n",
    "    LGBMClassifier(\n",
    "        random_state=RANDOM_STATE,\n",
    "        class_weight=class_weights_dict,\n",
    "        verbose=-1)\n",
    ")\n",
    "\n",
    "# Гиперпараметры для LGBMRegressor\n",
    "params_lgbr = {\n",
    "    'model__n_estimators': range(100, 400, 20),  \n",
    "    'model__learning_rate': [0.1, 0.2, 0.3, 0.4, 0.5]\n",
    "}\n",
    "\n",
    "# Подбор гиперпараметров и обучение модели\n",
    "lgbr_model, lgbr_roc_auc = best_model_grid(\n",
    "    pipeline_lgbr, \n",
    "    params_lgbr, \n",
    "    X_train, \n",
    "    y_train,\n",
    "    verbose=1\n",
    ")"
   ]
  },
  {
   "cell_type": "markdown",
   "id": "4baf430f-037b-4329-801f-96818bdd6da1",
   "metadata": {},
   "source": [
    "### CatBoostClassifier <a class=\"anchor\" id=\"catboost\"></a>"
   ]
  },
  {
   "cell_type": "code",
   "execution_count": 49,
   "id": "ebad9f2d-0940-4e22-b478-5b696919fb53",
   "metadata": {},
   "outputs": [
    {
     "name": "stdout",
     "output_type": "stream",
     "text": [
      "Fitting 5 folds for each of 90 candidates, totalling 450 fits\n",
      "Лучшие параметры: {'model__iterations': 740, 'model__learning_rate': 0.1}\n",
      "Метрика ROC-AUC на кросс-валидации: 0.954022311141021\n"
     ]
    }
   ],
   "source": [
    "# Создание пайплайна\n",
    "pipeline_catboost = create_pipeline(\n",
    "    cat_columns, \n",
    "    num_columns, \n",
    "    'ordinal',\n",
    "    CatBoostClassifier(\n",
    "        loss_function='Logloss', \n",
    "        random_state=RANDOM_STATE, \n",
    "        class_weights=class_weights_dict,\n",
    "        verbose=0)\n",
    ")\n",
    "\n",
    "# Гиперпараметры для CatBoostClassifier\n",
    "params_catboost = {\n",
    "    'model__iterations': range(500, 800, 20), \n",
    "    'model__learning_rate': [0.05, 0.1, 0.2, 0.3, 0.4, 0.5]\n",
    "}\n",
    "\n",
    "# Подбор гиперпараметров и обучение модели\n",
    "catboost_model, catboost_roc_auc = best_model_grid(\n",
    "    pipeline_catboost, \n",
    "    params_catboost, \n",
    "    X_train, \n",
    "    y_train,\n",
    "    verbose=1\n",
    ")"
   ]
  },
  {
   "cell_type": "markdown",
   "id": "4dddac0b-19f5-4bfd-96b9-5eeb0b871b6d",
   "metadata": {},
   "source": [
    "**Выводы:**\n",
    "\n",
    "В результате было обучено 5 моделей. Для каждой модели с помощью GridSearchCV были подобраны гиперпараметры, с которыми модель показывает наилучшую метрику ROC-AUC. Гиперпараметры моделей:\n",
    "- **LogisticRegression** - 'model__C': 99.5.\n",
    "- **KNeighborsClassifier** - 'model__metric': 'cityblock', 'model__n_neighbors': 70, 'model__weights': 'distance'.\n",
    "- **RandomForestClassifier** - 'model__min_samples_split': 2, 'model__n_estimators': 300.\n",
    "- **LGBMClassifier** - 'model__learning_rate': 0.3, 'model__n_estimators': 220.\n",
    "- **CatBoostClassifier** - 'model__iterations': 740, 'model__learning_rate': 0.1."
   ]
  },
  {
   "cell_type": "markdown",
   "id": "3d75eb61-54d8-4cd2-b6bf-13a7340c3e0d",
   "metadata": {},
   "source": [
    "## Анализ результатов <a class=\"anchor\" id=\"анализ\"></a>"
   ]
  },
  {
   "cell_type": "markdown",
   "id": "ad1c50e5-222d-4881-b58c-30e81a47b561",
   "metadata": {},
   "source": [
    "### Выбор лучшей модели <a class=\"anchor\" id=\"выбор\"></a>"
   ]
  },
  {
   "cell_type": "markdown",
   "id": "77ed6713-5267-4772-a259-45a45d6295f0",
   "metadata": {},
   "source": [
    "Добавим результаты всех моделей в датафрейм и сравним их:"
   ]
  },
  {
   "cell_type": "code",
   "execution_count": 50,
   "id": "bca3d870-90ef-4bf1-98a7-04fc42453794",
   "metadata": {},
   "outputs": [
    {
     "data": {
      "text/html": [
       "<div>\n",
       "<style scoped>\n",
       "    .dataframe tbody tr th:only-of-type {\n",
       "        vertical-align: middle;\n",
       "    }\n",
       "\n",
       "    .dataframe tbody tr th {\n",
       "        vertical-align: top;\n",
       "    }\n",
       "\n",
       "    .dataframe thead th {\n",
       "        text-align: right;\n",
       "    }\n",
       "</style>\n",
       "<table border=\"1\" class=\"dataframe\">\n",
       "  <thead>\n",
       "    <tr style=\"text-align: right;\">\n",
       "      <th></th>\n",
       "      <th>model</th>\n",
       "      <th>ROC_AUC_cv</th>\n",
       "    </tr>\n",
       "  </thead>\n",
       "  <tbody>\n",
       "    <tr>\n",
       "      <th>4</th>\n",
       "      <td>CatBoostClassifier</td>\n",
       "      <td>0.954022</td>\n",
       "    </tr>\n",
       "    <tr>\n",
       "      <th>3</th>\n",
       "      <td>LGBMClassifier</td>\n",
       "      <td>0.953396</td>\n",
       "    </tr>\n",
       "    <tr>\n",
       "      <th>2</th>\n",
       "      <td>RandomForestClassifier</td>\n",
       "      <td>0.927888</td>\n",
       "    </tr>\n",
       "    <tr>\n",
       "      <th>0</th>\n",
       "      <td>LogisticRegression</td>\n",
       "      <td>0.871316</td>\n",
       "    </tr>\n",
       "    <tr>\n",
       "      <th>1</th>\n",
       "      <td>KNeighborsClassifier</td>\n",
       "      <td>0.852448</td>\n",
       "    </tr>\n",
       "  </tbody>\n",
       "</table>\n",
       "</div>"
      ],
      "text/plain": [
       "                    model  ROC_AUC_cv\n",
       "4      CatBoostClassifier    0.954022\n",
       "3          LGBMClassifier    0.953396\n",
       "2  RandomForestClassifier    0.927888\n",
       "0      LogisticRegression    0.871316\n",
       "1    KNeighborsClassifier    0.852448"
      ]
     },
     "metadata": {},
     "output_type": "display_data"
    }
   ],
   "source": [
    "# Создание датафрейма с результатами моделей\n",
    "models_results = pd.DataFrame({\n",
    "    'model': [\n",
    "        'LogisticRegression', \n",
    "        'KNeighborsClassifier', \n",
    "        'RandomForestClassifier', \n",
    "        'LGBMClassifier', \n",
    "        'CatBoostClassifier'\n",
    "    ],\n",
    "    'ROC_AUC_cv' : [\n",
    "        log_reg_roc_auc, \n",
    "        knn_roc_auc, \n",
    "        rf_roc_auc, \n",
    "        lgbr_roc_auc,\n",
    "        catboost_roc_auc\n",
    "    ]\n",
    "}).sort_values(by='ROC_AUC_cv', ascending=False)\n",
    "\n",
    "display(models_results)"
   ]
  },
  {
   "cell_type": "markdown",
   "id": "754016c3-1446-4282-be4f-ea1219c49d5f",
   "metadata": {},
   "source": [
    "В результате наилучшее качество предсказаний показала модель **CatBoostClassifier** с метрикой ROC-AUC на кросс-валидации **0.954022**.\n",
    "\n",
    "Проверим качество выбранной модели на тестовой выборке. А также построим матрицу ошибок."
   ]
  },
  {
   "cell_type": "code",
   "execution_count": 51,
   "id": "906f9b1a-4db1-42f6-98f7-c5ef1444796d",
   "metadata": {},
   "outputs": [
    {
     "name": "stdout",
     "output_type": "stream",
     "text": [
      "ROC-AUC на тестовой выборке: 0.95651\n",
      "Accuracy на тестовой выборке: 0.92334\n",
      "Recall на тестовой выборке: 0.77091\n",
      "Precision на тестовой выборке: 0.74648\n"
     ]
    },
    {
     "data": {
      "image/png": "[encoded data removed]",
      "text/plain": [
       "<Figure size 288x216 with 2 Axes>"
      ]
     },
     "metadata": {
      "needs_background": "light"
     },
     "output_type": "display_data"
    }
   ],
   "source": [
    "# Предсказание на тестовой выборке\n",
    "y_prob = catboost_model.predict_proba(X_test)[:, 1]\n",
    "y_pred = catboost_model.predict(X_test)\n",
    "\n",
    "# Расчёт ключевых метрик\n",
    "roc_auc_test = roc_auc_score(y_test, y_prob)\n",
    "acc_test = accuracy_score(y_test, y_pred)\n",
    "recall_test = recall_score(y_test, y_pred)\n",
    "precision_test = precision_score(y_test, y_pred)\n",
    "\n",
    "# Вывод результатов\n",
    "print(f'ROC-AUC на тестовой выборке: {roc_auc_test:.5f}',\n",
    "      f'Accuracy на тестовой выборке: {acc_test:.5f}', \n",
    "      f'Recall на тестовой выборке: {recall_test:.5f}', \n",
    "      f'Precision на тестовой выборке: {precision_test:.5f}', \n",
    "      sep='\\n'\n",
    ")\n",
    "\n",
    "# Матрица ошибок\n",
    "cm = confusion_matrix(y_test, y_pred)\n",
    "plt.figure(figsize=(4, 3))\n",
    "sns.heatmap(cm, annot=True, fmt='d', cmap='Blues_r')\n",
    "plt.title('Матрица ошибок')\n",
    "plt.ylabel('Истинные значения')\n",
    "plt.xlabel('Прогнозные значения');"
   ]
  },
  {
   "cell_type": "markdown",
   "id": "b99a1e4e-8349-446b-af68-5db6bd11b2e3",
   "metadata": {},
   "source": [
    "- **ROC-AUC = 0.9561**. Модель достаточно хорошо справляется с предсказанием классов (ушедших и не ушедших клиентов).\n",
    "- **Accuracy = 0.92334**. Общее качество предсказаний высокое — модель верно предсказала около 92% всех объектов. Однако эта метрика может быть завышена из-за дисбаланса классов.\n",
    "- **Recall = 0.77091**. Показывает, что модель нашла **77%** объектов из класса '1' (ушедшие клиенты).\n",
    "- **Precision = 0.74648** Из всех объектов, которые модель отнесла к классу '1' (ушедшие клиенты), почти **75%** действительно принадлежат этому классу. \n",
    "\n",
    "Модель в целом работает **хорошо**, что подтверждается высоким ROC-AUC и Accuracy. Значения Recall и Precision близки, что говорит о сбалансированной работе модели: она хорошо находит положительные классы, при этом не перегружая результат ложно положительными результатами.\n",
    "\n",
    "Возможна дальнейшая оптимизации порога классификации. Текущие значения Recall и Precision зависят от выбранного порога вероятности классификации. Порог можно изменить в зависимости от расчета финансовых потерь. Например, если стоимость пропущенного положительного случая (ушедшего клиента) выше, чем стоимость ложноположительного случая, то можно сместить порог в сторону увеличения Recall. Для принятия такого решения необходим расчет потерь в денежном выражении, однако данной информацией мы не разполагаем."
   ]
  },
  {
   "cell_type": "markdown",
   "id": "702cd659-83c8-47c6-b77c-9c29a7ca9536",
   "metadata": {},
   "source": [
    "### Проверка адекватности модели <a class=\"anchor\" id=\"адекватность\"></a>"
   ]
  },
  {
   "cell_type": "markdown",
   "id": "0f1cb68b-e4e9-4567-a7c2-04b964e013a7",
   "metadata": {},
   "source": [
    "После выбора лучшей модели, оценим её адекватность. Для этого сравним результаты лучшей модели с базовой моделью — DummyClassifier, которая прогнозирует наиболее часто встречающуюся метку в данных. Это позволит понять, насколько предсказания сложной модели лучше базового решения."
   ]
  },
  {
   "cell_type": "code",
   "execution_count": 52,
   "id": "22b60fff-c841-4622-8a7b-1c5082b87450",
   "metadata": {},
   "outputs": [
    {
     "name": "stdout",
     "output_type": "stream",
     "text": [
      "ROC-AUC DummyClassifier: 0.50000\n",
      "Разница между CatBoostClassifier и DummyClassifier: 0.45651\n"
     ]
    }
   ],
   "source": [
    "# Обучение модели DummyClassifier\n",
    "dummy_model = DummyClassifier(strategy='most_frequent', random_state=RANDOM_STATE)\n",
    "dummy_model.fit(X_train, y_train)\n",
    "\n",
    "# Получение предсказаний\n",
    "y_dummy_prob = dummy_model.predict_proba(X_test)[:, 1]\n",
    "roc_auc_dummy = roc_auc_score(y_test, y_dummy_prob)\n",
    "\n",
    "# Вывод результатов\n",
    "print(f'ROC-AUC DummyClassifier: {roc_auc_dummy:.5f}')\n",
    "print(f'Разница между CatBoostClassifier и DummyClassifier: {roc_auc_test - roc_auc_dummy:.5f}')"
   ]
  },
  {
   "cell_type": "markdown",
   "id": "6252b4ea-2ebf-48ca-9d3a-8d33255f3e8f",
   "metadata": {},
   "source": [
    "Проверка адекватности показала, что ROC-AUC для базовой модели, предсказывающей среднее, составил 0.5. Разница между лучшей моделью (CatBoostClassifier) и DummyClassifier составила 0.45651, что свидетельствует о значительном улучшении качества предсказаний. Это подтверждает, что использование более сложной модели оправдано, и она значительно лучше базового предсказания."
   ]
  },
  {
   "cell_type": "markdown",
   "id": "d68ef866-41ee-4224-9388-33e730ddb5f5",
   "metadata": {},
   "source": [
    "### Важность признаков <a class=\"anchor\" id=\"важность\"></a>"
   ]
  },
  {
   "cell_type": "code",
   "execution_count": 53,
   "id": "0fed64dc-79d0-4d8e-8b14-b3a29d12d594",
   "metadata": {},
   "outputs": [
    {
     "data": {
      "text/html": [
       "<div>\n",
       "<style scoped>\n",
       "    .dataframe tbody tr th:only-of-type {\n",
       "        vertical-align: middle;\n",
       "    }\n",
       "\n",
       "    .dataframe tbody tr th {\n",
       "        vertical-align: top;\n",
       "    }\n",
       "\n",
       "    .dataframe thead th {\n",
       "        text-align: right;\n",
       "    }\n",
       "</style>\n",
       "<table border=\"1\" class=\"dataframe\">\n",
       "  <thead>\n",
       "    <tr style=\"text-align: right;\">\n",
       "      <th></th>\n",
       "      <th>Признаки</th>\n",
       "      <th>Важность</th>\n",
       "    </tr>\n",
       "  </thead>\n",
       "  <tbody>\n",
       "    <tr>\n",
       "      <th>11</th>\n",
       "      <td>monthly_charges_deviation</td>\n",
       "      <td>29.716378</td>\n",
       "    </tr>\n",
       "    <tr>\n",
       "      <th>9</th>\n",
       "      <td>contract_duration</td>\n",
       "      <td>22.489339</td>\n",
       "    </tr>\n",
       "    <tr>\n",
       "      <th>7</th>\n",
       "      <td>monthly_charges</td>\n",
       "      <td>11.152953</td>\n",
       "    </tr>\n",
       "    <tr>\n",
       "      <th>10</th>\n",
       "      <td>avg_monthly_charges</td>\n",
       "      <td>9.412569</td>\n",
       "    </tr>\n",
       "    <tr>\n",
       "      <th>8</th>\n",
       "      <td>total_charges</td>\n",
       "      <td>7.685923</td>\n",
       "    </tr>\n",
       "    <tr>\n",
       "      <th>0</th>\n",
       "      <td>type</td>\n",
       "      <td>4.258502</td>\n",
       "    </tr>\n",
       "    <tr>\n",
       "      <th>12</th>\n",
       "      <td>internet_extra_service</td>\n",
       "      <td>3.686951</td>\n",
       "    </tr>\n",
       "    <tr>\n",
       "      <th>1</th>\n",
       "      <td>payment_method</td>\n",
       "      <td>2.833419</td>\n",
       "    </tr>\n",
       "    <tr>\n",
       "      <th>3</th>\n",
       "      <td>partner</td>\n",
       "      <td>2.222936</td>\n",
       "    </tr>\n",
       "    <tr>\n",
       "      <th>5</th>\n",
       "      <td>internet_service</td>\n",
       "      <td>2.028677</td>\n",
       "    </tr>\n",
       "    <tr>\n",
       "      <th>6</th>\n",
       "      <td>multiple_lines</td>\n",
       "      <td>2.015225</td>\n",
       "    </tr>\n",
       "    <tr>\n",
       "      <th>4</th>\n",
       "      <td>dependents</td>\n",
       "      <td>1.493524</td>\n",
       "    </tr>\n",
       "    <tr>\n",
       "      <th>2</th>\n",
       "      <td>paperless_billing</td>\n",
       "      <td>1.003602</td>\n",
       "    </tr>\n",
       "  </tbody>\n",
       "</table>\n",
       "</div>"
      ],
      "text/plain": [
       "                     Признаки   Важность\n",
       "11  monthly_charges_deviation  29.716378\n",
       "9           contract_duration  22.489339\n",
       "7             monthly_charges  11.152953\n",
       "10        avg_monthly_charges   9.412569\n",
       "8               total_charges   7.685923\n",
       "0                        type   4.258502\n",
       "12     internet_extra_service   3.686951\n",
       "1              payment_method   2.833419\n",
       "3                     partner   2.222936\n",
       "5            internet_service   2.028677\n",
       "6              multiple_lines   2.015225\n",
       "4                  dependents   1.493524\n",
       "2           paperless_billing   1.003602"
      ]
     },
     "metadata": {},
     "output_type": "display_data"
    },
    {
     "data": {
      "image/png": "[encoded data removed]",
      "text/plain": [
       "<Figure size 720x432 with 1 Axes>"
      ]
     },
     "metadata": {
      "needs_background": "light"
     },
     "output_type": "display_data"
    }
   ],
   "source": [
    "# Получение важности признаков\n",
    "catboost = catboost_model.named_steps['model']\n",
    "feature_importances = catboost.feature_importances_\n",
    "\n",
    "# Названия признаков\n",
    "feature_names = cat_columns + num_columns\n",
    "\n",
    "# Создание датафрейма с признаками и их важностью\n",
    "feature_importance_df = pd.DataFrame({\n",
    "    'Признаки': feature_names,\n",
    "    'Важность': feature_importances\n",
    "}).sort_values(by='Важность', ascending=False)\n",
    "\n",
    "# Вывод важности признаков\n",
    "display(feature_importance_df)\n",
    "\n",
    "# График важности признаков\n",
    "plt.figure(figsize=(10, 6))\n",
    "plt.barh(feature_importance_df['Признаки'], feature_importance_df['Важность'], color='teal')\n",
    "plt.xlabel('Важность')\n",
    "plt.ylabel('Признаки')\n",
    "plt.title('Важность признаков')\n",
    "plt.gca().invert_yaxis()\n",
    "plt.show()"
   ]
  },
  {
   "cell_type": "markdown",
   "id": "4fec0bd2-b2c8-4ce7-ab18-c44fb9c6cd67",
   "metadata": {},
   "source": [
    "- Признаками, которые сильнее всего влияют на целевой являются `monthly_charges_deviation` (самое большое влияние на предсказания модели), `contract_duration` и `monthly_charges`.\n",
    "- \n",
    "Наименьшее влияние на целевой признак оказывают`paperless_billing`, `dependents`.\n",
    "\n",
    "Попробуем **удалить наименее важные для модели признаки** и проверим, как это скажется на метрике качества:."
   ]
  },
  {
   "cell_type": "markdown",
   "id": "d744d80d-6b21-43b3-aa01-07faf5756cfa",
   "metadata": {},
   "source": [
    "### Доработка лучшей модели <a class=\"anchor\" id=\"доработка\"></a>"
   ]
  },
  {
   "cell_type": "markdown",
   "id": "3df1b73b-9208-49c9-808a-045c2fa90522",
   "metadata": {},
   "source": [
    "Удалим из входных признаков `paperless_billing`, `dependents` и обучим CatBoostClassifier:"
   ]
  },
  {
   "cell_type": "code",
   "execution_count": 54,
   "id": "1d583854-9471-427d-9117-c6121bdd60da",
   "metadata": {},
   "outputs": [
    {
     "name": "stdout",
     "output_type": "stream",
     "text": [
      "Fitting 5 folds for each of 90 candidates, totalling 450 fits\n",
      "Лучшие параметры: {'model__iterations': 660, 'model__learning_rate': 0.1}\n",
      "Метрика ROC-AUC на кросс-валидации: 0.9542717837776697\n"
     ]
    }
   ],
   "source": [
    "# Выделение входных признаков\n",
    "X_less_features = teledom.drop(['churn', \n",
    "                                'paperless_billing', \n",
    "                                'dependents'], axis=1)\n",
    "\n",
    "# Разделение данных на выборки\n",
    "X_train_less_features, X_test_less_features, y_train, y_test = train_test_split(\n",
    "    X_less_features,\n",
    "    y,\n",
    "    test_size=0.25, \n",
    "    random_state=RANDOM_STATE,\n",
    "    stratify=y\n",
    ")\n",
    "\n",
    "# Списки с названиями столбцов для кодирования\n",
    "cat_columns_less_features = ['type', 'payment_method', 'partner', \n",
    "                             'internet_service', 'multiple_lines']\n",
    "\n",
    "# Создание пайплайна\n",
    "pipeline_catboost_lf = create_pipeline(\n",
    "    cat_columns_less_features, \n",
    "    num_columns, \n",
    "    'ordinal',\n",
    "    CatBoostClassifier(\n",
    "        loss_function='Logloss', \n",
    "        random_state=RANDOM_STATE, \n",
    "        class_weights=class_weights_dict,\n",
    "        verbose=0))\n",
    "\n",
    "# Подбор гиперпараметров и обучение модели\n",
    "catboost_model_lf, catboost_roc_auc_lf = best_model_grid(\n",
    "    pipeline_catboost_lf, \n",
    "    params_catboost, \n",
    "    X_train_less_features, \n",
    "    y_train,\n",
    "    verbose=1\n",
    ")"
   ]
  },
  {
   "cell_type": "code",
   "execution_count": 55,
   "id": "e1bc7b38-af74-4bc7-b5a6-1cbf151209c1",
   "metadata": {},
   "outputs": [
    {
     "data": {
      "text/html": [
       "<div>\n",
       "<style scoped>\n",
       "    .dataframe tbody tr th:only-of-type {\n",
       "        vertical-align: middle;\n",
       "    }\n",
       "\n",
       "    .dataframe tbody tr th {\n",
       "        vertical-align: top;\n",
       "    }\n",
       "\n",
       "    .dataframe thead th {\n",
       "        text-align: right;\n",
       "    }\n",
       "</style>\n",
       "<table border=\"1\" class=\"dataframe\">\n",
       "  <thead>\n",
       "    <tr style=\"text-align: right;\">\n",
       "      <th></th>\n",
       "      <th>Признаки</th>\n",
       "      <th>ROC_AUC_cv</th>\n",
       "      <th>ROC_AUC_test</th>\n",
       "      <th>Accuracy_test</th>\n",
       "      <th>Recall_test</th>\n",
       "      <th>Precision_test</th>\n",
       "    </tr>\n",
       "  </thead>\n",
       "  <tbody>\n",
       "    <tr>\n",
       "      <th>1</th>\n",
       "      <td>Без paperless_billing и dependents</td>\n",
       "      <td>0.954272</td>\n",
       "      <td>0.961008</td>\n",
       "      <td>0.925610</td>\n",
       "      <td>0.774545</td>\n",
       "      <td>0.755319</td>\n",
       "    </tr>\n",
       "    <tr>\n",
       "      <th>0</th>\n",
       "      <td>Все признаки</td>\n",
       "      <td>0.954022</td>\n",
       "      <td>0.956510</td>\n",
       "      <td>0.923339</td>\n",
       "      <td>0.770909</td>\n",
       "      <td>0.746479</td>\n",
       "    </tr>\n",
       "  </tbody>\n",
       "</table>\n",
       "</div>"
      ],
      "text/plain": [
       "                             Признаки  ROC_AUC_cv  ROC_AUC_test  \\\n",
       "1  Без paperless_billing и dependents    0.954272      0.961008   \n",
       "0                        Все признаки    0.954022      0.956510   \n",
       "\n",
       "   Accuracy_test  Recall_test  Precision_test  \n",
       "1       0.925610     0.774545        0.755319  \n",
       "0       0.923339     0.770909        0.746479  "
      ]
     },
     "metadata": {},
     "output_type": "display_data"
    },
    {
     "data": {
      "image/png": "[encoded data removed]",
      "text/plain": [
       "<Figure size 288x216 with 2 Axes>"
      ]
     },
     "metadata": {
      "needs_background": "light"
     },
     "output_type": "display_data"
    }
   ],
   "source": [
    "# Предсказание на тестовой выборке\n",
    "y_prob_lf = catboost_model_lf.predict_proba(X_test_less_features)[:, 1]\n",
    "y_pred_lf = catboost_model_lf.predict(X_test_less_features)\n",
    "\n",
    "# Расчёт ключевых метрик\n",
    "roc_auc_test_lf = roc_auc_score(y_test, y_prob_lf)\n",
    "acc_test_lf = accuracy_score(y_test, y_pred_lf)\n",
    "recall_test_lf = recall_score(y_test, y_pred_lf)\n",
    "precision_test_lf = precision_score(y_test, y_pred_lf)\n",
    "\n",
    "# Создание датафрейма со сравнением результатов\n",
    "metric_comparison = pd.DataFrame({\n",
    "    'Признаки': [\n",
    "        'Все признаки',\n",
    "        'Без paperless_billing и dependents'\n",
    "    ],\n",
    "    'ROC_AUC_cv': [\n",
    "        catboost_roc_auc,\n",
    "        catboost_roc_auc_lf\n",
    "    ],\n",
    "    'ROC_AUC_test': [\n",
    "        roc_auc_test,\n",
    "        roc_auc_test_lf\n",
    "    ],\n",
    "    'Accuracy_test': [\n",
    "        acc_test,\n",
    "        acc_test_lf\n",
    "    ],\n",
    "    'Recall_test': [\n",
    "        recall_test,\n",
    "        recall_test_lf\n",
    "    ],\n",
    "    'Precision_test': [\n",
    "        precision_test,\n",
    "        precision_test_lf\n",
    "    ]\n",
    "}).sort_values(by='ROC_AUC_cv', ascending=False)\n",
    "\n",
    "display(metric_comparison)\n",
    "\n",
    "# Матрица ошибок\n",
    "cm_lf = confusion_matrix(y_test, y_pred_lf)\n",
    "plt.figure(figsize=(4, 3))\n",
    "sns.heatmap(cm, annot=True, fmt='d', cmap='Blues_r')\n",
    "plt.title('Матрица ошибок')\n",
    "plt.ylabel('Истинные значения')\n",
    "plt.xlabel('Прогнозные значения');"
   ]
  },
  {
   "cell_type": "markdown",
   "id": "eab83597-b892-438b-acc8-79cc37f2d38a",
   "metadata": {},
   "source": [
    "Удаление наименее важных признаков положительно повлияло на модель, все **ключевые метрики выросли**. Таким образом, признаки `paperless_billing` и `dependent` не вносили значимого вклада в предсказания модели и могли содержать избыточную информацию или шум. В итоговом варианте будет использовать модель без этих признаков."
   ]
  },
  {
   "cell_type": "markdown",
   "id": "9e668303-417a-4f25-b524-87e011e0a221",
   "metadata": {},
   "source": [
    "**Выводы**\n",
    "- В результате тестирования наилучшее качество предсказаний показала модель **CatBoostClassifier** с метрикой ROC-AUC на кросс-валидации **0.954022**.\n",
    "- Модель была проверена на адекватность путем сравнения с DummyClassifier. Разница между ними составила 0.45651, что свидетельствует о значительном улучшении качества предсказаний.\n",
    "- Проанализировали важность признаков для модели. Сильнее всего влияют на целевой признак `monthly_charges_deviation`, `contract_duration` и `monthly_charges`. Наименьшее влияние на целевой признак оказывают `paperless_billing`, `dependents`.\n",
    "- Протестировали модель CatBoostClassifier без наименее важных признаков, в результате чего все ключевые метрики выросла.\n",
    "\n",
    "Итоговый вариант лучше модели CatBoostClassifier показал следующие метрики:\n",
    "1) **ROC-AUC на кросс-валидации    - 0.954272**\n",
    "2) **ROC-AUC на тестовой выборке   - 0.961008**\n",
    "3) **Accuracy на тестовой выборке  - 0.925610**\n",
    "4) **Recall на тестовой выборке    - 0.774545**\n",
    "5) **Precision на тестовой выборке - 0.746479**"
   ]
  },
  {
   "cell_type": "markdown",
   "id": "75dbb532-5f45-4a07-9c41-245780f17ffe",
   "metadata": {},
   "source": [
    "## Общий вывод <a class=\"anchor\" id=\"вывод\"></a>"
   ]
  },
  {
   "cell_type": "markdown",
   "id": "50672d91-12aa-429a-be67-15c610df72ca",
   "metadata": {},
   "source": [
    "В ходе проведенного исследования были выполнены следующие этапы и получены следующие основные результаты.\n",
    "\n",
    "1) **Предобработка данных**\n",
    "- Был создан целевой признак `churn` (отток клиентов), а также входной признак `contract_duration`.\n",
    "- Было удалено 2 неинформативных признака. \n",
    "- Обработаны неявные пропуски (0,15% от всех данных), заполнены на 0.\n",
    "- Были проверены явные и неявные дубликаты, их не обнаружили.\n",
    "- Все данные были приведены к корректным типам.\n",
    "***\n",
    "2) **Объединение данных**\n",
    "- Все данные были объеденены в один датафрейм - teledom, включающий в себя 7043 уникальных клиента.\n",
    "- Пропущенные значения, появившиеся после объединения данных, были заполнены на значение 'unknown'.\n",
    "***\n",
    "3) **Исследовательский анализ данных**\n",
    "- Ушедшие клиенты составляют 15,63% данных, что указывает на дисбаланс классов.\n",
    "- Выявили, какие клиенты чаще других расторгают договор: с высокими ежемесячными и общими расходами; клиенты, использующие годовую/двухгодовую оплату и автоматические платежи; пенсионеры и клиенты в браке; использующие доплнительные интернет-услуги и подключение телефона к нескольким линиям одновременно.\n",
    "- Пол клиента, наличие у него детей, а также тип подключения интернета не оказывают существенного влияния на вероятность оттока клиента.\n",
    "***\n",
    "4) **Корелляционный анализ данных**\n",
    "- Целевой признак `churn` имеет умеренный уровень корреляции с признаками `contract_duration` (коэфф. 0.385) и `total_charges` (коэфф. 0.303). С остальными признаками видим слабую корреляцию.\n",
    "- Наличие мультиколлениарности между признаками с дополнительными интернет-услугами (`online_security`, `online_backup`, `device_protection`, `tech_support`, `streaming_tv`, `streaming_movies`) - коэффициенты свыше 0.94.\n",
    "***\n",
    "5) **Подготовка данных к обучению**\n",
    "- Создали 3 новых признака - `avg_monthly_charges`, `monthly_charges_deviation`, `internet_extra_service`.\n",
    "- Удалили из данных малоинформативные признаки (пол клиента и признаки с доп. интернет-услугами).\n",
    "***\n",
    "6) **Обучение моделей**\n",
    "\n",
    "Для масштабирования числовых признаков был использован StandardScaler, для кодирования категориальных признаков - OneHotEncoder и OrdinalEncoder зависимостиоти от модели). Для подбора наилучших гиперпараметров для каждой модели был использован GridSearchCV. При обучении моделей использовали балансировку классов из-за наличия дисбаланса классов в целевом признаке.\n",
    "\n",
    "В результате было обучено 5 моделей **LogisticRegression, KNeighborsClassifier, RandomForestClassifier, LGBMClassifier, CatBoostClassifier**. Для каждой модели рассчитана ROC-AUC.\n",
    "***\n",
    "7) **Анализ результатов**\n",
    "- Наилучшее качество предсказаний с самым высоким значением ROC-AUC (0.954022) показала **CatBoostClassifier**.\n",
    "- В результате анализа важности признаков выявили признаки, которые сильнее всего влияют на целевой - `monthly_charges_deviation`, `contract_duration` и `monthly_charges`. Наименьшее влияние на целевой признак оказывают `paperless_billing`, `dependents`.\n",
    "- После удаления наименее важных признаков все ключевые метрики выросли, поэтому в итогом варианте модели они не используются.\n",
    "\n",
    "Итоговый вариант лучшей модели **CatBoostClassifier** показал следующие метрики:\n",
    "- **ROC-AUC на кросс-валидации - 0.954272**\n",
    "- **ROC-AUC на тестовой выборке - 0.961008**\n",
    "- **Accuracy на тестовой выборке - 0.925610**\n",
    "- **Recall на тестовой выборке - 0.774545**\n",
    "- **Precision на тестовой выборке - 0.746479**\n",
    "***\n",
    "8) **Итоги исследования**\n",
    "- В ходе исследования была разработана модель для предсказания оттока клиентов оператора связи, что позволит компании заранее выявлять пользователей, планирующих разорвать договор, и предложить им персонализированные условия для удержания.\n",
    "- Наилучшие результаты показала модель CatBoostClassifier с высоким значением ROC-AUC на тестовой выборке 0.961008. Эта модель соответствует критериям заказчика и показывает достаточно высокий уровень точности.\n",
    "\n",
    "*Рекомендации для бизнеса*:\n",
    "- Больше внимания для клиентов с высокими расходами. Клиенты с высокими ежемесячными платежами (80–120) чаще расторгают договор. Рекомендуем разработать спецпредложения и скидки для этой категории.\n",
    "- Удержание клиентов со \"средней\" длительностью договора — пользователи с длительностью контракта 1,5–3,2 года часто разрывают договор. Важно внедрить программы лояльности и поощрения для этой группы.\n",
    "- Доработка/пересмотр дополнительных интернет-услуг (стриминговое ТВ, антивирус, облачное хранилище и др.), т.к. они связаны с повышенным оттоком. Необходимо улучшить их качество, пересмотреть ценообразование.\n",
    "- Повышение вовлеченности клиентов, особенно теми, кто использует автоматические платежи, чтобы поддерживать их осведомленность о ценности услуг, важных изменениях."
   ]
  }
 ],
 "metadata": {
  "ExecuteTimeLog": [
   {
    "duration": 28597,
    "start_time": "2024-12-18T01:30:53.535Z"
   },
   {
    "duration": 1870,
    "start_time": "2024-12-18T01:31:22.134Z"
   },
   {
    "duration": 4,
    "start_time": "2024-12-18T01:31:24.005Z"
   },
   {
    "duration": 8,
    "start_time": "2024-12-18T01:31:24.011Z"
   },
   {
    "duration": 36,
    "start_time": "2024-12-18T01:31:24.022Z"
   },
   {
    "duration": 3,
    "start_time": "2024-12-18T01:31:24.060Z"
   },
   {
    "duration": 7,
    "start_time": "2024-12-18T01:31:24.064Z"
   },
   {
    "duration": 8,
    "start_time": "2024-12-18T01:31:24.072Z"
   },
   {
    "duration": 9,
    "start_time": "2024-12-18T01:31:24.082Z"
   },
   {
    "duration": 398,
    "start_time": "2024-12-18T01:31:24.093Z"
   },
   {
    "duration": 50,
    "start_time": "2024-12-18T01:31:24.493Z"
   },
   {
    "duration": 62,
    "start_time": "2024-12-18T01:31:24.545Z"
   },
   {
    "duration": 32,
    "start_time": "2024-12-18T01:31:24.609Z"
   },
   {
    "duration": 58,
    "start_time": "2024-12-18T01:31:24.644Z"
   },
   {
    "duration": 5,
    "start_time": "2024-12-18T01:31:24.704Z"
   },
   {
    "duration": 7,
    "start_time": "2024-12-18T01:31:24.710Z"
   },
   {
    "duration": 15,
    "start_time": "2024-12-18T01:31:24.719Z"
   },
   {
    "duration": 18,
    "start_time": "2024-12-18T01:31:24.736Z"
   },
   {
    "duration": 24,
    "start_time": "2024-12-18T01:31:24.756Z"
   },
   {
    "duration": 83,
    "start_time": "2024-12-18T01:31:24.782Z"
   },
   {
    "duration": 24,
    "start_time": "2024-12-18T01:31:24.867Z"
   },
   {
    "duration": 9,
    "start_time": "2024-12-18T01:31:24.893Z"
   },
   {
    "duration": 18,
    "start_time": "2024-12-18T01:31:24.904Z"
   },
   {
    "duration": 36,
    "start_time": "2024-12-18T01:31:24.924Z"
   },
   {
    "duration": 22,
    "start_time": "2024-12-18T01:31:24.962Z"
   },
   {
    "duration": 14,
    "start_time": "2024-12-18T01:31:24.986Z"
   },
   {
    "duration": 4,
    "start_time": "2024-12-18T01:31:25.002Z"
   },
   {
    "duration": 98,
    "start_time": "2024-12-18T01:31:25.008Z"
   },
   {
    "duration": 19,
    "start_time": "2024-12-18T01:31:25.107Z"
   },
   {
    "duration": 264,
    "start_time": "2024-12-18T01:31:25.128Z"
   },
   {
    "duration": 213,
    "start_time": "2024-12-18T01:31:25.394Z"
   },
   {
    "duration": 0,
    "start_time": "2024-12-18T01:31:25.609Z"
   },
   {
    "duration": 0,
    "start_time": "2024-12-18T01:31:25.610Z"
   },
   {
    "duration": 0,
    "start_time": "2024-12-18T01:31:25.611Z"
   },
   {
    "duration": 0,
    "start_time": "2024-12-18T01:31:25.612Z"
   },
   {
    "duration": 0,
    "start_time": "2024-12-18T01:31:25.613Z"
   },
   {
    "duration": 0,
    "start_time": "2024-12-18T01:31:25.614Z"
   },
   {
    "duration": 0,
    "start_time": "2024-12-18T01:31:25.615Z"
   },
   {
    "duration": 0,
    "start_time": "2024-12-18T01:31:25.616Z"
   },
   {
    "duration": 0,
    "start_time": "2024-12-18T01:31:25.617Z"
   },
   {
    "duration": 0,
    "start_time": "2024-12-18T01:31:25.618Z"
   },
   {
    "duration": 0,
    "start_time": "2024-12-18T01:31:25.619Z"
   },
   {
    "duration": 0,
    "start_time": "2024-12-18T01:31:25.620Z"
   },
   {
    "duration": 0,
    "start_time": "2024-12-18T01:31:25.621Z"
   },
   {
    "duration": 0,
    "start_time": "2024-12-18T01:31:25.622Z"
   },
   {
    "duration": 0,
    "start_time": "2024-12-18T01:31:25.623Z"
   },
   {
    "duration": 0,
    "start_time": "2024-12-18T01:31:25.624Z"
   },
   {
    "duration": 0,
    "start_time": "2024-12-18T01:31:25.625Z"
   },
   {
    "duration": 1,
    "start_time": "2024-12-18T01:31:25.626Z"
   },
   {
    "duration": 0,
    "start_time": "2024-12-18T01:31:25.627Z"
   },
   {
    "duration": 0,
    "start_time": "2024-12-18T01:31:25.628Z"
   },
   {
    "duration": 0,
    "start_time": "2024-12-18T01:31:25.629Z"
   },
   {
    "duration": 0,
    "start_time": "2024-12-18T01:31:25.630Z"
   },
   {
    "duration": 0,
    "start_time": "2024-12-18T01:31:25.631Z"
   },
   {
    "duration": 0,
    "start_time": "2024-12-18T01:31:25.671Z"
   },
   {
    "duration": 6,
    "start_time": "2024-12-18T01:44:11.747Z"
   },
   {
    "duration": 1316,
    "start_time": "2024-12-18T01:44:22.456Z"
   },
   {
    "duration": 1277,
    "start_time": "2024-12-18T01:44:29.387Z"
   },
   {
    "duration": 1270,
    "start_time": "2024-12-18T01:44:32.286Z"
   },
   {
    "duration": 4430,
    "start_time": "2024-12-18T01:44:34.494Z"
   },
   {
    "duration": 4,
    "start_time": "2024-12-18T01:44:38.926Z"
   },
   {
    "duration": 2286,
    "start_time": "2024-12-18T01:44:38.932Z"
   },
   {
    "duration": 58,
    "start_time": "2024-12-18T01:44:41.220Z"
   },
   {
    "duration": 19,
    "start_time": "2024-12-18T01:44:41.279Z"
   },
   {
    "duration": 1764,
    "start_time": "2024-12-18T01:44:41.299Z"
   },
   {
    "duration": 15,
    "start_time": "2024-12-18T01:44:43.065Z"
   },
   {
    "duration": 3,
    "start_time": "2024-12-18T01:44:43.081Z"
   },
   {
    "duration": 8,
    "start_time": "2024-12-18T01:44:43.085Z"
   },
   {
    "duration": 5,
    "start_time": "2024-12-18T01:44:43.753Z"
   },
   {
    "duration": 6,
    "start_time": "2024-12-18T01:44:46.367Z"
   },
   {
    "duration": 344785,
    "start_time": "2024-12-18T01:44:59.186Z"
   },
   {
    "duration": 39023,
    "start_time": "2024-12-18T01:50:43.974Z"
   },
   {
    "duration": 198755,
    "start_time": "2024-12-18T01:51:22.999Z"
   },
   {
    "duration": 906430,
    "start_time": "2024-12-18T01:54:41.756Z"
   },
   {
    "duration": 1072254,
    "start_time": "2024-12-18T02:09:48.188Z"
   },
   {
    "duration": 10,
    "start_time": "2024-12-18T02:27:40.444Z"
   },
   {
    "duration": 383,
    "start_time": "2024-12-18T02:27:40.456Z"
   },
   {
    "duration": 9,
    "start_time": "2024-12-18T02:27:40.840Z"
   },
   {
    "duration": 416,
    "start_time": "2024-12-18T02:27:40.850Z"
   },
   {
    "duration": 1063145,
    "start_time": "2024-12-18T02:27:41.269Z"
   },
   {
    "duration": 422,
    "start_time": "2024-12-18T02:45:24.416Z"
   },
   {
    "duration": 32339,
    "start_time": "2024-12-18T10:17:06.826Z"
   },
   {
    "duration": 1586,
    "start_time": "2024-12-18T10:17:39.168Z"
   },
   {
    "duration": 5,
    "start_time": "2024-12-18T10:17:40.755Z"
   },
   {
    "duration": 16,
    "start_time": "2024-12-18T10:17:40.761Z"
   },
   {
    "duration": 12,
    "start_time": "2024-12-18T10:17:40.778Z"
   },
   {
    "duration": 3,
    "start_time": "2024-12-18T10:17:40.792Z"
   },
   {
    "duration": 4,
    "start_time": "2024-12-18T10:17:40.797Z"
   },
   {
    "duration": 12,
    "start_time": "2024-12-18T10:17:40.802Z"
   },
   {
    "duration": 21,
    "start_time": "2024-12-18T10:17:40.816Z"
   },
   {
    "duration": 511,
    "start_time": "2024-12-18T10:17:40.838Z"
   },
   {
    "duration": 41,
    "start_time": "2024-12-18T10:17:41.350Z"
   },
   {
    "duration": 60,
    "start_time": "2024-12-18T10:17:41.393Z"
   },
   {
    "duration": 28,
    "start_time": "2024-12-18T10:17:41.454Z"
   },
   {
    "duration": 26,
    "start_time": "2024-12-18T10:17:41.484Z"
   },
   {
    "duration": 4,
    "start_time": "2024-12-18T10:17:41.512Z"
   },
   {
    "duration": 37,
    "start_time": "2024-12-18T10:17:41.518Z"
   },
   {
    "duration": 5,
    "start_time": "2024-12-18T10:17:41.556Z"
   },
   {
    "duration": 21,
    "start_time": "2024-12-18T10:17:41.563Z"
   },
   {
    "duration": 9,
    "start_time": "2024-12-18T10:17:41.585Z"
   },
   {
    "duration": 12,
    "start_time": "2024-12-18T10:17:41.595Z"
   },
   {
    "duration": 14,
    "start_time": "2024-12-18T10:17:41.608Z"
   },
   {
    "duration": 7,
    "start_time": "2024-12-18T10:17:41.623Z"
   },
   {
    "duration": 25,
    "start_time": "2024-12-18T10:17:41.632Z"
   },
   {
    "duration": 11,
    "start_time": "2024-12-18T10:17:41.658Z"
   },
   {
    "duration": 19,
    "start_time": "2024-12-18T10:17:41.671Z"
   },
   {
    "duration": 10,
    "start_time": "2024-12-18T10:17:41.691Z"
   },
   {
    "duration": 4,
    "start_time": "2024-12-18T10:17:41.702Z"
   },
   {
    "duration": 65,
    "start_time": "2024-12-18T10:17:41.707Z"
   },
   {
    "duration": 15,
    "start_time": "2024-12-18T10:17:41.773Z"
   },
   {
    "duration": 264,
    "start_time": "2024-12-18T10:17:41.790Z"
   },
   {
    "duration": 1236,
    "start_time": "2024-12-18T10:17:42.056Z"
   },
   {
    "duration": 1271,
    "start_time": "2024-12-18T10:17:43.294Z"
   },
   {
    "duration": 1194,
    "start_time": "2024-12-18T10:17:44.567Z"
   },
   {
    "duration": 3742,
    "start_time": "2024-12-18T10:17:45.763Z"
   },
   {
    "duration": 5,
    "start_time": "2024-12-18T10:17:49.507Z"
   },
   {
    "duration": 1865,
    "start_time": "2024-12-18T10:17:49.513Z"
   },
   {
    "duration": 35,
    "start_time": "2024-12-18T10:17:51.379Z"
   },
   {
    "duration": 16,
    "start_time": "2024-12-18T10:17:51.415Z"
   },
   {
    "duration": 1357,
    "start_time": "2024-12-18T10:17:51.453Z"
   },
   {
    "duration": 10,
    "start_time": "2024-12-18T10:17:52.812Z"
   },
   {
    "duration": 25,
    "start_time": "2024-12-18T10:17:52.826Z"
   },
   {
    "duration": 11,
    "start_time": "2024-12-18T10:17:52.852Z"
   },
   {
    "duration": 11,
    "start_time": "2024-12-18T10:17:52.864Z"
   },
   {
    "duration": 19,
    "start_time": "2024-12-18T10:17:52.876Z"
   },
   {
    "duration": 241464,
    "start_time": "2024-12-18T10:17:52.896Z"
   },
   {
    "duration": 35830,
    "start_time": "2024-12-18T10:21:54.363Z"
   },
   {
    "duration": 204930,
    "start_time": "2024-12-18T10:22:30.195Z"
   },
   {
    "duration": 954134,
    "start_time": "2024-12-18T10:25:55.127Z"
   },
   {
    "duration": 916208,
    "start_time": "2024-12-18T10:41:49.353Z"
   },
   {
    "duration": 10,
    "start_time": "2024-12-18T10:57:05.562Z"
   },
   {
    "duration": 398,
    "start_time": "2024-12-18T10:57:05.573Z"
   },
   {
    "duration": 7,
    "start_time": "2024-12-18T10:57:05.973Z"
   },
   {
    "duration": 392,
    "start_time": "2024-12-18T10:57:05.981Z"
   },
   {
    "duration": 1011303,
    "start_time": "2024-12-18T10:57:06.374Z"
   },
   {
    "duration": 370,
    "start_time": "2024-12-18T11:13:57.679Z"
   },
   {
    "duration": 54,
    "start_time": "2024-12-18T11:20:35.382Z"
   }
  ],
  "kernelspec": {
   "display_name": "Python 3 (ipykernel)",
   "language": "python",
   "name": "python3"
  },
  "language_info": {
   "codemirror_mode": {
    "name": "ipython",
    "version": 3
   },
   "file_extension": ".py",
   "mimetype": "text/x-python",
   "name": "python",
   "nbconvert_exporter": "python",
   "pygments_lexer": "ipython3",
   "version": "3.11.7"
  },
  "toc": {
   "base_numbering": 1,
   "nav_menu": {},
   "number_sections": true,
   "sideBar": true,
   "skip_h1_title": true,
   "title_cell": "Table of Contents",
   "title_sidebar": "Contents",
   "toc_cell": false,
   "toc_position": {},
   "toc_section_display": true,
   "toc_window_display": false
  }
 },
 "nbformat": 4,
 "nbformat_minor": 5
}
